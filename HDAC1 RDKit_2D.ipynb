{
 "cells": [
  {
   "cell_type": "markdown",
   "metadata": {},
   "source": [
    "# 1. Импортирование библиотек и модулей"
   ]
  },
  {
   "cell_type": "code",
   "execution_count": 35,
   "metadata": {},
   "outputs": [],
   "source": [
    "from rdkit import Chem, DataStructs\n",
    "from rdkit.Chem import AllChem, Descriptors\n",
    "from rdkit.ML.Descriptors import MoleculeDescriptors\n",
    "import numpy as np\n",
    "import pandas as pd\n",
    "from sklearn.svm import SVC\n",
    "from sklearn.ensemble import RandomForestClassifier, GradientBoostingClassifier\n",
    "from sklearn.model_selection import train_test_split, StratifiedKFold, GridSearchCV\n",
    "from sklearn.model_selection import permutation_test_score\n",
    "from sklearn.preprocessing import StandardScaler\n",
    "from sklearn.model_selection import cross_val_predict\n",
    "from sklearn import metrics\n",
    "from sklearn.metrics import cohen_kappa_score\n",
    "from sklearn.metrics import balanced_accuracy_score\n",
    "from sklearn.metrics import pairwise_distances\n",
    "import joblib\n",
    "import pickle\n",
    "from numpy import savetxt"
   ]
  },
  {
   "cell_type": "markdown",
   "metadata": {},
   "source": [
    "# 2.Загрузка обучающей и тестовой выборок"
   ]
  },
  {
   "cell_type": "code",
   "execution_count": 2,
   "metadata": {},
   "outputs": [],
   "source": [
    "fname_tr = \"HDAC1/Sets/HDAC1 work set_st.sdf\"\n",
    "\n",
    "mols_tr = []\n",
    "y_tr = []\n",
    "for mol in Chem.SDMolSupplier(fname_tr):\n",
    "    if mol is not None:\n",
    "        mols_tr.append(mol)\n",
    "        y_tr.append(mol.GetIntProp(\"HDAC1\"))"
   ]
  },
  {
   "cell_type": "code",
   "execution_count": 3,
   "metadata": {
    "scrolled": true
   },
   "outputs": [],
   "source": [
    "fname_ts = \"HDAC1/Sets/HDAC1  test  set_st.sdf\"\n",
    "\n",
    "mols_ts = []\n",
    "y_ts = []\n",
    "for mol in Chem.SDMolSupplier(fname_ts):\n",
    "    if mol is not None:\n",
    "        mols_ts.append(mol)\n",
    "        y_ts.append(mol.GetIntProp(\"HDAC1\"))"
   ]
  },
  {
   "cell_type": "markdown",
   "metadata": {},
   "source": [
    "# 3.Расчет дескрипторов обучающей выборки"
   ]
  },
  {
   "cell_type": "code",
   "execution_count": 4,
   "metadata": {},
   "outputs": [],
   "source": [
    "calc = MoleculeDescriptors.MolecularDescriptorCalculator([x[0] for x in Descriptors._descList])\n",
    "header = calc.GetDescriptorNames()"
   ]
  },
  {
   "cell_type": "code",
   "execution_count": 5,
   "metadata": {},
   "outputs": [],
   "source": [
    "descr_tr= []\n",
    "for m in mols_tr:\n",
    "    descr_tr.append(calc.CalcDescriptors(m))\n",
    "x_tr = np.asarray(descr_tr)"
   ]
  },
  {
   "cell_type": "code",
   "execution_count": 8,
   "metadata": {},
   "outputs": [],
   "source": [
    "savetxt('HDAC1/Models/RDKit/x_tr.csv', x_tr, delimiter=',')"
   ]
  },
  {
   "cell_type": "code",
   "execution_count": 9,
   "metadata": {},
   "outputs": [],
   "source": [
    "df_RDKit_2D = pd.DataFrame(x_tr,columns=header)"
   ]
  },
  {
   "cell_type": "code",
   "execution_count": 10,
   "metadata": {},
   "outputs": [
    {
     "data": {
      "text/html": [
       "<div>\n",
       "<style scoped>\n",
       "    .dataframe tbody tr th:only-of-type {\n",
       "        vertical-align: middle;\n",
       "    }\n",
       "\n",
       "    .dataframe tbody tr th {\n",
       "        vertical-align: top;\n",
       "    }\n",
       "\n",
       "    .dataframe thead th {\n",
       "        text-align: right;\n",
       "    }\n",
       "</style>\n",
       "<table border=\"1\" class=\"dataframe\">\n",
       "  <thead>\n",
       "    <tr style=\"text-align: right;\">\n",
       "      <th></th>\n",
       "      <th>MaxEStateIndex</th>\n",
       "      <th>MinEStateIndex</th>\n",
       "      <th>MaxAbsEStateIndex</th>\n",
       "      <th>MinAbsEStateIndex</th>\n",
       "      <th>qed</th>\n",
       "      <th>MolWt</th>\n",
       "      <th>HeavyAtomMolWt</th>\n",
       "      <th>ExactMolWt</th>\n",
       "      <th>NumValenceElectrons</th>\n",
       "      <th>NumRadicalElectrons</th>\n",
       "      <th>...</th>\n",
       "      <th>fr_sulfide</th>\n",
       "      <th>fr_sulfonamd</th>\n",
       "      <th>fr_sulfone</th>\n",
       "      <th>fr_term_acetylene</th>\n",
       "      <th>fr_tetrazole</th>\n",
       "      <th>fr_thiazole</th>\n",
       "      <th>fr_thiocyan</th>\n",
       "      <th>fr_thiophene</th>\n",
       "      <th>fr_unbrch_alkane</th>\n",
       "      <th>fr_urea</th>\n",
       "    </tr>\n",
       "  </thead>\n",
       "  <tbody>\n",
       "    <tr>\n",
       "      <th>0</th>\n",
       "      <td>12.711630</td>\n",
       "      <td>-0.356398</td>\n",
       "      <td>12.711630</td>\n",
       "      <td>0.02605</td>\n",
       "      <td>0.191369</td>\n",
       "      <td>566.663</td>\n",
       "      <td>528.359</td>\n",
       "      <td>566.296516</td>\n",
       "      <td>220.0</td>\n",
       "      <td>0.0</td>\n",
       "      <td>...</td>\n",
       "      <td>0.0</td>\n",
       "      <td>0.0</td>\n",
       "      <td>0.0</td>\n",
       "      <td>0.0</td>\n",
       "      <td>0.0</td>\n",
       "      <td>0.0</td>\n",
       "      <td>0.0</td>\n",
       "      <td>0.0</td>\n",
       "      <td>3.0</td>\n",
       "      <td>1.0</td>\n",
       "    </tr>\n",
       "    <tr>\n",
       "      <th>1</th>\n",
       "      <td>11.099422</td>\n",
       "      <td>-0.342028</td>\n",
       "      <td>11.099422</td>\n",
       "      <td>0.33560</td>\n",
       "      <td>0.200389</td>\n",
       "      <td>439.520</td>\n",
       "      <td>410.288</td>\n",
       "      <td>439.233188</td>\n",
       "      <td>170.0</td>\n",
       "      <td>0.0</td>\n",
       "      <td>...</td>\n",
       "      <td>0.0</td>\n",
       "      <td>0.0</td>\n",
       "      <td>0.0</td>\n",
       "      <td>0.0</td>\n",
       "      <td>0.0</td>\n",
       "      <td>0.0</td>\n",
       "      <td>0.0</td>\n",
       "      <td>0.0</td>\n",
       "      <td>3.0</td>\n",
       "      <td>0.0</td>\n",
       "    </tr>\n",
       "  </tbody>\n",
       "</table>\n",
       "<p>2 rows × 208 columns</p>\n",
       "</div>"
      ],
      "text/plain": [
       "   MaxEStateIndex  MinEStateIndex  MaxAbsEStateIndex  MinAbsEStateIndex  \\\n",
       "0       12.711630       -0.356398          12.711630            0.02605   \n",
       "1       11.099422       -0.342028          11.099422            0.33560   \n",
       "\n",
       "        qed    MolWt  HeavyAtomMolWt  ExactMolWt  NumValenceElectrons  \\\n",
       "0  0.191369  566.663         528.359  566.296516                220.0   \n",
       "1  0.200389  439.520         410.288  439.233188                170.0   \n",
       "\n",
       "   NumRadicalElectrons  ...  fr_sulfide  fr_sulfonamd  fr_sulfone  \\\n",
       "0                  0.0  ...         0.0           0.0         0.0   \n",
       "1                  0.0  ...         0.0           0.0         0.0   \n",
       "\n",
       "   fr_term_acetylene  fr_tetrazole  fr_thiazole  fr_thiocyan  fr_thiophene  \\\n",
       "0                0.0           0.0          0.0          0.0           0.0   \n",
       "1                0.0           0.0          0.0          0.0           0.0   \n",
       "\n",
       "   fr_unbrch_alkane  fr_urea  \n",
       "0               3.0      1.0  \n",
       "1               3.0      0.0  \n",
       "\n",
       "[2 rows x 208 columns]"
      ]
     },
     "execution_count": 10,
     "metadata": {},
     "output_type": "execute_result"
    }
   ],
   "source": [
    "df_RDKit_2D.head(2)"
   ]
  },
  {
   "cell_type": "code",
   "execution_count": 11,
   "metadata": {},
   "outputs": [
    {
     "data": {
      "text/plain": [
       "(169, 208)"
      ]
     },
     "execution_count": 11,
     "metadata": {},
     "output_type": "execute_result"
    }
   ],
   "source": [
    "x_tr.shape"
   ]
  },
  {
   "cell_type": "markdown",
   "metadata": {},
   "source": [
    "# 4. Расчет дескрипторов тестовой выборки"
   ]
  },
  {
   "cell_type": "code",
   "execution_count": 12,
   "metadata": {},
   "outputs": [],
   "source": [
    "descr_ts = []\n",
    "for m in mols_ts:\n",
    "    descr_ts.append(calc.CalcDescriptors(m))\n",
    "x_ts = np.asarray(descr_ts)"
   ]
  },
  {
   "cell_type": "code",
   "execution_count": 13,
   "metadata": {},
   "outputs": [
    {
     "data": {
      "text/plain": [
       "(42, 208)"
      ]
     },
     "execution_count": 13,
     "metadata": {},
     "output_type": "execute_result"
    }
   ],
   "source": [
    "x_ts.shape"
   ]
  },
  {
   "cell_type": "markdown",
   "metadata": {},
   "source": [
    "# 5. Построение и валидация модели RF "
   ]
  },
  {
   "cell_type": "markdown",
   "metadata": {},
   "source": [
    "## 5.1. Построение модели RF "
   ]
  },
  {
   "cell_type": "code",
   "execution_count": 14,
   "metadata": {},
   "outputs": [],
   "source": [
    "seed = 42"
   ]
  },
  {
   "cell_type": "code",
   "execution_count": 15,
   "metadata": {},
   "outputs": [],
   "source": [
    "cv = StratifiedKFold(n_splits=5, shuffle=True, random_state=seed)"
   ]
  },
  {
   "cell_type": "code",
   "execution_count": 25,
   "metadata": {},
   "outputs": [],
   "source": [
    "param_grid = {\"max_features\": [x_tr.shape[1] // 10, x_tr.shape[1] // 7, x_tr.shape[1] // 5, x_tr.shape[1] // 3],\n",
    "              \"n_estimators\": [100, 250, 500, 1000]}"
   ]
  },
  {
   "cell_type": "code",
   "execution_count": 26,
   "metadata": {},
   "outputs": [],
   "source": [
    "m = GridSearchCV(RandomForestClassifier(), param_grid, n_jobs=2, cv=cv, verbose=1)"
   ]
  },
  {
   "cell_type": "code",
   "execution_count": 27,
   "metadata": {},
   "outputs": [
    {
     "name": "stdout",
     "output_type": "stream",
     "text": [
      "Fitting 5 folds for each of 16 candidates, totalling 80 fits\n"
     ]
    },
    {
     "data": {
      "text/plain": [
       "GridSearchCV(cv=StratifiedKFold(n_splits=5, random_state=42, shuffle=True),\n",
       "             estimator=RandomForestClassifier(), n_jobs=2,\n",
       "             param_grid={'max_features': [20, 29, 41, 69],\n",
       "                         'n_estimators': [100, 250, 500, 1000]},\n",
       "             verbose=1)"
      ]
     },
     "execution_count": 27,
     "metadata": {},
     "output_type": "execute_result"
    }
   ],
   "source": [
    "m.fit(x_tr, y_tr)"
   ]
  },
  {
   "cell_type": "code",
   "execution_count": 28,
   "metadata": {},
   "outputs": [
    {
     "data": {
      "text/plain": [
       "{'max_features': 20, 'n_estimators': 100}"
      ]
     },
     "execution_count": 28,
     "metadata": {},
     "output_type": "execute_result"
    }
   ],
   "source": [
    "m.best_params_"
   ]
  },
  {
   "cell_type": "code",
   "execution_count": 29,
   "metadata": {},
   "outputs": [],
   "source": [
    "best_clf_RF = m.best_estimator_"
   ]
  },
  {
   "cell_type": "markdown",
   "metadata": {},
   "source": [
    "## 5.2. 5-fold-cross-validation  модели RF"
   ]
  },
  {
   "cell_type": "code",
   "execution_count": 32,
   "metadata": {},
   "outputs": [],
   "source": [
    "y_pred_CV_RF = cross_val_predict(best_clf_RF, x_tr, y_tr, cv=cv)"
   ]
  },
  {
   "cell_type": "code",
   "execution_count": 33,
   "metadata": {},
   "outputs": [
    {
     "name": "stdout",
     "output_type": "stream",
     "text": [
      "balanced_accuracy =  0.86\n",
      "SE =  0.83\n",
      "SP =  0.9\n",
      "Kappa =  0.73\n"
     ]
    }
   ],
   "source": [
    "confusion_matrix_RF = metrics.confusion_matrix(y_tr, y_pred_CV_RF, labels=[0,1])\n",
    "Kappa = metrics.cohen_kappa_score(y_tr, y_pred_CV_RF, weights='linear')\n",
    "TN, FP, FN, TP = confusion_matrix_RF.ravel()\n",
    "SE = TP/(TP+FN)\n",
    "SP = TN/(TN+FP)\n",
    "BA = (SE + SP)/2\n",
    "print(\"balanced_accuracy = \", round((BA), 2))\n",
    "print(\"SE = \", round((SE), 2))\n",
    "print(\"SP = \", round((SP), 2))\n",
    "print(\"Kappa = \", round((Kappa), 2))"
   ]
  },
  {
   "cell_type": "code",
   "execution_count": 37,
   "metadata": {},
   "outputs": [],
   "source": [
    "pickle.dump(best_clf_RF, open('HDAC1/Models/RDKit/HDAC1_RF_RDKit.pkl', 'wb'))"
   ]
  },
  {
   "cell_type": "markdown",
   "metadata": {},
   "source": [
    "## 5.3.Y-randomization для модели RF"
   ]
  },
  {
   "cell_type": "code",
   "execution_count": 38,
   "metadata": {},
   "outputs": [
    {
     "name": "stderr",
     "output_type": "stream",
     "text": [
      "[Parallel(n_jobs=-1)]: Using backend LokyBackend with 2 concurrent workers.\n"
     ]
    },
    {
     "name": "stdout",
     "output_type": "stream",
     "text": [
      "True score =  0.84 \n",
      "Y-randomization =  0.5 \n",
      "p-value =  0.0476\n"
     ]
    },
    {
     "name": "stderr",
     "output_type": "stream",
     "text": [
      "[Parallel(n_jobs=-1)]: Done  20 out of  20 | elapsed:   28.4s finished\n"
     ]
    }
   ],
   "source": [
    "permutations = 20\n",
    "score, permutation_scores, pvalue = permutation_test_score(best_clf_RF, x_tr, y_tr,\n",
    "                                                           cv=cv, scoring='balanced_accuracy',\n",
    "                                                           n_permutations=permutations,\n",
    "                                                           n_jobs=-1,\n",
    "                                                           verbose=1,\n",
    "                                                           random_state=24)\n",
    "print('True score = ', score.round(2),\n",
    "      '\\nY-randomization = ', np.mean(permutation_scores).round(2),\n",
    "      '\\np-value = ', pvalue.round(4))"
   ]
  },
  {
   "cell_type": "markdown",
   "metadata": {},
   "source": [
    "## 5.4. Валидация на внешней тестовой выборке для модели RF"
   ]
  },
  {
   "cell_type": "code",
   "execution_count": 39,
   "metadata": {},
   "outputs": [],
   "source": [
    "y_pred_rf = best_clf_RF.predict(x_ts)"
   ]
  },
  {
   "cell_type": "code",
   "execution_count": 40,
   "metadata": {},
   "outputs": [
    {
     "data": {
      "text/plain": [
       "array([1, 1, 0, 1, 1, 1, 1, 1, 1, 1, 1, 1, 1, 1, 0, 0, 1, 1, 1, 1, 0, 1,\n",
       "       0, 0, 0, 0, 0, 0, 0, 0, 0, 0, 0, 0, 0, 0, 0, 0, 0, 0, 0, 0])"
      ]
     },
     "execution_count": 40,
     "metadata": {},
     "output_type": "execute_result"
    }
   ],
   "source": [
    "y_pred_rf"
   ]
  },
  {
   "cell_type": "code",
   "execution_count": 41,
   "metadata": {},
   "outputs": [],
   "source": [
    "confusion_matrix_ts = metrics.confusion_matrix(y_ts, y_pred_rf, labels=[0,1])"
   ]
  },
  {
   "cell_type": "code",
   "execution_count": 42,
   "metadata": {},
   "outputs": [
    {
     "name": "stdout",
     "output_type": "stream",
     "text": [
      "balanced_accuracy =  0.83\n",
      "SE =  0.82\n",
      "SP =  0.84\n",
      "Kappa =  0.66\n"
     ]
    }
   ],
   "source": [
    "Kappa = metrics.cohen_kappa_score(y_ts, y_pred_rf, weights='linear')\n",
    "TN, FP, FN, TP = confusion_matrix_ts.ravel()\n",
    "SE = TP/(TP+FN)\n",
    "SP = TN/(TN+FP)\n",
    "BA = (SE + SP)/2\n",
    "print(\"balanced_accuracy = \", round((BA), 2))\n",
    "print(\"SE = \", round((SE), 2))\n",
    "print(\"SP = \", round((SP), 2))\n",
    "print(\"Kappa = \", round((Kappa), 2))"
   ]
  },
  {
   "cell_type": "markdown",
   "metadata": {},
   "source": [
    "# 6. Расчет AD методом Euclidian distances при K=1 (https://doi.org/10.1021/acs.jcim.0c00415)"
   ]
  },
  {
   "cell_type": "code",
   "execution_count": 43,
   "metadata": {},
   "outputs": [],
   "source": [
    "neighbors_k= pairwise_distances(x_tr, n_jobs=-1)\n",
    "neighbors_k.sort(0)"
   ]
  },
  {
   "cell_type": "code",
   "execution_count": 44,
   "metadata": {},
   "outputs": [
    {
     "data": {
      "text/html": [
       "<div>\n",
       "<style scoped>\n",
       "    .dataframe tbody tr th:only-of-type {\n",
       "        vertical-align: middle;\n",
       "    }\n",
       "\n",
       "    .dataframe tbody tr th {\n",
       "        vertical-align: top;\n",
       "    }\n",
       "\n",
       "    .dataframe thead th {\n",
       "        text-align: right;\n",
       "    }\n",
       "</style>\n",
       "<table border=\"1\" class=\"dataframe\">\n",
       "  <thead>\n",
       "    <tr style=\"text-align: right;\">\n",
       "      <th></th>\n",
       "      <th>0</th>\n",
       "      <th>1</th>\n",
       "      <th>2</th>\n",
       "      <th>3</th>\n",
       "      <th>4</th>\n",
       "      <th>5</th>\n",
       "      <th>6</th>\n",
       "      <th>7</th>\n",
       "      <th>8</th>\n",
       "      <th>9</th>\n",
       "      <th>...</th>\n",
       "      <th>159</th>\n",
       "      <th>160</th>\n",
       "      <th>161</th>\n",
       "      <th>162</th>\n",
       "      <th>163</th>\n",
       "      <th>164</th>\n",
       "      <th>165</th>\n",
       "      <th>166</th>\n",
       "      <th>167</th>\n",
       "      <th>168</th>\n",
       "    </tr>\n",
       "  </thead>\n",
       "  <tbody>\n",
       "    <tr>\n",
       "      <th>0</th>\n",
       "      <td>0.000000e+00</td>\n",
       "      <td>0.000000e+00</td>\n",
       "      <td>0.000000e+00</td>\n",
       "      <td>0.000000e+00</td>\n",
       "      <td>0.000000e+00</td>\n",
       "      <td>0.000000e+00</td>\n",
       "      <td>0.000000e+00</td>\n",
       "      <td>0.000000e+00</td>\n",
       "      <td>0.000000e+00</td>\n",
       "      <td>0.000000e+00</td>\n",
       "      <td>...</td>\n",
       "      <td>0.000000e+00</td>\n",
       "      <td>0.000000e+00</td>\n",
       "      <td>0.000000e+00</td>\n",
       "      <td>0.000000e+00</td>\n",
       "      <td>0.000000e+00</td>\n",
       "      <td>0.000000e+00</td>\n",
       "      <td>0.000000e+00</td>\n",
       "      <td>0.000000e+00</td>\n",
       "      <td>0.000000e+00</td>\n",
       "      <td>0.000000e+00</td>\n",
       "    </tr>\n",
       "    <tr>\n",
       "      <th>1</th>\n",
       "      <td>1.280280e+08</td>\n",
       "      <td>1.391149e+05</td>\n",
       "      <td>4.289522e+01</td>\n",
       "      <td>1.907878e+01</td>\n",
       "      <td>1.907878e+01</td>\n",
       "      <td>4.235473e+04</td>\n",
       "      <td>6.196773e+01</td>\n",
       "      <td>2.291414e+09</td>\n",
       "      <td>1.800264e+06</td>\n",
       "      <td>5.959334e+06</td>\n",
       "      <td>...</td>\n",
       "      <td>4.865805e+07</td>\n",
       "      <td>1.028784e+07</td>\n",
       "      <td>6.802476e+05</td>\n",
       "      <td>6.629472e+04</td>\n",
       "      <td>1.355859e+06</td>\n",
       "      <td>3.040226e+03</td>\n",
       "      <td>1.364002e+07</td>\n",
       "      <td>3.878144e+01</td>\n",
       "      <td>3.040226e+03</td>\n",
       "      <td>1.781967e+07</td>\n",
       "    </tr>\n",
       "    <tr>\n",
       "      <th>2</th>\n",
       "      <td>1.553010e+08</td>\n",
       "      <td>2.287294e+06</td>\n",
       "      <td>7.042727e+01</td>\n",
       "      <td>3.370460e+01</td>\n",
       "      <td>4.228475e+01</td>\n",
       "      <td>4.539443e+04</td>\n",
       "      <td>6.566582e+01</td>\n",
       "      <td>3.924944e+09</td>\n",
       "      <td>4.959703e+06</td>\n",
       "      <td>5.959334e+06</td>\n",
       "      <td>...</td>\n",
       "      <td>5.298948e+07</td>\n",
       "      <td>7.221996e+07</td>\n",
       "      <td>8.616905e+05</td>\n",
       "      <td>7.803856e+04</td>\n",
       "      <td>4.959703e+06</td>\n",
       "      <td>2.804483e+04</td>\n",
       "      <td>1.364002e+07</td>\n",
       "      <td>3.878510e+06</td>\n",
       "      <td>3.108422e+04</td>\n",
       "      <td>1.917553e+07</td>\n",
       "    </tr>\n",
       "    <tr>\n",
       "      <th>3</th>\n",
       "      <td>2.415693e+08</td>\n",
       "      <td>3.731344e+06</td>\n",
       "      <td>5.141174e+06</td>\n",
       "      <td>1.129689e+07</td>\n",
       "      <td>1.129689e+07</td>\n",
       "      <td>6.526903e+04</td>\n",
       "      <td>1.261123e+07</td>\n",
       "      <td>4.865780e+09</td>\n",
       "      <td>6.315562e+06</td>\n",
       "      <td>9.837844e+06</td>\n",
       "      <td>...</td>\n",
       "      <td>6.662950e+07</td>\n",
       "      <td>8.582584e+07</td>\n",
       "      <td>1.705746e+06</td>\n",
       "      <td>8.502131e+04</td>\n",
       "      <td>6.759967e+06</td>\n",
       "      <td>3.870699e+04</td>\n",
       "      <td>1.364002e+07</td>\n",
       "      <td>3.878510e+06</td>\n",
       "      <td>4.174635e+04</td>\n",
       "      <td>2.413524e+07</td>\n",
       "    </tr>\n",
       "    <tr>\n",
       "      <th>4</th>\n",
       "      <td>2.415693e+08</td>\n",
       "      <td>6.324434e+06</td>\n",
       "      <td>5.141174e+06</td>\n",
       "      <td>2.840235e+07</td>\n",
       "      <td>2.840235e+07</td>\n",
       "      <td>7.343838e+04</td>\n",
       "      <td>3.134539e+07</td>\n",
       "      <td>4.865780e+09</td>\n",
       "      <td>1.265677e+07</td>\n",
       "      <td>9.837844e+06</td>\n",
       "      <td>...</td>\n",
       "      <td>6.662950e+07</td>\n",
       "      <td>8.582584e+07</td>\n",
       "      <td>1.753568e+06</td>\n",
       "      <td>8.502131e+04</td>\n",
       "      <td>1.761647e+07</td>\n",
       "      <td>4.539443e+04</td>\n",
       "      <td>1.878120e+07</td>\n",
       "      <td>5.959334e+06</td>\n",
       "      <td>4.235473e+04</td>\n",
       "      <td>2.593550e+07</td>\n",
       "    </tr>\n",
       "    <tr>\n",
       "      <th>...</th>\n",
       "      <td>...</td>\n",
       "      <td>...</td>\n",
       "      <td>...</td>\n",
       "      <td>...</td>\n",
       "      <td>...</td>\n",
       "      <td>...</td>\n",
       "      <td>...</td>\n",
       "      <td>...</td>\n",
       "      <td>...</td>\n",
       "      <td>...</td>\n",
       "      <td>...</td>\n",
       "      <td>...</td>\n",
       "      <td>...</td>\n",
       "      <td>...</td>\n",
       "      <td>...</td>\n",
       "      <td>...</td>\n",
       "      <td>...</td>\n",
       "      <td>...</td>\n",
       "      <td>...</td>\n",
       "      <td>...</td>\n",
       "      <td>...</td>\n",
       "    </tr>\n",
       "    <tr>\n",
       "      <th>164</th>\n",
       "      <td>6.313470e+09</td>\n",
       "      <td>8.860321e+09</td>\n",
       "      <td>8.535829e+09</td>\n",
       "      <td>8.744057e+09</td>\n",
       "      <td>8.744057e+09</td>\n",
       "      <td>8.888361e+09</td>\n",
       "      <td>8.684309e+09</td>\n",
       "      <td>8.888453e+09</td>\n",
       "      <td>8.821607e+09</td>\n",
       "      <td>8.389755e+09</td>\n",
       "      <td>...</td>\n",
       "      <td>8.469200e+09</td>\n",
       "      <td>7.958565e+09</td>\n",
       "      <td>8.878391e+09</td>\n",
       "      <td>8.887612e+09</td>\n",
       "      <td>8.816647e+09</td>\n",
       "      <td>8.888407e+09</td>\n",
       "      <td>8.522189e+09</td>\n",
       "      <td>8.395714e+09</td>\n",
       "      <td>8.888404e+09</td>\n",
       "      <td>8.797472e+09</td>\n",
       "    </tr>\n",
       "    <tr>\n",
       "      <th>165</th>\n",
       "      <td>1.635928e+10</td>\n",
       "      <td>1.890613e+10</td>\n",
       "      <td>1.858164e+10</td>\n",
       "      <td>1.878987e+10</td>\n",
       "      <td>1.878987e+10</td>\n",
       "      <td>1.893417e+10</td>\n",
       "      <td>1.873012e+10</td>\n",
       "      <td>1.004581e+10</td>\n",
       "      <td>1.886742e+10</td>\n",
       "      <td>1.843557e+10</td>\n",
       "      <td>...</td>\n",
       "      <td>1.851501e+10</td>\n",
       "      <td>1.800438e+10</td>\n",
       "      <td>1.892420e+10</td>\n",
       "      <td>1.893342e+10</td>\n",
       "      <td>1.886246e+10</td>\n",
       "      <td>1.893422e+10</td>\n",
       "      <td>1.856800e+10</td>\n",
       "      <td>1.844153e+10</td>\n",
       "      <td>1.893422e+10</td>\n",
       "      <td>1.884328e+10</td>\n",
       "    </tr>\n",
       "    <tr>\n",
       "      <th>166</th>\n",
       "      <td>2.030497e+10</td>\n",
       "      <td>2.285183e+10</td>\n",
       "      <td>2.252733e+10</td>\n",
       "      <td>2.273556e+10</td>\n",
       "      <td>2.273556e+10</td>\n",
       "      <td>2.287987e+10</td>\n",
       "      <td>2.267581e+10</td>\n",
       "      <td>1.399151e+10</td>\n",
       "      <td>2.281311e+10</td>\n",
       "      <td>2.238126e+10</td>\n",
       "      <td>...</td>\n",
       "      <td>2.246070e+10</td>\n",
       "      <td>2.195007e+10</td>\n",
       "      <td>2.286990e+10</td>\n",
       "      <td>2.287912e+10</td>\n",
       "      <td>2.280815e+10</td>\n",
       "      <td>2.287991e+10</td>\n",
       "      <td>2.251369e+10</td>\n",
       "      <td>2.238722e+10</td>\n",
       "      <td>2.287991e+10</td>\n",
       "      <td>2.278898e+10</td>\n",
       "    </tr>\n",
       "    <tr>\n",
       "      <th>167</th>\n",
       "      <td>3.084594e+10</td>\n",
       "      <td>3.339280e+10</td>\n",
       "      <td>3.306830e+10</td>\n",
       "      <td>3.327653e+10</td>\n",
       "      <td>3.327653e+10</td>\n",
       "      <td>3.342084e+10</td>\n",
       "      <td>3.321678e+10</td>\n",
       "      <td>2.453247e+10</td>\n",
       "      <td>3.335408e+10</td>\n",
       "      <td>3.292223e+10</td>\n",
       "      <td>...</td>\n",
       "      <td>3.300167e+10</td>\n",
       "      <td>3.249104e+10</td>\n",
       "      <td>3.341087e+10</td>\n",
       "      <td>3.342009e+10</td>\n",
       "      <td>3.334912e+10</td>\n",
       "      <td>3.342088e+10</td>\n",
       "      <td>3.305466e+10</td>\n",
       "      <td>3.292819e+10</td>\n",
       "      <td>3.342088e+10</td>\n",
       "      <td>3.332995e+10</td>\n",
       "    </tr>\n",
       "    <tr>\n",
       "      <th>168</th>\n",
       "      <td>5.421165e+10</td>\n",
       "      <td>5.675850e+10</td>\n",
       "      <td>5.643401e+10</td>\n",
       "      <td>5.664224e+10</td>\n",
       "      <td>5.664224e+10</td>\n",
       "      <td>5.678654e+10</td>\n",
       "      <td>5.658249e+10</td>\n",
       "      <td>4.789818e+10</td>\n",
       "      <td>5.671979e+10</td>\n",
       "      <td>5.628793e+10</td>\n",
       "      <td>...</td>\n",
       "      <td>5.636738e+10</td>\n",
       "      <td>5.585674e+10</td>\n",
       "      <td>5.677657e+10</td>\n",
       "      <td>5.678579e+10</td>\n",
       "      <td>5.671483e+10</td>\n",
       "      <td>5.678659e+10</td>\n",
       "      <td>5.642037e+10</td>\n",
       "      <td>5.629389e+10</td>\n",
       "      <td>5.678658e+10</td>\n",
       "      <td>5.669565e+10</td>\n",
       "    </tr>\n",
       "  </tbody>\n",
       "</table>\n",
       "<p>169 rows × 169 columns</p>\n",
       "</div>"
      ],
      "text/plain": [
       "              0             1             2             3             4    \\\n",
       "0    0.000000e+00  0.000000e+00  0.000000e+00  0.000000e+00  0.000000e+00   \n",
       "1    1.280280e+08  1.391149e+05  4.289522e+01  1.907878e+01  1.907878e+01   \n",
       "2    1.553010e+08  2.287294e+06  7.042727e+01  3.370460e+01  4.228475e+01   \n",
       "3    2.415693e+08  3.731344e+06  5.141174e+06  1.129689e+07  1.129689e+07   \n",
       "4    2.415693e+08  6.324434e+06  5.141174e+06  2.840235e+07  2.840235e+07   \n",
       "..            ...           ...           ...           ...           ...   \n",
       "164  6.313470e+09  8.860321e+09  8.535829e+09  8.744057e+09  8.744057e+09   \n",
       "165  1.635928e+10  1.890613e+10  1.858164e+10  1.878987e+10  1.878987e+10   \n",
       "166  2.030497e+10  2.285183e+10  2.252733e+10  2.273556e+10  2.273556e+10   \n",
       "167  3.084594e+10  3.339280e+10  3.306830e+10  3.327653e+10  3.327653e+10   \n",
       "168  5.421165e+10  5.675850e+10  5.643401e+10  5.664224e+10  5.664224e+10   \n",
       "\n",
       "              5             6             7             8             9    \\\n",
       "0    0.000000e+00  0.000000e+00  0.000000e+00  0.000000e+00  0.000000e+00   \n",
       "1    4.235473e+04  6.196773e+01  2.291414e+09  1.800264e+06  5.959334e+06   \n",
       "2    4.539443e+04  6.566582e+01  3.924944e+09  4.959703e+06  5.959334e+06   \n",
       "3    6.526903e+04  1.261123e+07  4.865780e+09  6.315562e+06  9.837844e+06   \n",
       "4    7.343838e+04  3.134539e+07  4.865780e+09  1.265677e+07  9.837844e+06   \n",
       "..            ...           ...           ...           ...           ...   \n",
       "164  8.888361e+09  8.684309e+09  8.888453e+09  8.821607e+09  8.389755e+09   \n",
       "165  1.893417e+10  1.873012e+10  1.004581e+10  1.886742e+10  1.843557e+10   \n",
       "166  2.287987e+10  2.267581e+10  1.399151e+10  2.281311e+10  2.238126e+10   \n",
       "167  3.342084e+10  3.321678e+10  2.453247e+10  3.335408e+10  3.292223e+10   \n",
       "168  5.678654e+10  5.658249e+10  4.789818e+10  5.671979e+10  5.628793e+10   \n",
       "\n",
       "     ...           159           160           161           162  \\\n",
       "0    ...  0.000000e+00  0.000000e+00  0.000000e+00  0.000000e+00   \n",
       "1    ...  4.865805e+07  1.028784e+07  6.802476e+05  6.629472e+04   \n",
       "2    ...  5.298948e+07  7.221996e+07  8.616905e+05  7.803856e+04   \n",
       "3    ...  6.662950e+07  8.582584e+07  1.705746e+06  8.502131e+04   \n",
       "4    ...  6.662950e+07  8.582584e+07  1.753568e+06  8.502131e+04   \n",
       "..   ...           ...           ...           ...           ...   \n",
       "164  ...  8.469200e+09  7.958565e+09  8.878391e+09  8.887612e+09   \n",
       "165  ...  1.851501e+10  1.800438e+10  1.892420e+10  1.893342e+10   \n",
       "166  ...  2.246070e+10  2.195007e+10  2.286990e+10  2.287912e+10   \n",
       "167  ...  3.300167e+10  3.249104e+10  3.341087e+10  3.342009e+10   \n",
       "168  ...  5.636738e+10  5.585674e+10  5.677657e+10  5.678579e+10   \n",
       "\n",
       "              163           164           165           166           167  \\\n",
       "0    0.000000e+00  0.000000e+00  0.000000e+00  0.000000e+00  0.000000e+00   \n",
       "1    1.355859e+06  3.040226e+03  1.364002e+07  3.878144e+01  3.040226e+03   \n",
       "2    4.959703e+06  2.804483e+04  1.364002e+07  3.878510e+06  3.108422e+04   \n",
       "3    6.759967e+06  3.870699e+04  1.364002e+07  3.878510e+06  4.174635e+04   \n",
       "4    1.761647e+07  4.539443e+04  1.878120e+07  5.959334e+06  4.235473e+04   \n",
       "..            ...           ...           ...           ...           ...   \n",
       "164  8.816647e+09  8.888407e+09  8.522189e+09  8.395714e+09  8.888404e+09   \n",
       "165  1.886246e+10  1.893422e+10  1.856800e+10  1.844153e+10  1.893422e+10   \n",
       "166  2.280815e+10  2.287991e+10  2.251369e+10  2.238722e+10  2.287991e+10   \n",
       "167  3.334912e+10  3.342088e+10  3.305466e+10  3.292819e+10  3.342088e+10   \n",
       "168  5.671483e+10  5.678659e+10  5.642037e+10  5.629389e+10  5.678658e+10   \n",
       "\n",
       "              168  \n",
       "0    0.000000e+00  \n",
       "1    1.781967e+07  \n",
       "2    1.917553e+07  \n",
       "3    2.413524e+07  \n",
       "4    2.593550e+07  \n",
       "..            ...  \n",
       "164  8.797472e+09  \n",
       "165  1.884328e+10  \n",
       "166  2.278898e+10  \n",
       "167  3.332995e+10  \n",
       "168  5.669565e+10  \n",
       "\n",
       "[169 rows x 169 columns]"
      ]
     },
     "execution_count": 44,
     "metadata": {},
     "output_type": "execute_result"
    }
   ],
   "source": [
    "df_tr=pd.DataFrame(neighbors_k)\n",
    "df_tr"
   ]
  },
  {
   "cell_type": "code",
   "execution_count": 45,
   "metadata": {},
   "outputs": [],
   "source": [
    "similarity= neighbors_k"
   ]
  },
  {
   "cell_type": "code",
   "execution_count": 46,
   "metadata": {},
   "outputs": [],
   "source": [
    "Dmean=np.mean(similarity[1,:])"
   ]
  },
  {
   "cell_type": "code",
   "execution_count": 47,
   "metadata": {},
   "outputs": [
    {
     "data": {
      "text/plain": [
       "284489713.2"
      ]
     },
     "execution_count": 47,
     "metadata": {},
     "output_type": "execute_result"
    }
   ],
   "source": [
    "round(Dmean, 2)"
   ]
  },
  {
   "cell_type": "code",
   "execution_count": 48,
   "metadata": {},
   "outputs": [],
   "source": [
    "std=np.std(similarity[1,:])"
   ]
  },
  {
   "cell_type": "code",
   "execution_count": 49,
   "metadata": {},
   "outputs": [
    {
     "data": {
      "text/plain": [
       "2011066570.5"
      ]
     },
     "execution_count": 49,
     "metadata": {},
     "output_type": "execute_result"
    }
   ],
   "source": [
    "round(std, 2)"
   ]
  },
  {
   "cell_type": "code",
   "execution_count": 50,
   "metadata": {},
   "outputs": [
    {
     "name": "stdout",
     "output_type": "stream",
     "text": [
      "1290022998.45\n"
     ]
    }
   ],
   "source": [
    "model_AD_limit=Dmean+std*0.5\n",
    "print(np.round(model_AD_limit, 2))"
   ]
  },
  {
   "cell_type": "code",
   "execution_count": 51,
   "metadata": {},
   "outputs": [],
   "source": [
    "neighbors_k_ts= pairwise_distances(x_tr,Y=x_ts, n_jobs=-1)\n",
    "neighbors_k_ts.sort(0)"
   ]
  },
  {
   "cell_type": "code",
   "execution_count": 52,
   "metadata": {},
   "outputs": [
    {
     "data": {
      "text/html": [
       "<div>\n",
       "<style scoped>\n",
       "    .dataframe tbody tr th:only-of-type {\n",
       "        vertical-align: middle;\n",
       "    }\n",
       "\n",
       "    .dataframe tbody tr th {\n",
       "        vertical-align: top;\n",
       "    }\n",
       "\n",
       "    .dataframe thead th {\n",
       "        text-align: right;\n",
       "    }\n",
       "</style>\n",
       "<table border=\"1\" class=\"dataframe\">\n",
       "  <thead>\n",
       "    <tr style=\"text-align: right;\">\n",
       "      <th></th>\n",
       "      <th>0</th>\n",
       "      <th>1</th>\n",
       "      <th>2</th>\n",
       "      <th>3</th>\n",
       "      <th>4</th>\n",
       "      <th>5</th>\n",
       "      <th>6</th>\n",
       "      <th>7</th>\n",
       "      <th>8</th>\n",
       "      <th>9</th>\n",
       "      <th>...</th>\n",
       "      <th>32</th>\n",
       "      <th>33</th>\n",
       "      <th>34</th>\n",
       "      <th>35</th>\n",
       "      <th>36</th>\n",
       "      <th>37</th>\n",
       "      <th>38</th>\n",
       "      <th>39</th>\n",
       "      <th>40</th>\n",
       "      <th>41</th>\n",
       "    </tr>\n",
       "  </thead>\n",
       "  <tbody>\n",
       "    <tr>\n",
       "      <th>0</th>\n",
       "      <td>2.784121e+06</td>\n",
       "      <td>4.329279e+04</td>\n",
       "      <td>2.031213e+04</td>\n",
       "      <td>2.061381e+08</td>\n",
       "      <td>3.405877e+01</td>\n",
       "      <td>7.820439e+07</td>\n",
       "      <td>5.494529e+04</td>\n",
       "      <td>5.494529e+04</td>\n",
       "      <td>2.087518e+06</td>\n",
       "      <td>4.972222e+04</td>\n",
       "      <td>...</td>\n",
       "      <td>2.544660e+03</td>\n",
       "      <td>3.773912e+06</td>\n",
       "      <td>6.791379e+11</td>\n",
       "      <td>9.994541e+03</td>\n",
       "      <td>5.243951e+06</td>\n",
       "      <td>2.564010e+06</td>\n",
       "      <td>1.701667e+06</td>\n",
       "      <td>1.590873e+06</td>\n",
       "      <td>1.701667e+06</td>\n",
       "      <td>8.022650e+03</td>\n",
       "    </tr>\n",
       "    <tr>\n",
       "      <th>1</th>\n",
       "      <td>2.784121e+06</td>\n",
       "      <td>4.710403e+04</td>\n",
       "      <td>3.543677e+04</td>\n",
       "      <td>2.061381e+08</td>\n",
       "      <td>3.805260e+01</td>\n",
       "      <td>1.012505e+08</td>\n",
       "      <td>5.494529e+04</td>\n",
       "      <td>5.494529e+04</td>\n",
       "      <td>2.528758e+06</td>\n",
       "      <td>4.972226e+04</td>\n",
       "      <td>...</td>\n",
       "      <td>6.272950e+04</td>\n",
       "      <td>1.496024e+07</td>\n",
       "      <td>7.025036e+11</td>\n",
       "      <td>1.427133e+04</td>\n",
       "      <td>7.574169e+06</td>\n",
       "      <td>1.525566e+07</td>\n",
       "      <td>1.701667e+06</td>\n",
       "      <td>1.204915e+07</td>\n",
       "      <td>1.701667e+06</td>\n",
       "      <td>5.724655e+04</td>\n",
       "    </tr>\n",
       "    <tr>\n",
       "      <th>2</th>\n",
       "      <td>2.784121e+06</td>\n",
       "      <td>8.488359e+04</td>\n",
       "      <td>6.848104e+04</td>\n",
       "      <td>2.924065e+08</td>\n",
       "      <td>7.310267e+01</td>\n",
       "      <td>2.248647e+08</td>\n",
       "      <td>1.038045e+05</td>\n",
       "      <td>1.038045e+05</td>\n",
       "      <td>2.681461e+06</td>\n",
       "      <td>6.008580e+04</td>\n",
       "      <td>...</td>\n",
       "      <td>7.714811e+04</td>\n",
       "      <td>2.757148e+07</td>\n",
       "      <td>7.130446e+11</td>\n",
       "      <td>1.947552e+04</td>\n",
       "      <td>7.574169e+06</td>\n",
       "      <td>1.661152e+07</td>\n",
       "      <td>2.176843e+06</td>\n",
       "      <td>1.204915e+07</td>\n",
       "      <td>2.176843e+06</td>\n",
       "      <td>8.263147e+04</td>\n",
       "    </tr>\n",
       "    <tr>\n",
       "      <th>3</th>\n",
       "      <td>9.827112e+06</td>\n",
       "      <td>8.617352e+04</td>\n",
       "      <td>7.256862e+04</td>\n",
       "      <td>3.196794e+08</td>\n",
       "      <td>1.261123e+07</td>\n",
       "      <td>3.073222e+08</td>\n",
       "      <td>4.490987e+05</td>\n",
       "      <td>4.490987e+05</td>\n",
       "      <td>6.456647e+06</td>\n",
       "      <td>2.376706e+05</td>\n",
       "      <td>...</td>\n",
       "      <td>9.791838e+04</td>\n",
       "      <td>2.757148e+07</td>\n",
       "      <td>7.169903e+11</td>\n",
       "      <td>5.446509e+04</td>\n",
       "      <td>3.210807e+07</td>\n",
       "      <td>2.157123e+07</td>\n",
       "      <td>2.176843e+06</td>\n",
       "      <td>1.204915e+07</td>\n",
       "      <td>2.176843e+06</td>\n",
       "      <td>9.960008e+04</td>\n",
       "    </tr>\n",
       "    <tr>\n",
       "      <th>4</th>\n",
       "      <td>2.856127e+07</td>\n",
       "      <td>8.617371e+04</td>\n",
       "      <td>9.194950e+04</td>\n",
       "      <td>3.209012e+08</td>\n",
       "      <td>3.134539e+07</td>\n",
       "      <td>3.231661e+08</td>\n",
       "      <td>8.928653e+05</td>\n",
       "      <td>8.928653e+05</td>\n",
       "      <td>7.258511e+06</td>\n",
       "      <td>4.578139e+05</td>\n",
       "      <td>...</td>\n",
       "      <td>9.791838e+04</td>\n",
       "      <td>2.757148e+07</td>\n",
       "      <td>7.270361e+11</td>\n",
       "      <td>1.008273e+05</td>\n",
       "      <td>3.210807e+07</td>\n",
       "      <td>2.337149e+07</td>\n",
       "      <td>8.136176e+06</td>\n",
       "      <td>1.719032e+07</td>\n",
       "      <td>8.136176e+06</td>\n",
       "      <td>1.026397e+05</td>\n",
       "    </tr>\n",
       "    <tr>\n",
       "      <th>...</th>\n",
       "      <td>...</td>\n",
       "      <td>...</td>\n",
       "      <td>...</td>\n",
       "      <td>...</td>\n",
       "      <td>...</td>\n",
       "      <td>...</td>\n",
       "      <td>...</td>\n",
       "      <td>...</td>\n",
       "      <td>...</td>\n",
       "      <td>...</td>\n",
       "      <td>...</td>\n",
       "      <td>...</td>\n",
       "      <td>...</td>\n",
       "      <td>...</td>\n",
       "      <td>...</td>\n",
       "      <td>...</td>\n",
       "      <td>...</td>\n",
       "      <td>...</td>\n",
       "      <td>...</td>\n",
       "      <td>...</td>\n",
       "      <td>...</td>\n",
       "    </tr>\n",
       "    <tr>\n",
       "      <th>164</th>\n",
       "      <td>8.687093e+09</td>\n",
       "      <td>8.887205e+09</td>\n",
       "      <td>8.887383e+09</td>\n",
       "      <td>6.761177e+09</td>\n",
       "      <td>8.684309e+09</td>\n",
       "      <td>7.306943e+09</td>\n",
       "      <td>8.881038e+09</td>\n",
       "      <td>8.881038e+09</td>\n",
       "      <td>8.850133e+09</td>\n",
       "      <td>8.884154e+09</td>\n",
       "      <td>...</td>\n",
       "      <td>8.888299e+09</td>\n",
       "      <td>8.711881e+09</td>\n",
       "      <td>7.359245e+11</td>\n",
       "      <td>8.888075e+09</td>\n",
       "      <td>8.296092e+09</td>\n",
       "      <td>8.800036e+09</td>\n",
       "      <td>8.397891e+09</td>\n",
       "      <td>8.523780e+09</td>\n",
       "      <td>8.397891e+09</td>\n",
       "      <td>8.888304e+09</td>\n",
       "    </tr>\n",
       "    <tr>\n",
       "      <th>165</th>\n",
       "      <td>1.873291e+10</td>\n",
       "      <td>1.893302e+10</td>\n",
       "      <td>1.893319e+10</td>\n",
       "      <td>1.680699e+10</td>\n",
       "      <td>1.873012e+10</td>\n",
       "      <td>1.735276e+10</td>\n",
       "      <td>1.892685e+10</td>\n",
       "      <td>1.892685e+10</td>\n",
       "      <td>1.889594e+10</td>\n",
       "      <td>1.892997e+10</td>\n",
       "      <td>...</td>\n",
       "      <td>1.893411e+10</td>\n",
       "      <td>1.875769e+10</td>\n",
       "      <td>7.359245e+11</td>\n",
       "      <td>1.893389e+10</td>\n",
       "      <td>1.834190e+10</td>\n",
       "      <td>1.884585e+10</td>\n",
       "      <td>1.844370e+10</td>\n",
       "      <td>1.856959e+10</td>\n",
       "      <td>1.844370e+10</td>\n",
       "      <td>1.893412e+10</td>\n",
       "    </tr>\n",
       "    <tr>\n",
       "      <th>166</th>\n",
       "      <td>2.267860e+10</td>\n",
       "      <td>2.287871e+10</td>\n",
       "      <td>2.287889e+10</td>\n",
       "      <td>2.075268e+10</td>\n",
       "      <td>2.267581e+10</td>\n",
       "      <td>2.129845e+10</td>\n",
       "      <td>2.287254e+10</td>\n",
       "      <td>2.287254e+10</td>\n",
       "      <td>2.284164e+10</td>\n",
       "      <td>2.287566e+10</td>\n",
       "      <td>...</td>\n",
       "      <td>2.287980e+10</td>\n",
       "      <td>2.270339e+10</td>\n",
       "      <td>7.359245e+11</td>\n",
       "      <td>2.287958e+10</td>\n",
       "      <td>2.228760e+10</td>\n",
       "      <td>2.279154e+10</td>\n",
       "      <td>2.238940e+10</td>\n",
       "      <td>2.251529e+10</td>\n",
       "      <td>2.238940e+10</td>\n",
       "      <td>2.287981e+10</td>\n",
       "    </tr>\n",
       "    <tr>\n",
       "      <th>167</th>\n",
       "      <td>3.321957e+10</td>\n",
       "      <td>3.341968e+10</td>\n",
       "      <td>3.341986e+10</td>\n",
       "      <td>3.129365e+10</td>\n",
       "      <td>3.321678e+10</td>\n",
       "      <td>3.183942e+10</td>\n",
       "      <td>3.341351e+10</td>\n",
       "      <td>3.341351e+10</td>\n",
       "      <td>3.338261e+10</td>\n",
       "      <td>3.341663e+10</td>\n",
       "      <td>...</td>\n",
       "      <td>3.342077e+10</td>\n",
       "      <td>3.324435e+10</td>\n",
       "      <td>7.359245e+11</td>\n",
       "      <td>3.342055e+10</td>\n",
       "      <td>3.282857e+10</td>\n",
       "      <td>3.333251e+10</td>\n",
       "      <td>3.293037e+10</td>\n",
       "      <td>3.305625e+10</td>\n",
       "      <td>3.293037e+10</td>\n",
       "      <td>3.342078e+10</td>\n",
       "    </tr>\n",
       "    <tr>\n",
       "      <th>168</th>\n",
       "      <td>5.658527e+10</td>\n",
       "      <td>5.678538e+10</td>\n",
       "      <td>5.678556e+10</td>\n",
       "      <td>5.465936e+10</td>\n",
       "      <td>5.658249e+10</td>\n",
       "      <td>5.520512e+10</td>\n",
       "      <td>5.677922e+10</td>\n",
       "      <td>5.677922e+10</td>\n",
       "      <td>5.674831e+10</td>\n",
       "      <td>5.678233e+10</td>\n",
       "      <td>...</td>\n",
       "      <td>5.678648e+10</td>\n",
       "      <td>5.661006e+10</td>\n",
       "      <td>7.359245e+11</td>\n",
       "      <td>5.678625e+10</td>\n",
       "      <td>5.619427e+10</td>\n",
       "      <td>5.669822e+10</td>\n",
       "      <td>5.629607e+10</td>\n",
       "      <td>5.642196e+10</td>\n",
       "      <td>5.629607e+10</td>\n",
       "      <td>5.678648e+10</td>\n",
       "    </tr>\n",
       "  </tbody>\n",
       "</table>\n",
       "<p>169 rows × 42 columns</p>\n",
       "</div>"
      ],
      "text/plain": [
       "               0             1             2             3             4   \\\n",
       "0    2.784121e+06  4.329279e+04  2.031213e+04  2.061381e+08  3.405877e+01   \n",
       "1    2.784121e+06  4.710403e+04  3.543677e+04  2.061381e+08  3.805260e+01   \n",
       "2    2.784121e+06  8.488359e+04  6.848104e+04  2.924065e+08  7.310267e+01   \n",
       "3    9.827112e+06  8.617352e+04  7.256862e+04  3.196794e+08  1.261123e+07   \n",
       "4    2.856127e+07  8.617371e+04  9.194950e+04  3.209012e+08  3.134539e+07   \n",
       "..            ...           ...           ...           ...           ...   \n",
       "164  8.687093e+09  8.887205e+09  8.887383e+09  6.761177e+09  8.684309e+09   \n",
       "165  1.873291e+10  1.893302e+10  1.893319e+10  1.680699e+10  1.873012e+10   \n",
       "166  2.267860e+10  2.287871e+10  2.287889e+10  2.075268e+10  2.267581e+10   \n",
       "167  3.321957e+10  3.341968e+10  3.341986e+10  3.129365e+10  3.321678e+10   \n",
       "168  5.658527e+10  5.678538e+10  5.678556e+10  5.465936e+10  5.658249e+10   \n",
       "\n",
       "               5             6             7             8             9   \\\n",
       "0    7.820439e+07  5.494529e+04  5.494529e+04  2.087518e+06  4.972222e+04   \n",
       "1    1.012505e+08  5.494529e+04  5.494529e+04  2.528758e+06  4.972226e+04   \n",
       "2    2.248647e+08  1.038045e+05  1.038045e+05  2.681461e+06  6.008580e+04   \n",
       "3    3.073222e+08  4.490987e+05  4.490987e+05  6.456647e+06  2.376706e+05   \n",
       "4    3.231661e+08  8.928653e+05  8.928653e+05  7.258511e+06  4.578139e+05   \n",
       "..            ...           ...           ...           ...           ...   \n",
       "164  7.306943e+09  8.881038e+09  8.881038e+09  8.850133e+09  8.884154e+09   \n",
       "165  1.735276e+10  1.892685e+10  1.892685e+10  1.889594e+10  1.892997e+10   \n",
       "166  2.129845e+10  2.287254e+10  2.287254e+10  2.284164e+10  2.287566e+10   \n",
       "167  3.183942e+10  3.341351e+10  3.341351e+10  3.338261e+10  3.341663e+10   \n",
       "168  5.520512e+10  5.677922e+10  5.677922e+10  5.674831e+10  5.678233e+10   \n",
       "\n",
       "     ...            32            33            34            35  \\\n",
       "0    ...  2.544660e+03  3.773912e+06  6.791379e+11  9.994541e+03   \n",
       "1    ...  6.272950e+04  1.496024e+07  7.025036e+11  1.427133e+04   \n",
       "2    ...  7.714811e+04  2.757148e+07  7.130446e+11  1.947552e+04   \n",
       "3    ...  9.791838e+04  2.757148e+07  7.169903e+11  5.446509e+04   \n",
       "4    ...  9.791838e+04  2.757148e+07  7.270361e+11  1.008273e+05   \n",
       "..   ...           ...           ...           ...           ...   \n",
       "164  ...  8.888299e+09  8.711881e+09  7.359245e+11  8.888075e+09   \n",
       "165  ...  1.893411e+10  1.875769e+10  7.359245e+11  1.893389e+10   \n",
       "166  ...  2.287980e+10  2.270339e+10  7.359245e+11  2.287958e+10   \n",
       "167  ...  3.342077e+10  3.324435e+10  7.359245e+11  3.342055e+10   \n",
       "168  ...  5.678648e+10  5.661006e+10  7.359245e+11  5.678625e+10   \n",
       "\n",
       "               36            37            38            39            40  \\\n",
       "0    5.243951e+06  2.564010e+06  1.701667e+06  1.590873e+06  1.701667e+06   \n",
       "1    7.574169e+06  1.525566e+07  1.701667e+06  1.204915e+07  1.701667e+06   \n",
       "2    7.574169e+06  1.661152e+07  2.176843e+06  1.204915e+07  2.176843e+06   \n",
       "3    3.210807e+07  2.157123e+07  2.176843e+06  1.204915e+07  2.176843e+06   \n",
       "4    3.210807e+07  2.337149e+07  8.136176e+06  1.719032e+07  8.136176e+06   \n",
       "..            ...           ...           ...           ...           ...   \n",
       "164  8.296092e+09  8.800036e+09  8.397891e+09  8.523780e+09  8.397891e+09   \n",
       "165  1.834190e+10  1.884585e+10  1.844370e+10  1.856959e+10  1.844370e+10   \n",
       "166  2.228760e+10  2.279154e+10  2.238940e+10  2.251529e+10  2.238940e+10   \n",
       "167  3.282857e+10  3.333251e+10  3.293037e+10  3.305625e+10  3.293037e+10   \n",
       "168  5.619427e+10  5.669822e+10  5.629607e+10  5.642196e+10  5.629607e+10   \n",
       "\n",
       "               41  \n",
       "0    8.022650e+03  \n",
       "1    5.724655e+04  \n",
       "2    8.263147e+04  \n",
       "3    9.960008e+04  \n",
       "4    1.026397e+05  \n",
       "..            ...  \n",
       "164  8.888304e+09  \n",
       "165  1.893412e+10  \n",
       "166  2.287981e+10  \n",
       "167  3.342078e+10  \n",
       "168  5.678648e+10  \n",
       "\n",
       "[169 rows x 42 columns]"
      ]
     },
     "execution_count": 52,
     "metadata": {},
     "output_type": "execute_result"
    }
   ],
   "source": [
    "x_ts_AD=pd.DataFrame(neighbors_k_ts)\n",
    "x_ts_AD"
   ]
  },
  {
   "cell_type": "code",
   "execution_count": 53,
   "metadata": {},
   "outputs": [
    {
     "name": "stdout",
     "output_type": "stream",
     "text": [
      "[2.78412123e+06 4.32927860e+04 2.03121310e+04 2.06138142e+08\n",
      " 3.40590000e+01 7.82043888e+07 5.49452860e+04 5.49452890e+04\n",
      " 2.08751774e+06 4.97222170e+04 2.49301876e+06 1.45547000e+02\n",
      " 6.63533006e+07 9.54063154e+05 8.91685500e+03 7.91089178e+05\n",
      " 1.90326000e+02 6.26830000e+01 1.53535123e+06 2.23752560e+04\n",
      " 8.14930159e+08 9.27660844e+07 8.78978800e+03 4.71705190e+07\n",
      " 8.79813139e+07 1.46238170e+05 6.00678751e+05 8.79813139e+07\n",
      " 9.09648800e+03 6.42530000e+03 1.75372161e+07 7.03635692e+05\n",
      " 2.54466000e+03 3.77391167e+06 6.79137892e+11 9.99454100e+03\n",
      " 5.24395114e+06 2.56401041e+06 1.70166745e+06 1.59087297e+06\n",
      " 1.70166745e+06 8.02265000e+03]\n"
     ]
    }
   ],
   "source": [
    "similarity_ts= neighbors_k_ts\n",
    "cpd_AD=similarity_ts[0,:]\n",
    "cpd_value = np.round(cpd_AD, 3)\n",
    "print(cpd_value)"
   ]
  },
  {
   "cell_type": "code",
   "execution_count": 54,
   "metadata": {},
   "outputs": [
    {
     "name": "stdout",
     "output_type": "stream",
     "text": [
      "[ True  True  True  True  True  True  True  True  True  True  True  True\n",
      "  True  True  True  True  True  True  True  True  True  True  True  True\n",
      "  True  True  True  True  True  True  True  True  True  True False  True\n",
      "  True  True  True  True  True  True]\n"
     ]
    }
   ],
   "source": [
    "cpd_AD = np.where(cpd_value <= model_AD_limit, True, False)\n",
    "print(cpd_AD)"
   ]
  },
  {
   "cell_type": "code",
   "execution_count": 55,
   "metadata": {},
   "outputs": [
    {
     "name": "stdout",
     "output_type": "stream",
     "text": [
      "Coverage =  0.9761904761904762\n"
     ]
    }
   ],
   "source": [
    "print(\"Coverage = \", sum(cpd_AD) / len(cpd_AD))"
   ]
  },
  {
   "cell_type": "code",
   "execution_count": 56,
   "metadata": {},
   "outputs": [
    {
     "name": "stdout",
     "output_type": "stream",
     "text": [
      "Индексы соединений, вошедших в AD =  [ 0  1  2  3  4  5  6  7  8  9 10 11 12 13 14 15 16 17 18 19 20 21 22 23\n",
      " 24 25 26 27 28 29 30 31 32 33 35 36 37 38 39 40 41]\n"
     ]
    }
   ],
   "source": [
    "print(\"Индексы соединений, вошедших в AD = \", np.where(cpd_AD != 0)[0])"
   ]
  },
  {
   "cell_type": "markdown",
   "metadata": {},
   "source": [
    "# 7. Построение и валидация модели GBM"
   ]
  },
  {
   "cell_type": "markdown",
   "metadata": {},
   "source": [
    "## 7.1. Построение модели GBM"
   ]
  },
  {
   "cell_type": "code",
   "execution_count": 57,
   "metadata": {},
   "outputs": [],
   "source": [
    "param_grid = {\"n_estimators\": [100, 200, 300, 400, 500]}\n",
    "gbm = GridSearchCV(GradientBoostingClassifier(subsample=0.5, max_features=0.5), \n",
    "                   param_grid, n_jobs=2, cv=cv, verbose=1)"
   ]
  },
  {
   "cell_type": "code",
   "execution_count": 58,
   "metadata": {},
   "outputs": [
    {
     "name": "stdout",
     "output_type": "stream",
     "text": [
      "Fitting 5 folds for each of 5 candidates, totalling 25 fits\n"
     ]
    },
    {
     "data": {
      "text/plain": [
       "GridSearchCV(cv=StratifiedKFold(n_splits=5, random_state=42, shuffle=True),\n",
       "             estimator=GradientBoostingClassifier(max_features=0.5,\n",
       "                                                  subsample=0.5),\n",
       "             n_jobs=2, param_grid={'n_estimators': [100, 200, 300, 400, 500]},\n",
       "             verbose=1)"
      ]
     },
     "execution_count": 58,
     "metadata": {},
     "output_type": "execute_result"
    }
   ],
   "source": [
    "gbm.fit(x_tr, y_tr)"
   ]
  },
  {
   "cell_type": "code",
   "execution_count": 59,
   "metadata": {},
   "outputs": [
    {
     "data": {
      "text/plain": [
       "{'n_estimators': 500}"
      ]
     },
     "execution_count": 59,
     "metadata": {},
     "output_type": "execute_result"
    }
   ],
   "source": [
    "gbm.best_params_"
   ]
  },
  {
   "cell_type": "code",
   "execution_count": 60,
   "metadata": {},
   "outputs": [],
   "source": [
    "best_clf_GBM = gbm.best_estimator_"
   ]
  },
  {
   "cell_type": "markdown",
   "metadata": {},
   "source": [
    "## 7.2.  5-fold-cross-validation  модели GBM"
   ]
  },
  {
   "cell_type": "code",
   "execution_count": 61,
   "metadata": {},
   "outputs": [],
   "source": [
    "y_pred_CV_GBM = cross_val_predict(best_clf_GBM, x_tr, y_tr, cv=cv)"
   ]
  },
  {
   "cell_type": "code",
   "execution_count": 62,
   "metadata": {},
   "outputs": [
    {
     "name": "stdout",
     "output_type": "stream",
     "text": [
      "balanced_accuracy =  0.87\n",
      "SE =  0.84\n",
      "SP =  0.89\n",
      "Kappa =  0.73\n"
     ]
    }
   ],
   "source": [
    "confusion_matrix_CV_GBM = metrics.confusion_matrix(y_tr, y_pred_CV_GBM, labels=[0,1])\n",
    "Kappa = metrics.cohen_kappa_score(y_tr, y_pred_CV_GBM, weights='linear')\n",
    "TN, FP, FN, TP = confusion_matrix_CV_GBM.ravel()\n",
    "SE = TP/(TP+FN)\n",
    "SP = TN/(TN+FP)\n",
    "BA = (SE + SP)/2\n",
    "print(\"balanced_accuracy = \", round((BA), 2))\n",
    "print(\"SE = \", round((SE), 2))\n",
    "print(\"SP = \", round((SP), 2))\n",
    "print(\"Kappa = \", round((Kappa), 2))"
   ]
  },
  {
   "cell_type": "code",
   "execution_count": 63,
   "metadata": {},
   "outputs": [],
   "source": [
    "pickle.dump(best_clf_RF, open('HDAC1/Models/RDKit/HDAC1_GBM_RDKit.pkl', 'wb'))"
   ]
  },
  {
   "cell_type": "markdown",
   "metadata": {},
   "source": [
    "## 7.3.Y-randomization для модели GBM"
   ]
  },
  {
   "cell_type": "code",
   "execution_count": 64,
   "metadata": {},
   "outputs": [
    {
     "name": "stderr",
     "output_type": "stream",
     "text": [
      "[Parallel(n_jobs=-1)]: Using backend LokyBackend with 2 concurrent workers.\n"
     ]
    },
    {
     "name": "stdout",
     "output_type": "stream",
     "text": [
      "True score =  0.86 \n",
      "Y-randomization =  0.49 \n",
      "p-value =  0.0476\n"
     ]
    },
    {
     "name": "stderr",
     "output_type": "stream",
     "text": [
      "[Parallel(n_jobs=-1)]: Done  20 out of  20 | elapsed:  1.2min finished\n"
     ]
    }
   ],
   "source": [
    "permutations = 20\n",
    "score, permutation_scores, pvalue = permutation_test_score(best_clf_GBM, x_tr, y_tr,\n",
    "                                                           cv=cv, scoring='balanced_accuracy',\n",
    "                                                           n_permutations=permutations,\n",
    "                                                           n_jobs=-1,\n",
    "                                                           verbose=1,\n",
    "                                                           random_state=24)\n",
    "print('True score = ', score.round(2),\n",
    "      '\\nY-randomization = ', np.mean(permutation_scores).round(2),\n",
    "      '\\np-value = ', pvalue.round(4))"
   ]
  },
  {
   "cell_type": "markdown",
   "metadata": {},
   "source": [
    "## 7.4. Валидация на тестовой выборке для модели GBM"
   ]
  },
  {
   "cell_type": "code",
   "execution_count": 65,
   "metadata": {},
   "outputs": [],
   "source": [
    "y_pred_gbm = best_clf_GBM.predict(x_ts)"
   ]
  },
  {
   "cell_type": "code",
   "execution_count": 66,
   "metadata": {},
   "outputs": [
    {
     "data": {
      "text/plain": [
       "array([1, 1, 0, 1, 1, 1, 1, 1, 1, 1, 1, 1, 1, 1, 0, 0, 1, 1, 1, 1, 0, 1,\n",
       "       0, 0, 0, 0, 0, 0, 0, 0, 0, 0, 0, 0, 1, 0, 0, 0, 0, 0, 0, 0])"
      ]
     },
     "execution_count": 66,
     "metadata": {},
     "output_type": "execute_result"
    }
   ],
   "source": [
    "y_pred_gbm"
   ]
  },
  {
   "cell_type": "code",
   "execution_count": 67,
   "metadata": {},
   "outputs": [
    {
     "name": "stdout",
     "output_type": "stream",
     "text": [
      "balanced_accuracy =  0.81\n",
      "SE =  0.82\n",
      "SP =  0.8\n",
      "Kappa =  0.61\n"
     ]
    }
   ],
   "source": [
    "confusion_matrix_GBM = metrics.confusion_matrix(y_ts, y_pred_gbm, labels=[0,1])\n",
    "Kappa = metrics.cohen_kappa_score(y_ts, y_pred_gbm, weights='linear')\n",
    "TN, FP, FN, TP = confusion_matrix_GBM.ravel()\n",
    "SE = TP/(TP+FN)\n",
    "SP = TN/(TN+FP)\n",
    "BA = (SE + SP)/2\n",
    "print(\"balanced_accuracy = \", round((BA), 2))\n",
    "print(\"SE = \", round((SE), 2))\n",
    "print(\"SP = \", round((SP), 2))\n",
    "print(\"Kappa = \", round((Kappa), 2))"
   ]
  },
  {
   "cell_type": "markdown",
   "metadata": {},
   "source": [
    "# 8. Построение и валидация модели SVM"
   ]
  },
  {
   "cell_type": "markdown",
   "metadata": {},
   "source": [
    "## 8.1. Построение модели SVM"
   ]
  },
  {
   "cell_type": "code",
   "execution_count": 91,
   "metadata": {},
   "outputs": [],
   "source": [
    "scale = StandardScaler().fit(x_tr)\n",
    "x_tr_sc = scale.transform(x_tr)"
   ]
  },
  {
   "cell_type": "code",
   "execution_count": 92,
   "metadata": {},
   "outputs": [
    {
     "data": {
      "text/plain": [
       "['HDAC1/Models/RDKit/HDAC1_ws_for SVM.pkl']"
      ]
     },
     "execution_count": 92,
     "metadata": {},
     "output_type": "execute_result"
    }
   ],
   "source": [
    "joblib.dump(scale, \"HDAC1/Models/RDKit/HDAC1_ws_for SVM.pkl\", compress=3)"
   ]
  },
  {
   "cell_type": "code",
   "execution_count": 93,
   "metadata": {},
   "outputs": [],
   "source": [
    "param_grid = {\"C\": [10 ** i for i in range(0, 5)],\n",
    "              \"gamma\": [10 ** i for i in range(-6, 0)]}"
   ]
  },
  {
   "cell_type": "code",
   "execution_count": 94,
   "metadata": {},
   "outputs": [],
   "source": [
    "svm = GridSearchCV(SVC(kernel='rbf', probability=True), param_grid, n_jobs=2, cv=cv, verbose=1)"
   ]
  },
  {
   "cell_type": "code",
   "execution_count": 95,
   "metadata": {},
   "outputs": [
    {
     "name": "stdout",
     "output_type": "stream",
     "text": [
      "Fitting 5 folds for each of 30 candidates, totalling 150 fits\n"
     ]
    },
    {
     "data": {
      "text/plain": [
       "GridSearchCV(cv=StratifiedKFold(n_splits=5, random_state=42, shuffle=True),\n",
       "             estimator=SVC(probability=True), n_jobs=2,\n",
       "             param_grid={'C': [1, 10, 100, 1000, 10000],\n",
       "                         'gamma': [1e-06, 1e-05, 0.0001, 0.001, 0.01, 0.1]},\n",
       "             verbose=1)"
      ]
     },
     "execution_count": 95,
     "metadata": {},
     "output_type": "execute_result"
    }
   ],
   "source": [
    "svm.fit(x_tr_sc, y_tr)"
   ]
  },
  {
   "cell_type": "code",
   "execution_count": 96,
   "metadata": {},
   "outputs": [],
   "source": [
    "best_clf_SVM = svm.best_estimator_"
   ]
  },
  {
   "cell_type": "markdown",
   "metadata": {},
   "source": [
    "## 8.2. 5-fold-cross-validation модели SVM"
   ]
  },
  {
   "cell_type": "code",
   "execution_count": 99,
   "metadata": {},
   "outputs": [],
   "source": [
    "y_pred_CV_SVM = cross_val_predict(best_clf_SVM, x_tr_sc, y_tr, cv=cv)"
   ]
  },
  {
   "cell_type": "code",
   "execution_count": 100,
   "metadata": {},
   "outputs": [
    {
     "name": "stdout",
     "output_type": "stream",
     "text": [
      "balanced_accuracy =  0.84\n",
      "SE =  0.79\n",
      "SP =  0.89\n",
      "Kappa =  0.68\n"
     ]
    }
   ],
   "source": [
    "confusion_matrix_CV_SVM = metrics.confusion_matrix(y_tr, y_pred_CV_SVM, labels=[0,1])\n",
    "Kappa = metrics.cohen_kappa_score(y_tr, y_pred_CV_SVM, weights='linear')\n",
    "TN, FP, FN, TP = confusion_matrix_CV_SVM.ravel()\n",
    "SE = TP/(TP+FN)\n",
    "SP = TN/(TN+FP)\n",
    "BA = (SE + SP)/2\n",
    "print(\"balanced_accuracy = \", round((BA), 2))\n",
    "print(\"SE = \", round((SE), 2))\n",
    "print(\"SP = \", round((SP), 2))\n",
    "print(\"Kappa = \", round((Kappa), 2))"
   ]
  },
  {
   "cell_type": "code",
   "execution_count": 101,
   "metadata": {},
   "outputs": [],
   "source": [
    "pickle.dump(best_clf_RF, open('HDAC1/Models/RDKit/HDAC1_SVM_RDKit.pkl', 'wb'))"
   ]
  },
  {
   "cell_type": "markdown",
   "metadata": {},
   "source": [
    "## 8.3.Y-randomization для модели SVM"
   ]
  },
  {
   "cell_type": "code",
   "execution_count": 102,
   "metadata": {},
   "outputs": [
    {
     "name": "stderr",
     "output_type": "stream",
     "text": [
      "[Parallel(n_jobs=-1)]: Using backend LokyBackend with 2 concurrent workers.\n"
     ]
    },
    {
     "name": "stdout",
     "output_type": "stream",
     "text": [
      "True score =  0.84 \n",
      "Y-randomization =  0.51 \n",
      "p-value =  0.0476\n"
     ]
    },
    {
     "name": "stderr",
     "output_type": "stream",
     "text": [
      "[Parallel(n_jobs=-1)]: Done  20 out of  20 | elapsed:    2.1s finished\n"
     ]
    }
   ],
   "source": [
    "permutations = 20\n",
    "score, permutation_scores, pvalue = permutation_test_score(best_clf_SVM, x_tr_sc, y_tr,\n",
    "                                                           cv=cv, scoring='balanced_accuracy',\n",
    "                                                           n_permutations=permutations,\n",
    "                                                           n_jobs=-1,\n",
    "                                                           verbose=1,\n",
    "                                                           random_state=24)\n",
    "print('True score = ', score.round(2),\n",
    "      '\\nY-randomization = ', np.mean(permutation_scores).round(2),\n",
    "      '\\np-value = ', pvalue.round(4))"
   ]
  },
  {
   "cell_type": "markdown",
   "metadata": {},
   "source": [
    "## 8.4. Валидация на тестовой выборке для модели SVM"
   ]
  },
  {
   "cell_type": "code",
   "execution_count": 103,
   "metadata": {},
   "outputs": [],
   "source": [
    "scale = joblib.load(\"HDAC1/Models/RDKit/HDAC1_ws_for SVM.pkl\")\n",
    "x_ts_sc = scale.transform(x_ts)"
   ]
  },
  {
   "cell_type": "code",
   "execution_count": 104,
   "metadata": {},
   "outputs": [],
   "source": [
    "y_pred_SVM = best_clf_SVM.predict(x_ts_sc)"
   ]
  },
  {
   "cell_type": "code",
   "execution_count": 105,
   "metadata": {},
   "outputs": [
    {
     "data": {
      "text/plain": [
       "array([0, 1, 0, 1, 1, 1, 1, 1, 0, 1, 1, 1, 1, 1, 0, 0, 0, 1, 1, 1, 0, 0,\n",
       "       0, 0, 0, 0, 0, 0, 0, 0, 0, 0, 0, 0, 0, 0, 0, 0, 0, 0, 0, 0])"
      ]
     },
     "execution_count": 105,
     "metadata": {},
     "output_type": "execute_result"
    }
   ],
   "source": [
    "y_pred_SVM"
   ]
  },
  {
   "cell_type": "code",
   "execution_count": 106,
   "metadata": {},
   "outputs": [
    {
     "name": "stdout",
     "output_type": "stream",
     "text": [
      "balanced_accuracy =  0.76\n",
      "SE =  0.65\n",
      "SP =  0.88\n",
      "Kappa =  0.54\n"
     ]
    }
   ],
   "source": [
    "confusion_matrix_SVM = metrics.confusion_matrix(y_ts, y_pred_SVM, labels=[0,1])\n",
    "Kappa = metrics.cohen_kappa_score(y_ts, y_pred_SVM, weights='linear')\n",
    "TN, FP, FN, TP = confusion_matrix_SVM.ravel()\n",
    "SE = TP/(TP+FN)\n",
    "SP = TN/(TN+FP)\n",
    "BA = (SE + SP)/2\n",
    "print(\"balanced_accuracy = \", round((BA), 2))\n",
    "print(\"SE = \", round((SE), 2))\n",
    "print(\"SP = \", round((SP), 2))\n",
    "print(\"Kappa = \", round((Kappa), 2))"
   ]
  },
  {
   "cell_type": "markdown",
   "metadata": {},
   "source": [
    "# 9. Консенсусное моделирование"
   ]
  },
  {
   "cell_type": "markdown",
   "metadata": {},
   "source": [
    "## 9.1.  5-fold CV"
   ]
  },
  {
   "cell_type": "code",
   "execution_count": 112,
   "metadata": {},
   "outputs": [],
   "source": [
    "y_pred_cv_con = 1 * (((y_pred_CV_RF + y_pred_CV_GBM + y_pred_CV_SVM) / 3) >= 0.5)"
   ]
  },
  {
   "cell_type": "code",
   "execution_count": 113,
   "metadata": {},
   "outputs": [
    {
     "name": "stdout",
     "output_type": "stream",
     "text": [
      "balanced_accuracy =  0.89\n",
      "SE =  0.84\n",
      "SP =  0.93\n",
      "Kappa =  0.78\n"
     ]
    }
   ],
   "source": [
    "confusion_matrix_cv_con = metrics.confusion_matrix(y_tr, y_pred_cv_con, labels=[0,1])\n",
    "Kappa = metrics.cohen_kappa_score(y_tr, y_pred_cv_con, weights='linear')\n",
    "TN, FP, FN, TP = confusion_matrix_cv_con.ravel()\n",
    "SE = TP/(TP+FN)\n",
    "SP = TN/(TN+FP)\n",
    "BA = (SE + SP)/2\n",
    "print(\"balanced_accuracy = \", round((BA), 2))\n",
    "print(\"SE = \", round((SE), 2))\n",
    "print(\"SP = \", round((SP), 2))\n",
    "print(\"Kappa = \", round((Kappa), 2))"
   ]
  },
  {
   "cell_type": "markdown",
   "metadata": {},
   "source": [
    "## 9.2. Test set"
   ]
  },
  {
   "cell_type": "code",
   "execution_count": 114,
   "metadata": {},
   "outputs": [],
   "source": [
    "pred_c = 1 * (((y_pred_rf + y_pred_gbm + y_pred_SVM) / 3) >= 0.5)"
   ]
  },
  {
   "cell_type": "code",
   "execution_count": 115,
   "metadata": {},
   "outputs": [
    {
     "data": {
      "text/plain": [
       "array([1, 1, 0, 1, 1, 1, 1, 1, 1, 1, 1, 1, 1, 1, 0, 0, 1, 1, 1, 1, 0, 1,\n",
       "       0, 0, 0, 0, 0, 0, 0, 0, 0, 0, 0, 0, 0, 0, 0, 0, 0, 0, 0, 0])"
      ]
     },
     "execution_count": 115,
     "metadata": {},
     "output_type": "execute_result"
    }
   ],
   "source": [
    "pred_c"
   ]
  },
  {
   "cell_type": "code",
   "execution_count": 116,
   "metadata": {},
   "outputs": [
    {
     "name": "stdout",
     "output_type": "stream",
     "text": [
      "balanced_accuracy =  0.83\n",
      "SE =  0.82\n",
      "SP =  0.84\n",
      "Kappa =  0.66\n"
     ]
    }
   ],
   "source": [
    "confusion_matrix_GBM = metrics.confusion_matrix(y_ts, pred_c, labels=[0,1])\n",
    "Kappa = metrics.cohen_kappa_score(y_ts, pred_c, weights='linear')\n",
    "TN, FP, FN, TP = confusion_matrix_GBM.ravel()\n",
    "SE = TP/(TP+FN)\n",
    "SP = TN/(TN+FP)\n",
    "BA = (SE + SP)/2\n",
    "print(\"balanced_accuracy = \", round((BA), 2))\n",
    "print(\"SE = \", round((SE), 2))\n",
    "print(\"SP = \", round((SP), 2))\n",
    "print(\"Kappa = \", round((Kappa), 2))"
   ]
  }
 ],
 "metadata": {
  "kernelspec": {
   "display_name": "Python3 (rdkit)",
   "language": "python",
   "name": "my-rdkit-env"
  },
  "language_info": {
   "codemirror_mode": {
    "name": "ipython",
    "version": 3
   },
   "file_extension": ".py",
   "mimetype": "text/x-python",
   "name": "python",
   "nbconvert_exporter": "python",
   "pygments_lexer": "ipython3",
   "version": "3.7.11"
  }
 },
 "nbformat": 4,
 "nbformat_minor": 2
}
