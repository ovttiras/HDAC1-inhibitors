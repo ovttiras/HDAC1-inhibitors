{
  "nbformat": 4,
  "nbformat_minor": 0,
  "metadata": {
    "colab": {
      "provenance": [],
      "authorship_tag": "ABX9TyMpzOvu/S9EHBWc1hSg3AqH",
      "include_colab_link": true
    },
    "kernelspec": {
      "name": "python3",
      "display_name": "Python 3"
    },
    "language_info": {
      "name": "python"
    }
  },
  "cells": [
    {
      "cell_type": "markdown",
      "metadata": {
        "id": "view-in-github",
        "colab_type": "text"
      },
      "source": [
        "<a href=\"https://colab.research.google.com/github/ovttiras/HDAC1-inhibitors/blob/main/%D0%9A%D1%83%D1%80%D1%81_%D0%BF%D0%BE_%D0%BC%D0%B0%D1%88%D0%B8%D0%BD%D0%BD%D0%BE%D0%BC%D1%83_%D0%BE%D0%B1%D1%83%D1%87%D0%B5%D0%BD%D0%B8%D1%8E_%D0%9F%D1%80%D0%BE%D0%B5%D0%BA%D1%82_%C2%AB%D0%98%D0%98_%D0%A1%D1%82%D0%B0%D1%80%D1%82%C2%BB.ipynb\" target=\"_parent\"><img src=\"https://colab.research.google.com/assets/colab-badge.svg\" alt=\"Open In Colab\"/></a>"
      ]
    },
    {
      "cell_type": "code",
      "execution_count": null,
      "metadata": {
        "colab": {
          "base_uri": "https://localhost:8080/",
          "height": 424
        },
        "id": "noRDIOamRkce",
        "outputId": "fbf9847c-034b-4ff5-ec9e-2dbcf4d2d4ae"
      },
      "outputs": [
        {
          "output_type": "execute_result",
          "data": {
            "text/plain": [
              "                          Name  Miles_per_Gallon  Cylinders  Displacement  \\\n",
              "0    chevrolet chevelle malibu              18.0          8         307.0   \n",
              "1            buick skylark 320              15.0          8         350.0   \n",
              "2           plymouth satellite              18.0          8         318.0   \n",
              "3                amc rebel sst              16.0          8         304.0   \n",
              "4                  ford torino              17.0          8         302.0   \n",
              "..                         ...               ...        ...           ...   \n",
              "401            ford mustang gl              27.0          4         140.0   \n",
              "402                  vw pickup              44.0          4          97.0   \n",
              "403              dodge rampage              32.0          4         135.0   \n",
              "404                ford ranger              28.0          4         120.0   \n",
              "405                 chevy s-10              31.0          4         119.0   \n",
              "\n",
              "     Horsepower  Weight_in_lbs  Acceleration       Year  Origin  \n",
              "0         130.0           3504          12.0 1970-01-01     USA  \n",
              "1         165.0           3693          11.5 1970-01-01     USA  \n",
              "2         150.0           3436          11.0 1970-01-01     USA  \n",
              "3         150.0           3433          12.0 1970-01-01     USA  \n",
              "4         140.0           3449          10.5 1970-01-01     USA  \n",
              "..          ...            ...           ...        ...     ...  \n",
              "401        86.0           2790          15.6 1982-01-01     USA  \n",
              "402        52.0           2130          24.6 1982-01-01  Europe  \n",
              "403        84.0           2295          11.6 1982-01-01     USA  \n",
              "404        79.0           2625          18.6 1982-01-01     USA  \n",
              "405        82.0           2720          19.4 1982-01-01     USA  \n",
              "\n",
              "[406 rows x 9 columns]"
            ],
            "text/html": [
              "\n",
              "  <div id=\"df-33eab83b-b489-4827-9540-5f798e076334\">\n",
              "    <div class=\"colab-df-container\">\n",
              "      <div>\n",
              "<style scoped>\n",
              "    .dataframe tbody tr th:only-of-type {\n",
              "        vertical-align: middle;\n",
              "    }\n",
              "\n",
              "    .dataframe tbody tr th {\n",
              "        vertical-align: top;\n",
              "    }\n",
              "\n",
              "    .dataframe thead th {\n",
              "        text-align: right;\n",
              "    }\n",
              "</style>\n",
              "<table border=\"1\" class=\"dataframe\">\n",
              "  <thead>\n",
              "    <tr style=\"text-align: right;\">\n",
              "      <th></th>\n",
              "      <th>Name</th>\n",
              "      <th>Miles_per_Gallon</th>\n",
              "      <th>Cylinders</th>\n",
              "      <th>Displacement</th>\n",
              "      <th>Horsepower</th>\n",
              "      <th>Weight_in_lbs</th>\n",
              "      <th>Acceleration</th>\n",
              "      <th>Year</th>\n",
              "      <th>Origin</th>\n",
              "    </tr>\n",
              "  </thead>\n",
              "  <tbody>\n",
              "    <tr>\n",
              "      <th>0</th>\n",
              "      <td>chevrolet chevelle malibu</td>\n",
              "      <td>18.0</td>\n",
              "      <td>8</td>\n",
              "      <td>307.0</td>\n",
              "      <td>130.0</td>\n",
              "      <td>3504</td>\n",
              "      <td>12.0</td>\n",
              "      <td>1970-01-01</td>\n",
              "      <td>USA</td>\n",
              "    </tr>\n",
              "    <tr>\n",
              "      <th>1</th>\n",
              "      <td>buick skylark 320</td>\n",
              "      <td>15.0</td>\n",
              "      <td>8</td>\n",
              "      <td>350.0</td>\n",
              "      <td>165.0</td>\n",
              "      <td>3693</td>\n",
              "      <td>11.5</td>\n",
              "      <td>1970-01-01</td>\n",
              "      <td>USA</td>\n",
              "    </tr>\n",
              "    <tr>\n",
              "      <th>2</th>\n",
              "      <td>plymouth satellite</td>\n",
              "      <td>18.0</td>\n",
              "      <td>8</td>\n",
              "      <td>318.0</td>\n",
              "      <td>150.0</td>\n",
              "      <td>3436</td>\n",
              "      <td>11.0</td>\n",
              "      <td>1970-01-01</td>\n",
              "      <td>USA</td>\n",
              "    </tr>\n",
              "    <tr>\n",
              "      <th>3</th>\n",
              "      <td>amc rebel sst</td>\n",
              "      <td>16.0</td>\n",
              "      <td>8</td>\n",
              "      <td>304.0</td>\n",
              "      <td>150.0</td>\n",
              "      <td>3433</td>\n",
              "      <td>12.0</td>\n",
              "      <td>1970-01-01</td>\n",
              "      <td>USA</td>\n",
              "    </tr>\n",
              "    <tr>\n",
              "      <th>4</th>\n",
              "      <td>ford torino</td>\n",
              "      <td>17.0</td>\n",
              "      <td>8</td>\n",
              "      <td>302.0</td>\n",
              "      <td>140.0</td>\n",
              "      <td>3449</td>\n",
              "      <td>10.5</td>\n",
              "      <td>1970-01-01</td>\n",
              "      <td>USA</td>\n",
              "    </tr>\n",
              "    <tr>\n",
              "      <th>...</th>\n",
              "      <td>...</td>\n",
              "      <td>...</td>\n",
              "      <td>...</td>\n",
              "      <td>...</td>\n",
              "      <td>...</td>\n",
              "      <td>...</td>\n",
              "      <td>...</td>\n",
              "      <td>...</td>\n",
              "      <td>...</td>\n",
              "    </tr>\n",
              "    <tr>\n",
              "      <th>401</th>\n",
              "      <td>ford mustang gl</td>\n",
              "      <td>27.0</td>\n",
              "      <td>4</td>\n",
              "      <td>140.0</td>\n",
              "      <td>86.0</td>\n",
              "      <td>2790</td>\n",
              "      <td>15.6</td>\n",
              "      <td>1982-01-01</td>\n",
              "      <td>USA</td>\n",
              "    </tr>\n",
              "    <tr>\n",
              "      <th>402</th>\n",
              "      <td>vw pickup</td>\n",
              "      <td>44.0</td>\n",
              "      <td>4</td>\n",
              "      <td>97.0</td>\n",
              "      <td>52.0</td>\n",
              "      <td>2130</td>\n",
              "      <td>24.6</td>\n",
              "      <td>1982-01-01</td>\n",
              "      <td>Europe</td>\n",
              "    </tr>\n",
              "    <tr>\n",
              "      <th>403</th>\n",
              "      <td>dodge rampage</td>\n",
              "      <td>32.0</td>\n",
              "      <td>4</td>\n",
              "      <td>135.0</td>\n",
              "      <td>84.0</td>\n",
              "      <td>2295</td>\n",
              "      <td>11.6</td>\n",
              "      <td>1982-01-01</td>\n",
              "      <td>USA</td>\n",
              "    </tr>\n",
              "    <tr>\n",
              "      <th>404</th>\n",
              "      <td>ford ranger</td>\n",
              "      <td>28.0</td>\n",
              "      <td>4</td>\n",
              "      <td>120.0</td>\n",
              "      <td>79.0</td>\n",
              "      <td>2625</td>\n",
              "      <td>18.6</td>\n",
              "      <td>1982-01-01</td>\n",
              "      <td>USA</td>\n",
              "    </tr>\n",
              "    <tr>\n",
              "      <th>405</th>\n",
              "      <td>chevy s-10</td>\n",
              "      <td>31.0</td>\n",
              "      <td>4</td>\n",
              "      <td>119.0</td>\n",
              "      <td>82.0</td>\n",
              "      <td>2720</td>\n",
              "      <td>19.4</td>\n",
              "      <td>1982-01-01</td>\n",
              "      <td>USA</td>\n",
              "    </tr>\n",
              "  </tbody>\n",
              "</table>\n",
              "<p>406 rows × 9 columns</p>\n",
              "</div>\n",
              "      <button class=\"colab-df-convert\" onclick=\"convertToInteractive('df-33eab83b-b489-4827-9540-5f798e076334')\"\n",
              "              title=\"Convert this dataframe to an interactive table.\"\n",
              "              style=\"display:none;\">\n",
              "        \n",
              "  <svg xmlns=\"http://www.w3.org/2000/svg\" height=\"24px\"viewBox=\"0 0 24 24\"\n",
              "       width=\"24px\">\n",
              "    <path d=\"M0 0h24v24H0V0z\" fill=\"none\"/>\n",
              "    <path d=\"M18.56 5.44l.94 2.06.94-2.06 2.06-.94-2.06-.94-.94-2.06-.94 2.06-2.06.94zm-11 1L8.5 8.5l.94-2.06 2.06-.94-2.06-.94L8.5 2.5l-.94 2.06-2.06.94zm10 10l.94 2.06.94-2.06 2.06-.94-2.06-.94-.94-2.06-.94 2.06-2.06.94z\"/><path d=\"M17.41 7.96l-1.37-1.37c-.4-.4-.92-.59-1.43-.59-.52 0-1.04.2-1.43.59L10.3 9.45l-7.72 7.72c-.78.78-.78 2.05 0 2.83L4 21.41c.39.39.9.59 1.41.59.51 0 1.02-.2 1.41-.59l7.78-7.78 2.81-2.81c.8-.78.8-2.07 0-2.86zM5.41 20L4 18.59l7.72-7.72 1.47 1.35L5.41 20z\"/>\n",
              "  </svg>\n",
              "      </button>\n",
              "      \n",
              "  <style>\n",
              "    .colab-df-container {\n",
              "      display:flex;\n",
              "      flex-wrap:wrap;\n",
              "      gap: 12px;\n",
              "    }\n",
              "\n",
              "    .colab-df-convert {\n",
              "      background-color: #E8F0FE;\n",
              "      border: none;\n",
              "      border-radius: 50%;\n",
              "      cursor: pointer;\n",
              "      display: none;\n",
              "      fill: #1967D2;\n",
              "      height: 32px;\n",
              "      padding: 0 0 0 0;\n",
              "      width: 32px;\n",
              "    }\n",
              "\n",
              "    .colab-df-convert:hover {\n",
              "      background-color: #E2EBFA;\n",
              "      box-shadow: 0px 1px 2px rgba(60, 64, 67, 0.3), 0px 1px 3px 1px rgba(60, 64, 67, 0.15);\n",
              "      fill: #174EA6;\n",
              "    }\n",
              "\n",
              "    [theme=dark] .colab-df-convert {\n",
              "      background-color: #3B4455;\n",
              "      fill: #D2E3FC;\n",
              "    }\n",
              "\n",
              "    [theme=dark] .colab-df-convert:hover {\n",
              "      background-color: #434B5C;\n",
              "      box-shadow: 0px 1px 3px 1px rgba(0, 0, 0, 0.15);\n",
              "      filter: drop-shadow(0px 1px 2px rgba(0, 0, 0, 0.3));\n",
              "      fill: #FFFFFF;\n",
              "    }\n",
              "  </style>\n",
              "\n",
              "      <script>\n",
              "        const buttonEl =\n",
              "          document.querySelector('#df-33eab83b-b489-4827-9540-5f798e076334 button.colab-df-convert');\n",
              "        buttonEl.style.display =\n",
              "          google.colab.kernel.accessAllowed ? 'block' : 'none';\n",
              "\n",
              "        async function convertToInteractive(key) {\n",
              "          const element = document.querySelector('#df-33eab83b-b489-4827-9540-5f798e076334');\n",
              "          const dataTable =\n",
              "            await google.colab.kernel.invokeFunction('convertToInteractive',\n",
              "                                                     [key], {});\n",
              "          if (!dataTable) return;\n",
              "\n",
              "          const docLinkHtml = 'Like what you see? Visit the ' +\n",
              "            '<a target=\"_blank\" href=https://colab.research.google.com/notebooks/data_table.ipynb>data table notebook</a>'\n",
              "            + ' to learn more about interactive tables.';\n",
              "          element.innerHTML = '';\n",
              "          dataTable['output_type'] = 'display_data';\n",
              "          await google.colab.output.renderOutput(dataTable, element);\n",
              "          const docLink = document.createElement('div');\n",
              "          docLink.innerHTML = docLinkHtml;\n",
              "          element.appendChild(docLink);\n",
              "        }\n",
              "      </script>\n",
              "    </div>\n",
              "  </div>\n",
              "  "
            ]
          },
          "metadata": {},
          "execution_count": 11
        }
      ],
      "source": [
        "from google.colab import data_table\n",
        "from vega_datasets import data\n",
        "cars = data.cars()\n",
        "cars"
      ]
    },
    {
      "cell_type": "code",
      "source": [
        "data_table.enable_dataframe_formatter()"
      ],
      "metadata": {
        "id": "H8zIAgmxUytO"
      },
      "execution_count": null,
      "outputs": []
    },
    {
      "cell_type": "code",
      "source": [],
      "metadata": {
        "id": "r7cgtHF7Ux0y"
      },
      "execution_count": null,
      "outputs": []
    },
    {
      "cell_type": "code",
      "source": [
        "df=cars[cars['Miles_per_Gallon']>=20]\n",
        "df"
      ],
      "metadata": {
        "colab": {
          "base_uri": "https://localhost:8080/",
          "height": 359
        },
        "id": "vpntqFU4SPMh",
        "outputId": "7277dca3-03fe-4690-ab99-56dfd1b7ddd0"
      },
      "execution_count": null,
      "outputs": [
        {
          "output_type": "execute_result",
          "data": {
            "text/plain": [
              "                             Name  Miles_per_Gallon  Cylinders  Displacement  \\\n",
              "20          toyota corona mark ii              24.0          4         113.0   \n",
              "21                plymouth duster              22.0          6         198.0   \n",
              "23                  ford maverick              21.0          6         200.0   \n",
              "24                   datsun pl510              27.0          4          97.0   \n",
              "25   volkswagen 1131 deluxe sedan              26.0          4          97.0   \n",
              "..                            ...               ...        ...           ...   \n",
              "401               ford mustang gl              27.0          4         140.0   \n",
              "402                     vw pickup              44.0          4          97.0   \n",
              "403                 dodge rampage              32.0          4         135.0   \n",
              "404                   ford ranger              28.0          4         120.0   \n",
              "405                    chevy s-10              31.0          4         119.0   \n",
              "\n",
              "     Horsepower  Weight_in_lbs  Acceleration       Year  Origin  \n",
              "20         95.0           2372          15.0 1970-01-01   Japan  \n",
              "21         95.0           2833          15.5 1970-01-01     USA  \n",
              "23         85.0           2587          16.0 1970-01-01     USA  \n",
              "24         88.0           2130          14.5 1970-01-01   Japan  \n",
              "25         46.0           1835          20.5 1970-01-01  Europe  \n",
              "..          ...            ...           ...        ...     ...  \n",
              "401        86.0           2790          15.6 1982-01-01     USA  \n",
              "402        52.0           2130          24.6 1982-01-01  Europe  \n",
              "403        84.0           2295          11.6 1982-01-01     USA  \n",
              "404        79.0           2625          18.6 1982-01-01     USA  \n",
              "405        82.0           2720          19.4 1982-01-01     USA  \n",
              "\n",
              "[247 rows x 9 columns]"
            ],
            "text/html": [
              "\n",
              "  <div id=\"df-a2cde1ea-d2bf-4502-82dc-9282069f9fd1\">\n",
              "    <div class=\"colab-df-container\">\n",
              "      <div>\n",
              "<style scoped>\n",
              "    .dataframe tbody tr th:only-of-type {\n",
              "        vertical-align: middle;\n",
              "    }\n",
              "\n",
              "    .dataframe tbody tr th {\n",
              "        vertical-align: top;\n",
              "    }\n",
              "\n",
              "    .dataframe thead th {\n",
              "        text-align: right;\n",
              "    }\n",
              "</style>\n",
              "<table border=\"1\" class=\"dataframe\">\n",
              "  <thead>\n",
              "    <tr style=\"text-align: right;\">\n",
              "      <th></th>\n",
              "      <th>Name</th>\n",
              "      <th>Miles_per_Gallon</th>\n",
              "      <th>Cylinders</th>\n",
              "      <th>Displacement</th>\n",
              "      <th>Horsepower</th>\n",
              "      <th>Weight_in_lbs</th>\n",
              "      <th>Acceleration</th>\n",
              "      <th>Year</th>\n",
              "      <th>Origin</th>\n",
              "    </tr>\n",
              "  </thead>\n",
              "  <tbody>\n",
              "    <tr>\n",
              "      <th>20</th>\n",
              "      <td>toyota corona mark ii</td>\n",
              "      <td>24.0</td>\n",
              "      <td>4</td>\n",
              "      <td>113.0</td>\n",
              "      <td>95.0</td>\n",
              "      <td>2372</td>\n",
              "      <td>15.0</td>\n",
              "      <td>1970-01-01</td>\n",
              "      <td>Japan</td>\n",
              "    </tr>\n",
              "    <tr>\n",
              "      <th>21</th>\n",
              "      <td>plymouth duster</td>\n",
              "      <td>22.0</td>\n",
              "      <td>6</td>\n",
              "      <td>198.0</td>\n",
              "      <td>95.0</td>\n",
              "      <td>2833</td>\n",
              "      <td>15.5</td>\n",
              "      <td>1970-01-01</td>\n",
              "      <td>USA</td>\n",
              "    </tr>\n",
              "    <tr>\n",
              "      <th>23</th>\n",
              "      <td>ford maverick</td>\n",
              "      <td>21.0</td>\n",
              "      <td>6</td>\n",
              "      <td>200.0</td>\n",
              "      <td>85.0</td>\n",
              "      <td>2587</td>\n",
              "      <td>16.0</td>\n",
              "      <td>1970-01-01</td>\n",
              "      <td>USA</td>\n",
              "    </tr>\n",
              "    <tr>\n",
              "      <th>24</th>\n",
              "      <td>datsun pl510</td>\n",
              "      <td>27.0</td>\n",
              "      <td>4</td>\n",
              "      <td>97.0</td>\n",
              "      <td>88.0</td>\n",
              "      <td>2130</td>\n",
              "      <td>14.5</td>\n",
              "      <td>1970-01-01</td>\n",
              "      <td>Japan</td>\n",
              "    </tr>\n",
              "    <tr>\n",
              "      <th>25</th>\n",
              "      <td>volkswagen 1131 deluxe sedan</td>\n",
              "      <td>26.0</td>\n",
              "      <td>4</td>\n",
              "      <td>97.0</td>\n",
              "      <td>46.0</td>\n",
              "      <td>1835</td>\n",
              "      <td>20.5</td>\n",
              "      <td>1970-01-01</td>\n",
              "      <td>Europe</td>\n",
              "    </tr>\n",
              "    <tr>\n",
              "      <th>...</th>\n",
              "      <td>...</td>\n",
              "      <td>...</td>\n",
              "      <td>...</td>\n",
              "      <td>...</td>\n",
              "      <td>...</td>\n",
              "      <td>...</td>\n",
              "      <td>...</td>\n",
              "      <td>...</td>\n",
              "      <td>...</td>\n",
              "    </tr>\n",
              "    <tr>\n",
              "      <th>401</th>\n",
              "      <td>ford mustang gl</td>\n",
              "      <td>27.0</td>\n",
              "      <td>4</td>\n",
              "      <td>140.0</td>\n",
              "      <td>86.0</td>\n",
              "      <td>2790</td>\n",
              "      <td>15.6</td>\n",
              "      <td>1982-01-01</td>\n",
              "      <td>USA</td>\n",
              "    </tr>\n",
              "    <tr>\n",
              "      <th>402</th>\n",
              "      <td>vw pickup</td>\n",
              "      <td>44.0</td>\n",
              "      <td>4</td>\n",
              "      <td>97.0</td>\n",
              "      <td>52.0</td>\n",
              "      <td>2130</td>\n",
              "      <td>24.6</td>\n",
              "      <td>1982-01-01</td>\n",
              "      <td>Europe</td>\n",
              "    </tr>\n",
              "    <tr>\n",
              "      <th>403</th>\n",
              "      <td>dodge rampage</td>\n",
              "      <td>32.0</td>\n",
              "      <td>4</td>\n",
              "      <td>135.0</td>\n",
              "      <td>84.0</td>\n",
              "      <td>2295</td>\n",
              "      <td>11.6</td>\n",
              "      <td>1982-01-01</td>\n",
              "      <td>USA</td>\n",
              "    </tr>\n",
              "    <tr>\n",
              "      <th>404</th>\n",
              "      <td>ford ranger</td>\n",
              "      <td>28.0</td>\n",
              "      <td>4</td>\n",
              "      <td>120.0</td>\n",
              "      <td>79.0</td>\n",
              "      <td>2625</td>\n",
              "      <td>18.6</td>\n",
              "      <td>1982-01-01</td>\n",
              "      <td>USA</td>\n",
              "    </tr>\n",
              "    <tr>\n",
              "      <th>405</th>\n",
              "      <td>chevy s-10</td>\n",
              "      <td>31.0</td>\n",
              "      <td>4</td>\n",
              "      <td>119.0</td>\n",
              "      <td>82.0</td>\n",
              "      <td>2720</td>\n",
              "      <td>19.4</td>\n",
              "      <td>1982-01-01</td>\n",
              "      <td>USA</td>\n",
              "    </tr>\n",
              "  </tbody>\n",
              "</table>\n",
              "<p>247 rows × 9 columns</p>\n",
              "</div>\n",
              "      <button class=\"colab-df-convert\" onclick=\"convertToInteractive('df-a2cde1ea-d2bf-4502-82dc-9282069f9fd1')\"\n",
              "              title=\"Convert this dataframe to an interactive table.\"\n",
              "              style=\"display:none;\">\n",
              "        \n",
              "  <svg xmlns=\"http://www.w3.org/2000/svg\" height=\"24px\"viewBox=\"0 0 24 24\"\n",
              "       width=\"24px\">\n",
              "    <path d=\"M0 0h24v24H0V0z\" fill=\"none\"/>\n",
              "    <path d=\"M18.56 5.44l.94 2.06.94-2.06 2.06-.94-2.06-.94-.94-2.06-.94 2.06-2.06.94zm-11 1L8.5 8.5l.94-2.06 2.06-.94-2.06-.94L8.5 2.5l-.94 2.06-2.06.94zm10 10l.94 2.06.94-2.06 2.06-.94-2.06-.94-.94-2.06-.94 2.06-2.06.94z\"/><path d=\"M17.41 7.96l-1.37-1.37c-.4-.4-.92-.59-1.43-.59-.52 0-1.04.2-1.43.59L10.3 9.45l-7.72 7.72c-.78.78-.78 2.05 0 2.83L4 21.41c.39.39.9.59 1.41.59.51 0 1.02-.2 1.41-.59l7.78-7.78 2.81-2.81c.8-.78.8-2.07 0-2.86zM5.41 20L4 18.59l7.72-7.72 1.47 1.35L5.41 20z\"/>\n",
              "  </svg>\n",
              "      </button>\n",
              "      \n",
              "  <style>\n",
              "    .colab-df-container {\n",
              "      display:flex;\n",
              "      flex-wrap:wrap;\n",
              "      gap: 12px;\n",
              "    }\n",
              "\n",
              "    .colab-df-convert {\n",
              "      background-color: #E8F0FE;\n",
              "      border: none;\n",
              "      border-radius: 50%;\n",
              "      cursor: pointer;\n",
              "      display: none;\n",
              "      fill: #1967D2;\n",
              "      height: 32px;\n",
              "      padding: 0 0 0 0;\n",
              "      width: 32px;\n",
              "    }\n",
              "\n",
              "    .colab-df-convert:hover {\n",
              "      background-color: #E2EBFA;\n",
              "      box-shadow: 0px 1px 2px rgba(60, 64, 67, 0.3), 0px 1px 3px 1px rgba(60, 64, 67, 0.15);\n",
              "      fill: #174EA6;\n",
              "    }\n",
              "\n",
              "    [theme=dark] .colab-df-convert {\n",
              "      background-color: #3B4455;\n",
              "      fill: #D2E3FC;\n",
              "    }\n",
              "\n",
              "    [theme=dark] .colab-df-convert:hover {\n",
              "      background-color: #434B5C;\n",
              "      box-shadow: 0px 1px 3px 1px rgba(0, 0, 0, 0.15);\n",
              "      filter: drop-shadow(0px 1px 2px rgba(0, 0, 0, 0.3));\n",
              "      fill: #FFFFFF;\n",
              "    }\n",
              "  </style>\n",
              "\n",
              "      <script>\n",
              "        const buttonEl =\n",
              "          document.querySelector('#df-a2cde1ea-d2bf-4502-82dc-9282069f9fd1 button.colab-df-convert');\n",
              "        buttonEl.style.display =\n",
              "          google.colab.kernel.accessAllowed ? 'block' : 'none';\n",
              "\n",
              "        async function convertToInteractive(key) {\n",
              "          const element = document.querySelector('#df-a2cde1ea-d2bf-4502-82dc-9282069f9fd1');\n",
              "          const dataTable =\n",
              "            await google.colab.kernel.invokeFunction('convertToInteractive',\n",
              "                                                     [key], {});\n",
              "          if (!dataTable) return;\n",
              "\n",
              "          const docLinkHtml = 'Like what you see? Visit the ' +\n",
              "            '<a target=\"_blank\" href=https://colab.research.google.com/notebooks/data_table.ipynb>data table notebook</a>'\n",
              "            + ' to learn more about interactive tables.';\n",
              "          element.innerHTML = '';\n",
              "          dataTable['output_type'] = 'display_data';\n",
              "          await google.colab.output.renderOutput(dataTable, element);\n",
              "          const docLink = document.createElement('div');\n",
              "          docLink.innerHTML = docLinkHtml;\n",
              "          element.appendChild(docLink);\n",
              "        }\n",
              "      </script>\n",
              "    </div>\n",
              "  </div>\n",
              "  "
            ],
            "application/vnd.google.colaboratory.module+javascript": "\n      import \"https://ssl.gstatic.com/colaboratory/data_table/fb998edc550c7947/data_table.js\";\n\n      window.createDataTable({\n        data: [[{\n            'v': 20,\n            'f': \"20\",\n        },\n\"toyota corona mark ii\",\n{\n            'v': 24.0,\n            'f': \"24.0\",\n        },\n{\n            'v': 4,\n            'f': \"4\",\n        },\n{\n            'v': 113.0,\n            'f': \"113.0\",\n        },\n{\n            'v': 95.0,\n            'f': \"95.0\",\n        },\n{\n            'v': 2372,\n            'f': \"2372\",\n        },\n{\n            'v': 15.0,\n            'f': \"15.0\",\n        },\n\"1970-01-01 00:00:00\",\n\"Japan\"],\n [{\n            'v': 21,\n            'f': \"21\",\n        },\n\"plymouth duster\",\n{\n            'v': 22.0,\n            'f': \"22.0\",\n        },\n{\n            'v': 6,\n            'f': \"6\",\n        },\n{\n            'v': 198.0,\n            'f': \"198.0\",\n        },\n{\n            'v': 95.0,\n            'f': \"95.0\",\n        },\n{\n            'v': 2833,\n            'f': \"2833\",\n        },\n{\n            'v': 15.5,\n            'f': \"15.5\",\n        },\n\"1970-01-01 00:00:00\",\n\"USA\"],\n [{\n            'v': 23,\n            'f': \"23\",\n        },\n\"ford maverick\",\n{\n            'v': 21.0,\n            'f': \"21.0\",\n        },\n{\n            'v': 6,\n            'f': \"6\",\n        },\n{\n            'v': 200.0,\n            'f': \"200.0\",\n        },\n{\n            'v': 85.0,\n            'f': \"85.0\",\n        },\n{\n            'v': 2587,\n            'f': \"2587\",\n        },\n{\n            'v': 16.0,\n            'f': \"16.0\",\n        },\n\"1970-01-01 00:00:00\",\n\"USA\"],\n [{\n            'v': 24,\n            'f': \"24\",\n        },\n\"datsun pl510\",\n{\n            'v': 27.0,\n            'f': \"27.0\",\n        },\n{\n            'v': 4,\n            'f': \"4\",\n        },\n{\n            'v': 97.0,\n            'f': \"97.0\",\n        },\n{\n            'v': 88.0,\n            'f': \"88.0\",\n        },\n{\n            'v': 2130,\n            'f': \"2130\",\n        },\n{\n            'v': 14.5,\n            'f': \"14.5\",\n        },\n\"1970-01-01 00:00:00\",\n\"Japan\"],\n [{\n            'v': 25,\n            'f': \"25\",\n        },\n\"volkswagen 1131 deluxe sedan\",\n{\n            'v': 26.0,\n            'f': \"26.0\",\n        },\n{\n            'v': 4,\n            'f': \"4\",\n        },\n{\n            'v': 97.0,\n            'f': \"97.0\",\n        },\n{\n            'v': 46.0,\n            'f': \"46.0\",\n        },\n{\n            'v': 1835,\n            'f': \"1835\",\n        },\n{\n            'v': 20.5,\n            'f': \"20.5\",\n        },\n\"1970-01-01 00:00:00\",\n\"Europe\"],\n [{\n            'v': 26,\n            'f': \"26\",\n        },\n\"peugeot 504\",\n{\n            'v': 25.0,\n            'f': \"25.0\",\n        },\n{\n            'v': 4,\n            'f': \"4\",\n        },\n{\n            'v': 110.0,\n            'f': \"110.0\",\n        },\n{\n            'v': 87.0,\n            'f': \"87.0\",\n        },\n{\n            'v': 2672,\n            'f': \"2672\",\n        },\n{\n            'v': 17.5,\n            'f': \"17.5\",\n        },\n\"1970-01-01 00:00:00\",\n\"Europe\"],\n [{\n            'v': 27,\n            'f': \"27\",\n        },\n\"audi 100 ls\",\n{\n            'v': 24.0,\n            'f': \"24.0\",\n        },\n{\n            'v': 4,\n            'f': \"4\",\n        },\n{\n            'v': 107.0,\n            'f': \"107.0\",\n        },\n{\n            'v': 90.0,\n            'f': \"90.0\",\n        },\n{\n            'v': 2430,\n            'f': \"2430\",\n        },\n{\n            'v': 14.5,\n            'f': \"14.5\",\n        },\n\"1970-01-01 00:00:00\",\n\"Europe\"],\n [{\n            'v': 28,\n            'f': \"28\",\n        },\n\"saab 99e\",\n{\n            'v': 25.0,\n            'f': \"25.0\",\n        },\n{\n            'v': 4,\n            'f': \"4\",\n        },\n{\n            'v': 104.0,\n            'f': \"104.0\",\n        },\n{\n            'v': 95.0,\n            'f': \"95.0\",\n        },\n{\n            'v': 2375,\n            'f': \"2375\",\n        },\n{\n            'v': 17.5,\n            'f': \"17.5\",\n        },\n\"1970-01-01 00:00:00\",\n\"Europe\"],\n [{\n            'v': 29,\n            'f': \"29\",\n        },\n\"bmw 2002\",\n{\n            'v': 26.0,\n            'f': \"26.0\",\n        },\n{\n            'v': 4,\n            'f': \"4\",\n        },\n{\n            'v': 121.0,\n            'f': \"121.0\",\n        },\n{\n            'v': 113.0,\n            'f': \"113.0\",\n        },\n{\n            'v': 2234,\n            'f': \"2234\",\n        },\n{\n            'v': 12.5,\n            'f': \"12.5\",\n        },\n\"1970-01-01 00:00:00\",\n\"Europe\"],\n [{\n            'v': 30,\n            'f': \"30\",\n        },\n\"amc gremlin\",\n{\n            'v': 21.0,\n            'f': \"21.0\",\n        },\n{\n            'v': 6,\n            'f': \"6\",\n        },\n{\n            'v': 199.0,\n            'f': \"199.0\",\n        },\n{\n            'v': 90.0,\n            'f': \"90.0\",\n        },\n{\n            'v': 2648,\n            'f': \"2648\",\n        },\n{\n            'v': 15.0,\n            'f': \"15.0\",\n        },\n\"1970-01-01 00:00:00\",\n\"USA\"],\n [{\n            'v': 35,\n            'f': \"35\",\n        },\n\"datsun pl510\",\n{\n            'v': 27.0,\n            'f': \"27.0\",\n        },\n{\n            'v': 4,\n            'f': \"4\",\n        },\n{\n            'v': 97.0,\n            'f': \"97.0\",\n        },\n{\n            'v': 88.0,\n            'f': \"88.0\",\n        },\n{\n            'v': 2130,\n            'f': \"2130\",\n        },\n{\n            'v': 14.5,\n            'f': \"14.5\",\n        },\n\"1971-01-01 00:00:00\",\n\"Japan\"],\n [{\n            'v': 36,\n            'f': \"36\",\n        },\n\"chevrolet vega 2300\",\n{\n            'v': 28.0,\n            'f': \"28.0\",\n        },\n{\n            'v': 4,\n            'f': \"4\",\n        },\n{\n            'v': 140.0,\n            'f': \"140.0\",\n        },\n{\n            'v': 90.0,\n            'f': \"90.0\",\n        },\n{\n            'v': 2264,\n            'f': \"2264\",\n        },\n{\n            'v': 15.5,\n            'f': \"15.5\",\n        },\n\"1971-01-01 00:00:00\",\n\"USA\"],\n [{\n            'v': 37,\n            'f': \"37\",\n        },\n\"toyota corona\",\n{\n            'v': 25.0,\n            'f': \"25.0\",\n        },\n{\n            'v': 4,\n            'f': \"4\",\n        },\n{\n            'v': 113.0,\n            'f': \"113.0\",\n        },\n{\n            'v': 95.0,\n            'f': \"95.0\",\n        },\n{\n            'v': 2228,\n            'f': \"2228\",\n        },\n{\n            'v': 14.0,\n            'f': \"14.0\",\n        },\n\"1971-01-01 00:00:00\",\n\"Japan\"],\n [{\n            'v': 38,\n            'f': \"38\",\n        },\n\"ford pinto\",\n{\n            'v': 25.0,\n            'f': \"25.0\",\n        },\n{\n            'v': 4,\n            'f': \"4\",\n        },\n{\n            'v': 98.0,\n            'f': \"98.0\",\n        },\n{\n            'v': NaN,\n            'f': \"NaN\",\n        },\n{\n            'v': 2046,\n            'f': \"2046\",\n        },\n{\n            'v': 19.0,\n            'f': \"19.0\",\n        },\n\"1971-01-01 00:00:00\",\n\"USA\"],\n [{\n            'v': 53,\n            'f': \"53\",\n        },\n\"chevrolet vega (sw)\",\n{\n            'v': 22.0,\n            'f': \"22.0\",\n        },\n{\n            'v': 4,\n            'f': \"4\",\n        },\n{\n            'v': 140.0,\n            'f': \"140.0\",\n        },\n{\n            'v': 72.0,\n            'f': \"72.0\",\n        },\n{\n            'v': 2408,\n            'f': \"2408\",\n        },\n{\n            'v': 19.0,\n            'f': \"19.0\",\n        },\n\"1971-01-01 00:00:00\",\n\"USA\"],\n [{\n            'v': 56,\n            'f': \"56\",\n        },\n\"mercury capri 2000\",\n{\n            'v': 23.0,\n            'f': \"23.0\",\n        },\n{\n            'v': 4,\n            'f': \"4\",\n        },\n{\n            'v': 122.0,\n            'f': \"122.0\",\n        },\n{\n            'v': 86.0,\n            'f': \"86.0\",\n        },\n{\n            'v': 2220,\n            'f': \"2220\",\n        },\n{\n            'v': 14.0,\n            'f': \"14.0\",\n        },\n\"1971-01-01 00:00:00\",\n\"USA\"],\n [{\n            'v': 57,\n            'f': \"57\",\n        },\n\"opel 1900\",\n{\n            'v': 28.0,\n            'f': \"28.0\",\n        },\n{\n            'v': 4,\n            'f': \"4\",\n        },\n{\n            'v': 116.0,\n            'f': \"116.0\",\n        },\n{\n            'v': 90.0,\n            'f': \"90.0\",\n        },\n{\n            'v': 2123,\n            'f': \"2123\",\n        },\n{\n            'v': 14.0,\n            'f': \"14.0\",\n        },\n\"1971-01-01 00:00:00\",\n\"Europe\"],\n [{\n            'v': 58,\n            'f': \"58\",\n        },\n\"peugeot 304\",\n{\n            'v': 30.0,\n            'f': \"30.0\",\n        },\n{\n            'v': 4,\n            'f': \"4\",\n        },\n{\n            'v': 79.0,\n            'f': \"79.0\",\n        },\n{\n            'v': 70.0,\n            'f': \"70.0\",\n        },\n{\n            'v': 2074,\n            'f': \"2074\",\n        },\n{\n            'v': 19.5,\n            'f': \"19.5\",\n        },\n\"1971-01-01 00:00:00\",\n\"Europe\"],\n [{\n            'v': 59,\n            'f': \"59\",\n        },\n\"fiat 124b\",\n{\n            'v': 30.0,\n            'f': \"30.0\",\n        },\n{\n            'v': 4,\n            'f': \"4\",\n        },\n{\n            'v': 88.0,\n            'f': \"88.0\",\n        },\n{\n            'v': 76.0,\n            'f': \"76.0\",\n        },\n{\n            'v': 2065,\n            'f': \"2065\",\n        },\n{\n            'v': 14.5,\n            'f': \"14.5\",\n        },\n\"1971-01-01 00:00:00\",\n\"Europe\"],\n [{\n            'v': 60,\n            'f': \"60\",\n        },\n\"toyota corolla 1200\",\n{\n            'v': 31.0,\n            'f': \"31.0\",\n        },\n{\n            'v': 4,\n            'f': \"4\",\n        },\n{\n            'v': 71.0,\n            'f': \"71.0\",\n        },\n{\n            'v': 65.0,\n            'f': \"65.0\",\n        },\n{\n            'v': 1773,\n            'f': \"1773\",\n        },\n{\n            'v': 19.0,\n            'f': \"19.0\",\n        },\n\"1971-01-01 00:00:00\",\n\"Japan\"],\n [{\n            'v': 61,\n            'f': \"61\",\n        },\n\"datsun 1200\",\n{\n            'v': 35.0,\n            'f': \"35.0\",\n        },\n{\n            'v': 4,\n            'f': \"4\",\n        },\n{\n            'v': 72.0,\n            'f': \"72.0\",\n        },\n{\n            'v': 69.0,\n            'f': \"69.0\",\n        },\n{\n            'v': 1613,\n            'f': \"1613\",\n        },\n{\n            'v': 18.0,\n            'f': \"18.0\",\n        },\n\"1971-01-01 00:00:00\",\n\"Japan\"],\n [{\n            'v': 62,\n            'f': \"62\",\n        },\n\"volkswagen model 111\",\n{\n            'v': 27.0,\n            'f': \"27.0\",\n        },\n{\n            'v': 4,\n            'f': \"4\",\n        },\n{\n            'v': 97.0,\n            'f': \"97.0\",\n        },\n{\n            'v': 60.0,\n            'f': \"60.0\",\n        },\n{\n            'v': 1834,\n            'f': \"1834\",\n        },\n{\n            'v': 19.0,\n            'f': \"19.0\",\n        },\n\"1971-01-01 00:00:00\",\n\"Europe\"],\n [{\n            'v': 63,\n            'f': \"63\",\n        },\n\"plymouth cricket\",\n{\n            'v': 26.0,\n            'f': \"26.0\",\n        },\n{\n            'v': 4,\n            'f': \"4\",\n        },\n{\n            'v': 91.0,\n            'f': \"91.0\",\n        },\n{\n            'v': 70.0,\n            'f': \"70.0\",\n        },\n{\n            'v': 1955,\n            'f': \"1955\",\n        },\n{\n            'v': 20.5,\n            'f': \"20.5\",\n        },\n\"1971-01-01 00:00:00\",\n\"USA\"],\n [{\n            'v': 64,\n            'f': \"64\",\n        },\n\"toyota corona hardtop\",\n{\n            'v': 24.0,\n            'f': \"24.0\",\n        },\n{\n            'v': 4,\n            'f': \"4\",\n        },\n{\n            'v': 113.0,\n            'f': \"113.0\",\n        },\n{\n            'v': 95.0,\n            'f': \"95.0\",\n        },\n{\n            'v': 2278,\n            'f': \"2278\",\n        },\n{\n            'v': 15.5,\n            'f': \"15.5\",\n        },\n\"1972-01-01 00:00:00\",\n\"Japan\"],\n [{\n            'v': 65,\n            'f': \"65\",\n        },\n\"dodge colt hardtop\",\n{\n            'v': 25.0,\n            'f': \"25.0\",\n        },\n{\n            'v': 4,\n            'f': \"4\",\n        },\n{\n            'v': 97.5,\n            'f': \"97.5\",\n        },\n{\n            'v': 80.0,\n            'f': \"80.0\",\n        },\n{\n            'v': 2126,\n            'f': \"2126\",\n        },\n{\n            'v': 17.0,\n            'f': \"17.0\",\n        },\n\"1972-01-01 00:00:00\",\n\"USA\"],\n [{\n            'v': 66,\n            'f': \"66\",\n        },\n\"volkswagen type 3\",\n{\n            'v': 23.0,\n            'f': \"23.0\",\n        },\n{\n            'v': 4,\n            'f': \"4\",\n        },\n{\n            'v': 97.0,\n            'f': \"97.0\",\n        },\n{\n            'v': 54.0,\n            'f': \"54.0\",\n        },\n{\n            'v': 2254,\n            'f': \"2254\",\n        },\n{\n            'v': 23.5,\n            'f': \"23.5\",\n        },\n\"1972-01-01 00:00:00\",\n\"Europe\"],\n [{\n            'v': 67,\n            'f': \"67\",\n        },\n\"chevrolet vega\",\n{\n            'v': 20.0,\n            'f': \"20.0\",\n        },\n{\n            'v': 4,\n            'f': \"4\",\n        },\n{\n            'v': 140.0,\n            'f': \"140.0\",\n        },\n{\n            'v': 90.0,\n            'f': \"90.0\",\n        },\n{\n            'v': 2408,\n            'f': \"2408\",\n        },\n{\n            'v': 19.5,\n            'f': \"19.5\",\n        },\n\"1972-01-01 00:00:00\",\n\"USA\"],\n [{\n            'v': 68,\n            'f': \"68\",\n        },\n\"ford pinto runabout\",\n{\n            'v': 21.0,\n            'f': \"21.0\",\n        },\n{\n            'v': 4,\n            'f': \"4\",\n        },\n{\n            'v': 122.0,\n            'f': \"122.0\",\n        },\n{\n            'v': 86.0,\n            'f': \"86.0\",\n        },\n{\n            'v': 2226,\n            'f': \"2226\",\n        },\n{\n            'v': 16.5,\n            'f': \"16.5\",\n        },\n\"1972-01-01 00:00:00\",\n\"USA\"],\n [{\n            'v': 84,\n            'f': \"84\",\n        },\n\"volkswagen 411 (sw)\",\n{\n            'v': 22.0,\n            'f': \"22.0\",\n        },\n{\n            'v': 4,\n            'f': \"4\",\n        },\n{\n            'v': 121.0,\n            'f': \"121.0\",\n        },\n{\n            'v': 76.0,\n            'f': \"76.0\",\n        },\n{\n            'v': 2511,\n            'f': \"2511\",\n        },\n{\n            'v': 18.0,\n            'f': \"18.0\",\n        },\n\"1972-01-01 00:00:00\",\n\"Europe\"],\n [{\n            'v': 85,\n            'f': \"85\",\n        },\n\"peugeot 504 (sw)\",\n{\n            'v': 21.0,\n            'f': \"21.0\",\n        },\n{\n            'v': 4,\n            'f': \"4\",\n        },\n{\n            'v': 120.0,\n            'f': \"120.0\",\n        },\n{\n            'v': 87.0,\n            'f': \"87.0\",\n        },\n{\n            'v': 2979,\n            'f': \"2979\",\n        },\n{\n            'v': 19.5,\n            'f': \"19.5\",\n        },\n\"1972-01-01 00:00:00\",\n\"Europe\"],\n [{\n            'v': 86,\n            'f': \"86\",\n        },\n\"renault 12 (sw)\",\n{\n            'v': 26.0,\n            'f': \"26.0\",\n        },\n{\n            'v': 4,\n            'f': \"4\",\n        },\n{\n            'v': 96.0,\n            'f': \"96.0\",\n        },\n{\n            'v': 69.0,\n            'f': \"69.0\",\n        },\n{\n            'v': 2189,\n            'f': \"2189\",\n        },\n{\n            'v': 18.0,\n            'f': \"18.0\",\n        },\n\"1972-01-01 00:00:00\",\n\"Europe\"],\n [{\n            'v': 87,\n            'f': \"87\",\n        },\n\"ford pinto (sw)\",\n{\n            'v': 22.0,\n            'f': \"22.0\",\n        },\n{\n            'v': 4,\n            'f': \"4\",\n        },\n{\n            'v': 122.0,\n            'f': \"122.0\",\n        },\n{\n            'v': 86.0,\n            'f': \"86.0\",\n        },\n{\n            'v': 2395,\n            'f': \"2395\",\n        },\n{\n            'v': 16.0,\n            'f': \"16.0\",\n        },\n\"1972-01-01 00:00:00\",\n\"USA\"],\n [{\n            'v': 88,\n            'f': \"88\",\n        },\n\"datsun 510 (sw)\",\n{\n            'v': 28.0,\n            'f': \"28.0\",\n        },\n{\n            'v': 4,\n            'f': \"4\",\n        },\n{\n            'v': 97.0,\n            'f': \"97.0\",\n        },\n{\n            'v': 92.0,\n            'f': \"92.0\",\n        },\n{\n            'v': 2288,\n            'f': \"2288\",\n        },\n{\n            'v': 17.0,\n            'f': \"17.0\",\n        },\n\"1972-01-01 00:00:00\",\n\"Japan\"],\n [{\n            'v': 89,\n            'f': \"89\",\n        },\n\"toyouta corona mark ii (sw)\",\n{\n            'v': 23.0,\n            'f': \"23.0\",\n        },\n{\n            'v': 4,\n            'f': \"4\",\n        },\n{\n            'v': 120.0,\n            'f': \"120.0\",\n        },\n{\n            'v': 97.0,\n            'f': \"97.0\",\n        },\n{\n            'v': 2506,\n            'f': \"2506\",\n        },\n{\n            'v': 14.5,\n            'f': \"14.5\",\n        },\n\"1972-01-01 00:00:00\",\n\"Japan\"],\n [{\n            'v': 90,\n            'f': \"90\",\n        },\n\"dodge colt (sw)\",\n{\n            'v': 28.0,\n            'f': \"28.0\",\n        },\n{\n            'v': 4,\n            'f': \"4\",\n        },\n{\n            'v': 98.0,\n            'f': \"98.0\",\n        },\n{\n            'v': 80.0,\n            'f': \"80.0\",\n        },\n{\n            'v': 2164,\n            'f': \"2164\",\n        },\n{\n            'v': 15.0,\n            'f': \"15.0\",\n        },\n\"1972-01-01 00:00:00\",\n\"USA\"],\n [{\n            'v': 91,\n            'f': \"91\",\n        },\n\"toyota corolla 1600 (sw)\",\n{\n            'v': 27.0,\n            'f': \"27.0\",\n        },\n{\n            'v': 4,\n            'f': \"4\",\n        },\n{\n            'v': 97.0,\n            'f': \"97.0\",\n        },\n{\n            'v': 88.0,\n            'f': \"88.0\",\n        },\n{\n            'v': 2100,\n            'f': \"2100\",\n        },\n{\n            'v': 16.5,\n            'f': \"16.5\",\n        },\n\"1972-01-01 00:00:00\",\n\"Japan\"],\n [{\n            'v': 108,\n            'f': \"108\",\n        },\n\"plymouth duster\",\n{\n            'v': 23.0,\n            'f': \"23.0\",\n        },\n{\n            'v': 6,\n            'f': \"6\",\n        },\n{\n            'v': 198.0,\n            'f': \"198.0\",\n        },\n{\n            'v': 95.0,\n            'f': \"95.0\",\n        },\n{\n            'v': 2904,\n            'f': \"2904\",\n        },\n{\n            'v': 16.0,\n            'f': \"16.0\",\n        },\n\"1973-01-01 00:00:00\",\n\"USA\"],\n [{\n            'v': 109,\n            'f': \"109\",\n        },\n\"volkswagen super beetle\",\n{\n            'v': 26.0,\n            'f': \"26.0\",\n        },\n{\n            'v': 4,\n            'f': \"4\",\n        },\n{\n            'v': 97.0,\n            'f': \"97.0\",\n        },\n{\n            'v': 46.0,\n            'f': \"46.0\",\n        },\n{\n            'v': 1950,\n            'f': \"1950\",\n        },\n{\n            'v': 21.0,\n            'f': \"21.0\",\n        },\n\"1973-01-01 00:00:00\",\n\"Europe\"],\n [{\n            'v': 115,\n            'f': \"115\",\n        },\n\"toyota carina\",\n{\n            'v': 20.0,\n            'f': \"20.0\",\n        },\n{\n            'v': 4,\n            'f': \"4\",\n        },\n{\n            'v': 97.0,\n            'f': \"97.0\",\n        },\n{\n            'v': 88.0,\n            'f': \"88.0\",\n        },\n{\n            'v': 2279,\n            'f': \"2279\",\n        },\n{\n            'v': 19.0,\n            'f': \"19.0\",\n        },\n\"1973-01-01 00:00:00\",\n\"Japan\"],\n [{\n            'v': 116,\n            'f': \"116\",\n        },\n\"chevrolet vega\",\n{\n            'v': 21.0,\n            'f': \"21.0\",\n        },\n{\n            'v': 4,\n            'f': \"4\",\n        },\n{\n            'v': 140.0,\n            'f': \"140.0\",\n        },\n{\n            'v': 72.0,\n            'f': \"72.0\",\n        },\n{\n            'v': 2401,\n            'f': \"2401\",\n        },\n{\n            'v': 19.5,\n            'f': \"19.5\",\n        },\n\"1973-01-01 00:00:00\",\n\"USA\"],\n [{\n            'v': 117,\n            'f': \"117\",\n        },\n\"datsun 610\",\n{\n            'v': 22.0,\n            'f': \"22.0\",\n        },\n{\n            'v': 4,\n            'f': \"4\",\n        },\n{\n            'v': 108.0,\n            'f': \"108.0\",\n        },\n{\n            'v': 94.0,\n            'f': \"94.0\",\n        },\n{\n            'v': 2379,\n            'f': \"2379\",\n        },\n{\n            'v': 16.5,\n            'f': \"16.5\",\n        },\n\"1973-01-01 00:00:00\",\n\"Japan\"],\n [{\n            'v': 120,\n            'f': \"120\",\n        },\n\"mercury capri v6\",\n{\n            'v': 21.0,\n            'f': \"21.0\",\n        },\n{\n            'v': 6,\n            'f': \"6\",\n        },\n{\n            'v': 155.0,\n            'f': \"155.0\",\n        },\n{\n            'v': 107.0,\n            'f': \"107.0\",\n        },\n{\n            'v': 2472,\n            'f': \"2472\",\n        },\n{\n            'v': 14.0,\n            'f': \"14.0\",\n        },\n\"1973-01-01 00:00:00\",\n\"USA\"],\n [{\n            'v': 121,\n            'f': \"121\",\n        },\n\"fiat 124 sport coupe\",\n{\n            'v': 26.0,\n            'f': \"26.0\",\n        },\n{\n            'v': 4,\n            'f': \"4\",\n        },\n{\n            'v': 98.0,\n            'f': \"98.0\",\n        },\n{\n            'v': 90.0,\n            'f': \"90.0\",\n        },\n{\n            'v': 2265,\n            'f': \"2265\",\n        },\n{\n            'v': 15.5,\n            'f': \"15.5\",\n        },\n\"1973-01-01 00:00:00\",\n\"Europe\"],\n [{\n            'v': 124,\n            'f': \"124\",\n        },\n\"fiat 128\",\n{\n            'v': 29.0,\n            'f': \"29.0\",\n        },\n{\n            'v': 4,\n            'f': \"4\",\n        },\n{\n            'v': 68.0,\n            'f': \"68.0\",\n        },\n{\n            'v': 49.0,\n            'f': \"49.0\",\n        },\n{\n            'v': 1867,\n            'f': \"1867\",\n        },\n{\n            'v': 19.5,\n            'f': \"19.5\",\n        },\n\"1973-01-01 00:00:00\",\n\"Europe\"],\n [{\n            'v': 125,\n            'f': \"125\",\n        },\n\"opel manta\",\n{\n            'v': 24.0,\n            'f': \"24.0\",\n        },\n{\n            'v': 4,\n            'f': \"4\",\n        },\n{\n            'v': 116.0,\n            'f': \"116.0\",\n        },\n{\n            'v': 75.0,\n            'f': \"75.0\",\n        },\n{\n            'v': 2158,\n            'f': \"2158\",\n        },\n{\n            'v': 15.5,\n            'f': \"15.5\",\n        },\n\"1973-01-01 00:00:00\",\n\"Europe\"],\n [{\n            'v': 126,\n            'f': \"126\",\n        },\n\"audi 100ls\",\n{\n            'v': 20.0,\n            'f': \"20.0\",\n        },\n{\n            'v': 4,\n            'f': \"4\",\n        },\n{\n            'v': 114.0,\n            'f': \"114.0\",\n        },\n{\n            'v': 91.0,\n            'f': \"91.0\",\n        },\n{\n            'v': 2582,\n            'f': \"2582\",\n        },\n{\n            'v': 14.0,\n            'f': \"14.0\",\n        },\n\"1973-01-01 00:00:00\",\n\"Europe\"],\n [{\n            'v': 129,\n            'f': \"129\",\n        },\n\"saab 99le\",\n{\n            'v': 24.0,\n            'f': \"24.0\",\n        },\n{\n            'v': 4,\n            'f': \"4\",\n        },\n{\n            'v': 121.0,\n            'f': \"121.0\",\n        },\n{\n            'v': 110.0,\n            'f': \"110.0\",\n        },\n{\n            'v': 2660,\n            'f': \"2660\",\n        },\n{\n            'v': 14.0,\n            'f': \"14.0\",\n        },\n\"1973-01-01 00:00:00\",\n\"Europe\"],\n [{\n            'v': 130,\n            'f': \"130\",\n        },\n\"toyota mark ii\",\n{\n            'v': 20.0,\n            'f': \"20.0\",\n        },\n{\n            'v': 6,\n            'f': \"6\",\n        },\n{\n            'v': 156.0,\n            'f': \"156.0\",\n        },\n{\n            'v': 122.0,\n            'f': \"122.0\",\n        },\n{\n            'v': 2807,\n            'f': \"2807\",\n        },\n{\n            'v': 13.5,\n            'f': \"13.5\",\n        },\n\"1973-01-01 00:00:00\",\n\"Japan\"],\n [{\n            'v': 132,\n            'f': \"132\",\n        },\n\"plymouth duster\",\n{\n            'v': 20.0,\n            'f': \"20.0\",\n        },\n{\n            'v': 6,\n            'f': \"6\",\n        },\n{\n            'v': 198.0,\n            'f': \"198.0\",\n        },\n{\n            'v': 95.0,\n            'f': \"95.0\",\n        },\n{\n            'v': 3102,\n            'f': \"3102\",\n        },\n{\n            'v': 16.5,\n            'f': \"16.5\",\n        },\n\"1974-01-01 00:00:00\",\n\"USA\"],\n [{\n            'v': 133,\n            'f': \"133\",\n        },\n\"ford maverick\",\n{\n            'v': 21.0,\n            'f': \"21.0\",\n        },\n{\n            'v': 6,\n            'f': \"6\",\n        },\n{\n            'v': 200.0,\n            'f': \"200.0\",\n        },\n{\n            'v': NaN,\n            'f': \"NaN\",\n        },\n{\n            'v': 2875,\n            'f': \"2875\",\n        },\n{\n            'v': 17.0,\n            'f': \"17.0\",\n        },\n\"1974-01-01 00:00:00\",\n\"USA\"],\n [{\n            'v': 136,\n            'f': \"136\",\n        },\n\"datsun b210\",\n{\n            'v': 31.0,\n            'f': \"31.0\",\n        },\n{\n            'v': 4,\n            'f': \"4\",\n        },\n{\n            'v': 79.0,\n            'f': \"79.0\",\n        },\n{\n            'v': 67.0,\n            'f': \"67.0\",\n        },\n{\n            'v': 1950,\n            'f': \"1950\",\n        },\n{\n            'v': 19.0,\n            'f': \"19.0\",\n        },\n\"1974-01-01 00:00:00\",\n\"Japan\"],\n [{\n            'v': 137,\n            'f': \"137\",\n        },\n\"ford pinto\",\n{\n            'v': 26.0,\n            'f': \"26.0\",\n        },\n{\n            'v': 4,\n            'f': \"4\",\n        },\n{\n            'v': 122.0,\n            'f': \"122.0\",\n        },\n{\n            'v': 80.0,\n            'f': \"80.0\",\n        },\n{\n            'v': 2451,\n            'f': \"2451\",\n        },\n{\n            'v': 16.5,\n            'f': \"16.5\",\n        },\n\"1974-01-01 00:00:00\",\n\"USA\"],\n [{\n            'v': 138,\n            'f': \"138\",\n        },\n\"toyota corolla 1200\",\n{\n            'v': 32.0,\n            'f': \"32.0\",\n        },\n{\n            'v': 4,\n            'f': \"4\",\n        },\n{\n            'v': 71.0,\n            'f': \"71.0\",\n        },\n{\n            'v': 65.0,\n            'f': \"65.0\",\n        },\n{\n            'v': 1836,\n            'f': \"1836\",\n        },\n{\n            'v': 21.0,\n            'f': \"21.0\",\n        },\n\"1974-01-01 00:00:00\",\n\"Japan\"],\n [{\n            'v': 139,\n            'f': \"139\",\n        },\n\"chevrolet vega\",\n{\n            'v': 25.0,\n            'f': \"25.0\",\n        },\n{\n            'v': 4,\n            'f': \"4\",\n        },\n{\n            'v': 140.0,\n            'f': \"140.0\",\n        },\n{\n            'v': 75.0,\n            'f': \"75.0\",\n        },\n{\n            'v': 2542,\n            'f': \"2542\",\n        },\n{\n            'v': 17.0,\n            'f': \"17.0\",\n        },\n\"1974-01-01 00:00:00\",\n\"USA\"],\n [{\n            'v': 148,\n            'f': \"148\",\n        },\n\"audi fox\",\n{\n            'v': 29.0,\n            'f': \"29.0\",\n        },\n{\n            'v': 4,\n            'f': \"4\",\n        },\n{\n            'v': 98.0,\n            'f': \"98.0\",\n        },\n{\n            'v': 83.0,\n            'f': \"83.0\",\n        },\n{\n            'v': 2219,\n            'f': \"2219\",\n        },\n{\n            'v': 16.5,\n            'f': \"16.5\",\n        },\n\"1974-01-01 00:00:00\",\n\"Europe\"],\n [{\n            'v': 149,\n            'f': \"149\",\n        },\n\"volkswagen dasher\",\n{\n            'v': 26.0,\n            'f': \"26.0\",\n        },\n{\n            'v': 4,\n            'f': \"4\",\n        },\n{\n            'v': 79.0,\n            'f': \"79.0\",\n        },\n{\n            'v': 67.0,\n            'f': \"67.0\",\n        },\n{\n            'v': 1963,\n            'f': \"1963\",\n        },\n{\n            'v': 15.5,\n            'f': \"15.5\",\n        },\n\"1974-01-01 00:00:00\",\n\"Europe\"],\n [{\n            'v': 150,\n            'f': \"150\",\n        },\n\"opel manta\",\n{\n            'v': 26.0,\n            'f': \"26.0\",\n        },\n{\n            'v': 4,\n            'f': \"4\",\n        },\n{\n            'v': 97.0,\n            'f': \"97.0\",\n        },\n{\n            'v': 78.0,\n            'f': \"78.0\",\n        },\n{\n            'v': 2300,\n            'f': \"2300\",\n        },\n{\n            'v': 14.5,\n            'f': \"14.5\",\n        },\n\"1974-01-01 00:00:00\",\n\"Europe\"],\n [{\n            'v': 151,\n            'f': \"151\",\n        },\n\"toyota corona\",\n{\n            'v': 31.0,\n            'f': \"31.0\",\n        },\n{\n            'v': 4,\n            'f': \"4\",\n        },\n{\n            'v': 76.0,\n            'f': \"76.0\",\n        },\n{\n            'v': 52.0,\n            'f': \"52.0\",\n        },\n{\n            'v': 1649,\n            'f': \"1649\",\n        },\n{\n            'v': 16.5,\n            'f': \"16.5\",\n        },\n\"1974-01-01 00:00:00\",\n\"Japan\"],\n [{\n            'v': 152,\n            'f': \"152\",\n        },\n\"datsun 710\",\n{\n            'v': 32.0,\n            'f': \"32.0\",\n        },\n{\n            'v': 4,\n            'f': \"4\",\n        },\n{\n            'v': 83.0,\n            'f': \"83.0\",\n        },\n{\n            'v': 61.0,\n            'f': \"61.0\",\n        },\n{\n            'v': 2003,\n            'f': \"2003\",\n        },\n{\n            'v': 19.0,\n            'f': \"19.0\",\n        },\n\"1974-01-01 00:00:00\",\n\"Japan\"],\n [{\n            'v': 153,\n            'f': \"153\",\n        },\n\"dodge colt\",\n{\n            'v': 28.0,\n            'f': \"28.0\",\n        },\n{\n            'v': 4,\n            'f': \"4\",\n        },\n{\n            'v': 90.0,\n            'f': \"90.0\",\n        },\n{\n            'v': 75.0,\n            'f': \"75.0\",\n        },\n{\n            'v': 2125,\n            'f': \"2125\",\n        },\n{\n            'v': 14.5,\n            'f': \"14.5\",\n        },\n\"1974-01-01 00:00:00\",\n\"USA\"],\n [{\n            'v': 154,\n            'f': \"154\",\n        },\n\"fiat 128\",\n{\n            'v': 24.0,\n            'f': \"24.0\",\n        },\n{\n            'v': 4,\n            'f': \"4\",\n        },\n{\n            'v': 90.0,\n            'f': \"90.0\",\n        },\n{\n            'v': 75.0,\n            'f': \"75.0\",\n        },\n{\n            'v': 2108,\n            'f': \"2108\",\n        },\n{\n            'v': 15.5,\n            'f': \"15.5\",\n        },\n\"1974-01-01 00:00:00\",\n\"Europe\"],\n [{\n            'v': 155,\n            'f': \"155\",\n        },\n\"fiat 124 tc\",\n{\n            'v': 26.0,\n            'f': \"26.0\",\n        },\n{\n            'v': 4,\n            'f': \"4\",\n        },\n{\n            'v': 116.0,\n            'f': \"116.0\",\n        },\n{\n            'v': 75.0,\n            'f': \"75.0\",\n        },\n{\n            'v': 2246,\n            'f': \"2246\",\n        },\n{\n            'v': 14.0,\n            'f': \"14.0\",\n        },\n\"1974-01-01 00:00:00\",\n\"Europe\"],\n [{\n            'v': 156,\n            'f': \"156\",\n        },\n\"honda civic\",\n{\n            'v': 24.0,\n            'f': \"24.0\",\n        },\n{\n            'v': 4,\n            'f': \"4\",\n        },\n{\n            'v': 120.0,\n            'f': \"120.0\",\n        },\n{\n            'v': 97.0,\n            'f': \"97.0\",\n        },\n{\n            'v': 2489,\n            'f': \"2489\",\n        },\n{\n            'v': 15.0,\n            'f': \"15.0\",\n        },\n\"1974-01-01 00:00:00\",\n\"Japan\"],\n [{\n            'v': 157,\n            'f': \"157\",\n        },\n\"subaru\",\n{\n            'v': 26.0,\n            'f': \"26.0\",\n        },\n{\n            'v': 4,\n            'f': \"4\",\n        },\n{\n            'v': 108.0,\n            'f': \"108.0\",\n        },\n{\n            'v': 93.0,\n            'f': \"93.0\",\n        },\n{\n            'v': 2391,\n            'f': \"2391\",\n        },\n{\n            'v': 15.5,\n            'f': \"15.5\",\n        },\n\"1974-01-01 00:00:00\",\n\"Japan\"],\n [{\n            'v': 158,\n            'f': \"158\",\n        },\n\"fiat x1.9\",\n{\n            'v': 31.0,\n            'f': \"31.0\",\n        },\n{\n            'v': 4,\n            'f': \"4\",\n        },\n{\n            'v': 79.0,\n            'f': \"79.0\",\n        },\n{\n            'v': 67.0,\n            'f': \"67.0\",\n        },\n{\n            'v': 2000,\n            'f': \"2000\",\n        },\n{\n            'v': 16.0,\n            'f': \"16.0\",\n        },\n\"1974-01-01 00:00:00\",\n\"Europe\"],\n [{\n            'v': 171,\n            'f': \"171\",\n        },\n\"buick skyhawk\",\n{\n            'v': 21.0,\n            'f': \"21.0\",\n        },\n{\n            'v': 6,\n            'f': \"6\",\n        },\n{\n            'v': 231.0,\n            'f': \"231.0\",\n        },\n{\n            'v': 110.0,\n            'f': \"110.0\",\n        },\n{\n            'v': 3039,\n            'f': \"3039\",\n        },\n{\n            'v': 15.0,\n            'f': \"15.0\",\n        },\n\"1975-01-01 00:00:00\",\n\"USA\"],\n [{\n            'v': 172,\n            'f': \"172\",\n        },\n\"chevrolet monza 2+2\",\n{\n            'v': 20.0,\n            'f': \"20.0\",\n        },\n{\n            'v': 8,\n            'f': \"8\",\n        },\n{\n            'v': 262.0,\n            'f': \"262.0\",\n        },\n{\n            'v': 110.0,\n            'f': \"110.0\",\n        },\n{\n            'v': 3221,\n            'f': \"3221\",\n        },\n{\n            'v': 13.5,\n            'f': \"13.5\",\n        },\n\"1975-01-01 00:00:00\",\n\"USA\"],\n [{\n            'v': 174,\n            'f': \"174\",\n        },\n\"toyota corolla\",\n{\n            'v': 29.0,\n            'f': \"29.0\",\n        },\n{\n            'v': 4,\n            'f': \"4\",\n        },\n{\n            'v': 97.0,\n            'f': \"97.0\",\n        },\n{\n            'v': 75.0,\n            'f': \"75.0\",\n        },\n{\n            'v': 2171,\n            'f': \"2171\",\n        },\n{\n            'v': 16.0,\n            'f': \"16.0\",\n        },\n\"1975-01-01 00:00:00\",\n\"Japan\"],\n [{\n            'v': 175,\n            'f': \"175\",\n        },\n\"ford pinto\",\n{\n            'v': 23.0,\n            'f': \"23.0\",\n        },\n{\n            'v': 4,\n            'f': \"4\",\n        },\n{\n            'v': 140.0,\n            'f': \"140.0\",\n        },\n{\n            'v': 83.0,\n            'f': \"83.0\",\n        },\n{\n            'v': 2639,\n            'f': \"2639\",\n        },\n{\n            'v': 17.0,\n            'f': \"17.0\",\n        },\n\"1975-01-01 00:00:00\",\n\"USA\"],\n [{\n            'v': 176,\n            'f': \"176\",\n        },\n\"amc gremlin\",\n{\n            'v': 20.0,\n            'f': \"20.0\",\n        },\n{\n            'v': 6,\n            'f': \"6\",\n        },\n{\n            'v': 232.0,\n            'f': \"232.0\",\n        },\n{\n            'v': 100.0,\n            'f': \"100.0\",\n        },\n{\n            'v': 2914,\n            'f': \"2914\",\n        },\n{\n            'v': 16.0,\n            'f': \"16.0\",\n        },\n\"1975-01-01 00:00:00\",\n\"USA\"],\n [{\n            'v': 177,\n            'f': \"177\",\n        },\n\"pontiac astro\",\n{\n            'v': 23.0,\n            'f': \"23.0\",\n        },\n{\n            'v': 4,\n            'f': \"4\",\n        },\n{\n            'v': 140.0,\n            'f': \"140.0\",\n        },\n{\n            'v': 78.0,\n            'f': \"78.0\",\n        },\n{\n            'v': 2592,\n            'f': \"2592\",\n        },\n{\n            'v': 18.5,\n            'f': \"18.5\",\n        },\n\"1975-01-01 00:00:00\",\n\"USA\"],\n [{\n            'v': 178,\n            'f': \"178\",\n        },\n\"toyota corona\",\n{\n            'v': 24.0,\n            'f': \"24.0\",\n        },\n{\n            'v': 4,\n            'f': \"4\",\n        },\n{\n            'v': 134.0,\n            'f': \"134.0\",\n        },\n{\n            'v': 96.0,\n            'f': \"96.0\",\n        },\n{\n            'v': 2702,\n            'f': \"2702\",\n        },\n{\n            'v': 13.5,\n            'f': \"13.5\",\n        },\n\"1975-01-01 00:00:00\",\n\"Japan\"],\n [{\n            'v': 179,\n            'f': \"179\",\n        },\n\"volkswagen dasher\",\n{\n            'v': 25.0,\n            'f': \"25.0\",\n        },\n{\n            'v': 4,\n            'f': \"4\",\n        },\n{\n            'v': 90.0,\n            'f': \"90.0\",\n        },\n{\n            'v': 71.0,\n            'f': \"71.0\",\n        },\n{\n            'v': 2223,\n            'f': \"2223\",\n        },\n{\n            'v': 16.5,\n            'f': \"16.5\",\n        },\n\"1975-01-01 00:00:00\",\n\"Europe\"],\n [{\n            'v': 180,\n            'f': \"180\",\n        },\n\"datsun 710\",\n{\n            'v': 24.0,\n            'f': \"24.0\",\n        },\n{\n            'v': 4,\n            'f': \"4\",\n        },\n{\n            'v': 119.0,\n            'f': \"119.0\",\n        },\n{\n            'v': 97.0,\n            'f': \"97.0\",\n        },\n{\n            'v': 2545,\n            'f': \"2545\",\n        },\n{\n            'v': 17.0,\n            'f': \"17.0\",\n        },\n\"1975-01-01 00:00:00\",\n\"Japan\"],\n [{\n            'v': 182,\n            'f': \"182\",\n        },\n\"volkswagen rabbit\",\n{\n            'v': 29.0,\n            'f': \"29.0\",\n        },\n{\n            'v': 4,\n            'f': \"4\",\n        },\n{\n            'v': 90.0,\n            'f': \"90.0\",\n        },\n{\n            'v': 70.0,\n            'f': \"70.0\",\n        },\n{\n            'v': 1937,\n            'f': \"1937\",\n        },\n{\n            'v': 14.0,\n            'f': \"14.0\",\n        },\n\"1975-01-01 00:00:00\",\n\"Europe\"],\n [{\n            'v': 184,\n            'f': \"184\",\n        },\n\"audi 100ls\",\n{\n            'v': 23.0,\n            'f': \"23.0\",\n        },\n{\n            'v': 4,\n            'f': \"4\",\n        },\n{\n            'v': 115.0,\n            'f': \"115.0\",\n        },\n{\n            'v': 95.0,\n            'f': \"95.0\",\n        },\n{\n            'v': 2694,\n            'f': \"2694\",\n        },\n{\n            'v': 15.0,\n            'f': \"15.0\",\n        },\n\"1975-01-01 00:00:00\",\n\"Europe\"],\n [{\n            'v': 185,\n            'f': \"185\",\n        },\n\"peugeot 504\",\n{\n            'v': 23.0,\n            'f': \"23.0\",\n        },\n{\n            'v': 4,\n            'f': \"4\",\n        },\n{\n            'v': 120.0,\n            'f': \"120.0\",\n        },\n{\n            'v': 88.0,\n            'f': \"88.0\",\n        },\n{\n            'v': 2957,\n            'f': \"2957\",\n        },\n{\n            'v': 17.0,\n            'f': \"17.0\",\n        },\n\"1975-01-01 00:00:00\",\n\"Europe\"],\n [{\n            'v': 186,\n            'f': \"186\",\n        },\n\"volvo 244dl\",\n{\n            'v': 22.0,\n            'f': \"22.0\",\n        },\n{\n            'v': 4,\n            'f': \"4\",\n        },\n{\n            'v': 121.0,\n            'f': \"121.0\",\n        },\n{\n            'v': 98.0,\n            'f': \"98.0\",\n        },\n{\n            'v': 2945,\n            'f': \"2945\",\n        },\n{\n            'v': 14.5,\n            'f': \"14.5\",\n        },\n\"1975-01-01 00:00:00\",\n\"Europe\"],\n [{\n            'v': 187,\n            'f': \"187\",\n        },\n\"saab 99le\",\n{\n            'v': 25.0,\n            'f': \"25.0\",\n        },\n{\n            'v': 4,\n            'f': \"4\",\n        },\n{\n            'v': 121.0,\n            'f': \"121.0\",\n        },\n{\n            'v': 115.0,\n            'f': \"115.0\",\n        },\n{\n            'v': 2671,\n            'f': \"2671\",\n        },\n{\n            'v': 13.5,\n            'f': \"13.5\",\n        },\n\"1975-01-01 00:00:00\",\n\"Europe\"],\n [{\n            'v': 188,\n            'f': \"188\",\n        },\n\"honda civic cvcc\",\n{\n            'v': 33.0,\n            'f': \"33.0\",\n        },\n{\n            'v': 4,\n            'f': \"4\",\n        },\n{\n            'v': 91.0,\n            'f': \"91.0\",\n        },\n{\n            'v': 53.0,\n            'f': \"53.0\",\n        },\n{\n            'v': 1795,\n            'f': \"1795\",\n        },\n{\n            'v': 17.5,\n            'f': \"17.5\",\n        },\n\"1975-01-01 00:00:00\",\n\"Japan\"],\n [{\n            'v': 189,\n            'f': \"189\",\n        },\n\"fiat 131\",\n{\n            'v': 28.0,\n            'f': \"28.0\",\n        },\n{\n            'v': 4,\n            'f': \"4\",\n        },\n{\n            'v': 107.0,\n            'f': \"107.0\",\n        },\n{\n            'v': 86.0,\n            'f': \"86.0\",\n        },\n{\n            'v': 2464,\n            'f': \"2464\",\n        },\n{\n            'v': 15.5,\n            'f': \"15.5\",\n        },\n\"1976-01-01 00:00:00\",\n\"Europe\"],\n [{\n            'v': 190,\n            'f': \"190\",\n        },\n\"opel 1900\",\n{\n            'v': 25.0,\n            'f': \"25.0\",\n        },\n{\n            'v': 4,\n            'f': \"4\",\n        },\n{\n            'v': 116.0,\n            'f': \"116.0\",\n        },\n{\n            'v': 81.0,\n            'f': \"81.0\",\n        },\n{\n            'v': 2220,\n            'f': \"2220\",\n        },\n{\n            'v': 16.9,\n            'f': \"16.9\",\n        },\n\"1976-01-01 00:00:00\",\n\"Europe\"],\n [{\n            'v': 191,\n            'f': \"191\",\n        },\n\"capri ii\",\n{\n            'v': 25.0,\n            'f': \"25.0\",\n        },\n{\n            'v': 4,\n            'f': \"4\",\n        },\n{\n            'v': 140.0,\n            'f': \"140.0\",\n        },\n{\n            'v': 92.0,\n            'f': \"92.0\",\n        },\n{\n            'v': 2572,\n            'f': \"2572\",\n        },\n{\n            'v': 14.9,\n            'f': \"14.9\",\n        },\n\"1976-01-01 00:00:00\",\n\"USA\"],\n [{\n            'v': 192,\n            'f': \"192\",\n        },\n\"dodge colt\",\n{\n            'v': 26.0,\n            'f': \"26.0\",\n        },\n{\n            'v': 4,\n            'f': \"4\",\n        },\n{\n            'v': 98.0,\n            'f': \"98.0\",\n        },\n{\n            'v': 79.0,\n            'f': \"79.0\",\n        },\n{\n            'v': 2255,\n            'f': \"2255\",\n        },\n{\n            'v': 17.7,\n            'f': \"17.7\",\n        },\n\"1976-01-01 00:00:00\",\n\"USA\"],\n [{\n            'v': 193,\n            'f': \"193\",\n        },\n\"renault 12tl\",\n{\n            'v': 27.0,\n            'f': \"27.0\",\n        },\n{\n            'v': 4,\n            'f': \"4\",\n        },\n{\n            'v': 101.0,\n            'f': \"101.0\",\n        },\n{\n            'v': 83.0,\n            'f': \"83.0\",\n        },\n{\n            'v': 2202,\n            'f': \"2202\",\n        },\n{\n            'v': 15.3,\n            'f': \"15.3\",\n        },\n\"1976-01-01 00:00:00\",\n\"Europe\"],\n [{\n            'v': 198,\n            'f': \"198\",\n        },\n\"plymouth valiant\",\n{\n            'v': 22.0,\n            'f': \"22.0\",\n        },\n{\n            'v': 6,\n            'f': \"6\",\n        },\n{\n            'v': 225.0,\n            'f': \"225.0\",\n        },\n{\n            'v': 100.0,\n            'f': \"100.0\",\n        },\n{\n            'v': 3233,\n            'f': \"3233\",\n        },\n{\n            'v': 15.4,\n            'f': \"15.4\",\n        },\n\"1976-01-01 00:00:00\",\n\"USA\"],\n [{\n            'v': 199,\n            'f': \"199\",\n        },\n\"chevrolet nova\",\n{\n            'v': 22.0,\n            'f': \"22.0\",\n        },\n{\n            'v': 6,\n            'f': \"6\",\n        },\n{\n            'v': 250.0,\n            'f': \"250.0\",\n        },\n{\n            'v': 105.0,\n            'f': \"105.0\",\n        },\n{\n            'v': 3353,\n            'f': \"3353\",\n        },\n{\n            'v': 14.5,\n            'f': \"14.5\",\n        },\n\"1976-01-01 00:00:00\",\n\"USA\"],\n [{\n            'v': 200,\n            'f': \"200\",\n        },\n\"ford maverick\",\n{\n            'v': 24.0,\n            'f': \"24.0\",\n        },\n{\n            'v': 6,\n            'f': \"6\",\n        },\n{\n            'v': 200.0,\n            'f': \"200.0\",\n        },\n{\n            'v': 81.0,\n            'f': \"81.0\",\n        },\n{\n            'v': 3012,\n            'f': \"3012\",\n        },\n{\n            'v': 17.6,\n            'f': \"17.6\",\n        },\n\"1976-01-01 00:00:00\",\n\"USA\"],\n [{\n            'v': 201,\n            'f': \"201\",\n        },\n\"amc hornet\",\n{\n            'v': 22.5,\n            'f': \"22.5\",\n        },\n{\n            'v': 6,\n            'f': \"6\",\n        },\n{\n            'v': 232.0,\n            'f': \"232.0\",\n        },\n{\n            'v': 90.0,\n            'f': \"90.0\",\n        },\n{\n            'v': 3085,\n            'f': \"3085\",\n        },\n{\n            'v': 17.6,\n            'f': \"17.6\",\n        },\n\"1976-01-01 00:00:00\",\n\"USA\"],\n [{\n            'v': 202,\n            'f': \"202\",\n        },\n\"chevrolet chevette\",\n{\n            'v': 29.0,\n            'f': \"29.0\",\n        },\n{\n            'v': 4,\n            'f': \"4\",\n        },\n{\n            'v': 85.0,\n            'f': \"85.0\",\n        },\n{\n            'v': 52.0,\n            'f': \"52.0\",\n        },\n{\n            'v': 2035,\n            'f': \"2035\",\n        },\n{\n            'v': 22.2,\n            'f': \"22.2\",\n        },\n\"1976-01-01 00:00:00\",\n\"USA\"],\n [{\n            'v': 203,\n            'f': \"203\",\n        },\n\"chevrolet woody\",\n{\n            'v': 24.5,\n            'f': \"24.5\",\n        },\n{\n            'v': 4,\n            'f': \"4\",\n        },\n{\n            'v': 98.0,\n            'f': \"98.0\",\n        },\n{\n            'v': 60.0,\n            'f': \"60.0\",\n        },\n{\n            'v': 2164,\n            'f': \"2164\",\n        },\n{\n            'v': 22.1,\n            'f': \"22.1\",\n        },\n\"1976-01-01 00:00:00\",\n\"USA\"],\n [{\n            'v': 204,\n            'f': \"204\",\n        },\n\"vw rabbit\",\n{\n            'v': 29.0,\n            'f': \"29.0\",\n        },\n{\n            'v': 4,\n            'f': \"4\",\n        },\n{\n            'v': 90.0,\n            'f': \"90.0\",\n        },\n{\n            'v': 70.0,\n            'f': \"70.0\",\n        },\n{\n            'v': 1937,\n            'f': \"1937\",\n        },\n{\n            'v': 14.2,\n            'f': \"14.2\",\n        },\n\"1976-01-01 00:00:00\",\n\"Europe\"],\n [{\n            'v': 205,\n            'f': \"205\",\n        },\n\"honda civic\",\n{\n            'v': 33.0,\n            'f': \"33.0\",\n        },\n{\n            'v': 4,\n            'f': \"4\",\n        },\n{\n            'v': 91.0,\n            'f': \"91.0\",\n        },\n{\n            'v': 53.0,\n            'f': \"53.0\",\n        },\n{\n            'v': 1795,\n            'f': \"1795\",\n        },\n{\n            'v': 17.4,\n            'f': \"17.4\",\n        },\n\"1976-01-01 00:00:00\",\n\"Japan\"],\n [{\n            'v': 206,\n            'f': \"206\",\n        },\n\"dodge aspen se\",\n{\n            'v': 20.0,\n            'f': \"20.0\",\n        },\n{\n            'v': 6,\n            'f': \"6\",\n        },\n{\n            'v': 225.0,\n            'f': \"225.0\",\n        },\n{\n            'v': 100.0,\n            'f': \"100.0\",\n        },\n{\n            'v': 3651,\n            'f': \"3651\",\n        },\n{\n            'v': 17.7,\n            'f': \"17.7\",\n        },\n\"1976-01-01 00:00:00\",\n\"USA\"],\n [{\n            'v': 210,\n            'f': \"210\",\n        },\n\"volkswagen rabbit\",\n{\n            'v': 29.5,\n            'f': \"29.5\",\n        },\n{\n            'v': 4,\n            'f': \"4\",\n        },\n{\n            'v': 97.0,\n            'f': \"97.0\",\n        },\n{\n            'v': 71.0,\n            'f': \"71.0\",\n        },\n{\n            'v': 1825,\n            'f': \"1825\",\n        },\n{\n            'v': 12.2,\n            'f': \"12.2\",\n        },\n\"1976-01-01 00:00:00\",\n\"Europe\"],\n [{\n            'v': 211,\n            'f': \"211\",\n        },\n\"datsun b-210\",\n{\n            'v': 32.0,\n            'f': \"32.0\",\n        },\n{\n            'v': 4,\n            'f': \"4\",\n        },\n{\n            'v': 85.0,\n            'f': \"85.0\",\n        },\n{\n            'v': 70.0,\n            'f': \"70.0\",\n        },\n{\n            'v': 1990,\n            'f': \"1990\",\n        },\n{\n            'v': 17.0,\n            'f': \"17.0\",\n        },\n\"1976-01-01 00:00:00\",\n\"Japan\"],\n [{\n            'v': 212,\n            'f': \"212\",\n        },\n\"toyota corolla\",\n{\n            'v': 28.0,\n            'f': \"28.0\",\n        },\n{\n            'v': 4,\n            'f': \"4\",\n        },\n{\n            'v': 97.0,\n            'f': \"97.0\",\n        },\n{\n            'v': 75.0,\n            'f': \"75.0\",\n        },\n{\n            'v': 2155,\n            'f': \"2155\",\n        },\n{\n            'v': 16.4,\n            'f': \"16.4\",\n        },\n\"1976-01-01 00:00:00\",\n\"Japan\"],\n [{\n            'v': 213,\n            'f': \"213\",\n        },\n\"ford pinto\",\n{\n            'v': 26.5,\n            'f': \"26.5\",\n        },\n{\n            'v': 4,\n            'f': \"4\",\n        },\n{\n            'v': 140.0,\n            'f': \"140.0\",\n        },\n{\n            'v': 72.0,\n            'f': \"72.0\",\n        },\n{\n            'v': 2565,\n            'f': \"2565\",\n        },\n{\n            'v': 13.6,\n            'f': \"13.6\",\n        },\n\"1976-01-01 00:00:00\",\n\"USA\"],\n [{\n            'v': 214,\n            'f': \"214\",\n        },\n\"volvo 245\",\n{\n            'v': 20.0,\n            'f': \"20.0\",\n        },\n{\n            'v': 4,\n            'f': \"4\",\n        },\n{\n            'v': 130.0,\n            'f': \"130.0\",\n        },\n{\n            'v': 102.0,\n            'f': \"102.0\",\n        },\n{\n            'v': 3150,\n            'f': \"3150\",\n        },\n{\n            'v': 15.7,\n            'f': \"15.7\",\n        },\n\"1976-01-01 00:00:00\",\n\"Europe\"],\n [{\n            'v': 223,\n            'f': \"223\",\n        },\n\"honda Accelerationord cvcc\",\n{\n            'v': 31.5,\n            'f': \"31.5\",\n        },\n{\n            'v': 4,\n            'f': \"4\",\n        },\n{\n            'v': 98.0,\n            'f': \"98.0\",\n        },\n{\n            'v': 68.0,\n            'f': \"68.0\",\n        },\n{\n            'v': 2045,\n            'f': \"2045\",\n        },\n{\n            'v': 18.5,\n            'f': \"18.5\",\n        },\n\"1977-01-01 00:00:00\",\n\"Japan\"],\n [{\n            'v': 224,\n            'f': \"224\",\n        },\n\"buick opel isuzu deluxe\",\n{\n            'v': 30.0,\n            'f': \"30.0\",\n        },\n{\n            'v': 4,\n            'f': \"4\",\n        },\n{\n            'v': 111.0,\n            'f': \"111.0\",\n        },\n{\n            'v': 80.0,\n            'f': \"80.0\",\n        },\n{\n            'v': 2155,\n            'f': \"2155\",\n        },\n{\n            'v': 14.8,\n            'f': \"14.8\",\n        },\n\"1977-01-01 00:00:00\",\n\"USA\"],\n [{\n            'v': 225,\n            'f': \"225\",\n        },\n\"renault 5 gtl\",\n{\n            'v': 36.0,\n            'f': \"36.0\",\n        },\n{\n            'v': 4,\n            'f': \"4\",\n        },\n{\n            'v': 79.0,\n            'f': \"79.0\",\n        },\n{\n            'v': 58.0,\n            'f': \"58.0\",\n        },\n{\n            'v': 1825,\n            'f': \"1825\",\n        },\n{\n            'v': 18.6,\n            'f': \"18.6\",\n        },\n\"1977-01-01 00:00:00\",\n\"Europe\"],\n [{\n            'v': 226,\n            'f': \"226\",\n        },\n\"plymouth arrow gs\",\n{\n            'v': 25.5,\n            'f': \"25.5\",\n        },\n{\n            'v': 4,\n            'f': \"4\",\n        },\n{\n            'v': 122.0,\n            'f': \"122.0\",\n        },\n{\n            'v': 96.0,\n            'f': \"96.0\",\n        },\n{\n            'v': 2300,\n            'f': \"2300\",\n        },\n{\n            'v': 15.5,\n            'f': \"15.5\",\n        },\n\"1977-01-01 00:00:00\",\n\"USA\"],\n [{\n            'v': 227,\n            'f': \"227\",\n        },\n\"datsun f-10 hatchback\",\n{\n            'v': 33.5,\n            'f': \"33.5\",\n        },\n{\n            'v': 4,\n            'f': \"4\",\n        },\n{\n            'v': 85.0,\n            'f': \"85.0\",\n        },\n{\n            'v': 70.0,\n            'f': \"70.0\",\n        },\n{\n            'v': 1945,\n            'f': \"1945\",\n        },\n{\n            'v': 16.8,\n            'f': \"16.8\",\n        },\n\"1977-01-01 00:00:00\",\n\"Japan\"],\n [{\n            'v': 233,\n            'f': \"233\",\n        },\n\"buick skylark\",\n{\n            'v': 20.5,\n            'f': \"20.5\",\n        },\n{\n            'v': 6,\n            'f': \"6\",\n        },\n{\n            'v': 231.0,\n            'f': \"231.0\",\n        },\n{\n            'v': 105.0,\n            'f': \"105.0\",\n        },\n{\n            'v': 3425,\n            'f': \"3425\",\n        },\n{\n            'v': 16.9,\n            'f': \"16.9\",\n        },\n\"1977-01-01 00:00:00\",\n\"USA\"],\n [{\n            'v': 240,\n            'f': \"240\",\n        },\n\"volkswagen rabbit custom\",\n{\n            'v': 29.0,\n            'f': \"29.0\",\n        },\n{\n            'v': 4,\n            'f': \"4\",\n        },\n{\n            'v': 97.0,\n            'f': \"97.0\",\n        },\n{\n            'v': 78.0,\n            'f': \"78.0\",\n        },\n{\n            'v': 1940,\n            'f': \"1940\",\n        },\n{\n            'v': 14.5,\n            'f': \"14.5\",\n        },\n\"1977-01-01 00:00:00\",\n\"Europe\"],\n [{\n            'v': 241,\n            'f': \"241\",\n        },\n\"pontiac sunbird coupe\",\n{\n            'v': 24.5,\n            'f': \"24.5\",\n        },\n{\n            'v': 4,\n            'f': \"4\",\n        },\n{\n            'v': 151.0,\n            'f': \"151.0\",\n        },\n{\n            'v': 88.0,\n            'f': \"88.0\",\n        },\n{\n            'v': 2740,\n            'f': \"2740\",\n        },\n{\n            'v': 16.0,\n            'f': \"16.0\",\n        },\n\"1977-01-01 00:00:00\",\n\"USA\"],\n [{\n            'v': 242,\n            'f': \"242\",\n        },\n\"toyota corolla liftback\",\n{\n            'v': 26.0,\n            'f': \"26.0\",\n        },\n{\n            'v': 4,\n            'f': \"4\",\n        },\n{\n            'v': 97.0,\n            'f': \"97.0\",\n        },\n{\n            'v': 75.0,\n            'f': \"75.0\",\n        },\n{\n            'v': 2265,\n            'f': \"2265\",\n        },\n{\n            'v': 18.2,\n            'f': \"18.2\",\n        },\n\"1977-01-01 00:00:00\",\n\"Japan\"],\n [{\n            'v': 243,\n            'f': \"243\",\n        },\n\"ford mustang ii 2+2\",\n{\n            'v': 25.5,\n            'f': \"25.5\",\n        },\n{\n            'v': 4,\n            'f': \"4\",\n        },\n{\n            'v': 140.0,\n            'f': \"140.0\",\n        },\n{\n            'v': 89.0,\n            'f': \"89.0\",\n        },\n{\n            'v': 2755,\n            'f': \"2755\",\n        },\n{\n            'v': 15.8,\n            'f': \"15.8\",\n        },\n\"1977-01-01 00:00:00\",\n\"USA\"],\n [{\n            'v': 244,\n            'f': \"244\",\n        },\n\"chevrolet chevette\",\n{\n            'v': 30.5,\n            'f': \"30.5\",\n        },\n{\n            'v': 4,\n            'f': \"4\",\n        },\n{\n            'v': 98.0,\n            'f': \"98.0\",\n        },\n{\n            'v': 63.0,\n            'f': \"63.0\",\n        },\n{\n            'v': 2051,\n            'f': \"2051\",\n        },\n{\n            'v': 17.0,\n            'f': \"17.0\",\n        },\n\"1977-01-01 00:00:00\",\n\"USA\"],\n [{\n            'v': 245,\n            'f': \"245\",\n        },\n\"dodge colt m/m\",\n{\n            'v': 33.5,\n            'f': \"33.5\",\n        },\n{\n            'v': 4,\n            'f': \"4\",\n        },\n{\n            'v': 98.0,\n            'f': \"98.0\",\n        },\n{\n            'v': 83.0,\n            'f': \"83.0\",\n        },\n{\n            'v': 2075,\n            'f': \"2075\",\n        },\n{\n            'v': 15.9,\n            'f': \"15.9\",\n        },\n\"1977-01-01 00:00:00\",\n\"USA\"],\n [{\n            'v': 246,\n            'f': \"246\",\n        },\n\"subaru dl\",\n{\n            'v': 30.0,\n            'f': \"30.0\",\n        },\n{\n            'v': 4,\n            'f': \"4\",\n        },\n{\n            'v': 97.0,\n            'f': \"97.0\",\n        },\n{\n            'v': 67.0,\n            'f': \"67.0\",\n        },\n{\n            'v': 1985,\n            'f': \"1985\",\n        },\n{\n            'v': 16.4,\n            'f': \"16.4\",\n        },\n\"1977-01-01 00:00:00\",\n\"Japan\"],\n [{\n            'v': 247,\n            'f': \"247\",\n        },\n\"volkswagen dasher\",\n{\n            'v': 30.5,\n            'f': \"30.5\",\n        },\n{\n            'v': 4,\n            'f': \"4\",\n        },\n{\n            'v': 97.0,\n            'f': \"97.0\",\n        },\n{\n            'v': 78.0,\n            'f': \"78.0\",\n        },\n{\n            'v': 2190,\n            'f': \"2190\",\n        },\n{\n            'v': 14.1,\n            'f': \"14.1\",\n        },\n\"1977-01-01 00:00:00\",\n\"Europe\"],\n [{\n            'v': 248,\n            'f': \"248\",\n        },\n\"datsun 810\",\n{\n            'v': 22.0,\n            'f': \"22.0\",\n        },\n{\n            'v': 6,\n            'f': \"6\",\n        },\n{\n            'v': 146.0,\n            'f': \"146.0\",\n        },\n{\n            'v': 97.0,\n            'f': \"97.0\",\n        },\n{\n            'v': 2815,\n            'f': \"2815\",\n        },\n{\n            'v': 14.5,\n            'f': \"14.5\",\n        },\n\"1977-01-01 00:00:00\",\n\"Japan\"],\n [{\n            'v': 249,\n            'f': \"249\",\n        },\n\"bmw 320i\",\n{\n            'v': 21.5,\n            'f': \"21.5\",\n        },\n{\n            'v': 4,\n            'f': \"4\",\n        },\n{\n            'v': 121.0,\n            'f': \"121.0\",\n        },\n{\n            'v': 110.0,\n            'f': \"110.0\",\n        },\n{\n            'v': 2600,\n            'f': \"2600\",\n        },\n{\n            'v': 12.8,\n            'f': \"12.8\",\n        },\n\"1977-01-01 00:00:00\",\n\"Europe\"],\n [{\n            'v': 250,\n            'f': \"250\",\n        },\n\"mazda rx-4\",\n{\n            'v': 21.5,\n            'f': \"21.5\",\n        },\n{\n            'v': 3,\n            'f': \"3\",\n        },\n{\n            'v': 80.0,\n            'f': \"80.0\",\n        },\n{\n            'v': 110.0,\n            'f': \"110.0\",\n        },\n{\n            'v': 2720,\n            'f': \"2720\",\n        },\n{\n            'v': 13.5,\n            'f': \"13.5\",\n        },\n\"1977-01-01 00:00:00\",\n\"Japan\"],\n [{\n            'v': 251,\n            'f': \"251\",\n        },\n\"volkswagen rabbit custom diesel\",\n{\n            'v': 43.1,\n            'f': \"43.1\",\n        },\n{\n            'v': 4,\n            'f': \"4\",\n        },\n{\n            'v': 90.0,\n            'f': \"90.0\",\n        },\n{\n            'v': 48.0,\n            'f': \"48.0\",\n        },\n{\n            'v': 1985,\n            'f': \"1985\",\n        },\n{\n            'v': 21.5,\n            'f': \"21.5\",\n        },\n\"1978-01-01 00:00:00\",\n\"Europe\"],\n [{\n            'v': 252,\n            'f': \"252\",\n        },\n\"ford fiesta\",\n{\n            'v': 36.1,\n            'f': \"36.1\",\n        },\n{\n            'v': 4,\n            'f': \"4\",\n        },\n{\n            'v': 98.0,\n            'f': \"98.0\",\n        },\n{\n            'v': 66.0,\n            'f': \"66.0\",\n        },\n{\n            'v': 1800,\n            'f': \"1800\",\n        },\n{\n            'v': 14.4,\n            'f': \"14.4\",\n        },\n\"1978-01-01 00:00:00\",\n\"USA\"],\n [{\n            'v': 253,\n            'f': \"253\",\n        },\n\"mazda glc deluxe\",\n{\n            'v': 32.8,\n            'f': \"32.8\",\n        },\n{\n            'v': 4,\n            'f': \"4\",\n        },\n{\n            'v': 78.0,\n            'f': \"78.0\",\n        },\n{\n            'v': 52.0,\n            'f': \"52.0\",\n        },\n{\n            'v': 1985,\n            'f': \"1985\",\n        },\n{\n            'v': 19.4,\n            'f': \"19.4\",\n        },\n\"1978-01-01 00:00:00\",\n\"Japan\"],\n [{\n            'v': 254,\n            'f': \"254\",\n        },\n\"datsun b210 gx\",\n{\n            'v': 39.4,\n            'f': \"39.4\",\n        },\n{\n            'v': 4,\n            'f': \"4\",\n        },\n{\n            'v': 85.0,\n            'f': \"85.0\",\n        },\n{\n            'v': 70.0,\n            'f': \"70.0\",\n        },\n{\n            'v': 2070,\n            'f': \"2070\",\n        },\n{\n            'v': 18.6,\n            'f': \"18.6\",\n        },\n\"1978-01-01 00:00:00\",\n\"Japan\"],\n [{\n            'v': 255,\n            'f': \"255\",\n        },\n\"honda civic cvcc\",\n{\n            'v': 36.1,\n            'f': \"36.1\",\n        },\n{\n            'v': 4,\n            'f': \"4\",\n        },\n{\n            'v': 91.0,\n            'f': \"91.0\",\n        },\n{\n            'v': 60.0,\n            'f': \"60.0\",\n        },\n{\n            'v': 1800,\n            'f': \"1800\",\n        },\n{\n            'v': 16.4,\n            'f': \"16.4\",\n        },\n\"1978-01-01 00:00:00\",\n\"Japan\"],\n [{\n            'v': 258,\n            'f': \"258\",\n        },\n\"mercury monarch ghia\",\n{\n            'v': 20.2,\n            'f': \"20.2\",\n        },\n{\n            'v': 8,\n            'f': \"8\",\n        },\n{\n            'v': 302.0,\n            'f': \"302.0\",\n        },\n{\n            'v': 139.0,\n            'f': \"139.0\",\n        },\n{\n            'v': 3570,\n            'f': \"3570\",\n        },\n{\n            'v': 12.8,\n            'f': \"12.8\",\n        },\n\"1978-01-01 00:00:00\",\n\"USA\"],\n [{\n            'v': 260,\n            'f': \"260\",\n        },\n\"chevrolet malibu\",\n{\n            'v': 20.5,\n            'f': \"20.5\",\n        },\n{\n            'v': 6,\n            'f': \"6\",\n        },\n{\n            'v': 200.0,\n            'f': \"200.0\",\n        },\n{\n            'v': 95.0,\n            'f': \"95.0\",\n        },\n{\n            'v': 3155,\n            'f': \"3155\",\n        },\n{\n            'v': 18.2,\n            'f': \"18.2\",\n        },\n\"1978-01-01 00:00:00\",\n\"USA\"],\n [{\n            'v': 261,\n            'f': \"261\",\n        },\n\"ford fairmont (auto)\",\n{\n            'v': 20.2,\n            'f': \"20.2\",\n        },\n{\n            'v': 6,\n            'f': \"6\",\n        },\n{\n            'v': 200.0,\n            'f': \"200.0\",\n        },\n{\n            'v': 85.0,\n            'f': \"85.0\",\n        },\n{\n            'v': 2965,\n            'f': \"2965\",\n        },\n{\n            'v': 15.8,\n            'f': \"15.8\",\n        },\n\"1978-01-01 00:00:00\",\n\"USA\"],\n [{\n            'v': 262,\n            'f': \"262\",\n        },\n\"ford fairmont (man)\",\n{\n            'v': 25.1,\n            'f': \"25.1\",\n        },\n{\n            'v': 4,\n            'f': \"4\",\n        },\n{\n            'v': 140.0,\n            'f': \"140.0\",\n        },\n{\n            'v': 88.0,\n            'f': \"88.0\",\n        },\n{\n            'v': 2720,\n            'f': \"2720\",\n        },\n{\n            'v': 15.4,\n            'f': \"15.4\",\n        },\n\"1978-01-01 00:00:00\",\n\"USA\"],\n [{\n            'v': 263,\n            'f': \"263\",\n        },\n\"plymouth volare\",\n{\n            'v': 20.5,\n            'f': \"20.5\",\n        },\n{\n            'v': 6,\n            'f': \"6\",\n        },\n{\n            'v': 225.0,\n            'f': \"225.0\",\n        },\n{\n            'v': 100.0,\n            'f': \"100.0\",\n        },\n{\n            'v': 3430,\n            'f': \"3430\",\n        },\n{\n            'v': 17.2,\n            'f': \"17.2\",\n        },\n\"1978-01-01 00:00:00\",\n\"USA\"],\n [{\n            'v': 265,\n            'f': \"265\",\n        },\n\"buick century special\",\n{\n            'v': 20.6,\n            'f': \"20.6\",\n        },\n{\n            'v': 6,\n            'f': \"6\",\n        },\n{\n            'v': 231.0,\n            'f': \"231.0\",\n        },\n{\n            'v': 105.0,\n            'f': \"105.0\",\n        },\n{\n            'v': 3380,\n            'f': \"3380\",\n        },\n{\n            'v': 15.8,\n            'f': \"15.8\",\n        },\n\"1978-01-01 00:00:00\",\n\"USA\"],\n [{\n            'v': 266,\n            'f': \"266\",\n        },\n\"mercury zephyr\",\n{\n            'v': 20.8,\n            'f': \"20.8\",\n        },\n{\n            'v': 6,\n            'f': \"6\",\n        },\n{\n            'v': 200.0,\n            'f': \"200.0\",\n        },\n{\n            'v': 85.0,\n            'f': \"85.0\",\n        },\n{\n            'v': 3070,\n            'f': \"3070\",\n        },\n{\n            'v': 16.7,\n            'f': \"16.7\",\n        },\n\"1978-01-01 00:00:00\",\n\"USA\"],\n [{\n            'v': 273,\n            'f': \"273\",\n        },\n\"chevrolet chevette\",\n{\n            'v': 30.0,\n            'f': \"30.0\",\n        },\n{\n            'v': 4,\n            'f': \"4\",\n        },\n{\n            'v': 98.0,\n            'f': \"98.0\",\n        },\n{\n            'v': 68.0,\n            'f': \"68.0\",\n        },\n{\n            'v': 2155,\n            'f': \"2155\",\n        },\n{\n            'v': 16.5,\n            'f': \"16.5\",\n        },\n\"1978-01-01 00:00:00\",\n\"USA\"],\n [{\n            'v': 274,\n            'f': \"274\",\n        },\n\"toyota corona\",\n{\n            'v': 27.5,\n            'f': \"27.5\",\n        },\n{\n            'v': 4,\n            'f': \"4\",\n        },\n{\n            'v': 134.0,\n            'f': \"134.0\",\n        },\n{\n            'v': 95.0,\n            'f': \"95.0\",\n        },\n{\n            'v': 2560,\n            'f': \"2560\",\n        },\n{\n            'v': 14.2,\n            'f': \"14.2\",\n        },\n\"1978-01-01 00:00:00\",\n\"Japan\"],\n [{\n            'v': 275,\n            'f': \"275\",\n        },\n\"datsun 510\",\n{\n            'v': 27.2,\n            'f': \"27.2\",\n        },\n{\n            'v': 4,\n            'f': \"4\",\n        },\n{\n            'v': 119.0,\n            'f': \"119.0\",\n        },\n{\n            'v': 97.0,\n            'f': \"97.0\",\n        },\n{\n            'v': 2300,\n            'f': \"2300\",\n        },\n{\n            'v': 14.7,\n            'f': \"14.7\",\n        },\n\"1978-01-01 00:00:00\",\n\"Japan\"],\n [{\n            'v': 276,\n            'f': \"276\",\n        },\n\"dodge omni\",\n{\n            'v': 30.9,\n            'f': \"30.9\",\n        },\n{\n            'v': 4,\n            'f': \"4\",\n        },\n{\n            'v': 105.0,\n            'f': \"105.0\",\n        },\n{\n            'v': 75.0,\n            'f': \"75.0\",\n        },\n{\n            'v': 2230,\n            'f': \"2230\",\n        },\n{\n            'v': 14.5,\n            'f': \"14.5\",\n        },\n\"1978-01-01 00:00:00\",\n\"USA\"],\n [{\n            'v': 277,\n            'f': \"277\",\n        },\n\"toyota celica gt liftback\",\n{\n            'v': 21.1,\n            'f': \"21.1\",\n        },\n{\n            'v': 4,\n            'f': \"4\",\n        },\n{\n            'v': 134.0,\n            'f': \"134.0\",\n        },\n{\n            'v': 95.0,\n            'f': \"95.0\",\n        },\n{\n            'v': 2515,\n            'f': \"2515\",\n        },\n{\n            'v': 14.8,\n            'f': \"14.8\",\n        },\n\"1978-01-01 00:00:00\",\n\"Japan\"],\n [{\n            'v': 278,\n            'f': \"278\",\n        },\n\"plymouth sapporo\",\n{\n            'v': 23.2,\n            'f': \"23.2\",\n        },\n{\n            'v': 4,\n            'f': \"4\",\n        },\n{\n            'v': 156.0,\n            'f': \"156.0\",\n        },\n{\n            'v': 105.0,\n            'f': \"105.0\",\n        },\n{\n            'v': 2745,\n            'f': \"2745\",\n        },\n{\n            'v': 16.7,\n            'f': \"16.7\",\n        },\n\"1978-01-01 00:00:00\",\n\"USA\"],\n [{\n            'v': 279,\n            'f': \"279\",\n        },\n\"oldsmobile starfire sx\",\n{\n            'v': 23.8,\n            'f': \"23.8\",\n        },\n{\n            'v': 4,\n            'f': \"4\",\n        },\n{\n            'v': 151.0,\n            'f': \"151.0\",\n        },\n{\n            'v': 85.0,\n            'f': \"85.0\",\n        },\n{\n            'v': 2855,\n            'f': \"2855\",\n        },\n{\n            'v': 17.6,\n            'f': \"17.6\",\n        },\n\"1978-01-01 00:00:00\",\n\"USA\"],\n [{\n            'v': 280,\n            'f': \"280\",\n        },\n\"datsun 200-sx\",\n{\n            'v': 23.9,\n            'f': \"23.9\",\n        },\n{\n            'v': 4,\n            'f': \"4\",\n        },\n{\n            'v': 119.0,\n            'f': \"119.0\",\n        },\n{\n            'v': 97.0,\n            'f': \"97.0\",\n        },\n{\n            'v': 2405,\n            'f': \"2405\",\n        },\n{\n            'v': 14.9,\n            'f': \"14.9\",\n        },\n\"1978-01-01 00:00:00\",\n\"Japan\"],\n [{\n            'v': 281,\n            'f': \"281\",\n        },\n\"audi 5000\",\n{\n            'v': 20.3,\n            'f': \"20.3\",\n        },\n{\n            'v': 5,\n            'f': \"5\",\n        },\n{\n            'v': 131.0,\n            'f': \"131.0\",\n        },\n{\n            'v': 103.0,\n            'f': \"103.0\",\n        },\n{\n            'v': 2830,\n            'f': \"2830\",\n        },\n{\n            'v': 15.9,\n            'f': \"15.9\",\n        },\n\"1978-01-01 00:00:00\",\n\"Europe\"],\n [{\n            'v': 283,\n            'f': \"283\",\n        },\n\"saab 99gle\",\n{\n            'v': 21.6,\n            'f': \"21.6\",\n        },\n{\n            'v': 4,\n            'f': \"4\",\n        },\n{\n            'v': 121.0,\n            'f': \"121.0\",\n        },\n{\n            'v': 115.0,\n            'f': \"115.0\",\n        },\n{\n            'v': 2795,\n            'f': \"2795\",\n        },\n{\n            'v': 15.7,\n            'f': \"15.7\",\n        },\n\"1978-01-01 00:00:00\",\n\"Europe\"],\n [{\n            'v': 285,\n            'f': \"285\",\n        },\n\"volkswagen scirocco\",\n{\n            'v': 31.5,\n            'f': \"31.5\",\n        },\n{\n            'v': 4,\n            'f': \"4\",\n        },\n{\n            'v': 89.0,\n            'f': \"89.0\",\n        },\n{\n            'v': 71.0,\n            'f': \"71.0\",\n        },\n{\n            'v': 1990,\n            'f': \"1990\",\n        },\n{\n            'v': 14.9,\n            'f': \"14.9\",\n        },\n\"1978-01-01 00:00:00\",\n\"Europe\"],\n [{\n            'v': 286,\n            'f': \"286\",\n        },\n\"honda Accelerationord lx\",\n{\n            'v': 29.5,\n            'f': \"29.5\",\n        },\n{\n            'v': 4,\n            'f': \"4\",\n        },\n{\n            'v': 98.0,\n            'f': \"98.0\",\n        },\n{\n            'v': 68.0,\n            'f': \"68.0\",\n        },\n{\n            'v': 2135,\n            'f': \"2135\",\n        },\n{\n            'v': 16.6,\n            'f': \"16.6\",\n        },\n\"1978-01-01 00:00:00\",\n\"Japan\"],\n [{\n            'v': 287,\n            'f': \"287\",\n        },\n\"pontiac lemans v6\",\n{\n            'v': 21.5,\n            'f': \"21.5\",\n        },\n{\n            'v': 6,\n            'f': \"6\",\n        },\n{\n            'v': 231.0,\n            'f': \"231.0\",\n        },\n{\n            'v': 115.0,\n            'f': \"115.0\",\n        },\n{\n            'v': 3245,\n            'f': \"3245\",\n        },\n{\n            'v': 15.4,\n            'f': \"15.4\",\n        },\n\"1979-01-01 00:00:00\",\n\"USA\"],\n [{\n            'v': 289,\n            'f': \"289\",\n        },\n\"ford fairmont 4\",\n{\n            'v': 22.3,\n            'f': \"22.3\",\n        },\n{\n            'v': 4,\n            'f': \"4\",\n        },\n{\n            'v': 140.0,\n            'f': \"140.0\",\n        },\n{\n            'v': 88.0,\n            'f': \"88.0\",\n        },\n{\n            'v': 2890,\n            'f': \"2890\",\n        },\n{\n            'v': 17.3,\n            'f': \"17.3\",\n        },\n\"1979-01-01 00:00:00\",\n\"USA\"],\n [{\n            'v': 290,\n            'f': \"290\",\n        },\n\"amc concord dl 6\",\n{\n            'v': 20.2,\n            'f': \"20.2\",\n        },\n{\n            'v': 6,\n            'f': \"6\",\n        },\n{\n            'v': 232.0,\n            'f': \"232.0\",\n        },\n{\n            'v': 90.0,\n            'f': \"90.0\",\n        },\n{\n            'v': 3265,\n            'f': \"3265\",\n        },\n{\n            'v': 18.2,\n            'f': \"18.2\",\n        },\n\"1979-01-01 00:00:00\",\n\"USA\"],\n [{\n            'v': 291,\n            'f': \"291\",\n        },\n\"dodge aspen 6\",\n{\n            'v': 20.6,\n            'f': \"20.6\",\n        },\n{\n            'v': 6,\n            'f': \"6\",\n        },\n{\n            'v': 225.0,\n            'f': \"225.0\",\n        },\n{\n            'v': 110.0,\n            'f': \"110.0\",\n        },\n{\n            'v': 3360,\n            'f': \"3360\",\n        },\n{\n            'v': 16.6,\n            'f': \"16.6\",\n        },\n\"1979-01-01 00:00:00\",\n\"USA\"],\n [{\n            'v': 300,\n            'f': \"300\",\n        },\n\"vw rabbit custom\",\n{\n            'v': 31.9,\n            'f': \"31.9\",\n        },\n{\n            'v': 4,\n            'f': \"4\",\n        },\n{\n            'v': 89.0,\n            'f': \"89.0\",\n        },\n{\n            'v': 71.0,\n            'f': \"71.0\",\n        },\n{\n            'v': 1925,\n            'f': \"1925\",\n        },\n{\n            'v': 14.0,\n            'f': \"14.0\",\n        },\n\"1979-01-01 00:00:00\",\n\"Europe\"],\n [{\n            'v': 301,\n            'f': \"301\",\n        },\n\"maxda glc deluxe\",\n{\n            'v': 34.1,\n            'f': \"34.1\",\n        },\n{\n            'v': 4,\n            'f': \"4\",\n        },\n{\n            'v': 86.0,\n            'f': \"86.0\",\n        },\n{\n            'v': 65.0,\n            'f': \"65.0\",\n        },\n{\n            'v': 1975,\n            'f': \"1975\",\n        },\n{\n            'v': 15.2,\n            'f': \"15.2\",\n        },\n\"1979-01-01 00:00:00\",\n\"Japan\"],\n [{\n            'v': 302,\n            'f': \"302\",\n        },\n\"dodge colt hatchback custom\",\n{\n            'v': 35.7,\n            'f': \"35.7\",\n        },\n{\n            'v': 4,\n            'f': \"4\",\n        },\n{\n            'v': 98.0,\n            'f': \"98.0\",\n        },\n{\n            'v': 80.0,\n            'f': \"80.0\",\n        },\n{\n            'v': 1915,\n            'f': \"1915\",\n        },\n{\n            'v': 14.4,\n            'f': \"14.4\",\n        },\n\"1979-01-01 00:00:00\",\n\"USA\"],\n [{\n            'v': 303,\n            'f': \"303\",\n        },\n\"amc spirit dl\",\n{\n            'v': 27.4,\n            'f': \"27.4\",\n        },\n{\n            'v': 4,\n            'f': \"4\",\n        },\n{\n            'v': 121.0,\n            'f': \"121.0\",\n        },\n{\n            'v': 80.0,\n            'f': \"80.0\",\n        },\n{\n            'v': 2670,\n            'f': \"2670\",\n        },\n{\n            'v': 15.0,\n            'f': \"15.0\",\n        },\n\"1979-01-01 00:00:00\",\n\"USA\"],\n [{\n            'v': 304,\n            'f': \"304\",\n        },\n\"mercedes benz 300d\",\n{\n            'v': 25.4,\n            'f': \"25.4\",\n        },\n{\n            'v': 5,\n            'f': \"5\",\n        },\n{\n            'v': 183.0,\n            'f': \"183.0\",\n        },\n{\n            'v': 77.0,\n            'f': \"77.0\",\n        },\n{\n            'v': 3530,\n            'f': \"3530\",\n        },\n{\n            'v': 20.1,\n            'f': \"20.1\",\n        },\n\"1979-01-01 00:00:00\",\n\"Europe\"],\n [{\n            'v': 305,\n            'f': \"305\",\n        },\n\"cadillac eldorado\",\n{\n            'v': 23.0,\n            'f': \"23.0\",\n        },\n{\n            'v': 8,\n            'f': \"8\",\n        },\n{\n            'v': 350.0,\n            'f': \"350.0\",\n        },\n{\n            'v': 125.0,\n            'f': \"125.0\",\n        },\n{\n            'v': 3900,\n            'f': \"3900\",\n        },\n{\n            'v': 17.4,\n            'f': \"17.4\",\n        },\n\"1979-01-01 00:00:00\",\n\"USA\"],\n [{\n            'v': 306,\n            'f': \"306\",\n        },\n\"peugeot 504\",\n{\n            'v': 27.2,\n            'f': \"27.2\",\n        },\n{\n            'v': 4,\n            'f': \"4\",\n        },\n{\n            'v': 141.0,\n            'f': \"141.0\",\n        },\n{\n            'v': 71.0,\n            'f': \"71.0\",\n        },\n{\n            'v': 3190,\n            'f': \"3190\",\n        },\n{\n            'v': 24.8,\n            'f': \"24.8\",\n        },\n\"1979-01-01 00:00:00\",\n\"Europe\"],\n [{\n            'v': 307,\n            'f': \"307\",\n        },\n\"oldsmobile cutlass salon brougham\",\n{\n            'v': 23.9,\n            'f': \"23.9\",\n        },\n{\n            'v': 8,\n            'f': \"8\",\n        },\n{\n            'v': 260.0,\n            'f': \"260.0\",\n        },\n{\n            'v': 90.0,\n            'f': \"90.0\",\n        },\n{\n            'v': 3420,\n            'f': \"3420\",\n        },\n{\n            'v': 22.2,\n            'f': \"22.2\",\n        },\n\"1979-01-01 00:00:00\",\n\"USA\"],\n [{\n            'v': 308,\n            'f': \"308\",\n        },\n\"plymouth horizon\",\n{\n            'v': 34.2,\n            'f': \"34.2\",\n        },\n{\n            'v': 4,\n            'f': \"4\",\n        },\n{\n            'v': 105.0,\n            'f': \"105.0\",\n        },\n{\n            'v': 70.0,\n            'f': \"70.0\",\n        },\n{\n            'v': 2200,\n            'f': \"2200\",\n        },\n{\n            'v': 13.2,\n            'f': \"13.2\",\n        },\n\"1979-01-01 00:00:00\",\n\"USA\"],\n [{\n            'v': 309,\n            'f': \"309\",\n        },\n\"plymouth horizon tc3\",\n{\n            'v': 34.5,\n            'f': \"34.5\",\n        },\n{\n            'v': 4,\n            'f': \"4\",\n        },\n{\n            'v': 105.0,\n            'f': \"105.0\",\n        },\n{\n            'v': 70.0,\n            'f': \"70.0\",\n        },\n{\n            'v': 2150,\n            'f': \"2150\",\n        },\n{\n            'v': 14.9,\n            'f': \"14.9\",\n        },\n\"1979-01-01 00:00:00\",\n\"USA\"],\n [{\n            'v': 310,\n            'f': \"310\",\n        },\n\"datsun 210\",\n{\n            'v': 31.8,\n            'f': \"31.8\",\n        },\n{\n            'v': 4,\n            'f': \"4\",\n        },\n{\n            'v': 85.0,\n            'f': \"85.0\",\n        },\n{\n            'v': 65.0,\n            'f': \"65.0\",\n        },\n{\n            'v': 2020,\n            'f': \"2020\",\n        },\n{\n            'v': 19.2,\n            'f': \"19.2\",\n        },\n\"1979-01-01 00:00:00\",\n\"Japan\"],\n [{\n            'v': 311,\n            'f': \"311\",\n        },\n\"fiat strada custom\",\n{\n            'v': 37.3,\n            'f': \"37.3\",\n        },\n{\n            'v': 4,\n            'f': \"4\",\n        },\n{\n            'v': 91.0,\n            'f': \"91.0\",\n        },\n{\n            'v': 69.0,\n            'f': \"69.0\",\n        },\n{\n            'v': 2130,\n            'f': \"2130\",\n        },\n{\n            'v': 14.7,\n            'f': \"14.7\",\n        },\n\"1979-01-01 00:00:00\",\n\"Europe\"],\n [{\n            'v': 312,\n            'f': \"312\",\n        },\n\"buick skylark limited\",\n{\n            'v': 28.4,\n            'f': \"28.4\",\n        },\n{\n            'v': 4,\n            'f': \"4\",\n        },\n{\n            'v': 151.0,\n            'f': \"151.0\",\n        },\n{\n            'v': 90.0,\n            'f': \"90.0\",\n        },\n{\n            'v': 2670,\n            'f': \"2670\",\n        },\n{\n            'v': 16.0,\n            'f': \"16.0\",\n        },\n\"1979-01-01 00:00:00\",\n\"USA\"],\n [{\n            'v': 313,\n            'f': \"313\",\n        },\n\"chevrolet citation\",\n{\n            'v': 28.8,\n            'f': \"28.8\",\n        },\n{\n            'v': 6,\n            'f': \"6\",\n        },\n{\n            'v': 173.0,\n            'f': \"173.0\",\n        },\n{\n            'v': 115.0,\n            'f': \"115.0\",\n        },\n{\n            'v': 2595,\n            'f': \"2595\",\n        },\n{\n            'v': 11.3,\n            'f': \"11.3\",\n        },\n\"1979-01-01 00:00:00\",\n\"USA\"],\n [{\n            'v': 314,\n            'f': \"314\",\n        },\n\"oldsmobile omega brougham\",\n{\n            'v': 26.8,\n            'f': \"26.8\",\n        },\n{\n            'v': 6,\n            'f': \"6\",\n        },\n{\n            'v': 173.0,\n            'f': \"173.0\",\n        },\n{\n            'v': 115.0,\n            'f': \"115.0\",\n        },\n{\n            'v': 2700,\n            'f': \"2700\",\n        },\n{\n            'v': 12.9,\n            'f': \"12.9\",\n        },\n\"1979-01-01 00:00:00\",\n\"USA\"],\n [{\n            'v': 315,\n            'f': \"315\",\n        },\n\"pontiac phoenix\",\n{\n            'v': 33.5,\n            'f': \"33.5\",\n        },\n{\n            'v': 4,\n            'f': \"4\",\n        },\n{\n            'v': 151.0,\n            'f': \"151.0\",\n        },\n{\n            'v': 90.0,\n            'f': \"90.0\",\n        },\n{\n            'v': 2556,\n            'f': \"2556\",\n        },\n{\n            'v': 13.2,\n            'f': \"13.2\",\n        },\n\"1979-01-01 00:00:00\",\n\"USA\"],\n [{\n            'v': 316,\n            'f': \"316\",\n        },\n\"vw rabbit\",\n{\n            'v': 41.5,\n            'f': \"41.5\",\n        },\n{\n            'v': 4,\n            'f': \"4\",\n        },\n{\n            'v': 98.0,\n            'f': \"98.0\",\n        },\n{\n            'v': 76.0,\n            'f': \"76.0\",\n        },\n{\n            'v': 2144,\n            'f': \"2144\",\n        },\n{\n            'v': 14.7,\n            'f': \"14.7\",\n        },\n\"1980-01-01 00:00:00\",\n\"Europe\"],\n [{\n            'v': 317,\n            'f': \"317\",\n        },\n\"toyota corolla tercel\",\n{\n            'v': 38.1,\n            'f': \"38.1\",\n        },\n{\n            'v': 4,\n            'f': \"4\",\n        },\n{\n            'v': 89.0,\n            'f': \"89.0\",\n        },\n{\n            'v': 60.0,\n            'f': \"60.0\",\n        },\n{\n            'v': 1968,\n            'f': \"1968\",\n        },\n{\n            'v': 18.8,\n            'f': \"18.8\",\n        },\n\"1980-01-01 00:00:00\",\n\"Japan\"],\n [{\n            'v': 318,\n            'f': \"318\",\n        },\n\"chevrolet chevette\",\n{\n            'v': 32.1,\n            'f': \"32.1\",\n        },\n{\n            'v': 4,\n            'f': \"4\",\n        },\n{\n            'v': 98.0,\n            'f': \"98.0\",\n        },\n{\n            'v': 70.0,\n            'f': \"70.0\",\n        },\n{\n            'v': 2120,\n            'f': \"2120\",\n        },\n{\n            'v': 15.5,\n            'f': \"15.5\",\n        },\n\"1980-01-01 00:00:00\",\n\"USA\"],\n [{\n            'v': 319,\n            'f': \"319\",\n        },\n\"datsun 310\",\n{\n            'v': 37.2,\n            'f': \"37.2\",\n        },\n{\n            'v': 4,\n            'f': \"4\",\n        },\n{\n            'v': 86.0,\n            'f': \"86.0\",\n        },\n{\n            'v': 65.0,\n            'f': \"65.0\",\n        },\n{\n            'v': 2019,\n            'f': \"2019\",\n        },\n{\n            'v': 16.4,\n            'f': \"16.4\",\n        },\n\"1980-01-01 00:00:00\",\n\"Japan\"],\n [{\n            'v': 320,\n            'f': \"320\",\n        },\n\"chevrolet citation\",\n{\n            'v': 28.0,\n            'f': \"28.0\",\n        },\n{\n            'v': 4,\n            'f': \"4\",\n        },\n{\n            'v': 151.0,\n            'f': \"151.0\",\n        },\n{\n            'v': 90.0,\n            'f': \"90.0\",\n        },\n{\n            'v': 2678,\n            'f': \"2678\",\n        },\n{\n            'v': 16.5,\n            'f': \"16.5\",\n        },\n\"1980-01-01 00:00:00\",\n\"USA\"],\n [{\n            'v': 321,\n            'f': \"321\",\n        },\n\"ford fairmont\",\n{\n            'v': 26.4,\n            'f': \"26.4\",\n        },\n{\n            'v': 4,\n            'f': \"4\",\n        },\n{\n            'v': 140.0,\n            'f': \"140.0\",\n        },\n{\n            'v': 88.0,\n            'f': \"88.0\",\n        },\n{\n            'v': 2870,\n            'f': \"2870\",\n        },\n{\n            'v': 18.1,\n            'f': \"18.1\",\n        },\n\"1980-01-01 00:00:00\",\n\"USA\"],\n [{\n            'v': 322,\n            'f': \"322\",\n        },\n\"amc concord\",\n{\n            'v': 24.3,\n            'f': \"24.3\",\n        },\n{\n            'v': 4,\n            'f': \"4\",\n        },\n{\n            'v': 151.0,\n            'f': \"151.0\",\n        },\n{\n            'v': 90.0,\n            'f': \"90.0\",\n        },\n{\n            'v': 3003,\n            'f': \"3003\",\n        },\n{\n            'v': 20.1,\n            'f': \"20.1\",\n        },\n\"1980-01-01 00:00:00\",\n\"USA\"],\n [{\n            'v': 324,\n            'f': \"324\",\n        },\n\"audi 4000\",\n{\n            'v': 34.3,\n            'f': \"34.3\",\n        },\n{\n            'v': 4,\n            'f': \"4\",\n        },\n{\n            'v': 97.0,\n            'f': \"97.0\",\n        },\n{\n            'v': 78.0,\n            'f': \"78.0\",\n        },\n{\n            'v': 2188,\n            'f': \"2188\",\n        },\n{\n            'v': 15.8,\n            'f': \"15.8\",\n        },\n\"1980-01-01 00:00:00\",\n\"Europe\"],\n [{\n            'v': 325,\n            'f': \"325\",\n        },\n\"toyota corona liftback\",\n{\n            'v': 29.8,\n            'f': \"29.8\",\n        },\n{\n            'v': 4,\n            'f': \"4\",\n        },\n{\n            'v': 134.0,\n            'f': \"134.0\",\n        },\n{\n            'v': 90.0,\n            'f': \"90.0\",\n        },\n{\n            'v': 2711,\n            'f': \"2711\",\n        },\n{\n            'v': 15.5,\n            'f': \"15.5\",\n        },\n\"1980-01-01 00:00:00\",\n\"Japan\"],\n [{\n            'v': 326,\n            'f': \"326\",\n        },\n\"mazda 626\",\n{\n            'v': 31.3,\n            'f': \"31.3\",\n        },\n{\n            'v': 4,\n            'f': \"4\",\n        },\n{\n            'v': 120.0,\n            'f': \"120.0\",\n        },\n{\n            'v': 75.0,\n            'f': \"75.0\",\n        },\n{\n            'v': 2542,\n            'f': \"2542\",\n        },\n{\n            'v': 17.5,\n            'f': \"17.5\",\n        },\n\"1980-01-01 00:00:00\",\n\"Japan\"],\n [{\n            'v': 327,\n            'f': \"327\",\n        },\n\"datsun 510 hatchback\",\n{\n            'v': 37.0,\n            'f': \"37.0\",\n        },\n{\n            'v': 4,\n            'f': \"4\",\n        },\n{\n            'v': 119.0,\n            'f': \"119.0\",\n        },\n{\n            'v': 92.0,\n            'f': \"92.0\",\n        },\n{\n            'v': 2434,\n            'f': \"2434\",\n        },\n{\n            'v': 15.0,\n            'f': \"15.0\",\n        },\n\"1980-01-01 00:00:00\",\n\"Japan\"],\n [{\n            'v': 328,\n            'f': \"328\",\n        },\n\"toyota corolla\",\n{\n            'v': 32.2,\n            'f': \"32.2\",\n        },\n{\n            'v': 4,\n            'f': \"4\",\n        },\n{\n            'v': 108.0,\n            'f': \"108.0\",\n        },\n{\n            'v': 75.0,\n            'f': \"75.0\",\n        },\n{\n            'v': 2265,\n            'f': \"2265\",\n        },\n{\n            'v': 15.2,\n            'f': \"15.2\",\n        },\n\"1980-01-01 00:00:00\",\n\"Japan\"],\n [{\n            'v': 329,\n            'f': \"329\",\n        },\n\"mazda glc\",\n{\n            'v': 46.6,\n            'f': \"46.6\",\n        },\n{\n            'v': 4,\n            'f': \"4\",\n        },\n{\n            'v': 86.0,\n            'f': \"86.0\",\n        },\n{\n            'v': 65.0,\n            'f': \"65.0\",\n        },\n{\n            'v': 2110,\n            'f': \"2110\",\n        },\n{\n            'v': 17.9,\n            'f': \"17.9\",\n        },\n\"1980-01-01 00:00:00\",\n\"Japan\"],\n [{\n            'v': 330,\n            'f': \"330\",\n        },\n\"dodge colt\",\n{\n            'v': 27.9,\n            'f': \"27.9\",\n        },\n{\n            'v': 4,\n            'f': \"4\",\n        },\n{\n            'v': 156.0,\n            'f': \"156.0\",\n        },\n{\n            'v': 105.0,\n            'f': \"105.0\",\n        },\n{\n            'v': 2800,\n            'f': \"2800\",\n        },\n{\n            'v': 14.4,\n            'f': \"14.4\",\n        },\n\"1980-01-01 00:00:00\",\n\"USA\"],\n [{\n            'v': 331,\n            'f': \"331\",\n        },\n\"datsun 210\",\n{\n            'v': 40.8,\n            'f': \"40.8\",\n        },\n{\n            'v': 4,\n            'f': \"4\",\n        },\n{\n            'v': 85.0,\n            'f': \"85.0\",\n        },\n{\n            'v': 65.0,\n            'f': \"65.0\",\n        },\n{\n            'v': 2110,\n            'f': \"2110\",\n        },\n{\n            'v': 19.2,\n            'f': \"19.2\",\n        },\n\"1980-01-01 00:00:00\",\n\"Japan\"],\n [{\n            'v': 332,\n            'f': \"332\",\n        },\n\"vw rabbit c (diesel)\",\n{\n            'v': 44.3,\n            'f': \"44.3\",\n        },\n{\n            'v': 4,\n            'f': \"4\",\n        },\n{\n            'v': 90.0,\n            'f': \"90.0\",\n        },\n{\n            'v': 48.0,\n            'f': \"48.0\",\n        },\n{\n            'v': 2085,\n            'f': \"2085\",\n        },\n{\n            'v': 21.7,\n            'f': \"21.7\",\n        },\n\"1980-01-01 00:00:00\",\n\"Europe\"],\n [{\n            'v': 333,\n            'f': \"333\",\n        },\n\"vw dasher (diesel)\",\n{\n            'v': 43.4,\n            'f': \"43.4\",\n        },\n{\n            'v': 4,\n            'f': \"4\",\n        },\n{\n            'v': 90.0,\n            'f': \"90.0\",\n        },\n{\n            'v': 48.0,\n            'f': \"48.0\",\n        },\n{\n            'v': 2335,\n            'f': \"2335\",\n        },\n{\n            'v': 23.7,\n            'f': \"23.7\",\n        },\n\"1980-01-01 00:00:00\",\n\"Europe\"],\n [{\n            'v': 334,\n            'f': \"334\",\n        },\n\"audi 5000s (diesel)\",\n{\n            'v': 36.4,\n            'f': \"36.4\",\n        },\n{\n            'v': 5,\n            'f': \"5\",\n        },\n{\n            'v': 121.0,\n            'f': \"121.0\",\n        },\n{\n            'v': 67.0,\n            'f': \"67.0\",\n        },\n{\n            'v': 2950,\n            'f': \"2950\",\n        },\n{\n            'v': 19.9,\n            'f': \"19.9\",\n        },\n\"1980-01-01 00:00:00\",\n\"Europe\"],\n [{\n            'v': 335,\n            'f': \"335\",\n        },\n\"mercedes-benz 240d\",\n{\n            'v': 30.0,\n            'f': \"30.0\",\n        },\n{\n            'v': 4,\n            'f': \"4\",\n        },\n{\n            'v': 146.0,\n            'f': \"146.0\",\n        },\n{\n            'v': 67.0,\n            'f': \"67.0\",\n        },\n{\n            'v': 3250,\n            'f': \"3250\",\n        },\n{\n            'v': 21.8,\n            'f': \"21.8\",\n        },\n\"1980-01-01 00:00:00\",\n\"Europe\"],\n [{\n            'v': 336,\n            'f': \"336\",\n        },\n\"honda civic 1500 gl\",\n{\n            'v': 44.6,\n            'f': \"44.6\",\n        },\n{\n            'v': 4,\n            'f': \"4\",\n        },\n{\n            'v': 91.0,\n            'f': \"91.0\",\n        },\n{\n            'v': 67.0,\n            'f': \"67.0\",\n        },\n{\n            'v': 1850,\n            'f': \"1850\",\n        },\n{\n            'v': 13.8,\n            'f': \"13.8\",\n        },\n\"1980-01-01 00:00:00\",\n\"Japan\"],\n [{\n            'v': 337,\n            'f': \"337\",\n        },\n\"renault lecar deluxe\",\n{\n            'v': 40.9,\n            'f': \"40.9\",\n        },\n{\n            'v': 4,\n            'f': \"4\",\n        },\n{\n            'v': 85.0,\n            'f': \"85.0\",\n        },\n{\n            'v': NaN,\n            'f': \"NaN\",\n        },\n{\n            'v': 1835,\n            'f': \"1835\",\n        },\n{\n            'v': 17.3,\n            'f': \"17.3\",\n        },\n\"1980-01-01 00:00:00\",\n\"Europe\"],\n [{\n            'v': 338,\n            'f': \"338\",\n        },\n\"subaru dl\",\n{\n            'v': 33.8,\n            'f': \"33.8\",\n        },\n{\n            'v': 4,\n            'f': \"4\",\n        },\n{\n            'v': 97.0,\n            'f': \"97.0\",\n        },\n{\n            'v': 67.0,\n            'f': \"67.0\",\n        },\n{\n            'v': 2145,\n            'f': \"2145\",\n        },\n{\n            'v': 18.0,\n            'f': \"18.0\",\n        },\n\"1980-01-01 00:00:00\",\n\"Japan\"],\n [{\n            'v': 339,\n            'f': \"339\",\n        },\n\"vokswagen rabbit\",\n{\n            'v': 29.8,\n            'f': \"29.8\",\n        },\n{\n            'v': 4,\n            'f': \"4\",\n        },\n{\n            'v': 89.0,\n            'f': \"89.0\",\n        },\n{\n            'v': 62.0,\n            'f': \"62.0\",\n        },\n{\n            'v': 1845,\n            'f': \"1845\",\n        },\n{\n            'v': 15.3,\n            'f': \"15.3\",\n        },\n\"1980-01-01 00:00:00\",\n\"Europe\"],\n [{\n            'v': 340,\n            'f': \"340\",\n        },\n\"datsun 280-zx\",\n{\n            'v': 32.7,\n            'f': \"32.7\",\n        },\n{\n            'v': 6,\n            'f': \"6\",\n        },\n{\n            'v': 168.0,\n            'f': \"168.0\",\n        },\n{\n            'v': 132.0,\n            'f': \"132.0\",\n        },\n{\n            'v': 2910,\n            'f': \"2910\",\n        },\n{\n            'v': 11.4,\n            'f': \"11.4\",\n        },\n\"1980-01-01 00:00:00\",\n\"Japan\"],\n [{\n            'v': 341,\n            'f': \"341\",\n        },\n\"mazda rx-7 gs\",\n{\n            'v': 23.7,\n            'f': \"23.7\",\n        },\n{\n            'v': 3,\n            'f': \"3\",\n        },\n{\n            'v': 70.0,\n            'f': \"70.0\",\n        },\n{\n            'v': 100.0,\n            'f': \"100.0\",\n        },\n{\n            'v': 2420,\n            'f': \"2420\",\n        },\n{\n            'v': 12.5,\n            'f': \"12.5\",\n        },\n\"1980-01-01 00:00:00\",\n\"Japan\"],\n [{\n            'v': 342,\n            'f': \"342\",\n        },\n\"triumph tr7 coupe\",\n{\n            'v': 35.0,\n            'f': \"35.0\",\n        },\n{\n            'v': 4,\n            'f': \"4\",\n        },\n{\n            'v': 122.0,\n            'f': \"122.0\",\n        },\n{\n            'v': 88.0,\n            'f': \"88.0\",\n        },\n{\n            'v': 2500,\n            'f': \"2500\",\n        },\n{\n            'v': 15.1,\n            'f': \"15.1\",\n        },\n\"1980-01-01 00:00:00\",\n\"Europe\"],\n [{\n            'v': 343,\n            'f': \"343\",\n        },\n\"ford mustang cobra\",\n{\n            'v': 23.6,\n            'f': \"23.6\",\n        },\n{\n            'v': 4,\n            'f': \"4\",\n        },\n{\n            'v': 140.0,\n            'f': \"140.0\",\n        },\n{\n            'v': NaN,\n            'f': \"NaN\",\n        },\n{\n            'v': 2905,\n            'f': \"2905\",\n        },\n{\n            'v': 14.3,\n            'f': \"14.3\",\n        },\n\"1980-01-01 00:00:00\",\n\"USA\"],\n [{\n            'v': 344,\n            'f': \"344\",\n        },\n\"honda Accelerationord\",\n{\n            'v': 32.4,\n            'f': \"32.4\",\n        },\n{\n            'v': 4,\n            'f': \"4\",\n        },\n{\n            'v': 107.0,\n            'f': \"107.0\",\n        },\n{\n            'v': 72.0,\n            'f': \"72.0\",\n        },\n{\n            'v': 2290,\n            'f': \"2290\",\n        },\n{\n            'v': 17.0,\n            'f': \"17.0\",\n        },\n\"1980-01-01 00:00:00\",\n\"Japan\"],\n [{\n            'v': 345,\n            'f': \"345\",\n        },\n\"plymouth reliant\",\n{\n            'v': 27.2,\n            'f': \"27.2\",\n        },\n{\n            'v': 4,\n            'f': \"4\",\n        },\n{\n            'v': 135.0,\n            'f': \"135.0\",\n        },\n{\n            'v': 84.0,\n            'f': \"84.0\",\n        },\n{\n            'v': 2490,\n            'f': \"2490\",\n        },\n{\n            'v': 15.7,\n            'f': \"15.7\",\n        },\n\"1982-01-01 00:00:00\",\n\"USA\"],\n [{\n            'v': 346,\n            'f': \"346\",\n        },\n\"buick skylark\",\n{\n            'v': 26.6,\n            'f': \"26.6\",\n        },\n{\n            'v': 4,\n            'f': \"4\",\n        },\n{\n            'v': 151.0,\n            'f': \"151.0\",\n        },\n{\n            'v': 84.0,\n            'f': \"84.0\",\n        },\n{\n            'v': 2635,\n            'f': \"2635\",\n        },\n{\n            'v': 16.4,\n            'f': \"16.4\",\n        },\n\"1982-01-01 00:00:00\",\n\"USA\"],\n [{\n            'v': 347,\n            'f': \"347\",\n        },\n\"dodge aries wagon (sw)\",\n{\n            'v': 25.8,\n            'f': \"25.8\",\n        },\n{\n            'v': 4,\n            'f': \"4\",\n        },\n{\n            'v': 156.0,\n            'f': \"156.0\",\n        },\n{\n            'v': 92.0,\n            'f': \"92.0\",\n        },\n{\n            'v': 2620,\n            'f': \"2620\",\n        },\n{\n            'v': 14.4,\n            'f': \"14.4\",\n        },\n\"1982-01-01 00:00:00\",\n\"USA\"],\n [{\n            'v': 348,\n            'f': \"348\",\n        },\n\"chevrolet citation\",\n{\n            'v': 23.5,\n            'f': \"23.5\",\n        },\n{\n            'v': 6,\n            'f': \"6\",\n        },\n{\n            'v': 173.0,\n            'f': \"173.0\",\n        },\n{\n            'v': 110.0,\n            'f': \"110.0\",\n        },\n{\n            'v': 2725,\n            'f': \"2725\",\n        },\n{\n            'v': 12.6,\n            'f': \"12.6\",\n        },\n\"1982-01-01 00:00:00\",\n\"USA\"],\n [{\n            'v': 349,\n            'f': \"349\",\n        },\n\"plymouth reliant\",\n{\n            'v': 30.0,\n            'f': \"30.0\",\n        },\n{\n            'v': 4,\n            'f': \"4\",\n        },\n{\n            'v': 135.0,\n            'f': \"135.0\",\n        },\n{\n            'v': 84.0,\n            'f': \"84.0\",\n        },\n{\n            'v': 2385,\n            'f': \"2385\",\n        },\n{\n            'v': 12.9,\n            'f': \"12.9\",\n        },\n\"1982-01-01 00:00:00\",\n\"USA\"],\n [{\n            'v': 350,\n            'f': \"350\",\n        },\n\"toyota starlet\",\n{\n            'v': 39.1,\n            'f': \"39.1\",\n        },\n{\n            'v': 4,\n            'f': \"4\",\n        },\n{\n            'v': 79.0,\n            'f': \"79.0\",\n        },\n{\n            'v': 58.0,\n            'f': \"58.0\",\n        },\n{\n            'v': 1755,\n            'f': \"1755\",\n        },\n{\n            'v': 16.9,\n            'f': \"16.9\",\n        },\n\"1982-01-01 00:00:00\",\n\"Japan\"],\n [{\n            'v': 351,\n            'f': \"351\",\n        },\n\"plymouth champ\",\n{\n            'v': 39.0,\n            'f': \"39.0\",\n        },\n{\n            'v': 4,\n            'f': \"4\",\n        },\n{\n            'v': 86.0,\n            'f': \"86.0\",\n        },\n{\n            'v': 64.0,\n            'f': \"64.0\",\n        },\n{\n            'v': 1875,\n            'f': \"1875\",\n        },\n{\n            'v': 16.4,\n            'f': \"16.4\",\n        },\n\"1982-01-01 00:00:00\",\n\"USA\"],\n [{\n            'v': 352,\n            'f': \"352\",\n        },\n\"honda civic 1300\",\n{\n            'v': 35.1,\n            'f': \"35.1\",\n        },\n{\n            'v': 4,\n            'f': \"4\",\n        },\n{\n            'v': 81.0,\n            'f': \"81.0\",\n        },\n{\n            'v': 60.0,\n            'f': \"60.0\",\n        },\n{\n            'v': 1760,\n            'f': \"1760\",\n        },\n{\n            'v': 16.1,\n            'f': \"16.1\",\n        },\n\"1982-01-01 00:00:00\",\n\"Japan\"],\n [{\n            'v': 353,\n            'f': \"353\",\n        },\n\"subaru\",\n{\n            'v': 32.3,\n            'f': \"32.3\",\n        },\n{\n            'v': 4,\n            'f': \"4\",\n        },\n{\n            'v': 97.0,\n            'f': \"97.0\",\n        },\n{\n            'v': 67.0,\n            'f': \"67.0\",\n        },\n{\n            'v': 2065,\n            'f': \"2065\",\n        },\n{\n            'v': 17.8,\n            'f': \"17.8\",\n        },\n\"1982-01-01 00:00:00\",\n\"Japan\"],\n [{\n            'v': 354,\n            'f': \"354\",\n        },\n\"datsun 210\",\n{\n            'v': 37.0,\n            'f': \"37.0\",\n        },\n{\n            'v': 4,\n            'f': \"4\",\n        },\n{\n            'v': 85.0,\n            'f': \"85.0\",\n        },\n{\n            'v': 65.0,\n            'f': \"65.0\",\n        },\n{\n            'v': 1975,\n            'f': \"1975\",\n        },\n{\n            'v': 19.4,\n            'f': \"19.4\",\n        },\n\"1982-01-01 00:00:00\",\n\"Japan\"],\n [{\n            'v': 355,\n            'f': \"355\",\n        },\n\"toyota tercel\",\n{\n            'v': 37.7,\n            'f': \"37.7\",\n        },\n{\n            'v': 4,\n            'f': \"4\",\n        },\n{\n            'v': 89.0,\n            'f': \"89.0\",\n        },\n{\n            'v': 62.0,\n            'f': \"62.0\",\n        },\n{\n            'v': 2050,\n            'f': \"2050\",\n        },\n{\n            'v': 17.3,\n            'f': \"17.3\",\n        },\n\"1982-01-01 00:00:00\",\n\"Japan\"],\n [{\n            'v': 356,\n            'f': \"356\",\n        },\n\"mazda glc 4\",\n{\n            'v': 34.1,\n            'f': \"34.1\",\n        },\n{\n            'v': 4,\n            'f': \"4\",\n        },\n{\n            'v': 91.0,\n            'f': \"91.0\",\n        },\n{\n            'v': 68.0,\n            'f': \"68.0\",\n        },\n{\n            'v': 1985,\n            'f': \"1985\",\n        },\n{\n            'v': 16.0,\n            'f': \"16.0\",\n        },\n\"1982-01-01 00:00:00\",\n\"Japan\"],\n [{\n            'v': 357,\n            'f': \"357\",\n        },\n\"plymouth horizon 4\",\n{\n            'v': 34.7,\n            'f': \"34.7\",\n        },\n{\n            'v': 4,\n            'f': \"4\",\n        },\n{\n            'v': 105.0,\n            'f': \"105.0\",\n        },\n{\n            'v': 63.0,\n            'f': \"63.0\",\n        },\n{\n            'v': 2215,\n            'f': \"2215\",\n        },\n{\n            'v': 14.9,\n            'f': \"14.9\",\n        },\n\"1982-01-01 00:00:00\",\n\"USA\"],\n [{\n            'v': 358,\n            'f': \"358\",\n        },\n\"ford escort 4w\",\n{\n            'v': 34.4,\n            'f': \"34.4\",\n        },\n{\n            'v': 4,\n            'f': \"4\",\n        },\n{\n            'v': 98.0,\n            'f': \"98.0\",\n        },\n{\n            'v': 65.0,\n            'f': \"65.0\",\n        },\n{\n            'v': 2045,\n            'f': \"2045\",\n        },\n{\n            'v': 16.2,\n            'f': \"16.2\",\n        },\n\"1982-01-01 00:00:00\",\n\"USA\"],\n [{\n            'v': 359,\n            'f': \"359\",\n        },\n\"ford escort 2h\",\n{\n            'v': 29.9,\n            'f': \"29.9\",\n        },\n{\n            'v': 4,\n            'f': \"4\",\n        },\n{\n            'v': 98.0,\n            'f': \"98.0\",\n        },\n{\n            'v': 65.0,\n            'f': \"65.0\",\n        },\n{\n            'v': 2380,\n            'f': \"2380\",\n        },\n{\n            'v': 20.7,\n            'f': \"20.7\",\n        },\n\"1982-01-01 00:00:00\",\n\"USA\"],\n [{\n            'v': 360,\n            'f': \"360\",\n        },\n\"volkswagen jetta\",\n{\n            'v': 33.0,\n            'f': \"33.0\",\n        },\n{\n            'v': 4,\n            'f': \"4\",\n        },\n{\n            'v': 105.0,\n            'f': \"105.0\",\n        },\n{\n            'v': 74.0,\n            'f': \"74.0\",\n        },\n{\n            'v': 2190,\n            'f': \"2190\",\n        },\n{\n            'v': 14.2,\n            'f': \"14.2\",\n        },\n\"1982-01-01 00:00:00\",\n\"Europe\"],\n [{\n            'v': 361,\n            'f': \"361\",\n        },\n\"renault 18i\",\n{\n            'v': 34.5,\n            'f': \"34.5\",\n        },\n{\n            'v': 4,\n            'f': \"4\",\n        },\n{\n            'v': 100.0,\n            'f': \"100.0\",\n        },\n{\n            'v': NaN,\n            'f': \"NaN\",\n        },\n{\n            'v': 2320,\n            'f': \"2320\",\n        },\n{\n            'v': 15.8,\n            'f': \"15.8\",\n        },\n\"1982-01-01 00:00:00\",\n\"Europe\"],\n [{\n            'v': 362,\n            'f': \"362\",\n        },\n\"honda prelude\",\n{\n            'v': 33.7,\n            'f': \"33.7\",\n        },\n{\n            'v': 4,\n            'f': \"4\",\n        },\n{\n            'v': 107.0,\n            'f': \"107.0\",\n        },\n{\n            'v': 75.0,\n            'f': \"75.0\",\n        },\n{\n            'v': 2210,\n            'f': \"2210\",\n        },\n{\n            'v': 14.4,\n            'f': \"14.4\",\n        },\n\"1982-01-01 00:00:00\",\n\"Japan\"],\n [{\n            'v': 363,\n            'f': \"363\",\n        },\n\"toyota corolla\",\n{\n            'v': 32.4,\n            'f': \"32.4\",\n        },\n{\n            'v': 4,\n            'f': \"4\",\n        },\n{\n            'v': 108.0,\n            'f': \"108.0\",\n        },\n{\n            'v': 75.0,\n            'f': \"75.0\",\n        },\n{\n            'v': 2350,\n            'f': \"2350\",\n        },\n{\n            'v': 16.8,\n            'f': \"16.8\",\n        },\n\"1982-01-01 00:00:00\",\n\"Japan\"],\n [{\n            'v': 364,\n            'f': \"364\",\n        },\n\"datsun 200sx\",\n{\n            'v': 32.9,\n            'f': \"32.9\",\n        },\n{\n            'v': 4,\n            'f': \"4\",\n        },\n{\n            'v': 119.0,\n            'f': \"119.0\",\n        },\n{\n            'v': 100.0,\n            'f': \"100.0\",\n        },\n{\n            'v': 2615,\n            'f': \"2615\",\n        },\n{\n            'v': 14.8,\n            'f': \"14.8\",\n        },\n\"1982-01-01 00:00:00\",\n\"Japan\"],\n [{\n            'v': 365,\n            'f': \"365\",\n        },\n\"mazda 626\",\n{\n            'v': 31.6,\n            'f': \"31.6\",\n        },\n{\n            'v': 4,\n            'f': \"4\",\n        },\n{\n            'v': 120.0,\n            'f': \"120.0\",\n        },\n{\n            'v': 74.0,\n            'f': \"74.0\",\n        },\n{\n            'v': 2635,\n            'f': \"2635\",\n        },\n{\n            'v': 18.3,\n            'f': \"18.3\",\n        },\n\"1982-01-01 00:00:00\",\n\"Japan\"],\n [{\n            'v': 366,\n            'f': \"366\",\n        },\n\"peugeot 505s turbo diesel\",\n{\n            'v': 28.1,\n            'f': \"28.1\",\n        },\n{\n            'v': 4,\n            'f': \"4\",\n        },\n{\n            'v': 141.0,\n            'f': \"141.0\",\n        },\n{\n            'v': 80.0,\n            'f': \"80.0\",\n        },\n{\n            'v': 3230,\n            'f': \"3230\",\n        },\n{\n            'v': 20.4,\n            'f': \"20.4\",\n        },\n\"1982-01-01 00:00:00\",\n\"Europe\"],\n [{\n            'v': 368,\n            'f': \"368\",\n        },\n\"volvo diesel\",\n{\n            'v': 30.7,\n            'f': \"30.7\",\n        },\n{\n            'v': 6,\n            'f': \"6\",\n        },\n{\n            'v': 145.0,\n            'f': \"145.0\",\n        },\n{\n            'v': 76.0,\n            'f': \"76.0\",\n        },\n{\n            'v': 3160,\n            'f': \"3160\",\n        },\n{\n            'v': 19.6,\n            'f': \"19.6\",\n        },\n\"1982-01-01 00:00:00\",\n\"Europe\"],\n [{\n            'v': 369,\n            'f': \"369\",\n        },\n\"toyota cressida\",\n{\n            'v': 25.4,\n            'f': \"25.4\",\n        },\n{\n            'v': 6,\n            'f': \"6\",\n        },\n{\n            'v': 168.0,\n            'f': \"168.0\",\n        },\n{\n            'v': 116.0,\n            'f': \"116.0\",\n        },\n{\n            'v': 2900,\n            'f': \"2900\",\n        },\n{\n            'v': 12.6,\n            'f': \"12.6\",\n        },\n\"1982-01-01 00:00:00\",\n\"Japan\"],\n [{\n            'v': 370,\n            'f': \"370\",\n        },\n\"datsun 810 maxima\",\n{\n            'v': 24.2,\n            'f': \"24.2\",\n        },\n{\n            'v': 6,\n            'f': \"6\",\n        },\n{\n            'v': 146.0,\n            'f': \"146.0\",\n        },\n{\n            'v': 120.0,\n            'f': \"120.0\",\n        },\n{\n            'v': 2930,\n            'f': \"2930\",\n        },\n{\n            'v': 13.8,\n            'f': \"13.8\",\n        },\n\"1982-01-01 00:00:00\",\n\"Japan\"],\n [{\n            'v': 371,\n            'f': \"371\",\n        },\n\"buick century\",\n{\n            'v': 22.4,\n            'f': \"22.4\",\n        },\n{\n            'v': 6,\n            'f': \"6\",\n        },\n{\n            'v': 231.0,\n            'f': \"231.0\",\n        },\n{\n            'v': 110.0,\n            'f': \"110.0\",\n        },\n{\n            'v': 3415,\n            'f': \"3415\",\n        },\n{\n            'v': 15.8,\n            'f': \"15.8\",\n        },\n\"1982-01-01 00:00:00\",\n\"USA\"],\n [{\n            'v': 372,\n            'f': \"372\",\n        },\n\"oldsmobile cutlass ls\",\n{\n            'v': 26.6,\n            'f': \"26.6\",\n        },\n{\n            'v': 8,\n            'f': \"8\",\n        },\n{\n            'v': 350.0,\n            'f': \"350.0\",\n        },\n{\n            'v': 105.0,\n            'f': \"105.0\",\n        },\n{\n            'v': 3725,\n            'f': \"3725\",\n        },\n{\n            'v': 19.0,\n            'f': \"19.0\",\n        },\n\"1982-01-01 00:00:00\",\n\"USA\"],\n [{\n            'v': 373,\n            'f': \"373\",\n        },\n\"ford granada gl\",\n{\n            'v': 20.2,\n            'f': \"20.2\",\n        },\n{\n            'v': 6,\n            'f': \"6\",\n        },\n{\n            'v': 200.0,\n            'f': \"200.0\",\n        },\n{\n            'v': 88.0,\n            'f': \"88.0\",\n        },\n{\n            'v': 3060,\n            'f': \"3060\",\n        },\n{\n            'v': 17.1,\n            'f': \"17.1\",\n        },\n\"1982-01-01 00:00:00\",\n\"USA\"],\n [{\n            'v': 375,\n            'f': \"375\",\n        },\n\"chevrolet cavalier\",\n{\n            'v': 28.0,\n            'f': \"28.0\",\n        },\n{\n            'v': 4,\n            'f': \"4\",\n        },\n{\n            'v': 112.0,\n            'f': \"112.0\",\n        },\n{\n            'v': 88.0,\n            'f': \"88.0\",\n        },\n{\n            'v': 2605,\n            'f': \"2605\",\n        },\n{\n            'v': 19.6,\n            'f': \"19.6\",\n        },\n\"1982-01-01 00:00:00\",\n\"USA\"],\n [{\n            'v': 376,\n            'f': \"376\",\n        },\n\"chevrolet cavalier wagon\",\n{\n            'v': 27.0,\n            'f': \"27.0\",\n        },\n{\n            'v': 4,\n            'f': \"4\",\n        },\n{\n            'v': 112.0,\n            'f': \"112.0\",\n        },\n{\n            'v': 88.0,\n            'f': \"88.0\",\n        },\n{\n            'v': 2640,\n            'f': \"2640\",\n        },\n{\n            'v': 18.6,\n            'f': \"18.6\",\n        },\n\"1982-01-01 00:00:00\",\n\"USA\"],\n [{\n            'v': 377,\n            'f': \"377\",\n        },\n\"chevrolet cavalier 2-door\",\n{\n            'v': 34.0,\n            'f': \"34.0\",\n        },\n{\n            'v': 4,\n            'f': \"4\",\n        },\n{\n            'v': 112.0,\n            'f': \"112.0\",\n        },\n{\n            'v': 88.0,\n            'f': \"88.0\",\n        },\n{\n            'v': 2395,\n            'f': \"2395\",\n        },\n{\n            'v': 18.0,\n            'f': \"18.0\",\n        },\n\"1982-01-01 00:00:00\",\n\"USA\"],\n [{\n            'v': 378,\n            'f': \"378\",\n        },\n\"pontiac j2000 se hatchback\",\n{\n            'v': 31.0,\n            'f': \"31.0\",\n        },\n{\n            'v': 4,\n            'f': \"4\",\n        },\n{\n            'v': 112.0,\n            'f': \"112.0\",\n        },\n{\n            'v': 85.0,\n            'f': \"85.0\",\n        },\n{\n            'v': 2575,\n            'f': \"2575\",\n        },\n{\n            'v': 16.2,\n            'f': \"16.2\",\n        },\n\"1982-01-01 00:00:00\",\n\"USA\"],\n [{\n            'v': 379,\n            'f': \"379\",\n        },\n\"dodge aries se\",\n{\n            'v': 29.0,\n            'f': \"29.0\",\n        },\n{\n            'v': 4,\n            'f': \"4\",\n        },\n{\n            'v': 135.0,\n            'f': \"135.0\",\n        },\n{\n            'v': 84.0,\n            'f': \"84.0\",\n        },\n{\n            'v': 2525,\n            'f': \"2525\",\n        },\n{\n            'v': 16.0,\n            'f': \"16.0\",\n        },\n\"1982-01-01 00:00:00\",\n\"USA\"],\n [{\n            'v': 380,\n            'f': \"380\",\n        },\n\"pontiac phoenix\",\n{\n            'v': 27.0,\n            'f': \"27.0\",\n        },\n{\n            'v': 4,\n            'f': \"4\",\n        },\n{\n            'v': 151.0,\n            'f': \"151.0\",\n        },\n{\n            'v': 90.0,\n            'f': \"90.0\",\n        },\n{\n            'v': 2735,\n            'f': \"2735\",\n        },\n{\n            'v': 18.0,\n            'f': \"18.0\",\n        },\n\"1982-01-01 00:00:00\",\n\"USA\"],\n [{\n            'v': 381,\n            'f': \"381\",\n        },\n\"ford fairmont futura\",\n{\n            'v': 24.0,\n            'f': \"24.0\",\n        },\n{\n            'v': 4,\n            'f': \"4\",\n        },\n{\n            'v': 140.0,\n            'f': \"140.0\",\n        },\n{\n            'v': 92.0,\n            'f': \"92.0\",\n        },\n{\n            'v': 2865,\n            'f': \"2865\",\n        },\n{\n            'v': 16.4,\n            'f': \"16.4\",\n        },\n\"1982-01-01 00:00:00\",\n\"USA\"],\n [{\n            'v': 382,\n            'f': \"382\",\n        },\n\"amc concord dl\",\n{\n            'v': 23.0,\n            'f': \"23.0\",\n        },\n{\n            'v': 4,\n            'f': \"4\",\n        },\n{\n            'v': 151.0,\n            'f': \"151.0\",\n        },\n{\n            'v': NaN,\n            'f': \"NaN\",\n        },\n{\n            'v': 3035,\n            'f': \"3035\",\n        },\n{\n            'v': 20.5,\n            'f': \"20.5\",\n        },\n\"1982-01-01 00:00:00\",\n\"USA\"],\n [{\n            'v': 383,\n            'f': \"383\",\n        },\n\"volkswagen rabbit l\",\n{\n            'v': 36.0,\n            'f': \"36.0\",\n        },\n{\n            'v': 4,\n            'f': \"4\",\n        },\n{\n            'v': 105.0,\n            'f': \"105.0\",\n        },\n{\n            'v': 74.0,\n            'f': \"74.0\",\n        },\n{\n            'v': 1980,\n            'f': \"1980\",\n        },\n{\n            'v': 15.3,\n            'f': \"15.3\",\n        },\n\"1982-01-01 00:00:00\",\n\"Europe\"],\n [{\n            'v': 384,\n            'f': \"384\",\n        },\n\"mazda glc custom l\",\n{\n            'v': 37.0,\n            'f': \"37.0\",\n        },\n{\n            'v': 4,\n            'f': \"4\",\n        },\n{\n            'v': 91.0,\n            'f': \"91.0\",\n        },\n{\n            'v': 68.0,\n            'f': \"68.0\",\n        },\n{\n            'v': 2025,\n            'f': \"2025\",\n        },\n{\n            'v': 18.2,\n            'f': \"18.2\",\n        },\n\"1982-01-01 00:00:00\",\n\"Japan\"],\n [{\n            'v': 385,\n            'f': \"385\",\n        },\n\"mazda glc custom\",\n{\n            'v': 31.0,\n            'f': \"31.0\",\n        },\n{\n            'v': 4,\n            'f': \"4\",\n        },\n{\n            'v': 91.0,\n            'f': \"91.0\",\n        },\n{\n            'v': 68.0,\n            'f': \"68.0\",\n        },\n{\n            'v': 1970,\n            'f': \"1970\",\n        },\n{\n            'v': 17.6,\n            'f': \"17.6\",\n        },\n\"1982-01-01 00:00:00\",\n\"Japan\"],\n [{\n            'v': 386,\n            'f': \"386\",\n        },\n\"plymouth horizon miser\",\n{\n            'v': 38.0,\n            'f': \"38.0\",\n        },\n{\n            'v': 4,\n            'f': \"4\",\n        },\n{\n            'v': 105.0,\n            'f': \"105.0\",\n        },\n{\n            'v': 63.0,\n            'f': \"63.0\",\n        },\n{\n            'v': 2125,\n            'f': \"2125\",\n        },\n{\n            'v': 14.7,\n            'f': \"14.7\",\n        },\n\"1982-01-01 00:00:00\",\n\"USA\"],\n [{\n            'v': 387,\n            'f': \"387\",\n        },\n\"mercury lynx l\",\n{\n            'v': 36.0,\n            'f': \"36.0\",\n        },\n{\n            'v': 4,\n            'f': \"4\",\n        },\n{\n            'v': 98.0,\n            'f': \"98.0\",\n        },\n{\n            'v': 70.0,\n            'f': \"70.0\",\n        },\n{\n            'v': 2125,\n            'f': \"2125\",\n        },\n{\n            'v': 17.3,\n            'f': \"17.3\",\n        },\n\"1982-01-01 00:00:00\",\n\"USA\"],\n [{\n            'v': 388,\n            'f': \"388\",\n        },\n\"nissan stanza xe\",\n{\n            'v': 36.0,\n            'f': \"36.0\",\n        },\n{\n            'v': 4,\n            'f': \"4\",\n        },\n{\n            'v': 120.0,\n            'f': \"120.0\",\n        },\n{\n            'v': 88.0,\n            'f': \"88.0\",\n        },\n{\n            'v': 2160,\n            'f': \"2160\",\n        },\n{\n            'v': 14.5,\n            'f': \"14.5\",\n        },\n\"1982-01-01 00:00:00\",\n\"Japan\"],\n [{\n            'v': 389,\n            'f': \"389\",\n        },\n\"honda Accelerationord\",\n{\n            'v': 36.0,\n            'f': \"36.0\",\n        },\n{\n            'v': 4,\n            'f': \"4\",\n        },\n{\n            'v': 107.0,\n            'f': \"107.0\",\n        },\n{\n            'v': 75.0,\n            'f': \"75.0\",\n        },\n{\n            'v': 2205,\n            'f': \"2205\",\n        },\n{\n            'v': 14.5,\n            'f': \"14.5\",\n        },\n\"1982-01-01 00:00:00\",\n\"Japan\"],\n [{\n            'v': 390,\n            'f': \"390\",\n        },\n\"toyota corolla\",\n{\n            'v': 34.0,\n            'f': \"34.0\",\n        },\n{\n            'v': 4,\n            'f': \"4\",\n        },\n{\n            'v': 108.0,\n            'f': \"108.0\",\n        },\n{\n            'v': 70.0,\n            'f': \"70.0\",\n        },\n{\n            'v': 2245,\n            'f': \"2245\",\n        },\n{\n            'v': 16.9,\n            'f': \"16.9\",\n        },\n\"1982-01-01 00:00:00\",\n\"Japan\"],\n [{\n            'v': 391,\n            'f': \"391\",\n        },\n\"honda civic\",\n{\n            'v': 38.0,\n            'f': \"38.0\",\n        },\n{\n            'v': 4,\n            'f': \"4\",\n        },\n{\n            'v': 91.0,\n            'f': \"91.0\",\n        },\n{\n            'v': 67.0,\n            'f': \"67.0\",\n        },\n{\n            'v': 1965,\n            'f': \"1965\",\n        },\n{\n            'v': 15.0,\n            'f': \"15.0\",\n        },\n\"1982-01-01 00:00:00\",\n\"Japan\"],\n [{\n            'v': 392,\n            'f': \"392\",\n        },\n\"honda civic (auto)\",\n{\n            'v': 32.0,\n            'f': \"32.0\",\n        },\n{\n            'v': 4,\n            'f': \"4\",\n        },\n{\n            'v': 91.0,\n            'f': \"91.0\",\n        },\n{\n            'v': 67.0,\n            'f': \"67.0\",\n        },\n{\n            'v': 1965,\n            'f': \"1965\",\n        },\n{\n            'v': 15.7,\n            'f': \"15.7\",\n        },\n\"1982-01-01 00:00:00\",\n\"Japan\"],\n [{\n            'v': 393,\n            'f': \"393\",\n        },\n\"datsun 310 gx\",\n{\n            'v': 38.0,\n            'f': \"38.0\",\n        },\n{\n            'v': 4,\n            'f': \"4\",\n        },\n{\n            'v': 91.0,\n            'f': \"91.0\",\n        },\n{\n            'v': 67.0,\n            'f': \"67.0\",\n        },\n{\n            'v': 1995,\n            'f': \"1995\",\n        },\n{\n            'v': 16.2,\n            'f': \"16.2\",\n        },\n\"1982-01-01 00:00:00\",\n\"Japan\"],\n [{\n            'v': 394,\n            'f': \"394\",\n        },\n\"buick century limited\",\n{\n            'v': 25.0,\n            'f': \"25.0\",\n        },\n{\n            'v': 6,\n            'f': \"6\",\n        },\n{\n            'v': 181.0,\n            'f': \"181.0\",\n        },\n{\n            'v': 110.0,\n            'f': \"110.0\",\n        },\n{\n            'v': 2945,\n            'f': \"2945\",\n        },\n{\n            'v': 16.4,\n            'f': \"16.4\",\n        },\n\"1982-01-01 00:00:00\",\n\"USA\"],\n [{\n            'v': 395,\n            'f': \"395\",\n        },\n\"oldsmobile cutlass ciera (diesel)\",\n{\n            'v': 38.0,\n            'f': \"38.0\",\n        },\n{\n            'v': 6,\n            'f': \"6\",\n        },\n{\n            'v': 262.0,\n            'f': \"262.0\",\n        },\n{\n            'v': 85.0,\n            'f': \"85.0\",\n        },\n{\n            'v': 3015,\n            'f': \"3015\",\n        },\n{\n            'v': 17.0,\n            'f': \"17.0\",\n        },\n\"1982-01-01 00:00:00\",\n\"USA\"],\n [{\n            'v': 396,\n            'f': \"396\",\n        },\n\"chrysler lebaron medallion\",\n{\n            'v': 26.0,\n            'f': \"26.0\",\n        },\n{\n            'v': 4,\n            'f': \"4\",\n        },\n{\n            'v': 156.0,\n            'f': \"156.0\",\n        },\n{\n            'v': 92.0,\n            'f': \"92.0\",\n        },\n{\n            'v': 2585,\n            'f': \"2585\",\n        },\n{\n            'v': 14.5,\n            'f': \"14.5\",\n        },\n\"1982-01-01 00:00:00\",\n\"USA\"],\n [{\n            'v': 397,\n            'f': \"397\",\n        },\n\"ford granada l\",\n{\n            'v': 22.0,\n            'f': \"22.0\",\n        },\n{\n            'v': 6,\n            'f': \"6\",\n        },\n{\n            'v': 232.0,\n            'f': \"232.0\",\n        },\n{\n            'v': 112.0,\n            'f': \"112.0\",\n        },\n{\n            'v': 2835,\n            'f': \"2835\",\n        },\n{\n            'v': 14.7,\n            'f': \"14.7\",\n        },\n\"1982-01-01 00:00:00\",\n\"USA\"],\n [{\n            'v': 398,\n            'f': \"398\",\n        },\n\"toyota celica gt\",\n{\n            'v': 32.0,\n            'f': \"32.0\",\n        },\n{\n            'v': 4,\n            'f': \"4\",\n        },\n{\n            'v': 144.0,\n            'f': \"144.0\",\n        },\n{\n            'v': 96.0,\n            'f': \"96.0\",\n        },\n{\n            'v': 2665,\n            'f': \"2665\",\n        },\n{\n            'v': 13.9,\n            'f': \"13.9\",\n        },\n\"1982-01-01 00:00:00\",\n\"Japan\"],\n [{\n            'v': 399,\n            'f': \"399\",\n        },\n\"dodge charger 2.2\",\n{\n            'v': 36.0,\n            'f': \"36.0\",\n        },\n{\n            'v': 4,\n            'f': \"4\",\n        },\n{\n            'v': 135.0,\n            'f': \"135.0\",\n        },\n{\n            'v': 84.0,\n            'f': \"84.0\",\n        },\n{\n            'v': 2370,\n            'f': \"2370\",\n        },\n{\n            'v': 13.0,\n            'f': \"13.0\",\n        },\n\"1982-01-01 00:00:00\",\n\"USA\"],\n [{\n            'v': 400,\n            'f': \"400\",\n        },\n\"chevrolet camaro\",\n{\n            'v': 27.0,\n            'f': \"27.0\",\n        },\n{\n            'v': 4,\n            'f': \"4\",\n        },\n{\n            'v': 151.0,\n            'f': \"151.0\",\n        },\n{\n            'v': 90.0,\n            'f': \"90.0\",\n        },\n{\n            'v': 2950,\n            'f': \"2950\",\n        },\n{\n            'v': 17.3,\n            'f': \"17.3\",\n        },\n\"1982-01-01 00:00:00\",\n\"USA\"],\n [{\n            'v': 401,\n            'f': \"401\",\n        },\n\"ford mustang gl\",\n{\n            'v': 27.0,\n            'f': \"27.0\",\n        },\n{\n            'v': 4,\n            'f': \"4\",\n        },\n{\n            'v': 140.0,\n            'f': \"140.0\",\n        },\n{\n            'v': 86.0,\n            'f': \"86.0\",\n        },\n{\n            'v': 2790,\n            'f': \"2790\",\n        },\n{\n            'v': 15.6,\n            'f': \"15.6\",\n        },\n\"1982-01-01 00:00:00\",\n\"USA\"],\n [{\n            'v': 402,\n            'f': \"402\",\n        },\n\"vw pickup\",\n{\n            'v': 44.0,\n            'f': \"44.0\",\n        },\n{\n            'v': 4,\n            'f': \"4\",\n        },\n{\n            'v': 97.0,\n            'f': \"97.0\",\n        },\n{\n            'v': 52.0,\n            'f': \"52.0\",\n        },\n{\n            'v': 2130,\n            'f': \"2130\",\n        },\n{\n            'v': 24.6,\n            'f': \"24.6\",\n        },\n\"1982-01-01 00:00:00\",\n\"Europe\"],\n [{\n            'v': 403,\n            'f': \"403\",\n        },\n\"dodge rampage\",\n{\n            'v': 32.0,\n            'f': \"32.0\",\n        },\n{\n            'v': 4,\n            'f': \"4\",\n        },\n{\n            'v': 135.0,\n            'f': \"135.0\",\n        },\n{\n            'v': 84.0,\n            'f': \"84.0\",\n        },\n{\n            'v': 2295,\n            'f': \"2295\",\n        },\n{\n            'v': 11.6,\n            'f': \"11.6\",\n        },\n\"1982-01-01 00:00:00\",\n\"USA\"],\n [{\n            'v': 404,\n            'f': \"404\",\n        },\n\"ford ranger\",\n{\n            'v': 28.0,\n            'f': \"28.0\",\n        },\n{\n            'v': 4,\n            'f': \"4\",\n        },\n{\n            'v': 120.0,\n            'f': \"120.0\",\n        },\n{\n            'v': 79.0,\n            'f': \"79.0\",\n        },\n{\n            'v': 2625,\n            'f': \"2625\",\n        },\n{\n            'v': 18.6,\n            'f': \"18.6\",\n        },\n\"1982-01-01 00:00:00\",\n\"USA\"],\n [{\n            'v': 405,\n            'f': \"405\",\n        },\n\"chevy s-10\",\n{\n            'v': 31.0,\n            'f': \"31.0\",\n        },\n{\n            'v': 4,\n            'f': \"4\",\n        },\n{\n            'v': 119.0,\n            'f': \"119.0\",\n        },\n{\n            'v': 82.0,\n            'f': \"82.0\",\n        },\n{\n            'v': 2720,\n            'f': \"2720\",\n        },\n{\n            'v': 19.4,\n            'f': \"19.4\",\n        },\n\"1982-01-01 00:00:00\",\n\"USA\"]],\n        columns: [[\"number\", \"index\"], [\"string\", \"Name\"], [\"number\", \"Miles_per_Gallon\"], [\"number\", \"Cylinders\"], [\"number\", \"Displacement\"], [\"number\", \"Horsepower\"], [\"number\", \"Weight_in_lbs\"], [\"number\", \"Acceleration\"], [\"string\", \"Year\"], [\"string\", \"Origin\"]],\n        columnOptions: [{\"width\": \"1px\", \"className\": \"index_column\"}],\n        rowsPerPage: 25,\n        helpUrl: \"https://colab.research.google.com/notebooks/data_table.ipynb\",\n        suppressOutputScrolling: true,\n        minimumWidth: undefined,\n      });\n    "
          },
          "metadata": {},
          "execution_count": 15
        }
      ]
    },
    {
      "cell_type": "code",
      "source": [
        "df1=cars.loc[:,'Cylinders']\n",
        "df1"
      ],
      "metadata": {
        "colab": {
          "base_uri": "https://localhost:8080/"
        },
        "id": "vVtyp5FJSwXu",
        "outputId": "60a8e50f-f24a-4fc7-9247-15c8f2f09a0e"
      },
      "execution_count": null,
      "outputs": [
        {
          "output_type": "execute_result",
          "data": {
            "text/plain": [
              "0      8\n",
              "1      8\n",
              "2      8\n",
              "3      8\n",
              "4      8\n",
              "      ..\n",
              "401    4\n",
              "402    4\n",
              "403    4\n",
              "404    4\n",
              "405    4\n",
              "Name: Cylinders, Length: 406, dtype: int64"
            ]
          },
          "metadata": {},
          "execution_count": 10
        }
      ]
    },
    {
      "cell_type": "code",
      "source": [
        "l=[0,1,5]"
      ],
      "metadata": {
        "id": "OQ8p-Xu6ucN0"
      },
      "execution_count": null,
      "outputs": []
    },
    {
      "cell_type": "code",
      "source": [
        "import pandas as pd\n"
      ],
      "metadata": {
        "id": "8gpiyI69u8ly"
      },
      "execution_count": null,
      "outputs": []
    },
    {
      "cell_type": "code",
      "source": [
        "df=pd.DataFrame([['A',1,0,0], ['B',2,0,1],['C',0,1,5], ['D',4,1,1]], columns=['object','P1', 'P2','P3' ])\n",
        "df.describe()"
      ],
      "metadata": {
        "colab": {
          "base_uri": "https://localhost:8080/",
          "height": 300
        },
        "id": "-ArgNWuTwCaD",
        "outputId": "6375a6f8-8c1d-48eb-d579-2568265ec306"
      },
      "execution_count": null,
      "outputs": [
        {
          "output_type": "execute_result",
          "data": {
            "text/plain": [
              "             P1       P2        P3\n",
              "count  4.000000  4.00000  4.000000\n",
              "mean   1.750000  0.50000  1.750000\n",
              "std    1.707825  0.57735  2.217356\n",
              "min    0.000000  0.00000  0.000000\n",
              "25%    0.750000  0.00000  0.750000\n",
              "50%    1.500000  0.50000  1.000000\n",
              "75%    2.500000  1.00000  2.000000\n",
              "max    4.000000  1.00000  5.000000"
            ],
            "text/html": [
              "\n",
              "  <div id=\"df-1446a587-59af-4597-be32-3f43e80d6a8e\">\n",
              "    <div class=\"colab-df-container\">\n",
              "      <div>\n",
              "<style scoped>\n",
              "    .dataframe tbody tr th:only-of-type {\n",
              "        vertical-align: middle;\n",
              "    }\n",
              "\n",
              "    .dataframe tbody tr th {\n",
              "        vertical-align: top;\n",
              "    }\n",
              "\n",
              "    .dataframe thead th {\n",
              "        text-align: right;\n",
              "    }\n",
              "</style>\n",
              "<table border=\"1\" class=\"dataframe\">\n",
              "  <thead>\n",
              "    <tr style=\"text-align: right;\">\n",
              "      <th></th>\n",
              "      <th>P1</th>\n",
              "      <th>P2</th>\n",
              "      <th>P3</th>\n",
              "    </tr>\n",
              "  </thead>\n",
              "  <tbody>\n",
              "    <tr>\n",
              "      <th>count</th>\n",
              "      <td>4.000000</td>\n",
              "      <td>4.00000</td>\n",
              "      <td>4.000000</td>\n",
              "    </tr>\n",
              "    <tr>\n",
              "      <th>mean</th>\n",
              "      <td>1.750000</td>\n",
              "      <td>0.50000</td>\n",
              "      <td>1.750000</td>\n",
              "    </tr>\n",
              "    <tr>\n",
              "      <th>std</th>\n",
              "      <td>1.707825</td>\n",
              "      <td>0.57735</td>\n",
              "      <td>2.217356</td>\n",
              "    </tr>\n",
              "    <tr>\n",
              "      <th>min</th>\n",
              "      <td>0.000000</td>\n",
              "      <td>0.00000</td>\n",
              "      <td>0.000000</td>\n",
              "    </tr>\n",
              "    <tr>\n",
              "      <th>25%</th>\n",
              "      <td>0.750000</td>\n",
              "      <td>0.00000</td>\n",
              "      <td>0.750000</td>\n",
              "    </tr>\n",
              "    <tr>\n",
              "      <th>50%</th>\n",
              "      <td>1.500000</td>\n",
              "      <td>0.50000</td>\n",
              "      <td>1.000000</td>\n",
              "    </tr>\n",
              "    <tr>\n",
              "      <th>75%</th>\n",
              "      <td>2.500000</td>\n",
              "      <td>1.00000</td>\n",
              "      <td>2.000000</td>\n",
              "    </tr>\n",
              "    <tr>\n",
              "      <th>max</th>\n",
              "      <td>4.000000</td>\n",
              "      <td>1.00000</td>\n",
              "      <td>5.000000</td>\n",
              "    </tr>\n",
              "  </tbody>\n",
              "</table>\n",
              "</div>\n",
              "      <button class=\"colab-df-convert\" onclick=\"convertToInteractive('df-1446a587-59af-4597-be32-3f43e80d6a8e')\"\n",
              "              title=\"Convert this dataframe to an interactive table.\"\n",
              "              style=\"display:none;\">\n",
              "        \n",
              "  <svg xmlns=\"http://www.w3.org/2000/svg\" height=\"24px\"viewBox=\"0 0 24 24\"\n",
              "       width=\"24px\">\n",
              "    <path d=\"M0 0h24v24H0V0z\" fill=\"none\"/>\n",
              "    <path d=\"M18.56 5.44l.94 2.06.94-2.06 2.06-.94-2.06-.94-.94-2.06-.94 2.06-2.06.94zm-11 1L8.5 8.5l.94-2.06 2.06-.94-2.06-.94L8.5 2.5l-.94 2.06-2.06.94zm10 10l.94 2.06.94-2.06 2.06-.94-2.06-.94-.94-2.06-.94 2.06-2.06.94z\"/><path d=\"M17.41 7.96l-1.37-1.37c-.4-.4-.92-.59-1.43-.59-.52 0-1.04.2-1.43.59L10.3 9.45l-7.72 7.72c-.78.78-.78 2.05 0 2.83L4 21.41c.39.39.9.59 1.41.59.51 0 1.02-.2 1.41-.59l7.78-7.78 2.81-2.81c.8-.78.8-2.07 0-2.86zM5.41 20L4 18.59l7.72-7.72 1.47 1.35L5.41 20z\"/>\n",
              "  </svg>\n",
              "      </button>\n",
              "      \n",
              "  <style>\n",
              "    .colab-df-container {\n",
              "      display:flex;\n",
              "      flex-wrap:wrap;\n",
              "      gap: 12px;\n",
              "    }\n",
              "\n",
              "    .colab-df-convert {\n",
              "      background-color: #E8F0FE;\n",
              "      border: none;\n",
              "      border-radius: 50%;\n",
              "      cursor: pointer;\n",
              "      display: none;\n",
              "      fill: #1967D2;\n",
              "      height: 32px;\n",
              "      padding: 0 0 0 0;\n",
              "      width: 32px;\n",
              "    }\n",
              "\n",
              "    .colab-df-convert:hover {\n",
              "      background-color: #E2EBFA;\n",
              "      box-shadow: 0px 1px 2px rgba(60, 64, 67, 0.3), 0px 1px 3px 1px rgba(60, 64, 67, 0.15);\n",
              "      fill: #174EA6;\n",
              "    }\n",
              "\n",
              "    [theme=dark] .colab-df-convert {\n",
              "      background-color: #3B4455;\n",
              "      fill: #D2E3FC;\n",
              "    }\n",
              "\n",
              "    [theme=dark] .colab-df-convert:hover {\n",
              "      background-color: #434B5C;\n",
              "      box-shadow: 0px 1px 3px 1px rgba(0, 0, 0, 0.15);\n",
              "      filter: drop-shadow(0px 1px 2px rgba(0, 0, 0, 0.3));\n",
              "      fill: #FFFFFF;\n",
              "    }\n",
              "  </style>\n",
              "\n",
              "      <script>\n",
              "        const buttonEl =\n",
              "          document.querySelector('#df-1446a587-59af-4597-be32-3f43e80d6a8e button.colab-df-convert');\n",
              "        buttonEl.style.display =\n",
              "          google.colab.kernel.accessAllowed ? 'block' : 'none';\n",
              "\n",
              "        async function convertToInteractive(key) {\n",
              "          const element = document.querySelector('#df-1446a587-59af-4597-be32-3f43e80d6a8e');\n",
              "          const dataTable =\n",
              "            await google.colab.kernel.invokeFunction('convertToInteractive',\n",
              "                                                     [key], {});\n",
              "          if (!dataTable) return;\n",
              "\n",
              "          const docLinkHtml = 'Like what you see? Visit the ' +\n",
              "            '<a target=\"_blank\" href=https://colab.research.google.com/notebooks/data_table.ipynb>data table notebook</a>'\n",
              "            + ' to learn more about interactive tables.';\n",
              "          element.innerHTML = '';\n",
              "          dataTable['output_type'] = 'display_data';\n",
              "          await google.colab.output.renderOutput(dataTable, element);\n",
              "          const docLink = document.createElement('div');\n",
              "          docLink.innerHTML = docLinkHtml;\n",
              "          element.appendChild(docLink);\n",
              "        }\n",
              "      </script>\n",
              "    </div>\n",
              "  </div>\n",
              "  "
            ]
          },
          "metadata": {},
          "execution_count": 8
        }
      ]
    },
    {
      "cell_type": "code",
      "source": [
        "import numpy as np\n"
      ],
      "metadata": {
        "id": "7DOq1OUfx2sn"
      },
      "execution_count": null,
      "outputs": []
    },
    {
      "cell_type": "code",
      "source": [
        "P1 = np.array((0, 1, 2))\n",
        "P2 = np.array((2, 1, 0))"
      ],
      "metadata": {
        "id": "iyR0z0-Eyo6S"
      },
      "execution_count": null,
      "outputs": []
    },
    {
      "cell_type": "code",
      "source": [
        "Euclidovo = np.linalg.norm(P1-P2)\n",
        "Euclidovo\n",
        "Mancheten = np.linalg.norm(P1 - P2,ord=1)\n",
        "max_f = max(np.abs(P1-P2))"
      ],
      "metadata": {
        "id": "uPFpBjSzxqhX"
      },
      "execution_count": null,
      "outputs": []
    },
    {
      "cell_type": "code",
      "source": [
        "print(round(Euclidovo,2))\n",
        "print(round(Mancheten,2))\n",
        "print(round(max_f,2))"
      ],
      "metadata": {
        "colab": {
          "base_uri": "https://localhost:8080/"
        },
        "id": "1G3srfgax2DH",
        "outputId": "5ccf19dc-3238-4008-aea4-36599d428245"
      },
      "execution_count": null,
      "outputs": [
        {
          "output_type": "stream",
          "name": "stdout",
          "text": [
            "2.83\n",
            "4.0\n",
            "2\n"
          ]
        }
      ]
    },
    {
      "cell_type": "code",
      "source": [
        "from sklearn.metrics.pairwise import nan_euclidean_distances"
      ],
      "metadata": {
        "id": "8ZhyB9JF4H0d"
      },
      "execution_count": null,
      "outputs": []
    },
    {
      "cell_type": "code",
      "source": [
        "P1_l = [0, 1, 2]\n",
        "P2_l = [2, 1, 0]\n",
        "X=[P1_l, P2_l]"
      ],
      "metadata": {
        "id": "MxIgTAe24KkA"
      },
      "execution_count": null,
      "outputs": []
    },
    {
      "cell_type": "code",
      "source": [
        "nan_euclidean_distances(X, [[0, 0, 0]])"
      ],
      "metadata": {
        "colab": {
          "base_uri": "https://localhost:8080/"
        },
        "id": "-hvNaO7T4apC",
        "outputId": "cbcc74e5-d667-41cf-8226-d18818a80897"
      },
      "execution_count": null,
      "outputs": [
        {
          "output_type": "execute_result",
          "data": {
            "text/plain": [
              "array([[2.23606798],\n",
              "       [2.23606798]])"
            ]
          },
          "metadata": {},
          "execution_count": 21
        }
      ]
    },
    {
      "cell_type": "code",
      "source": [
        "a = np.array([1, 0, 5, 2, 2])\n",
        "(a-min(a))/(max(a)-min(a))"
      ],
      "metadata": {
        "colab": {
          "base_uri": "https://localhost:8080/"
        },
        "id": "z4V3QOZm5wqf",
        "outputId": "67387a37-28df-42db-d965-b03a48ba059d"
      },
      "execution_count": null,
      "outputs": [
        {
          "output_type": "execute_result",
          "data": {
            "text/plain": [
              "array([0.2, 0. , 1. , 0.4, 0.4])"
            ]
          },
          "metadata": {},
          "execution_count": 22
        }
      ]
    },
    {
      "cell_type": "code",
      "source": [
        "p1=np.array((1,0,5,2,2))\n",
        "s=np.std(p1)\n",
        "\n",
        "sr=np.mean(p1)\n",
        "for i in p1:\n",
        "  rez=(i-sr)/s\n",
        "  print(rez)\n"
      ],
      "metadata": {
        "colab": {
          "base_uri": "https://localhost:8080/"
        },
        "id": "9HjcZTkx6M29",
        "outputId": "a5a4c38d-7e87-40ee-df0e-c0267715bcdc"
      },
      "execution_count": null,
      "outputs": [
        {
          "output_type": "stream",
          "name": "stdout",
          "text": [
            "-0.5976143046671968\n",
            "-1.1952286093343936\n",
            "1.7928429140015905\n",
            "0.0\n",
            "0.0\n"
          ]
        }
      ]
    },
    {
      "cell_type": "code",
      "source": [
        "import pandas as pd\n",
        "import numpy as np\n",
        "from numpy import NaN\n",
        "\n",
        "# Создадим датафрейм с пропущенным значением признака Р для объекта А\n",
        "df = pd.DataFrame({'P1':[3,5,4,5], 'P2':[4,5,3,4], 'P3':[5,5,3,3], 'P4':[3,4,2,3], 'P':[4,3,5,NaN]}, index=['A1', 'A2', 'A3', 'A'])\n",
        "\n",
        "# Посчитаем метрики\n",
        "dict_metrics = {'A1':[], 'A2':[], 'A3':[]}\n",
        "for i in df.index[:-1]:\n",
        "  dict_metrics[i].append(np.power((df.loc['A'][:-1]-df.loc[i][:-1]).pow(2).sum(), 0.5).round(2)) # считаем Евклидово расстояние\n",
        "  dict_metrics[i].append((df.loc['A'][:-1]-df.loc[i][:-1]).abs().sum()) # считаем Манхэттеновское расстояние\n",
        "  dict_metrics[i].append((df.loc['A'][:-1]-df.loc[i][:-1]).abs().max()) # считаем max-метрику\n",
        "\n",
        "metrics = pd.DataFrame(dict_metrics, index=['Euclid', 'Manhatten', 'Max'])\n",
        "\n",
        "# Считаем варианты значений для каждой метрики\n",
        "dict_value = {'Euclid':[], 'Manhatten':[], 'Max':[]}\n",
        "for i in metrics.index:\n",
        "  norm_mul = (1/((1/metrics.loc[i]).sum())) # нормирующий множитель\n",
        "  similarity = ((df.loc[:]['P'][:-1]/metrics.loc[i]).sum()) # значение признака * мера близости(=величина, обратно пропорциональная мере расстояния)\n",
        "  value_P = (norm_mul*similarity).round(2)\n",
        "  dict_value[i].append(value_P)\n",
        "  print(f'значение признака P для А по метрике {i}: {value_P}')"
      ],
      "metadata": {
        "colab": {
          "base_uri": "https://localhost:8080/"
        },
        "id": "S_huer19_ORo",
        "outputId": "4d3baee1-21ce-4b14-f881-7bdf91b5201c"
      },
      "execution_count": null,
      "outputs": [
        {
          "output_type": "stream",
          "name": "stdout",
          "text": [
            "значение признака P для А по метрике Euclid: 4.13\n",
            "значение признака P для А по метрике Manhatten: 4.1\n",
            "значение признака P для А по метрике Max: 4.25\n"
          ]
        }
      ]
    },
    {
      "cell_type": "code",
      "source": [
        "df"
      ],
      "metadata": {
        "colab": {
          "base_uri": "https://localhost:8080/",
          "height": 175
        },
        "id": "Xc-jEMbKD7vM",
        "outputId": "81ab7587-f38f-455e-85de-523d72c7072c"
      },
      "execution_count": null,
      "outputs": [
        {
          "output_type": "execute_result",
          "data": {
            "text/plain": [
              "    P1  P2  P3  P4    P\n",
              "A1   3   4   5   3  4.0\n",
              "A2   5   5   5   4  3.0\n",
              "A3   4   3   3   2  5.0\n",
              "A    5   4   3   3  NaN"
            ],
            "text/html": [
              "\n",
              "  <div id=\"df-96862e73-e64c-4f98-a5d6-c88775a5f91f\">\n",
              "    <div class=\"colab-df-container\">\n",
              "      <div>\n",
              "<style scoped>\n",
              "    .dataframe tbody tr th:only-of-type {\n",
              "        vertical-align: middle;\n",
              "    }\n",
              "\n",
              "    .dataframe tbody tr th {\n",
              "        vertical-align: top;\n",
              "    }\n",
              "\n",
              "    .dataframe thead th {\n",
              "        text-align: right;\n",
              "    }\n",
              "</style>\n",
              "<table border=\"1\" class=\"dataframe\">\n",
              "  <thead>\n",
              "    <tr style=\"text-align: right;\">\n",
              "      <th></th>\n",
              "      <th>P1</th>\n",
              "      <th>P2</th>\n",
              "      <th>P3</th>\n",
              "      <th>P4</th>\n",
              "      <th>P</th>\n",
              "    </tr>\n",
              "  </thead>\n",
              "  <tbody>\n",
              "    <tr>\n",
              "      <th>A1</th>\n",
              "      <td>3</td>\n",
              "      <td>4</td>\n",
              "      <td>5</td>\n",
              "      <td>3</td>\n",
              "      <td>4.0</td>\n",
              "    </tr>\n",
              "    <tr>\n",
              "      <th>A2</th>\n",
              "      <td>5</td>\n",
              "      <td>5</td>\n",
              "      <td>5</td>\n",
              "      <td>4</td>\n",
              "      <td>3.0</td>\n",
              "    </tr>\n",
              "    <tr>\n",
              "      <th>A3</th>\n",
              "      <td>4</td>\n",
              "      <td>3</td>\n",
              "      <td>3</td>\n",
              "      <td>2</td>\n",
              "      <td>5.0</td>\n",
              "    </tr>\n",
              "    <tr>\n",
              "      <th>A</th>\n",
              "      <td>5</td>\n",
              "      <td>4</td>\n",
              "      <td>3</td>\n",
              "      <td>3</td>\n",
              "      <td>NaN</td>\n",
              "    </tr>\n",
              "  </tbody>\n",
              "</table>\n",
              "</div>\n",
              "      <button class=\"colab-df-convert\" onclick=\"convertToInteractive('df-96862e73-e64c-4f98-a5d6-c88775a5f91f')\"\n",
              "              title=\"Convert this dataframe to an interactive table.\"\n",
              "              style=\"display:none;\">\n",
              "        \n",
              "  <svg xmlns=\"http://www.w3.org/2000/svg\" height=\"24px\"viewBox=\"0 0 24 24\"\n",
              "       width=\"24px\">\n",
              "    <path d=\"M0 0h24v24H0V0z\" fill=\"none\"/>\n",
              "    <path d=\"M18.56 5.44l.94 2.06.94-2.06 2.06-.94-2.06-.94-.94-2.06-.94 2.06-2.06.94zm-11 1L8.5 8.5l.94-2.06 2.06-.94-2.06-.94L8.5 2.5l-.94 2.06-2.06.94zm10 10l.94 2.06.94-2.06 2.06-.94-2.06-.94-.94-2.06-.94 2.06-2.06.94z\"/><path d=\"M17.41 7.96l-1.37-1.37c-.4-.4-.92-.59-1.43-.59-.52 0-1.04.2-1.43.59L10.3 9.45l-7.72 7.72c-.78.78-.78 2.05 0 2.83L4 21.41c.39.39.9.59 1.41.59.51 0 1.02-.2 1.41-.59l7.78-7.78 2.81-2.81c.8-.78.8-2.07 0-2.86zM5.41 20L4 18.59l7.72-7.72 1.47 1.35L5.41 20z\"/>\n",
              "  </svg>\n",
              "      </button>\n",
              "      \n",
              "  <style>\n",
              "    .colab-df-container {\n",
              "      display:flex;\n",
              "      flex-wrap:wrap;\n",
              "      gap: 12px;\n",
              "    }\n",
              "\n",
              "    .colab-df-convert {\n",
              "      background-color: #E8F0FE;\n",
              "      border: none;\n",
              "      border-radius: 50%;\n",
              "      cursor: pointer;\n",
              "      display: none;\n",
              "      fill: #1967D2;\n",
              "      height: 32px;\n",
              "      padding: 0 0 0 0;\n",
              "      width: 32px;\n",
              "    }\n",
              "\n",
              "    .colab-df-convert:hover {\n",
              "      background-color: #E2EBFA;\n",
              "      box-shadow: 0px 1px 2px rgba(60, 64, 67, 0.3), 0px 1px 3px 1px rgba(60, 64, 67, 0.15);\n",
              "      fill: #174EA6;\n",
              "    }\n",
              "\n",
              "    [theme=dark] .colab-df-convert {\n",
              "      background-color: #3B4455;\n",
              "      fill: #D2E3FC;\n",
              "    }\n",
              "\n",
              "    [theme=dark] .colab-df-convert:hover {\n",
              "      background-color: #434B5C;\n",
              "      box-shadow: 0px 1px 3px 1px rgba(0, 0, 0, 0.15);\n",
              "      filter: drop-shadow(0px 1px 2px rgba(0, 0, 0, 0.3));\n",
              "      fill: #FFFFFF;\n",
              "    }\n",
              "  </style>\n",
              "\n",
              "      <script>\n",
              "        const buttonEl =\n",
              "          document.querySelector('#df-96862e73-e64c-4f98-a5d6-c88775a5f91f button.colab-df-convert');\n",
              "        buttonEl.style.display =\n",
              "          google.colab.kernel.accessAllowed ? 'block' : 'none';\n",
              "\n",
              "        async function convertToInteractive(key) {\n",
              "          const element = document.querySelector('#df-96862e73-e64c-4f98-a5d6-c88775a5f91f');\n",
              "          const dataTable =\n",
              "            await google.colab.kernel.invokeFunction('convertToInteractive',\n",
              "                                                     [key], {});\n",
              "          if (!dataTable) return;\n",
              "\n",
              "          const docLinkHtml = 'Like what you see? Visit the ' +\n",
              "            '<a target=\"_blank\" href=https://colab.research.google.com/notebooks/data_table.ipynb>data table notebook</a>'\n",
              "            + ' to learn more about interactive tables.';\n",
              "          element.innerHTML = '';\n",
              "          dataTable['output_type'] = 'display_data';\n",
              "          await google.colab.output.renderOutput(dataTable, element);\n",
              "          const docLink = document.createElement('div');\n",
              "          docLink.innerHTML = docLinkHtml;\n",
              "          element.appendChild(docLink);\n",
              "        }\n",
              "      </script>\n",
              "    </div>\n",
              "  </div>\n",
              "  "
            ]
          },
          "metadata": {},
          "execution_count": 40
        }
      ]
    },
    {
      "cell_type": "code",
      "source": [
        "metrics = pd.DataFrame(dict_metrics, index=['Euclid', 'Manhatten', 'Max'])\n",
        "metrics"
      ],
      "metadata": {
        "colab": {
          "base_uri": "https://localhost:8080/",
          "height": 143
        },
        "id": "xzMyMrypDwf1",
        "outputId": "aeb0b6f4-c314-4a63-af98-d03990408625"
      },
      "execution_count": null,
      "outputs": [
        {
          "output_type": "execute_result",
          "data": {
            "text/plain": [
              "             A1    A2    A3\n",
              "Euclid     2.83  2.45  1.73\n",
              "Manhatten  4.00  4.00  3.00\n",
              "Max        2.00  2.00  1.00"
            ],
            "text/html": [
              "\n",
              "  <div id=\"df-b78f8b9f-f690-4e81-8904-8f0d76549554\">\n",
              "    <div class=\"colab-df-container\">\n",
              "      <div>\n",
              "<style scoped>\n",
              "    .dataframe tbody tr th:only-of-type {\n",
              "        vertical-align: middle;\n",
              "    }\n",
              "\n",
              "    .dataframe tbody tr th {\n",
              "        vertical-align: top;\n",
              "    }\n",
              "\n",
              "    .dataframe thead th {\n",
              "        text-align: right;\n",
              "    }\n",
              "</style>\n",
              "<table border=\"1\" class=\"dataframe\">\n",
              "  <thead>\n",
              "    <tr style=\"text-align: right;\">\n",
              "      <th></th>\n",
              "      <th>A1</th>\n",
              "      <th>A2</th>\n",
              "      <th>A3</th>\n",
              "    </tr>\n",
              "  </thead>\n",
              "  <tbody>\n",
              "    <tr>\n",
              "      <th>Euclid</th>\n",
              "      <td>2.83</td>\n",
              "      <td>2.45</td>\n",
              "      <td>1.73</td>\n",
              "    </tr>\n",
              "    <tr>\n",
              "      <th>Manhatten</th>\n",
              "      <td>4.00</td>\n",
              "      <td>4.00</td>\n",
              "      <td>3.00</td>\n",
              "    </tr>\n",
              "    <tr>\n",
              "      <th>Max</th>\n",
              "      <td>2.00</td>\n",
              "      <td>2.00</td>\n",
              "      <td>1.00</td>\n",
              "    </tr>\n",
              "  </tbody>\n",
              "</table>\n",
              "</div>\n",
              "      <button class=\"colab-df-convert\" onclick=\"convertToInteractive('df-b78f8b9f-f690-4e81-8904-8f0d76549554')\"\n",
              "              title=\"Convert this dataframe to an interactive table.\"\n",
              "              style=\"display:none;\">\n",
              "        \n",
              "  <svg xmlns=\"http://www.w3.org/2000/svg\" height=\"24px\"viewBox=\"0 0 24 24\"\n",
              "       width=\"24px\">\n",
              "    <path d=\"M0 0h24v24H0V0z\" fill=\"none\"/>\n",
              "    <path d=\"M18.56 5.44l.94 2.06.94-2.06 2.06-.94-2.06-.94-.94-2.06-.94 2.06-2.06.94zm-11 1L8.5 8.5l.94-2.06 2.06-.94-2.06-.94L8.5 2.5l-.94 2.06-2.06.94zm10 10l.94 2.06.94-2.06 2.06-.94-2.06-.94-.94-2.06-.94 2.06-2.06.94z\"/><path d=\"M17.41 7.96l-1.37-1.37c-.4-.4-.92-.59-1.43-.59-.52 0-1.04.2-1.43.59L10.3 9.45l-7.72 7.72c-.78.78-.78 2.05 0 2.83L4 21.41c.39.39.9.59 1.41.59.51 0 1.02-.2 1.41-.59l7.78-7.78 2.81-2.81c.8-.78.8-2.07 0-2.86zM5.41 20L4 18.59l7.72-7.72 1.47 1.35L5.41 20z\"/>\n",
              "  </svg>\n",
              "      </button>\n",
              "      \n",
              "  <style>\n",
              "    .colab-df-container {\n",
              "      display:flex;\n",
              "      flex-wrap:wrap;\n",
              "      gap: 12px;\n",
              "    }\n",
              "\n",
              "    .colab-df-convert {\n",
              "      background-color: #E8F0FE;\n",
              "      border: none;\n",
              "      border-radius: 50%;\n",
              "      cursor: pointer;\n",
              "      display: none;\n",
              "      fill: #1967D2;\n",
              "      height: 32px;\n",
              "      padding: 0 0 0 0;\n",
              "      width: 32px;\n",
              "    }\n",
              "\n",
              "    .colab-df-convert:hover {\n",
              "      background-color: #E2EBFA;\n",
              "      box-shadow: 0px 1px 2px rgba(60, 64, 67, 0.3), 0px 1px 3px 1px rgba(60, 64, 67, 0.15);\n",
              "      fill: #174EA6;\n",
              "    }\n",
              "\n",
              "    [theme=dark] .colab-df-convert {\n",
              "      background-color: #3B4455;\n",
              "      fill: #D2E3FC;\n",
              "    }\n",
              "\n",
              "    [theme=dark] .colab-df-convert:hover {\n",
              "      background-color: #434B5C;\n",
              "      box-shadow: 0px 1px 3px 1px rgba(0, 0, 0, 0.15);\n",
              "      filter: drop-shadow(0px 1px 2px rgba(0, 0, 0, 0.3));\n",
              "      fill: #FFFFFF;\n",
              "    }\n",
              "  </style>\n",
              "\n",
              "      <script>\n",
              "        const buttonEl =\n",
              "          document.querySelector('#df-b78f8b9f-f690-4e81-8904-8f0d76549554 button.colab-df-convert');\n",
              "        buttonEl.style.display =\n",
              "          google.colab.kernel.accessAllowed ? 'block' : 'none';\n",
              "\n",
              "        async function convertToInteractive(key) {\n",
              "          const element = document.querySelector('#df-b78f8b9f-f690-4e81-8904-8f0d76549554');\n",
              "          const dataTable =\n",
              "            await google.colab.kernel.invokeFunction('convertToInteractive',\n",
              "                                                     [key], {});\n",
              "          if (!dataTable) return;\n",
              "\n",
              "          const docLinkHtml = 'Like what you see? Visit the ' +\n",
              "            '<a target=\"_blank\" href=https://colab.research.google.com/notebooks/data_table.ipynb>data table notebook</a>'\n",
              "            + ' to learn more about interactive tables.';\n",
              "          element.innerHTML = '';\n",
              "          dataTable['output_type'] = 'display_data';\n",
              "          await google.colab.output.renderOutput(dataTable, element);\n",
              "          const docLink = document.createElement('div');\n",
              "          docLink.innerHTML = docLinkHtml;\n",
              "          element.appendChild(docLink);\n",
              "        }\n",
              "      </script>\n",
              "    </div>\n",
              "  </div>\n",
              "  "
            ]
          },
          "metadata": {},
          "execution_count": 39
        }
      ]
    },
    {
      "cell_type": "code",
      "source": [
        "import pandas as pd\n",
        "import numpy as np\n",
        "from numpy import NaN"
      ],
      "metadata": {
        "id": "qmBRoZgcAqRH"
      },
      "execution_count": null,
      "outputs": []
    },
    {
      "cell_type": "code",
      "source": [
        "df = pd.DataFrame({'Молчание ягнят':[5,5,2,3], 'Титаник':[5,3,5,4], 'Матрица':[5,4,3,4], 'Гарри Потер':[3,4,5,NaN]}, index=['Вася', 'Петя', 'Маша', 'Саша'])\n",
        "df"
      ],
      "metadata": {
        "colab": {
          "base_uri": "https://localhost:8080/",
          "height": 193
        },
        "id": "eqiWIrxhAtak",
        "outputId": "92063946-41c5-4e4f-c3b6-fa5916358f37"
      },
      "execution_count": null,
      "outputs": [
        {
          "output_type": "execute_result",
          "data": {
            "text/plain": [
              "      Молчание ягнят  Титаник  Матрица  Гарри Потер\n",
              "Вася               5        5        5          3.0\n",
              "Петя               5        3        4          4.0\n",
              "Маша               2        5        3          5.0\n",
              "Саша               3        4        4          NaN"
            ],
            "text/html": [
              "\n",
              "  <div id=\"df-bd796738-90d0-4676-8051-35ea8f2b375d\">\n",
              "    <div class=\"colab-df-container\">\n",
              "      <div>\n",
              "<style scoped>\n",
              "    .dataframe tbody tr th:only-of-type {\n",
              "        vertical-align: middle;\n",
              "    }\n",
              "\n",
              "    .dataframe tbody tr th {\n",
              "        vertical-align: top;\n",
              "    }\n",
              "\n",
              "    .dataframe thead th {\n",
              "        text-align: right;\n",
              "    }\n",
              "</style>\n",
              "<table border=\"1\" class=\"dataframe\">\n",
              "  <thead>\n",
              "    <tr style=\"text-align: right;\">\n",
              "      <th></th>\n",
              "      <th>Молчание ягнят</th>\n",
              "      <th>Титаник</th>\n",
              "      <th>Матрица</th>\n",
              "      <th>Гарри Потер</th>\n",
              "    </tr>\n",
              "  </thead>\n",
              "  <tbody>\n",
              "    <tr>\n",
              "      <th>Вася</th>\n",
              "      <td>5</td>\n",
              "      <td>5</td>\n",
              "      <td>5</td>\n",
              "      <td>3.0</td>\n",
              "    </tr>\n",
              "    <tr>\n",
              "      <th>Петя</th>\n",
              "      <td>5</td>\n",
              "      <td>3</td>\n",
              "      <td>4</td>\n",
              "      <td>4.0</td>\n",
              "    </tr>\n",
              "    <tr>\n",
              "      <th>Маша</th>\n",
              "      <td>2</td>\n",
              "      <td>5</td>\n",
              "      <td>3</td>\n",
              "      <td>5.0</td>\n",
              "    </tr>\n",
              "    <tr>\n",
              "      <th>Саша</th>\n",
              "      <td>3</td>\n",
              "      <td>4</td>\n",
              "      <td>4</td>\n",
              "      <td>NaN</td>\n",
              "    </tr>\n",
              "  </tbody>\n",
              "</table>\n",
              "</div>\n",
              "      <button class=\"colab-df-convert\" onclick=\"convertToInteractive('df-bd796738-90d0-4676-8051-35ea8f2b375d')\"\n",
              "              title=\"Convert this dataframe to an interactive table.\"\n",
              "              style=\"display:none;\">\n",
              "        \n",
              "  <svg xmlns=\"http://www.w3.org/2000/svg\" height=\"24px\"viewBox=\"0 0 24 24\"\n",
              "       width=\"24px\">\n",
              "    <path d=\"M0 0h24v24H0V0z\" fill=\"none\"/>\n",
              "    <path d=\"M18.56 5.44l.94 2.06.94-2.06 2.06-.94-2.06-.94-.94-2.06-.94 2.06-2.06.94zm-11 1L8.5 8.5l.94-2.06 2.06-.94-2.06-.94L8.5 2.5l-.94 2.06-2.06.94zm10 10l.94 2.06.94-2.06 2.06-.94-2.06-.94-.94-2.06-.94 2.06-2.06.94z\"/><path d=\"M17.41 7.96l-1.37-1.37c-.4-.4-.92-.59-1.43-.59-.52 0-1.04.2-1.43.59L10.3 9.45l-7.72 7.72c-.78.78-.78 2.05 0 2.83L4 21.41c.39.39.9.59 1.41.59.51 0 1.02-.2 1.41-.59l7.78-7.78 2.81-2.81c.8-.78.8-2.07 0-2.86zM5.41 20L4 18.59l7.72-7.72 1.47 1.35L5.41 20z\"/>\n",
              "  </svg>\n",
              "      </button>\n",
              "      \n",
              "  <style>\n",
              "    .colab-df-container {\n",
              "      display:flex;\n",
              "      flex-wrap:wrap;\n",
              "      gap: 12px;\n",
              "    }\n",
              "\n",
              "    .colab-df-convert {\n",
              "      background-color: #E8F0FE;\n",
              "      border: none;\n",
              "      border-radius: 50%;\n",
              "      cursor: pointer;\n",
              "      display: none;\n",
              "      fill: #1967D2;\n",
              "      height: 32px;\n",
              "      padding: 0 0 0 0;\n",
              "      width: 32px;\n",
              "    }\n",
              "\n",
              "    .colab-df-convert:hover {\n",
              "      background-color: #E2EBFA;\n",
              "      box-shadow: 0px 1px 2px rgba(60, 64, 67, 0.3), 0px 1px 3px 1px rgba(60, 64, 67, 0.15);\n",
              "      fill: #174EA6;\n",
              "    }\n",
              "\n",
              "    [theme=dark] .colab-df-convert {\n",
              "      background-color: #3B4455;\n",
              "      fill: #D2E3FC;\n",
              "    }\n",
              "\n",
              "    [theme=dark] .colab-df-convert:hover {\n",
              "      background-color: #434B5C;\n",
              "      box-shadow: 0px 1px 3px 1px rgba(0, 0, 0, 0.15);\n",
              "      filter: drop-shadow(0px 1px 2px rgba(0, 0, 0, 0.3));\n",
              "      fill: #FFFFFF;\n",
              "    }\n",
              "  </style>\n",
              "\n",
              "      <script>\n",
              "        const buttonEl =\n",
              "          document.querySelector('#df-bd796738-90d0-4676-8051-35ea8f2b375d button.colab-df-convert');\n",
              "        buttonEl.style.display =\n",
              "          google.colab.kernel.accessAllowed ? 'block' : 'none';\n",
              "\n",
              "        async function convertToInteractive(key) {\n",
              "          const element = document.querySelector('#df-bd796738-90d0-4676-8051-35ea8f2b375d');\n",
              "          const dataTable =\n",
              "            await google.colab.kernel.invokeFunction('convertToInteractive',\n",
              "                                                     [key], {});\n",
              "          if (!dataTable) return;\n",
              "\n",
              "          const docLinkHtml = 'Like what you see? Visit the ' +\n",
              "            '<a target=\"_blank\" href=https://colab.research.google.com/notebooks/data_table.ipynb>data table notebook</a>'\n",
              "            + ' to learn more about interactive tables.';\n",
              "          element.innerHTML = '';\n",
              "          dataTable['output_type'] = 'display_data';\n",
              "          await google.colab.output.renderOutput(dataTable, element);\n",
              "          const docLink = document.createElement('div');\n",
              "          docLink.innerHTML = docLinkHtml;\n",
              "          element.appendChild(docLink);\n",
              "        }\n",
              "      </script>\n",
              "    </div>\n",
              "  </div>\n",
              "  "
            ]
          },
          "metadata": {},
          "execution_count": 35
        }
      ]
    },
    {
      "cell_type": "code",
      "source": [
        "Sasha = np.array((3,4,4))\n",
        "Masha = np.array((2,5,3))\n",
        "Pet=np.array((5,3,4))\n",
        "Vasia=np.array((5,5,5))"
      ],
      "metadata": {
        "id": "AiYpXn_JEqdO"
      },
      "execution_count": null,
      "outputs": []
    },
    {
      "cell_type": "code",
      "source": [
        "S_M = np.linalg.norm(Sasha - Masha,ord=1)\n",
        "S_P = np.linalg.norm(Sasha - Pet,ord=1)\n",
        "S_V = np.linalg.norm(Sasha - Vasia,ord=1)\n",
        "print(S_M,S_P,S_V)"
      ],
      "metadata": {
        "colab": {
          "base_uri": "https://localhost:8080/"
        },
        "id": "VqfsEkqFGtk4",
        "outputId": "59e78cd1-9bc3-4027-a9b5-1a642f8c615e"
      },
      "execution_count": null,
      "outputs": [
        {
          "output_type": "stream",
          "name": "stdout",
          "text": [
            "4.0 3.0 4.0\n"
          ]
        }
      ]
    },
    {
      "cell_type": "code",
      "source": [
        "rez=(1/(1/S_M+1/S_P+1/S_V))*(3/S_M+4/S_P+5/S_V)\n",
        "rez"
      ],
      "metadata": {
        "colab": {
          "base_uri": "https://localhost:8080/"
        },
        "id": "sdBm1ZeqLxj3",
        "outputId": "4b2d6ead-a9b7-4211-e2fa-a9170eaf7169"
      },
      "execution_count": null,
      "outputs": [
        {
          "output_type": "execute_result",
          "data": {
            "text/plain": [
              "4.0"
            ]
          },
          "metadata": {},
          "execution_count": 47
        }
      ]
    },
    {
      "cell_type": "code",
      "source": [
        "pip install neulab"
      ],
      "metadata": {
        "colab": {
          "base_uri": "https://localhost:8080/"
        },
        "id": "vQH0jxj3Nf9n",
        "outputId": "60188d3e-ae7a-47ad-f165-e6c18cad9c06"
      },
      "execution_count": null,
      "outputs": [
        {
          "output_type": "stream",
          "name": "stdout",
          "text": [
            "Looking in indexes: https://pypi.org/simple, https://us-python.pkg.dev/colab-wheels/public/simple/\n",
            "Collecting neulab\n",
            "  Downloading neulab-0.0.23-py3-none-any.whl (13 kB)\n",
            "Requirement already satisfied: scipy in /usr/local/lib/python3.8/dist-packages (from neulab) (1.7.3)\n",
            "Requirement already satisfied: pandas in /usr/local/lib/python3.8/dist-packages (from neulab) (1.3.5)\n",
            "Requirement already satisfied: matplotlib in /usr/local/lib/python3.8/dist-packages (from neulab) (3.2.2)\n",
            "Requirement already satisfied: numpy in /usr/local/lib/python3.8/dist-packages (from neulab) (1.21.6)\n",
            "Requirement already satisfied: networkx in /usr/local/lib/python3.8/dist-packages (from neulab) (2.8.8)\n",
            "Requirement already satisfied: pyparsing!=2.0.4,!=2.1.2,!=2.1.6,>=2.0.1 in /usr/local/lib/python3.8/dist-packages (from matplotlib->neulab) (3.0.9)\n",
            "Requirement already satisfied: python-dateutil>=2.1 in /usr/local/lib/python3.8/dist-packages (from matplotlib->neulab) (2.8.2)\n",
            "Requirement already satisfied: kiwisolver>=1.0.1 in /usr/local/lib/python3.8/dist-packages (from matplotlib->neulab) (1.4.4)\n",
            "Requirement already satisfied: cycler>=0.10 in /usr/local/lib/python3.8/dist-packages (from matplotlib->neulab) (0.11.0)\n",
            "Requirement already satisfied: pytz>=2017.3 in /usr/local/lib/python3.8/dist-packages (from pandas->neulab) (2022.7)\n",
            "Requirement already satisfied: six>=1.5 in /usr/local/lib/python3.8/dist-packages (from python-dateutil>=2.1->matplotlib->neulab) (1.15.0)\n",
            "Installing collected packages: neulab\n",
            "Successfully installed neulab-0.0.23\n"
          ]
        }
      ]
    },
    {
      "cell_type": "code",
      "source": [
        "from neulab.Algorithms import EuclidMertic\n",
        "\n",
        "d = {'A': [1, 0, 1, 0, 1, 0], 'C': [1, 1, 0, 1, 1, 0]}\n",
        "df = pd.DataFrame(data=d)\n",
        "eqld = EuclidMertic(vector1=df.A, vector2=df.C)\n",
        "\n"
      ],
      "metadata": {
        "colab": {
          "base_uri": "https://localhost:8080/",
          "height": 200
        },
        "id": "T5m1roE9OaEm",
        "outputId": "8610c19c-28df-4479-c3b8-a0c9a2dcdcb3"
      },
      "execution_count": null,
      "outputs": [
        {
          "output_type": "error",
          "ename": "NameError",
          "evalue": "ignored",
          "traceback": [
            "\u001b[0;31m---------------------------------------------------------------------------\u001b[0m",
            "\u001b[0;31mNameError\u001b[0m                                 Traceback (most recent call last)",
            "\u001b[0;32m<ipython-input-52-e9a8f038e0b6>\u001b[0m in \u001b[0;36m<module>\u001b[0;34m\u001b[0m\n\u001b[1;32m      4\u001b[0m \u001b[0mdf\u001b[0m \u001b[0;34m=\u001b[0m \u001b[0mpd\u001b[0m\u001b[0;34m.\u001b[0m\u001b[0mDataFrame\u001b[0m\u001b[0;34m(\u001b[0m\u001b[0mdata\u001b[0m\u001b[0;34m=\u001b[0m\u001b[0md\u001b[0m\u001b[0;34m)\u001b[0m\u001b[0;34m\u001b[0m\u001b[0;34m\u001b[0m\u001b[0m\n\u001b[1;32m      5\u001b[0m \u001b[0meqld\u001b[0m \u001b[0;34m=\u001b[0m \u001b[0mEuclidMertic\u001b[0m\u001b[0;34m(\u001b[0m\u001b[0mvector1\u001b[0m\u001b[0;34m=\u001b[0m\u001b[0mdf\u001b[0m\u001b[0;34m.\u001b[0m\u001b[0mA\u001b[0m\u001b[0;34m,\u001b[0m \u001b[0mvector2\u001b[0m\u001b[0;34m=\u001b[0m\u001b[0mdf\u001b[0m\u001b[0;34m.\u001b[0m\u001b[0mC\u001b[0m\u001b[0;34m)\u001b[0m\u001b[0;34m\u001b[0m\u001b[0;34m\u001b[0m\u001b[0m\n\u001b[0;32m----> 6\u001b[0;31m \u001b[0mOutput\u001b[0m\u001b[0;34m\u001b[0m\u001b[0;34m\u001b[0m\u001b[0m\n\u001b[0m",
            "\u001b[0;31mNameError\u001b[0m: name 'Output' is not defined"
          ]
        }
      ]
    },
    {
      "cell_type": "code",
      "source": [
        "print(eqld)"
      ],
      "metadata": {
        "colab": {
          "base_uri": "https://localhost:8080/"
        },
        "id": "_cBZmJLUOnyg",
        "outputId": "333a9bf8-6fa4-4cc1-ff57-4c1f8639abb8"
      },
      "execution_count": null,
      "outputs": [
        {
          "output_type": "stream",
          "name": "stdout",
          "text": [
            "1.7320508075688772\n"
          ]
        }
      ]
    },
    {
      "cell_type": "code",
      "source": [
        "pip install neulab"
      ],
      "metadata": {
        "colab": {
          "base_uri": "https://localhost:8080/"
        },
        "id": "uAbi89sqn2Pe",
        "outputId": "5aaeebe7-5194-4319-e8be-66e074546bcd"
      },
      "execution_count": null,
      "outputs": [
        {
          "output_type": "stream",
          "name": "stdout",
          "text": [
            "Looking in indexes: https://pypi.org/simple, https://us-python.pkg.dev/colab-wheels/public/simple/\n",
            "Collecting neulab\n",
            "  Downloading neulab-0.0.23-py3-none-any.whl (13 kB)\n",
            "Requirement already satisfied: matplotlib in /usr/local/lib/python3.8/dist-packages (from neulab) (3.2.2)\n",
            "Requirement already satisfied: scipy in /usr/local/lib/python3.8/dist-packages (from neulab) (1.7.3)\n",
            "Requirement already satisfied: networkx in /usr/local/lib/python3.8/dist-packages (from neulab) (3.0)\n",
            "Requirement already satisfied: numpy in /usr/local/lib/python3.8/dist-packages (from neulab) (1.21.6)\n",
            "Requirement already satisfied: pandas in /usr/local/lib/python3.8/dist-packages (from neulab) (1.3.5)\n",
            "Requirement already satisfied: pyparsing!=2.0.4,!=2.1.2,!=2.1.6,>=2.0.1 in /usr/local/lib/python3.8/dist-packages (from matplotlib->neulab) (3.0.9)\n",
            "Requirement already satisfied: python-dateutil>=2.1 in /usr/local/lib/python3.8/dist-packages (from matplotlib->neulab) (2.8.2)\n",
            "Requirement already satisfied: kiwisolver>=1.0.1 in /usr/local/lib/python3.8/dist-packages (from matplotlib->neulab) (1.4.4)\n",
            "Requirement already satisfied: cycler>=0.10 in /usr/local/lib/python3.8/dist-packages (from matplotlib->neulab) (0.11.0)\n",
            "Requirement already satisfied: pytz>=2017.3 in /usr/local/lib/python3.8/dist-packages (from pandas->neulab) (2022.7)\n",
            "Requirement already satisfied: six>=1.5 in /usr/local/lib/python3.8/dist-packages (from python-dateutil>=2.1->matplotlib->neulab) (1.15.0)\n",
            "Installing collected packages: neulab\n",
            "Successfully installed neulab-0.0.23\n"
          ]
        }
      ]
    },
    {
      "cell_type": "code",
      "source": [
        "from neulab.OutlierDetection import Quratile"
      ],
      "metadata": {
        "id": "PK8dzdkZnsBt"
      },
      "execution_count": null,
      "outputs": []
    },
    {
      "cell_type": "code",
      "source": [
        "Q25=int(input())\n",
        "Q75=int(input())"
      ],
      "metadata": {
        "colab": {
          "base_uri": "https://localhost:8080/"
        },
        "id": "ZXLvhzyfn9Yv",
        "outputId": "6e7bc9a8-08e4-4099-d789-2594751404cc"
      },
      "execution_count": null,
      "outputs": [
        {
          "name": "stdout",
          "output_type": "stream",
          "text": [
            "2\n",
            "4\n"
          ]
        }
      ]
    },
    {
      "cell_type": "code",
      "source": [],
      "metadata": {
        "id": "FGpfqvY_qk66"
      },
      "execution_count": null,
      "outputs": []
    },
    {
      "cell_type": "code",
      "source": [
        "niz=Q25 - 1.5 * (Q75 - Q25)\n",
        "top=Q75 + 1.5 *(Q75 - Q25)\n",
        "print(niz, top)"
      ],
      "metadata": {
        "colab": {
          "base_uri": "https://localhost:8080/"
        },
        "id": "UOUkfJYAqlKN",
        "outputId": "80ce9cab-af1b-452d-f2c3-ff036c53aff6"
      },
      "execution_count": null,
      "outputs": [
        {
          "output_type": "stream",
          "name": "stdout",
          "text": [
            "-1.0 7.0\n"
          ]
        }
      ]
    },
    {
      "cell_type": "code",
      "source": [
        "import numpy as np"
      ],
      "metadata": {
        "id": "cjMpHUxkxqLz"
      },
      "execution_count": null,
      "outputs": []
    },
    {
      "cell_type": "code",
      "source": [
        "A = np.array([1, 1, 0])\n",
        "B = np.array([0, 2, -1])\n",
        "C = np.array([2, 3, 1])\n",
        "D = np.array([1, 0, 4])\n",
        "l = {'A': A, 'B': B, 'C': C, 'D': D}\n",
        "for i1, i2 in l.items():\n",
        "    k = 0\n",
        "    for a in l.values():\n",
        "        k += np.linalg.norm(i2 - a, ord=1)\n",
        "    print(i1, k)"
      ],
      "metadata": {
        "colab": {
          "base_uri": "https://localhost:8080/"
        },
        "id": "F-HMhNCssKQA",
        "outputId": "27f4fa5c-0da5-4b8a-9304-8c4b78e9d25a"
      },
      "execution_count": null,
      "outputs": [
        {
          "output_type": "stream",
          "name": "stdout",
          "text": [
            "A 12.0\n",
            "B 16.0\n",
            "C 16.0\n",
            "D 20.0\n"
          ]
        }
      ]
    }
  ]
}