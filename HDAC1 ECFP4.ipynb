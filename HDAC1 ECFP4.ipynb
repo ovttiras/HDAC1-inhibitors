{
 "cells": [
  {
   "cell_type": "markdown",
   "metadata": {},
   "source": [
    "# 1. Импортирование библиотек и модулей"
   ]
  },
  {
   "cell_type": "code",
   "execution_count": 1,
   "metadata": {},
   "outputs": [],
   "source": [
    "from rdkit import Chem, DataStructs\n",
    "from rdkit.Chem import AllChem, Descriptors\n",
    "from rdkit.ML.Descriptors import MoleculeDescriptors\n",
    "from rdkit.Chem.AllChem import GetMorganFingerprintAsBitVect\n",
    "import numpy as np\n",
    "import pandas as pd\n",
    "from rdkit.Chem import PandasTools\n",
    "from sklearn.svm import SVC\n",
    "from sklearn.ensemble import RandomForestClassifier, GradientBoostingClassifier\n",
    "from sklearn.model_selection import train_test_split, StratifiedKFold, GridSearchCV\n",
    "from sklearn.model_selection import permutation_test_score\n",
    "from sklearn.preprocessing import StandardScaler\n",
    "from sklearn.model_selection import cross_val_predict\n",
    "from sklearn import metrics\n",
    "from sklearn.metrics import cohen_kappa_score\n",
    "from sklearn.metrics import balanced_accuracy_score\n",
    "from sklearn.metrics import pairwise_distances\n",
    "import joblib\n",
    "import pickle\n",
    "from IPython.display import HTML\n",
    "import matplotlib.pyplot as plt"
   ]
  },
  {
   "cell_type": "markdown",
   "metadata": {},
   "source": [
    "# 2.Загрузка обучающей и тестовой выборок"
   ]
  },
  {
   "cell_type": "code",
   "execution_count": 2,
   "metadata": {},
   "outputs": [],
   "source": [
    "fname_tr = \"HDAC1/Sets/HDAC1 work set_st.sdf\"\n",
    "\n",
    "mols_tr = []\n",
    "y_tr = []\n",
    "for mol in Chem.SDMolSupplier(fname_tr):\n",
    "    if mol is not None:\n",
    "        mols_tr.append(mol)\n",
    "        y_tr.append(mol.GetIntProp(\"HDAC1\"))"
   ]
  },
  {
   "cell_type": "code",
   "execution_count": 3,
   "metadata": {
    "scrolled": true
   },
   "outputs": [],
   "source": [
    "fname_ts = \"HDAC1/Sets/HDAC1  test  set_st.sdf\"\n",
    "\n",
    "mols_ts = []\n",
    "y_ts = []\n",
    "for mol in Chem.SDMolSupplier(fname_ts):\n",
    "    if mol is not None:\n",
    "        mols_ts.append(mol)\n",
    "        y_ts.append(mol.GetIntProp(\"HDAC1\"))"
   ]
  },
  {
   "cell_type": "markdown",
   "metadata": {},
   "source": [
    "# 3.Расчет дескрипторов обучающей выборки"
   ]
  },
  {
   "cell_type": "code",
   "execution_count": 4,
   "metadata": {},
   "outputs": [],
   "source": [
    "fp_tr = [AllChem.GetMorganFingerprintAsBitVect(m, radius=2,nBits=1024,useFeatures=False,useChirality = False) for m in mols_tr]"
   ]
  },
  {
   "cell_type": "code",
   "execution_count": 5,
   "metadata": {},
   "outputs": [],
   "source": [
    "def rdkit_numpy_convert(fp_tr):\n",
    "    output = []\n",
    "    for f in fp_tr:\n",
    "        arr = np.zeros((1,))\n",
    "        DataStructs.ConvertToNumpyArray(f, arr)\n",
    "        output.append(arr)\n",
    "    return np.asarray(output)"
   ]
  },
  {
   "cell_type": "code",
   "execution_count": 6,
   "metadata": {},
   "outputs": [],
   "source": [
    "from numpy import savetxt\n",
    "x_tr = rdkit_numpy_convert(fp_tr)"
   ]
  },
  {
   "cell_type": "code",
   "execution_count": 7,
   "metadata": {},
   "outputs": [],
   "source": [
    "savetxt('HDAC1/Models/FP/x_tr.csv', x_tr, delimiter=',')"
   ]
  },
  {
   "cell_type": "code",
   "execution_count": 8,
   "metadata": {},
   "outputs": [
    {
     "data": {
      "text/plain": [
       "(169, 1024)"
      ]
     },
     "execution_count": 8,
     "metadata": {},
     "output_type": "execute_result"
    }
   ],
   "source": [
    "x_tr.shape"
   ]
  },
  {
   "cell_type": "markdown",
   "metadata": {},
   "source": [
    "# 4. Расчет дескрипторов тестовой выборки"
   ]
  },
  {
   "cell_type": "code",
   "execution_count": 9,
   "metadata": {},
   "outputs": [],
   "source": [
    "fp_ts = [AllChem.GetMorganFingerprintAsBitVect(m, radius=2,nBits=1024,useFeatures=False,useChirality = False) for m in mols_ts]"
   ]
  },
  {
   "cell_type": "code",
   "execution_count": 10,
   "metadata": {},
   "outputs": [],
   "source": [
    "def rdkit_numpy_convert(fp_ts):\n",
    "    output = []\n",
    "    for f in fp_ts:\n",
    "        arr = np.zeros((1,))\n",
    "        DataStructs.ConvertToNumpyArray(f, arr)\n",
    "        output.append(arr)\n",
    "    return np.asarray(output)"
   ]
  },
  {
   "cell_type": "code",
   "execution_count": 11,
   "metadata": {},
   "outputs": [],
   "source": [
    "x_ts = rdkit_numpy_convert(fp_ts)"
   ]
  },
  {
   "cell_type": "code",
   "execution_count": 12,
   "metadata": {},
   "outputs": [
    {
     "data": {
      "text/plain": [
       "(42, 1024)"
      ]
     },
     "execution_count": 12,
     "metadata": {},
     "output_type": "execute_result"
    }
   ],
   "source": [
    "x_ts.shape"
   ]
  },
  {
   "cell_type": "markdown",
   "metadata": {},
   "source": [
    "# 5. Построение и валидация модели RF "
   ]
  },
  {
   "cell_type": "markdown",
   "metadata": {},
   "source": [
    "## 5.1. Построение модели RF "
   ]
  },
  {
   "cell_type": "code",
   "execution_count": 13,
   "metadata": {},
   "outputs": [],
   "source": [
    "seed = 42"
   ]
  },
  {
   "cell_type": "code",
   "execution_count": 14,
   "metadata": {},
   "outputs": [],
   "source": [
    "cv = StratifiedKFold(n_splits=5, shuffle=True, random_state=seed)"
   ]
  },
  {
   "cell_type": "code",
   "execution_count": 15,
   "metadata": {},
   "outputs": [],
   "source": [
    "param_grid = {\"max_features\": [x_tr.shape[1] // 10, x_tr.shape[1] // 7, x_tr.shape[1] // 5, x_tr.shape[1] // 3],\n",
    "              \"n_estimators\": [100, 250, 500, 1000]}"
   ]
  },
  {
   "cell_type": "code",
   "execution_count": 16,
   "metadata": {},
   "outputs": [],
   "source": [
    "m = GridSearchCV(RandomForestClassifier(), param_grid, n_jobs=2, cv=cv, verbose=1)"
   ]
  },
  {
   "cell_type": "code",
   "execution_count": 17,
   "metadata": {},
   "outputs": [
    {
     "name": "stdout",
     "output_type": "stream",
     "text": [
      "Fitting 5 folds for each of 16 candidates, totalling 80 fits\n"
     ]
    },
    {
     "data": {
      "text/plain": [
       "GridSearchCV(cv=StratifiedKFold(n_splits=5, random_state=42, shuffle=True),\n",
       "             estimator=RandomForestClassifier(), n_jobs=2,\n",
       "             param_grid={'max_features': [102, 146, 204, 341],\n",
       "                         'n_estimators': [100, 250, 500, 1000]},\n",
       "             verbose=1)"
      ]
     },
     "execution_count": 17,
     "metadata": {},
     "output_type": "execute_result"
    }
   ],
   "source": [
    "m.fit(x_tr, y_tr)"
   ]
  },
  {
   "cell_type": "code",
   "execution_count": 18,
   "metadata": {},
   "outputs": [
    {
     "data": {
      "text/plain": [
       "{'max_features': 146, 'n_estimators': 500}"
      ]
     },
     "execution_count": 18,
     "metadata": {},
     "output_type": "execute_result"
    }
   ],
   "source": [
    "m.best_params_"
   ]
  },
  {
   "cell_type": "code",
   "execution_count": 19,
   "metadata": {},
   "outputs": [],
   "source": [
    "best_clf_RF = m.best_estimator_"
   ]
  },
  {
   "cell_type": "markdown",
   "metadata": {},
   "source": [
    "## 5.2. 5-fold-cross-validation  модели RF"
   ]
  },
  {
   "cell_type": "code",
   "execution_count": 20,
   "metadata": {},
   "outputs": [],
   "source": [
    "y_pred_CV_RF = cross_val_predict(best_clf_RF, x_tr, y_tr, cv=cv)"
   ]
  },
  {
   "cell_type": "code",
   "execution_count": 21,
   "metadata": {},
   "outputs": [
    {
     "name": "stdout",
     "output_type": "stream",
     "text": [
      "balanced_accuracy =  0.88\n",
      "SE =  0.83\n",
      "SP =  0.93\n",
      "Kappa =  0.77\n"
     ]
    }
   ],
   "source": [
    "confusion_matrix_RF = metrics.confusion_matrix(y_tr, y_pred_CV_RF, labels=[0,1])\n",
    "Kappa = metrics.cohen_kappa_score(y_tr, y_pred_CV_RF, weights='linear')\n",
    "TN, FP, FN, TP = confusion_matrix_RF.ravel()\n",
    "SE = TP/(TP+FN)\n",
    "SP = TN/(TN+FP)\n",
    "BA = (SE + SP)/2\n",
    "print(\"balanced_accuracy = \", round((BA), 2))\n",
    "print(\"SE = \", round((SE), 2))\n",
    "print(\"SP = \", round((SP), 2))\n",
    "print(\"Kappa = \", round((Kappa), 2))"
   ]
  },
  {
   "cell_type": "code",
   "execution_count": 22,
   "metadata": {},
   "outputs": [],
   "source": [
    "pickle.dump(best_clf_RF, open('HDAC1/Models/FP/HDAC1_RF_ECFP4.pkl', 'wb'))"
   ]
  },
  {
   "cell_type": "markdown",
   "metadata": {},
   "source": [
    "## 5.3.Y-randomization для модели RF"
   ]
  },
  {
   "cell_type": "code",
   "execution_count": 23,
   "metadata": {},
   "outputs": [
    {
     "name": "stderr",
     "output_type": "stream",
     "text": [
      "[Parallel(n_jobs=-1)]: Using backend LokyBackend with 2 concurrent workers.\n",
      "[Parallel(n_jobs=-1)]: Done  20 out of  20 | elapsed:  3.6min finished\n"
     ]
    },
    {
     "name": "stdout",
     "output_type": "stream",
     "text": [
      "True score =  0.88 \n",
      "Y-randomization =  0.49 \n",
      "p-value =  0.0476\n"
     ]
    }
   ],
   "source": [
    "permutations = 20\n",
    "score, permutation_scores, pvalue = permutation_test_score(best_clf_RF, x_tr, y_tr,\n",
    "                                                           cv=cv, scoring='balanced_accuracy',\n",
    "                                                           n_permutations=permutations,\n",
    "                                                           n_jobs=-1,\n",
    "                                                           verbose=1,\n",
    "                                                           random_state=24)\n",
    "print('True score = ', score.round(2),\n",
    "      '\\nY-randomization = ', np.mean(permutation_scores).round(2),\n",
    "      '\\np-value = ', pvalue.round(4))"
   ]
  },
  {
   "cell_type": "markdown",
   "metadata": {},
   "source": [
    "## 5.4. Валидация на внешней тестовой выборке для модели RF"
   ]
  },
  {
   "cell_type": "code",
   "execution_count": 24,
   "metadata": {},
   "outputs": [],
   "source": [
    "y_pred_rf = best_clf_RF.predict(x_ts)"
   ]
  },
  {
   "cell_type": "code",
   "execution_count": 25,
   "metadata": {},
   "outputs": [
    {
     "data": {
      "text/plain": [
       "array([1, 1, 0, 1, 1, 1, 1, 1, 0, 1, 1, 1, 1, 1, 0, 0, 1, 1, 1, 1, 0, 1,\n",
       "       0, 0, 0, 0, 0, 0, 0, 0, 0, 0, 0, 0, 1, 0, 1, 0, 0, 0, 0, 0])"
      ]
     },
     "execution_count": 25,
     "metadata": {},
     "output_type": "execute_result"
    }
   ],
   "source": [
    "y_pred_rf"
   ]
  },
  {
   "cell_type": "code",
   "execution_count": 26,
   "metadata": {},
   "outputs": [],
   "source": [
    "confusion_matrix_ts = metrics.confusion_matrix(y_ts, y_pred_rf, labels=[0,1])"
   ]
  },
  {
   "cell_type": "code",
   "execution_count": 27,
   "metadata": {},
   "outputs": [
    {
     "name": "stdout",
     "output_type": "stream",
     "text": [
      "balanced_accuracy =  0.76\n",
      "SE =  0.76\n",
      "SP =  0.76\n",
      "Kappa =  0.52\n"
     ]
    }
   ],
   "source": [
    "Kappa = metrics.cohen_kappa_score(y_ts, y_pred_rf, weights='linear')\n",
    "TN, FP, FN, TP = confusion_matrix_ts.ravel()\n",
    "SE = TP/(TP+FN)\n",
    "SP = TN/(TN+FP)\n",
    "BA = (SE + SP)/2\n",
    "print(\"balanced_accuracy = \", round((BA), 2))\n",
    "print(\"SE = \", round((SE), 2))\n",
    "print(\"SP = \", round((SP), 2))\n",
    "print(\"Kappa = \", round((Kappa), 2))"
   ]
  },
  {
   "cell_type": "markdown",
   "metadata": {},
   "source": [
    "## 5.5. Выявление 5 наиболее значимых признаков"
   ]
  },
  {
   "cell_type": "markdown",
   "metadata": {},
   "source": [
    "# 6. Расчет AD методом Euclidian distances при K=1 (https://doi.org/10.1021/acs.jcim.0c00415)"
   ]
  },
  {
   "cell_type": "code",
   "execution_count": 28,
   "metadata": {},
   "outputs": [],
   "source": [
    "neighbors_k= pairwise_distances(x_tr, n_jobs=-1)\n",
    "neighbors_k.sort(0)"
   ]
  },
  {
   "cell_type": "code",
   "execution_count": 29,
   "metadata": {},
   "outputs": [
    {
     "data": {
      "text/html": [
       "<div>\n",
       "<style scoped>\n",
       "    .dataframe tbody tr th:only-of-type {\n",
       "        vertical-align: middle;\n",
       "    }\n",
       "\n",
       "    .dataframe tbody tr th {\n",
       "        vertical-align: top;\n",
       "    }\n",
       "\n",
       "    .dataframe thead th {\n",
       "        text-align: right;\n",
       "    }\n",
       "</style>\n",
       "<table border=\"1\" class=\"dataframe\">\n",
       "  <thead>\n",
       "    <tr style=\"text-align: right;\">\n",
       "      <th></th>\n",
       "      <th>0</th>\n",
       "      <th>1</th>\n",
       "      <th>2</th>\n",
       "      <th>3</th>\n",
       "      <th>4</th>\n",
       "      <th>5</th>\n",
       "      <th>6</th>\n",
       "      <th>7</th>\n",
       "      <th>8</th>\n",
       "      <th>9</th>\n",
       "      <th>...</th>\n",
       "      <th>159</th>\n",
       "      <th>160</th>\n",
       "      <th>161</th>\n",
       "      <th>162</th>\n",
       "      <th>163</th>\n",
       "      <th>164</th>\n",
       "      <th>165</th>\n",
       "      <th>166</th>\n",
       "      <th>167</th>\n",
       "      <th>168</th>\n",
       "    </tr>\n",
       "  </thead>\n",
       "  <tbody>\n",
       "    <tr>\n",
       "      <th>0</th>\n",
       "      <td>0.000000</td>\n",
       "      <td>0.000000</td>\n",
       "      <td>0.000000</td>\n",
       "      <td>0.000000</td>\n",
       "      <td>0.000000</td>\n",
       "      <td>0.000000</td>\n",
       "      <td>0.000000</td>\n",
       "      <td>0.000000</td>\n",
       "      <td>0.000000</td>\n",
       "      <td>0.000000</td>\n",
       "      <td>...</td>\n",
       "      <td>0.000000</td>\n",
       "      <td>0.000000</td>\n",
       "      <td>0.000000</td>\n",
       "      <td>0.000000</td>\n",
       "      <td>0.000000</td>\n",
       "      <td>0.000000</td>\n",
       "      <td>0.000000</td>\n",
       "      <td>0.000000</td>\n",
       "      <td>0.000000</td>\n",
       "      <td>0.000000</td>\n",
       "    </tr>\n",
       "    <tr>\n",
       "      <th>1</th>\n",
       "      <td>4.898979</td>\n",
       "      <td>4.898979</td>\n",
       "      <td>3.000000</td>\n",
       "      <td>3.162278</td>\n",
       "      <td>2.828427</td>\n",
       "      <td>4.690416</td>\n",
       "      <td>2.828427</td>\n",
       "      <td>8.544004</td>\n",
       "      <td>0.000000</td>\n",
       "      <td>2.828427</td>\n",
       "      <td>...</td>\n",
       "      <td>3.605551</td>\n",
       "      <td>5.830952</td>\n",
       "      <td>4.472136</td>\n",
       "      <td>6.082763</td>\n",
       "      <td>5.830952</td>\n",
       "      <td>5.291503</td>\n",
       "      <td>3.316625</td>\n",
       "      <td>2.828427</td>\n",
       "      <td>5.291503</td>\n",
       "      <td>7.483315</td>\n",
       "    </tr>\n",
       "    <tr>\n",
       "      <th>2</th>\n",
       "      <td>7.483315</td>\n",
       "      <td>6.557439</td>\n",
       "      <td>3.316625</td>\n",
       "      <td>3.464102</td>\n",
       "      <td>3.162278</td>\n",
       "      <td>5.196152</td>\n",
       "      <td>3.162278</td>\n",
       "      <td>8.660254</td>\n",
       "      <td>4.242641</td>\n",
       "      <td>3.162278</td>\n",
       "      <td>...</td>\n",
       "      <td>3.872983</td>\n",
       "      <td>9.000000</td>\n",
       "      <td>4.472136</td>\n",
       "      <td>6.324555</td>\n",
       "      <td>8.774964</td>\n",
       "      <td>5.385165</td>\n",
       "      <td>4.123106</td>\n",
       "      <td>3.316625</td>\n",
       "      <td>5.477226</td>\n",
       "      <td>7.483315</td>\n",
       "    </tr>\n",
       "    <tr>\n",
       "      <th>3</th>\n",
       "      <td>7.483315</td>\n",
       "      <td>6.855655</td>\n",
       "      <td>3.316625</td>\n",
       "      <td>3.741657</td>\n",
       "      <td>3.162278</td>\n",
       "      <td>5.385165</td>\n",
       "      <td>3.162278</td>\n",
       "      <td>8.888194</td>\n",
       "      <td>5.196152</td>\n",
       "      <td>3.162278</td>\n",
       "      <td>...</td>\n",
       "      <td>4.358899</td>\n",
       "      <td>9.000000</td>\n",
       "      <td>4.582576</td>\n",
       "      <td>6.403124</td>\n",
       "      <td>8.774964</td>\n",
       "      <td>6.000000</td>\n",
       "      <td>5.196152</td>\n",
       "      <td>4.000000</td>\n",
       "      <td>5.567764</td>\n",
       "      <td>7.874008</td>\n",
       "    </tr>\n",
       "    <tr>\n",
       "      <th>4</th>\n",
       "      <td>7.681146</td>\n",
       "      <td>6.928203</td>\n",
       "      <td>3.316625</td>\n",
       "      <td>4.000000</td>\n",
       "      <td>3.162278</td>\n",
       "      <td>5.567764</td>\n",
       "      <td>3.316625</td>\n",
       "      <td>8.888194</td>\n",
       "      <td>5.196152</td>\n",
       "      <td>3.316625</td>\n",
       "      <td>...</td>\n",
       "      <td>5.000000</td>\n",
       "      <td>9.165151</td>\n",
       "      <td>5.385165</td>\n",
       "      <td>6.403124</td>\n",
       "      <td>8.774964</td>\n",
       "      <td>6.082763</td>\n",
       "      <td>6.000000</td>\n",
       "      <td>5.567764</td>\n",
       "      <td>5.567764</td>\n",
       "      <td>7.874008</td>\n",
       "    </tr>\n",
       "    <tr>\n",
       "      <th>...</th>\n",
       "      <td>...</td>\n",
       "      <td>...</td>\n",
       "      <td>...</td>\n",
       "      <td>...</td>\n",
       "      <td>...</td>\n",
       "      <td>...</td>\n",
       "      <td>...</td>\n",
       "      <td>...</td>\n",
       "      <td>...</td>\n",
       "      <td>...</td>\n",
       "      <td>...</td>\n",
       "      <td>...</td>\n",
       "      <td>...</td>\n",
       "      <td>...</td>\n",
       "      <td>...</td>\n",
       "      <td>...</td>\n",
       "      <td>...</td>\n",
       "      <td>...</td>\n",
       "      <td>...</td>\n",
       "      <td>...</td>\n",
       "      <td>...</td>\n",
       "    </tr>\n",
       "    <tr>\n",
       "      <th>164</th>\n",
       "      <td>10.392305</td>\n",
       "      <td>9.643651</td>\n",
       "      <td>10.148892</td>\n",
       "      <td>10.392305</td>\n",
       "      <td>10.198039</td>\n",
       "      <td>9.327379</td>\n",
       "      <td>10.198039</td>\n",
       "      <td>10.862780</td>\n",
       "      <td>10.049876</td>\n",
       "      <td>10.295630</td>\n",
       "      <td>...</td>\n",
       "      <td>10.583005</td>\n",
       "      <td>11.045361</td>\n",
       "      <td>9.486833</td>\n",
       "      <td>9.591663</td>\n",
       "      <td>10.583005</td>\n",
       "      <td>9.055385</td>\n",
       "      <td>10.344080</td>\n",
       "      <td>10.148892</td>\n",
       "      <td>9.055385</td>\n",
       "      <td>10.148892</td>\n",
       "    </tr>\n",
       "    <tr>\n",
       "      <th>165</th>\n",
       "      <td>10.392305</td>\n",
       "      <td>9.643651</td>\n",
       "      <td>10.246951</td>\n",
       "      <td>10.392305</td>\n",
       "      <td>10.295630</td>\n",
       "      <td>9.380832</td>\n",
       "      <td>10.198039</td>\n",
       "      <td>10.908712</td>\n",
       "      <td>10.099505</td>\n",
       "      <td>10.295630</td>\n",
       "      <td>...</td>\n",
       "      <td>10.583005</td>\n",
       "      <td>11.045361</td>\n",
       "      <td>9.539392</td>\n",
       "      <td>9.643651</td>\n",
       "      <td>10.630146</td>\n",
       "      <td>9.110434</td>\n",
       "      <td>10.344080</td>\n",
       "      <td>10.148892</td>\n",
       "      <td>9.055385</td>\n",
       "      <td>10.148892</td>\n",
       "    </tr>\n",
       "    <tr>\n",
       "      <th>166</th>\n",
       "      <td>10.440307</td>\n",
       "      <td>9.848858</td>\n",
       "      <td>10.344080</td>\n",
       "      <td>10.392305</td>\n",
       "      <td>10.295630</td>\n",
       "      <td>9.486833</td>\n",
       "      <td>10.295630</td>\n",
       "      <td>10.954451</td>\n",
       "      <td>10.148892</td>\n",
       "      <td>10.392305</td>\n",
       "      <td>...</td>\n",
       "      <td>10.583005</td>\n",
       "      <td>11.045361</td>\n",
       "      <td>9.539392</td>\n",
       "      <td>9.695360</td>\n",
       "      <td>10.677078</td>\n",
       "      <td>9.219544</td>\n",
       "      <td>10.392305</td>\n",
       "      <td>10.246951</td>\n",
       "      <td>9.165151</td>\n",
       "      <td>10.295630</td>\n",
       "    </tr>\n",
       "    <tr>\n",
       "      <th>167</th>\n",
       "      <td>10.440307</td>\n",
       "      <td>9.949874</td>\n",
       "      <td>10.583005</td>\n",
       "      <td>10.630146</td>\n",
       "      <td>10.440307</td>\n",
       "      <td>9.643651</td>\n",
       "      <td>10.535654</td>\n",
       "      <td>11.000000</td>\n",
       "      <td>10.440307</td>\n",
       "      <td>10.535654</td>\n",
       "      <td>...</td>\n",
       "      <td>10.908712</td>\n",
       "      <td>11.090537</td>\n",
       "      <td>9.539392</td>\n",
       "      <td>9.797959</td>\n",
       "      <td>10.723805</td>\n",
       "      <td>9.486833</td>\n",
       "      <td>10.392305</td>\n",
       "      <td>10.392305</td>\n",
       "      <td>9.219544</td>\n",
       "      <td>10.295630</td>\n",
       "    </tr>\n",
       "    <tr>\n",
       "      <th>168</th>\n",
       "      <td>10.535654</td>\n",
       "      <td>10.099505</td>\n",
       "      <td>10.723805</td>\n",
       "      <td>10.677078</td>\n",
       "      <td>10.488088</td>\n",
       "      <td>9.643651</td>\n",
       "      <td>10.583005</td>\n",
       "      <td>11.045361</td>\n",
       "      <td>10.583005</td>\n",
       "      <td>10.677078</td>\n",
       "      <td>...</td>\n",
       "      <td>11.000000</td>\n",
       "      <td>11.313708</td>\n",
       "      <td>9.848858</td>\n",
       "      <td>10.295630</td>\n",
       "      <td>10.770330</td>\n",
       "      <td>9.591663</td>\n",
       "      <td>10.583005</td>\n",
       "      <td>10.630146</td>\n",
       "      <td>9.591663</td>\n",
       "      <td>10.535654</td>\n",
       "    </tr>\n",
       "  </tbody>\n",
       "</table>\n",
       "<p>169 rows × 169 columns</p>\n",
       "</div>"
      ],
      "text/plain": [
       "           0          1          2          3          4         5    \\\n",
       "0     0.000000   0.000000   0.000000   0.000000   0.000000  0.000000   \n",
       "1     4.898979   4.898979   3.000000   3.162278   2.828427  4.690416   \n",
       "2     7.483315   6.557439   3.316625   3.464102   3.162278  5.196152   \n",
       "3     7.483315   6.855655   3.316625   3.741657   3.162278  5.385165   \n",
       "4     7.681146   6.928203   3.316625   4.000000   3.162278  5.567764   \n",
       "..         ...        ...        ...        ...        ...       ...   \n",
       "164  10.392305   9.643651  10.148892  10.392305  10.198039  9.327379   \n",
       "165  10.392305   9.643651  10.246951  10.392305  10.295630  9.380832   \n",
       "166  10.440307   9.848858  10.344080  10.392305  10.295630  9.486833   \n",
       "167  10.440307   9.949874  10.583005  10.630146  10.440307  9.643651   \n",
       "168  10.535654  10.099505  10.723805  10.677078  10.488088  9.643651   \n",
       "\n",
       "           6          7          8          9    ...        159        160  \\\n",
       "0     0.000000   0.000000   0.000000   0.000000  ...   0.000000   0.000000   \n",
       "1     2.828427   8.544004   0.000000   2.828427  ...   3.605551   5.830952   \n",
       "2     3.162278   8.660254   4.242641   3.162278  ...   3.872983   9.000000   \n",
       "3     3.162278   8.888194   5.196152   3.162278  ...   4.358899   9.000000   \n",
       "4     3.316625   8.888194   5.196152   3.316625  ...   5.000000   9.165151   \n",
       "..         ...        ...        ...        ...  ...        ...        ...   \n",
       "164  10.198039  10.862780  10.049876  10.295630  ...  10.583005  11.045361   \n",
       "165  10.198039  10.908712  10.099505  10.295630  ...  10.583005  11.045361   \n",
       "166  10.295630  10.954451  10.148892  10.392305  ...  10.583005  11.045361   \n",
       "167  10.535654  11.000000  10.440307  10.535654  ...  10.908712  11.090537   \n",
       "168  10.583005  11.045361  10.583005  10.677078  ...  11.000000  11.313708   \n",
       "\n",
       "          161        162        163       164        165        166       167  \\\n",
       "0    0.000000   0.000000   0.000000  0.000000   0.000000   0.000000  0.000000   \n",
       "1    4.472136   6.082763   5.830952  5.291503   3.316625   2.828427  5.291503   \n",
       "2    4.472136   6.324555   8.774964  5.385165   4.123106   3.316625  5.477226   \n",
       "3    4.582576   6.403124   8.774964  6.000000   5.196152   4.000000  5.567764   \n",
       "4    5.385165   6.403124   8.774964  6.082763   6.000000   5.567764  5.567764   \n",
       "..        ...        ...        ...       ...        ...        ...       ...   \n",
       "164  9.486833   9.591663  10.583005  9.055385  10.344080  10.148892  9.055385   \n",
       "165  9.539392   9.643651  10.630146  9.110434  10.344080  10.148892  9.055385   \n",
       "166  9.539392   9.695360  10.677078  9.219544  10.392305  10.246951  9.165151   \n",
       "167  9.539392   9.797959  10.723805  9.486833  10.392305  10.392305  9.219544   \n",
       "168  9.848858  10.295630  10.770330  9.591663  10.583005  10.630146  9.591663   \n",
       "\n",
       "           168  \n",
       "0     0.000000  \n",
       "1     7.483315  \n",
       "2     7.483315  \n",
       "3     7.874008  \n",
       "4     7.874008  \n",
       "..         ...  \n",
       "164  10.148892  \n",
       "165  10.148892  \n",
       "166  10.295630  \n",
       "167  10.295630  \n",
       "168  10.535654  \n",
       "\n",
       "[169 rows x 169 columns]"
      ]
     },
     "execution_count": 29,
     "metadata": {},
     "output_type": "execute_result"
    }
   ],
   "source": [
    "df_tr=pd.DataFrame(neighbors_k)\n",
    "df_tr"
   ]
  },
  {
   "cell_type": "code",
   "execution_count": 30,
   "metadata": {},
   "outputs": [],
   "source": [
    "similarity= neighbors_k"
   ]
  },
  {
   "cell_type": "code",
   "execution_count": 31,
   "metadata": {},
   "outputs": [],
   "source": [
    "Dmean=np.mean(similarity[1,:])"
   ]
  },
  {
   "cell_type": "code",
   "execution_count": 32,
   "metadata": {},
   "outputs": [
    {
     "data": {
      "text/plain": [
       "3.32"
      ]
     },
     "execution_count": 32,
     "metadata": {},
     "output_type": "execute_result"
    }
   ],
   "source": [
    "round(Dmean, 2)"
   ]
  },
  {
   "cell_type": "code",
   "execution_count": 33,
   "metadata": {},
   "outputs": [],
   "source": [
    "std=np.std(similarity[1,:])"
   ]
  },
  {
   "cell_type": "code",
   "execution_count": 34,
   "metadata": {},
   "outputs": [
    {
     "data": {
      "text/plain": [
       "1.57"
      ]
     },
     "execution_count": 34,
     "metadata": {},
     "output_type": "execute_result"
    }
   ],
   "source": [
    "round(std, 2)"
   ]
  },
  {
   "cell_type": "code",
   "execution_count": 35,
   "metadata": {},
   "outputs": [
    {
     "name": "stdout",
     "output_type": "stream",
     "text": [
      "4.11\n"
     ]
    }
   ],
   "source": [
    "model_AD_limit=Dmean+std*0.5\n",
    "print(np.round(model_AD_limit, 2))"
   ]
  },
  {
   "cell_type": "code",
   "execution_count": 36,
   "metadata": {},
   "outputs": [],
   "source": [
    "neighbors_k_ts= pairwise_distances(x_tr,Y=x_ts, n_jobs=-1)\n",
    "neighbors_k_ts.sort(0)"
   ]
  },
  {
   "cell_type": "code",
   "execution_count": 37,
   "metadata": {},
   "outputs": [
    {
     "data": {
      "text/html": [
       "<div>\n",
       "<style scoped>\n",
       "    .dataframe tbody tr th:only-of-type {\n",
       "        vertical-align: middle;\n",
       "    }\n",
       "\n",
       "    .dataframe tbody tr th {\n",
       "        vertical-align: top;\n",
       "    }\n",
       "\n",
       "    .dataframe thead th {\n",
       "        text-align: right;\n",
       "    }\n",
       "</style>\n",
       "<table border=\"1\" class=\"dataframe\">\n",
       "  <thead>\n",
       "    <tr style=\"text-align: right;\">\n",
       "      <th></th>\n",
       "      <th>0</th>\n",
       "      <th>1</th>\n",
       "      <th>2</th>\n",
       "      <th>3</th>\n",
       "      <th>4</th>\n",
       "      <th>5</th>\n",
       "      <th>6</th>\n",
       "      <th>7</th>\n",
       "      <th>8</th>\n",
       "      <th>9</th>\n",
       "      <th>...</th>\n",
       "      <th>32</th>\n",
       "      <th>33</th>\n",
       "      <th>34</th>\n",
       "      <th>35</th>\n",
       "      <th>36</th>\n",
       "      <th>37</th>\n",
       "      <th>38</th>\n",
       "      <th>39</th>\n",
       "      <th>40</th>\n",
       "      <th>41</th>\n",
       "    </tr>\n",
       "  </thead>\n",
       "  <tbody>\n",
       "    <tr>\n",
       "      <th>0</th>\n",
       "      <td>3.741657</td>\n",
       "      <td>0.000000</td>\n",
       "      <td>6.403124</td>\n",
       "      <td>3.872983</td>\n",
       "      <td>3.162278</td>\n",
       "      <td>4.795832</td>\n",
       "      <td>0.000000</td>\n",
       "      <td>3.162278</td>\n",
       "      <td>3.741657</td>\n",
       "      <td>3.000000</td>\n",
       "      <td>...</td>\n",
       "      <td>3.872983</td>\n",
       "      <td>5.000000</td>\n",
       "      <td>6.708204</td>\n",
       "      <td>3.162278</td>\n",
       "      <td>3.316625</td>\n",
       "      <td>1.000000</td>\n",
       "      <td>2.645751</td>\n",
       "      <td>2.828427</td>\n",
       "      <td>2.645751</td>\n",
       "      <td>5.385165</td>\n",
       "    </tr>\n",
       "    <tr>\n",
       "      <th>1</th>\n",
       "      <td>3.741657</td>\n",
       "      <td>3.162278</td>\n",
       "      <td>6.557439</td>\n",
       "      <td>4.242641</td>\n",
       "      <td>3.316625</td>\n",
       "      <td>5.099020</td>\n",
       "      <td>1.000000</td>\n",
       "      <td>4.000000</td>\n",
       "      <td>4.358899</td>\n",
       "      <td>3.000000</td>\n",
       "      <td>...</td>\n",
       "      <td>4.582576</td>\n",
       "      <td>7.141428</td>\n",
       "      <td>7.141428</td>\n",
       "      <td>3.316625</td>\n",
       "      <td>4.795832</td>\n",
       "      <td>4.898979</td>\n",
       "      <td>3.872983</td>\n",
       "      <td>4.123106</td>\n",
       "      <td>3.872983</td>\n",
       "      <td>5.916080</td>\n",
       "    </tr>\n",
       "    <tr>\n",
       "      <th>2</th>\n",
       "      <td>3.741657</td>\n",
       "      <td>3.316625</td>\n",
       "      <td>6.633250</td>\n",
       "      <td>4.242641</td>\n",
       "      <td>3.464102</td>\n",
       "      <td>5.099020</td>\n",
       "      <td>1.732051</td>\n",
       "      <td>4.123106</td>\n",
       "      <td>4.358899</td>\n",
       "      <td>3.162278</td>\n",
       "      <td>...</td>\n",
       "      <td>4.582576</td>\n",
       "      <td>7.483315</td>\n",
       "      <td>7.615773</td>\n",
       "      <td>4.690416</td>\n",
       "      <td>5.656854</td>\n",
       "      <td>4.898979</td>\n",
       "      <td>4.242641</td>\n",
       "      <td>4.795832</td>\n",
       "      <td>4.898979</td>\n",
       "      <td>6.244998</td>\n",
       "    </tr>\n",
       "    <tr>\n",
       "      <th>3</th>\n",
       "      <td>3.872983</td>\n",
       "      <td>3.464102</td>\n",
       "      <td>6.708204</td>\n",
       "      <td>4.242641</td>\n",
       "      <td>3.605551</td>\n",
       "      <td>5.099020</td>\n",
       "      <td>2.828427</td>\n",
       "      <td>4.358899</td>\n",
       "      <td>4.358899</td>\n",
       "      <td>3.605551</td>\n",
       "      <td>...</td>\n",
       "      <td>4.795832</td>\n",
       "      <td>7.483315</td>\n",
       "      <td>7.681146</td>\n",
       "      <td>5.385165</td>\n",
       "      <td>6.324555</td>\n",
       "      <td>5.291503</td>\n",
       "      <td>4.582576</td>\n",
       "      <td>5.567764</td>\n",
       "      <td>5.385165</td>\n",
       "      <td>6.324555</td>\n",
       "    </tr>\n",
       "    <tr>\n",
       "      <th>4</th>\n",
       "      <td>4.000000</td>\n",
       "      <td>3.464102</td>\n",
       "      <td>6.782330</td>\n",
       "      <td>4.242641</td>\n",
       "      <td>3.741657</td>\n",
       "      <td>5.099020</td>\n",
       "      <td>3.000000</td>\n",
       "      <td>4.795832</td>\n",
       "      <td>4.690416</td>\n",
       "      <td>3.741657</td>\n",
       "      <td>...</td>\n",
       "      <td>4.795832</td>\n",
       "      <td>7.483315</td>\n",
       "      <td>7.874008</td>\n",
       "      <td>5.656854</td>\n",
       "      <td>6.633250</td>\n",
       "      <td>6.164414</td>\n",
       "      <td>6.000000</td>\n",
       "      <td>6.480741</td>\n",
       "      <td>6.633250</td>\n",
       "      <td>6.480741</td>\n",
       "    </tr>\n",
       "    <tr>\n",
       "      <th>...</th>\n",
       "      <td>...</td>\n",
       "      <td>...</td>\n",
       "      <td>...</td>\n",
       "      <td>...</td>\n",
       "      <td>...</td>\n",
       "      <td>...</td>\n",
       "      <td>...</td>\n",
       "      <td>...</td>\n",
       "      <td>...</td>\n",
       "      <td>...</td>\n",
       "      <td>...</td>\n",
       "      <td>...</td>\n",
       "      <td>...</td>\n",
       "      <td>...</td>\n",
       "      <td>...</td>\n",
       "      <td>...</td>\n",
       "      <td>...</td>\n",
       "      <td>...</td>\n",
       "      <td>...</td>\n",
       "      <td>...</td>\n",
       "      <td>...</td>\n",
       "    </tr>\n",
       "    <tr>\n",
       "      <th>164</th>\n",
       "      <td>10.198039</td>\n",
       "      <td>9.110434</td>\n",
       "      <td>9.746794</td>\n",
       "      <td>10.392305</td>\n",
       "      <td>10.295630</td>\n",
       "      <td>10.488088</td>\n",
       "      <td>9.591663</td>\n",
       "      <td>9.591663</td>\n",
       "      <td>9.949874</td>\n",
       "      <td>9.380832</td>\n",
       "      <td>...</td>\n",
       "      <td>9.380832</td>\n",
       "      <td>10.295630</td>\n",
       "      <td>10.344080</td>\n",
       "      <td>9.486833</td>\n",
       "      <td>10.148892</td>\n",
       "      <td>10.392305</td>\n",
       "      <td>10.148892</td>\n",
       "      <td>10.344080</td>\n",
       "      <td>10.295630</td>\n",
       "      <td>9.327379</td>\n",
       "    </tr>\n",
       "    <tr>\n",
       "      <th>165</th>\n",
       "      <td>10.295630</td>\n",
       "      <td>9.165151</td>\n",
       "      <td>9.746794</td>\n",
       "      <td>10.488088</td>\n",
       "      <td>10.392305</td>\n",
       "      <td>10.677078</td>\n",
       "      <td>9.591663</td>\n",
       "      <td>9.591663</td>\n",
       "      <td>9.949874</td>\n",
       "      <td>9.380832</td>\n",
       "      <td>...</td>\n",
       "      <td>9.380832</td>\n",
       "      <td>10.344080</td>\n",
       "      <td>10.392305</td>\n",
       "      <td>9.643651</td>\n",
       "      <td>10.148892</td>\n",
       "      <td>10.488088</td>\n",
       "      <td>10.198039</td>\n",
       "      <td>10.344080</td>\n",
       "      <td>10.392305</td>\n",
       "      <td>9.486833</td>\n",
       "    </tr>\n",
       "    <tr>\n",
       "      <th>166</th>\n",
       "      <td>10.295630</td>\n",
       "      <td>9.273618</td>\n",
       "      <td>9.746794</td>\n",
       "      <td>10.488088</td>\n",
       "      <td>10.488088</td>\n",
       "      <td>10.770330</td>\n",
       "      <td>9.643651</td>\n",
       "      <td>9.643651</td>\n",
       "      <td>10.049876</td>\n",
       "      <td>9.380832</td>\n",
       "      <td>...</td>\n",
       "      <td>9.486833</td>\n",
       "      <td>10.344080</td>\n",
       "      <td>10.440307</td>\n",
       "      <td>9.695360</td>\n",
       "      <td>10.246951</td>\n",
       "      <td>10.535654</td>\n",
       "      <td>10.198039</td>\n",
       "      <td>10.392305</td>\n",
       "      <td>10.488088</td>\n",
       "      <td>9.539392</td>\n",
       "    </tr>\n",
       "    <tr>\n",
       "      <th>167</th>\n",
       "      <td>10.535654</td>\n",
       "      <td>9.327379</td>\n",
       "      <td>9.848858</td>\n",
       "      <td>10.723805</td>\n",
       "      <td>10.630146</td>\n",
       "      <td>11.000000</td>\n",
       "      <td>9.695360</td>\n",
       "      <td>9.797959</td>\n",
       "      <td>10.049876</td>\n",
       "      <td>9.486833</td>\n",
       "      <td>...</td>\n",
       "      <td>9.486833</td>\n",
       "      <td>10.344080</td>\n",
       "      <td>10.488088</td>\n",
       "      <td>9.797959</td>\n",
       "      <td>10.440307</td>\n",
       "      <td>10.535654</td>\n",
       "      <td>10.344080</td>\n",
       "      <td>10.392305</td>\n",
       "      <td>10.630146</td>\n",
       "      <td>9.643651</td>\n",
       "    </tr>\n",
       "    <tr>\n",
       "      <th>168</th>\n",
       "      <td>10.583005</td>\n",
       "      <td>9.591663</td>\n",
       "      <td>10.099505</td>\n",
       "      <td>10.770330</td>\n",
       "      <td>10.770330</td>\n",
       "      <td>11.045361</td>\n",
       "      <td>9.746794</td>\n",
       "      <td>9.848858</td>\n",
       "      <td>10.148892</td>\n",
       "      <td>9.539392</td>\n",
       "      <td>...</td>\n",
       "      <td>9.797959</td>\n",
       "      <td>10.440307</td>\n",
       "      <td>10.770330</td>\n",
       "      <td>10.000000</td>\n",
       "      <td>10.488088</td>\n",
       "      <td>10.535654</td>\n",
       "      <td>10.583005</td>\n",
       "      <td>10.583005</td>\n",
       "      <td>10.862780</td>\n",
       "      <td>9.949874</td>\n",
       "    </tr>\n",
       "  </tbody>\n",
       "</table>\n",
       "<p>169 rows × 42 columns</p>\n",
       "</div>"
      ],
      "text/plain": [
       "            0         1          2          3          4          5   \\\n",
       "0     3.741657  0.000000   6.403124   3.872983   3.162278   4.795832   \n",
       "1     3.741657  3.162278   6.557439   4.242641   3.316625   5.099020   \n",
       "2     3.741657  3.316625   6.633250   4.242641   3.464102   5.099020   \n",
       "3     3.872983  3.464102   6.708204   4.242641   3.605551   5.099020   \n",
       "4     4.000000  3.464102   6.782330   4.242641   3.741657   5.099020   \n",
       "..         ...       ...        ...        ...        ...        ...   \n",
       "164  10.198039  9.110434   9.746794  10.392305  10.295630  10.488088   \n",
       "165  10.295630  9.165151   9.746794  10.488088  10.392305  10.677078   \n",
       "166  10.295630  9.273618   9.746794  10.488088  10.488088  10.770330   \n",
       "167  10.535654  9.327379   9.848858  10.723805  10.630146  11.000000   \n",
       "168  10.583005  9.591663  10.099505  10.770330  10.770330  11.045361   \n",
       "\n",
       "           6         7          8         9   ...        32         33  \\\n",
       "0    0.000000  3.162278   3.741657  3.000000  ...  3.872983   5.000000   \n",
       "1    1.000000  4.000000   4.358899  3.000000  ...  4.582576   7.141428   \n",
       "2    1.732051  4.123106   4.358899  3.162278  ...  4.582576   7.483315   \n",
       "3    2.828427  4.358899   4.358899  3.605551  ...  4.795832   7.483315   \n",
       "4    3.000000  4.795832   4.690416  3.741657  ...  4.795832   7.483315   \n",
       "..        ...       ...        ...       ...  ...       ...        ...   \n",
       "164  9.591663  9.591663   9.949874  9.380832  ...  9.380832  10.295630   \n",
       "165  9.591663  9.591663   9.949874  9.380832  ...  9.380832  10.344080   \n",
       "166  9.643651  9.643651  10.049876  9.380832  ...  9.486833  10.344080   \n",
       "167  9.695360  9.797959  10.049876  9.486833  ...  9.486833  10.344080   \n",
       "168  9.746794  9.848858  10.148892  9.539392  ...  9.797959  10.440307   \n",
       "\n",
       "            34         35         36         37         38         39  \\\n",
       "0     6.708204   3.162278   3.316625   1.000000   2.645751   2.828427   \n",
       "1     7.141428   3.316625   4.795832   4.898979   3.872983   4.123106   \n",
       "2     7.615773   4.690416   5.656854   4.898979   4.242641   4.795832   \n",
       "3     7.681146   5.385165   6.324555   5.291503   4.582576   5.567764   \n",
       "4     7.874008   5.656854   6.633250   6.164414   6.000000   6.480741   \n",
       "..         ...        ...        ...        ...        ...        ...   \n",
       "164  10.344080   9.486833  10.148892  10.392305  10.148892  10.344080   \n",
       "165  10.392305   9.643651  10.148892  10.488088  10.198039  10.344080   \n",
       "166  10.440307   9.695360  10.246951  10.535654  10.198039  10.392305   \n",
       "167  10.488088   9.797959  10.440307  10.535654  10.344080  10.392305   \n",
       "168  10.770330  10.000000  10.488088  10.535654  10.583005  10.583005   \n",
       "\n",
       "            40        41  \n",
       "0     2.645751  5.385165  \n",
       "1     3.872983  5.916080  \n",
       "2     4.898979  6.244998  \n",
       "3     5.385165  6.324555  \n",
       "4     6.633250  6.480741  \n",
       "..         ...       ...  \n",
       "164  10.295630  9.327379  \n",
       "165  10.392305  9.486833  \n",
       "166  10.488088  9.539392  \n",
       "167  10.630146  9.643651  \n",
       "168  10.862780  9.949874  \n",
       "\n",
       "[169 rows x 42 columns]"
      ]
     },
     "execution_count": 37,
     "metadata": {},
     "output_type": "execute_result"
    }
   ],
   "source": [
    "x_ts_AD=pd.DataFrame(neighbors_k_ts)\n",
    "x_ts_AD"
   ]
  },
  {
   "cell_type": "code",
   "execution_count": 38,
   "metadata": {},
   "outputs": [
    {
     "name": "stdout",
     "output_type": "stream",
     "text": [
      "[3.742 0.    6.403 3.873 3.162 4.796 0.    3.162 3.742 3.    0.    3.317\n",
      " 0.    0.    4.583 0.    3.    3.317 0.    1.    0.    4.123 3.162 3.873\n",
      " 4.796 4.899 3.    3.317 1.732 1.    0.    1.    3.873 5.    6.708 3.162\n",
      " 3.317 1.    2.646 2.828 2.646 5.385]\n"
     ]
    }
   ],
   "source": [
    "similarity_ts= neighbors_k_ts\n",
    "cpd_AD=similarity_ts[0,:]\n",
    "cpd_value = np.round(cpd_AD, 3)\n",
    "print(cpd_value)"
   ]
  },
  {
   "cell_type": "code",
   "execution_count": 39,
   "metadata": {},
   "outputs": [
    {
     "name": "stdout",
     "output_type": "stream",
     "text": [
      "[ True  True False  True  True False  True  True  True  True  True  True\n",
      "  True  True False  True  True  True  True  True  True False  True  True\n",
      " False False  True  True  True  True  True  True  True False False  True\n",
      "  True  True  True  True  True False]\n"
     ]
    }
   ],
   "source": [
    "cpd_AD = np.where(cpd_value <= model_AD_limit, True, False)\n",
    "print(cpd_AD)"
   ]
  },
  {
   "cell_type": "code",
   "execution_count": 40,
   "metadata": {},
   "outputs": [
    {
     "name": "stdout",
     "output_type": "stream",
     "text": [
      "Coverage =  0.7857142857142857\n"
     ]
    }
   ],
   "source": [
    "print(\"Coverage = \", sum(cpd_AD) / len(cpd_AD))"
   ]
  },
  {
   "cell_type": "code",
   "execution_count": 41,
   "metadata": {},
   "outputs": [
    {
     "name": "stdout",
     "output_type": "stream",
     "text": [
      "Индексы соединений, вошедших в AD =  [ 0  1  3  4  6  7  8  9 10 11 12 13 15 16 17 18 19 20 22 23 26 27 28 29\n",
      " 30 31 32 35 36 37 38 39 40]\n"
     ]
    }
   ],
   "source": [
    "print(\"Индексы соединений, вошедших в AD = \", np.where(cpd_AD != 0)[0])"
   ]
  },
  {
   "cell_type": "markdown",
   "metadata": {},
   "source": [
    "# Расчет области применимости методом bounding box"
   ]
  },
  {
   "cell_type": "code",
   "execution_count": 42,
   "metadata": {},
   "outputs": [
    {
     "name": "stdout",
     "output_type": "stream",
     "text": [
      "Max value of every column:  [1. 1. 0. ... 0. 1. 0.]\n",
      "Min value of every column:  [0. 0. 0. ... 0. 0. 0.]\n"
     ]
    },
    {
     "data": {
      "text/html": [
       "<div>\n",
       "<style scoped>\n",
       "    .dataframe tbody tr th:only-of-type {\n",
       "        vertical-align: middle;\n",
       "    }\n",
       "\n",
       "    .dataframe tbody tr th {\n",
       "        vertical-align: top;\n",
       "    }\n",
       "\n",
       "    .dataframe thead th {\n",
       "        text-align: right;\n",
       "    }\n",
       "</style>\n",
       "<table border=\"1\" class=\"dataframe\">\n",
       "  <thead>\n",
       "    <tr style=\"text-align: right;\">\n",
       "      <th></th>\n",
       "      <th>max</th>\n",
       "      <th>min</th>\n",
       "    </tr>\n",
       "  </thead>\n",
       "  <tbody>\n",
       "    <tr>\n",
       "      <th>0</th>\n",
       "      <td>1.0</td>\n",
       "      <td>0.0</td>\n",
       "    </tr>\n",
       "    <tr>\n",
       "      <th>1</th>\n",
       "      <td>1.0</td>\n",
       "      <td>0.0</td>\n",
       "    </tr>\n",
       "    <tr>\n",
       "      <th>2</th>\n",
       "      <td>0.0</td>\n",
       "      <td>0.0</td>\n",
       "    </tr>\n",
       "    <tr>\n",
       "      <th>3</th>\n",
       "      <td>1.0</td>\n",
       "      <td>0.0</td>\n",
       "    </tr>\n",
       "    <tr>\n",
       "      <th>4</th>\n",
       "      <td>1.0</td>\n",
       "      <td>0.0</td>\n",
       "    </tr>\n",
       "    <tr>\n",
       "      <th>...</th>\n",
       "      <td>...</td>\n",
       "      <td>...</td>\n",
       "    </tr>\n",
       "    <tr>\n",
       "      <th>1019</th>\n",
       "      <td>1.0</td>\n",
       "      <td>0.0</td>\n",
       "    </tr>\n",
       "    <tr>\n",
       "      <th>1020</th>\n",
       "      <td>0.0</td>\n",
       "      <td>0.0</td>\n",
       "    </tr>\n",
       "    <tr>\n",
       "      <th>1021</th>\n",
       "      <td>0.0</td>\n",
       "      <td>0.0</td>\n",
       "    </tr>\n",
       "    <tr>\n",
       "      <th>1022</th>\n",
       "      <td>1.0</td>\n",
       "      <td>0.0</td>\n",
       "    </tr>\n",
       "    <tr>\n",
       "      <th>1023</th>\n",
       "      <td>0.0</td>\n",
       "      <td>0.0</td>\n",
       "    </tr>\n",
       "  </tbody>\n",
       "</table>\n",
       "<p>1024 rows × 2 columns</p>\n",
       "</div>"
      ],
      "text/plain": [
       "      max  min\n",
       "0     1.0  0.0\n",
       "1     1.0  0.0\n",
       "2     0.0  0.0\n",
       "3     1.0  0.0\n",
       "4     1.0  0.0\n",
       "...   ...  ...\n",
       "1019  1.0  0.0\n",
       "1020  0.0  0.0\n",
       "1021  0.0  0.0\n",
       "1022  1.0  0.0\n",
       "1023  0.0  0.0\n",
       "\n",
       "[1024 rows x 2 columns]"
      ]
     },
     "execution_count": 42,
     "metadata": {},
     "output_type": "execute_result"
    }
   ],
   "source": [
    "maxInColumns = np.amax(x_tr, axis=0)\n",
    "minInColumns = np.amin(x_tr, axis=0)\n",
    "print('Max value of every column: ', maxInColumns)\n",
    "print('Min value of every column: ', minInColumns)\n",
    "df_tr = pd.DataFrame.from_dict({'max': maxInColumns,'min':minInColumns})\n",
    "df_tr"
   ]
  },
  {
   "cell_type": "code",
   "execution_count": 43,
   "metadata": {},
   "outputs": [
    {
     "name": "stdout",
     "output_type": "stream",
     "text": [
      "Max value of every column:  [1. 1. 1. ... 0. 0. 0.]\n",
      "Min value of every column:  [0. 0. 0. ... 0. 0. 0.]\n"
     ]
    },
    {
     "data": {
      "text/html": [
       "<div>\n",
       "<style scoped>\n",
       "    .dataframe tbody tr th:only-of-type {\n",
       "        vertical-align: middle;\n",
       "    }\n",
       "\n",
       "    .dataframe tbody tr th {\n",
       "        vertical-align: top;\n",
       "    }\n",
       "\n",
       "    .dataframe thead th {\n",
       "        text-align: right;\n",
       "    }\n",
       "</style>\n",
       "<table border=\"1\" class=\"dataframe\">\n",
       "  <thead>\n",
       "    <tr style=\"text-align: right;\">\n",
       "      <th></th>\n",
       "      <th>max</th>\n",
       "      <th>min</th>\n",
       "    </tr>\n",
       "  </thead>\n",
       "  <tbody>\n",
       "    <tr>\n",
       "      <th>0</th>\n",
       "      <td>1.0</td>\n",
       "      <td>0.0</td>\n",
       "    </tr>\n",
       "    <tr>\n",
       "      <th>1</th>\n",
       "      <td>1.0</td>\n",
       "      <td>0.0</td>\n",
       "    </tr>\n",
       "    <tr>\n",
       "      <th>2</th>\n",
       "      <td>1.0</td>\n",
       "      <td>0.0</td>\n",
       "    </tr>\n",
       "    <tr>\n",
       "      <th>3</th>\n",
       "      <td>1.0</td>\n",
       "      <td>0.0</td>\n",
       "    </tr>\n",
       "    <tr>\n",
       "      <th>4</th>\n",
       "      <td>1.0</td>\n",
       "      <td>0.0</td>\n",
       "    </tr>\n",
       "    <tr>\n",
       "      <th>...</th>\n",
       "      <td>...</td>\n",
       "      <td>...</td>\n",
       "    </tr>\n",
       "    <tr>\n",
       "      <th>1019</th>\n",
       "      <td>1.0</td>\n",
       "      <td>0.0</td>\n",
       "    </tr>\n",
       "    <tr>\n",
       "      <th>1020</th>\n",
       "      <td>0.0</td>\n",
       "      <td>0.0</td>\n",
       "    </tr>\n",
       "    <tr>\n",
       "      <th>1021</th>\n",
       "      <td>0.0</td>\n",
       "      <td>0.0</td>\n",
       "    </tr>\n",
       "    <tr>\n",
       "      <th>1022</th>\n",
       "      <td>0.0</td>\n",
       "      <td>0.0</td>\n",
       "    </tr>\n",
       "    <tr>\n",
       "      <th>1023</th>\n",
       "      <td>0.0</td>\n",
       "      <td>0.0</td>\n",
       "    </tr>\n",
       "  </tbody>\n",
       "</table>\n",
       "<p>1024 rows × 2 columns</p>\n",
       "</div>"
      ],
      "text/plain": [
       "      max  min\n",
       "0     1.0  0.0\n",
       "1     1.0  0.0\n",
       "2     1.0  0.0\n",
       "3     1.0  0.0\n",
       "4     1.0  0.0\n",
       "...   ...  ...\n",
       "1019  1.0  0.0\n",
       "1020  0.0  0.0\n",
       "1021  0.0  0.0\n",
       "1022  0.0  0.0\n",
       "1023  0.0  0.0\n",
       "\n",
       "[1024 rows x 2 columns]"
      ]
     },
     "execution_count": 43,
     "metadata": {},
     "output_type": "execute_result"
    }
   ],
   "source": [
    "maxInColumns_ts = np.amax(x_ts, axis=0)\n",
    "minInColumns_ts = np.amin(x_ts, axis=0)\n",
    "print('Max value of every column: ', maxInColumns_ts)\n",
    "print('Min value of every column: ', minInColumns_ts)\n",
    "df_ts = pd.DataFrame.from_dict({'max': maxInColumns_ts,'min':minInColumns_ts})\n",
    "df_ts"
   ]
  },
  {
   "cell_type": "code",
   "execution_count": 44,
   "metadata": {},
   "outputs": [
    {
     "name": "stdout",
     "output_type": "stream",
     "text": [
      "[ True  True False False False  True  True  True False False  True  True\n",
      "  True  True  True  True False False  True  True  True False  True  True\n",
      " False  True  True  True  True  True  True  True False False False  True\n",
      "  True  True False False False  True]\n",
      "[ 0  1  5  6  7 10 11 12 13 14 15 18 19 20 22 23 25 26 27 28 29 30 31 35\n",
      " 36 37 41]\n",
      "Coverage =  0.6428571428571429\n"
     ]
    }
   ],
   "source": [
    "a = np.greater_equal(maxInColumns, x_ts)\n",
    "b = np.less_equal(minInColumns, x_ts)\n",
    "c = np.logical_and(a, b)\n",
    "d = np.all(c, axis=1)\n",
    "print(d)\n",
    "print(np.where(d != 0)[0])\n",
    "print(\"Coverage = \", sum(d) / len(d))"
   ]
  },
  {
   "cell_type": "markdown",
   "metadata": {},
   "source": [
    "# Расчет области применимости методом оценки вероятностей прогноза"
   ]
  },
  {
   "cell_type": "code",
   "execution_count": 45,
   "metadata": {},
   "outputs": [],
   "source": [
    "pred_prob = best_clf_RF.predict_proba(x_ts)"
   ]
  },
  {
   "cell_type": "code",
   "execution_count": 46,
   "metadata": {},
   "outputs": [
    {
     "data": {
      "text/plain": [
       "array([[0.033     , 0.967     ],\n",
       "       [0.00933333, 0.99066667],\n",
       "       [0.724     , 0.276     ],\n",
       "       [0.046     , 0.954     ],\n",
       "       [0.018     , 0.982     ],\n",
       "       [0.12      , 0.88      ],\n",
       "       [0.188     , 0.812     ],\n",
       "       [0.272     , 0.728     ],\n",
       "       [0.608     , 0.392     ],\n",
       "       [0.112     , 0.888     ],\n",
       "       [0.09433333, 0.90566667],\n",
       "       [0.034     , 0.966     ],\n",
       "       [0.14563333, 0.85436667],\n",
       "       [0.103     , 0.897     ],\n",
       "       [0.906     , 0.094     ],\n",
       "       [0.95      , 0.05      ],\n",
       "       [0.03      , 0.97      ],\n",
       "       [0.14      , 0.86      ],\n",
       "       [0.18566667, 0.81433333],\n",
       "       [0.25933333, 0.74066667],\n",
       "       [0.861     , 0.139     ],\n",
       "       [0.018     , 0.982     ],\n",
       "       [0.984     , 0.016     ],\n",
       "       [0.97      , 0.03      ],\n",
       "       [0.956     , 0.044     ],\n",
       "       [0.91      , 0.09      ],\n",
       "       [0.944     , 0.056     ],\n",
       "       [0.93      , 0.07      ],\n",
       "       [0.996     , 0.004     ],\n",
       "       [0.95066667, 0.04933333],\n",
       "       [0.858     , 0.142     ],\n",
       "       [0.968     , 0.032     ],\n",
       "       [0.95      , 0.05      ],\n",
       "       [0.864     , 0.136     ],\n",
       "       [0.29456667, 0.70543333],\n",
       "       [0.992     , 0.008     ],\n",
       "       [0.492     , 0.508     ],\n",
       "       [0.9       , 0.1       ],\n",
       "       [0.988     , 0.012     ],\n",
       "       [0.98      , 0.02      ],\n",
       "       [0.966     , 0.034     ],\n",
       "       [0.872     , 0.128     ]])"
      ]
     },
     "execution_count": 46,
     "metadata": {},
     "output_type": "execute_result"
    }
   ],
   "source": [
    "pred_prob"
   ]
  },
  {
   "cell_type": "code",
   "execution_count": 47,
   "metadata": {},
   "outputs": [],
   "source": [
    "threshold = 0.7"
   ]
  },
  {
   "cell_type": "code",
   "execution_count": 48,
   "metadata": {},
   "outputs": [
    {
     "data": {
      "text/plain": [
       "array([ True,  True,  True,  True,  True,  True,  True,  True, False,\n",
       "        True,  True,  True,  True,  True,  True,  True,  True,  True,\n",
       "        True,  True,  True,  True,  True,  True,  True,  True,  True,\n",
       "        True,  True,  True,  True,  True,  True,  True,  True,  True,\n",
       "       False,  True,  True,  True,  True,  True])"
      ]
     },
     "execution_count": 48,
     "metadata": {},
     "output_type": "execute_result"
    }
   ],
   "source": [
    "da = np.amax(pred_prob, axis=1) > threshold\n",
    "da"
   ]
  },
  {
   "cell_type": "code",
   "execution_count": 49,
   "metadata": {},
   "outputs": [
    {
     "name": "stdout",
     "output_type": "stream",
     "text": [
      "Coverage =  0.9523809523809523\n"
     ]
    }
   ],
   "source": [
    "print(\"Coverage = \", sum(da) / len(da))"
   ]
  },
  {
   "cell_type": "markdown",
   "metadata": {},
   "source": [
    "# Tanimoto score with ECFP4"
   ]
  },
  {
   "cell_type": "code",
   "execution_count": 50,
   "metadata": {},
   "outputs": [],
   "source": [
    "d_ECFP4 = {}\n",
    "for mol in Chem.SDMolSupplier(\"HDAC1/Sets/HDAC1 work set_st.sdf\"):\n",
    "    mg = AllChem.GetMorganFingerprintAsBitVect(mol, radius=2,nBits=1024,useFeatures=False,useChirality = False)\n",
    "    for m in Chem.SDMolSupplier('HDAC1/Sets/HDAC1  test  set_st.sdf'):\n",
    "        if m is not None:\n",
    "            mg_ = AllChem.GetMorganFingerprintAsBitVect(m, radius=2,nBits=1024,useFeatures=False,useChirality = False)\n",
    "            d_ECFP4.setdefault(Chem.MolToSmiles(m),[]).append(DataStructs.FingerprintSimilarity(mg, mg_))"
   ]
  },
  {
   "cell_type": "code",
   "execution_count": 51,
   "metadata": {},
   "outputs": [],
   "source": [
    "df_ECFP4 = pd.DataFrame.from_dict(d_ECFP4)"
   ]
  },
  {
   "cell_type": "code",
   "execution_count": 52,
   "metadata": {},
   "outputs": [
    {
     "data": {
      "text/plain": [
       "CN(Cc1nc2c(N3CCOCC3)nc(-c3cccc(O)c3)nc2n1C)c1ncc(C(=O)NO)cn1                            0.808219\n",
       "O=C(CCCCCCC(=O)NN=Cc1ccc(-c2ccccc2)cc1)NO                                               1.000000\n",
       "Cc1[nH]c2ccccc2c1CCNCc1ccc(C=CC(=O)NO)cc1                                               0.405797\n",
       "COc1cc(-c2nc(N3CCOCC3)c3nc(CN(C)c4ncc(C(=O)NO)cn4)n(C)c3n2)cc(OC)c1OC                   0.797297\n",
       "CN(Cc1nc2c(N3CCOCC3)nc(-c3ccc(N)nc3)nc2n1C)c1ncc(C(=O)NO)cn1                            0.857143\n",
       "COc1ccc(C(F)(F)F)cc1-c1nc(N2CCOCC2)c2nc(CN(C)c3ncc(C(=O)NO)cn3)n(C)c2n1                 0.716049\n",
       "COc1cccc(-c2ccc3c(NC(=O)CCCCCCC(=O)NO)[nH]nc3c2)c1                                      1.000000\n",
       "COc1cccc(-c2ccc3c(NC(=O)CCCCCCC(=O)NO)[nH]nc3n2)c1                                      0.818182\n",
       "CCN(CC)Cc1ccc2cc(CN3CCN(c4ccc(C(=O)NO)cc4)C3=O)ccc2c1                                   0.745455\n",
       "O=C(CCCCCCC(=O)Nc1[nH]nc2cc(-c3ccc(Cl)cc3)ccc12)NO                                      0.820000\n",
       "O=C(CCCCCCn1cc(-c2ccc(Nc3c4ccccc4nc4ccccc34)cc2)nn1)NO                                  1.000000\n",
       "CN(Cc1nc2c(N3CCOCC3)nc(-c3ccc(C(F)(F)F)cc3)nc2n1C)c1ncc(C(=O)NO)cn1                     0.842857\n",
       "O=C(CCCCCCn1cc(-c2ccc3ncnc(Nc4ccc(OCc5nccs5)c(Cl)c4)c3c2)nn1)NO                         1.000000\n",
       "O=C(CCCCCn1cc(-c2ccc3ncnc(Nc4ccc(F)c(Cl)c4)c3c2)nn1)NO                                  1.000000\n",
       "COc1cc(C(=O)NCCc2ccc(C=CC(=O)NO)cc2)ccc1O                                               0.637931\n",
       "O=C(CCCCCC(=O)NCCNc1nonc1C(=Nc1ccc(F)c(Br)c1)NO)NO                                      1.000000\n",
       "CN(Cc1nc2c(N3CCOCC3)nc(-c3ccc(C(C)(C)C)cc3)nc2n1C)c1ncc(C(=O)NO)cn1                     0.867647\n",
       "COc1ccc(N(Cc2noc(-c3cccc(C)c3)n2)C(=O)CCCCCC(=O)NO)cc1                                  0.825397\n",
       "O=C(CCCCCn1cc(-c2cccc(Nc3c4ccccc4nc4ccccc34)c2)nn1)NO                                   1.000000\n",
       "O=C(CCCCC(=O)NN=Cc1ccc(-c2ccccc2)cc1)NO                                                 0.972222\n",
       "O=C(CCCCCCn1cc(-c2ccc(C(=O)NCCNc3nonc3C(=Nc3ccc(F)c(Br)c3)NO)cc2)nn1)NO                 1.000000\n",
       "CN(Cc1nc2c(N3CCOCC3)nc(-c3cc(C(F)(F)F)cc(C(F)(F)F)c3)nc2n1C)c1ncc(C(=O)NO)cn1           0.772152\n",
       "COc1ccc(Cl)cc1C(=O)NCCc1cccc(C=CC(=O)NO)c1                                              0.818182\n",
       "O=C(C=Cc1ccc(CN2CCN(C(=O)c3cc(Cc4n[nH]c(=O)c5ccccc45)ccc3F)CC2)cc1)NO                   0.782609\n",
       "COc1cc2c(Oc3ccc(NC(=O)NC4CCCCC4)cc3)ccnc2cc1OCCCCCCC(=O)NO                              0.701299\n",
       "COc1ccc2nc3cc(Cl)ccc3c(Nc3ccc(CCC(=O)NO)cc3)c2c1                                        0.589744\n",
       "O=C(C=Cc1cccc(C(=O)NCCNc2nonc2C(=Nc2ccc(F)c(Br)c2)NO)c1)NO                              0.867647\n",
       "COc1cc2c(Oc3ccc(NC(=O)Nc4ccccc4)cc3)ccnc2cc1OCCCCCCC(=O)NO                              0.838235\n",
       "Cc1nc(N(C)c2ccc(OCCCC(=O)NO)cc2)c2ccccc2n1                                              0.938776\n",
       "Cc1nc2c(c(N(C)c3ccc(OCCCCCC(=O)NO)cc3)n1)CCC2                                           0.980000\n",
       "CCOc1cc(NC(=O)CCCCCC(=O)Nc2cc(-c3ccccc3)ccc2N)cc2c1OCC([N+](=O)[O-])=C2                 1.000000\n",
       "COc1ccc(N(C)c2nc(C)nc3ccccc23)cc1OCCCCCC(=O)NO                                          0.982143\n",
       "O=C(NO)c1ccc(N2CCN(c3cccnc3)C2=O)cc1                                                    0.693878\n",
       "COc1cc(OC)c2c(=O)[nH]c(-c3cc(C)c(OCc4ccc(C=CC(=O)NO)cc4)c(C)c3)nc2c1                    0.652778\n",
       "O=C(CCCCCCC(=O)Nc1ccc(C2OC(CSc3nc(-c4ccccc4)c(-c4ccccc4)o3)CC(c3ccc(CO)cc3)O2)cc1)NO    0.366197\n",
       "Cc1nc2c(c(N(C)c3ccc(OCC(=O)NO)cc3)n1)CCC2                                               0.807692\n",
       "COc1ccc2nc3cc(Cl)ccc3c(Nc3ccc(-c4cn(CCCCCC(=O)NO)nn4)cc3)c2c1                           0.851351\n",
       "CCOc1cc(NC(=O)CCCCCNC(=O)C(N)Cc2ccccc2)cc2c1OCC([N+](=O)[O-])=C2                        0.985294\n",
       "C#Cc1cccc(Nc2ncnc3cc(NC(=O)c4ccc(C(=O)Nc5ccccc5N)cc4)ccc23)c1                           0.883333\n",
       "C#Cc1cccc(Nc2ncnc3cc(NC(=O)c4ccc(C(=O)Nc5ccccc5N)s4)ccc23)c1                            0.875000\n",
       "C#Cc1cccc(Nc2ncnc3cc(NC(=O)c4ccc(C(=O)Nc5ccccc5N)nc4)ccc23)c1                           0.893939\n",
       "COc1ccc(Cn2ccc3ccc(C(=O)NO)cc32)cc1                                                     0.491228\n",
       "dtype: float64"
      ]
     },
     "execution_count": 52,
     "metadata": {},
     "output_type": "execute_result"
    }
   ],
   "source": [
    "df_ECFP4.max()"
   ]
  },
  {
   "cell_type": "code",
   "execution_count": 53,
   "metadata": {},
   "outputs": [
    {
     "data": {
      "text/plain": [
       "CN(Cc1nc2c(N3CCOCC3)nc(-c3cccc(O)c3)nc2n1C)c1ncc(C(=O)NO)cn1                             True\n",
       "O=C(CCCCCCC(=O)NN=Cc1ccc(-c2ccccc2)cc1)NO                                                True\n",
       "Cc1[nH]c2ccccc2c1CCNCc1ccc(C=CC(=O)NO)cc1                                               False\n",
       "COc1cc(-c2nc(N3CCOCC3)c3nc(CN(C)c4ncc(C(=O)NO)cn4)n(C)c3n2)cc(OC)c1OC                    True\n",
       "CN(Cc1nc2c(N3CCOCC3)nc(-c3ccc(N)nc3)nc2n1C)c1ncc(C(=O)NO)cn1                             True\n",
       "COc1ccc(C(F)(F)F)cc1-c1nc(N2CCOCC2)c2nc(CN(C)c3ncc(C(=O)NO)cn3)n(C)c2n1                  True\n",
       "COc1cccc(-c2ccc3c(NC(=O)CCCCCCC(=O)NO)[nH]nc3c2)c1                                       True\n",
       "COc1cccc(-c2ccc3c(NC(=O)CCCCCCC(=O)NO)[nH]nc3n2)c1                                       True\n",
       "CCN(CC)Cc1ccc2cc(CN3CCN(c4ccc(C(=O)NO)cc4)C3=O)ccc2c1                                    True\n",
       "O=C(CCCCCCC(=O)Nc1[nH]nc2cc(-c3ccc(Cl)cc3)ccc12)NO                                       True\n",
       "O=C(CCCCCCn1cc(-c2ccc(Nc3c4ccccc4nc4ccccc34)cc2)nn1)NO                                   True\n",
       "CN(Cc1nc2c(N3CCOCC3)nc(-c3ccc(C(F)(F)F)cc3)nc2n1C)c1ncc(C(=O)NO)cn1                      True\n",
       "O=C(CCCCCCn1cc(-c2ccc3ncnc(Nc4ccc(OCc5nccs5)c(Cl)c4)c3c2)nn1)NO                          True\n",
       "O=C(CCCCCn1cc(-c2ccc3ncnc(Nc4ccc(F)c(Cl)c4)c3c2)nn1)NO                                   True\n",
       "COc1cc(C(=O)NCCc2ccc(C=CC(=O)NO)cc2)ccc1O                                                True\n",
       "O=C(CCCCCC(=O)NCCNc1nonc1C(=Nc1ccc(F)c(Br)c1)NO)NO                                       True\n",
       "CN(Cc1nc2c(N3CCOCC3)nc(-c3ccc(C(C)(C)C)cc3)nc2n1C)c1ncc(C(=O)NO)cn1                      True\n",
       "COc1ccc(N(Cc2noc(-c3cccc(C)c3)n2)C(=O)CCCCCC(=O)NO)cc1                                   True\n",
       "O=C(CCCCCn1cc(-c2cccc(Nc3c4ccccc4nc4ccccc34)c2)nn1)NO                                    True\n",
       "O=C(CCCCC(=O)NN=Cc1ccc(-c2ccccc2)cc1)NO                                                  True\n",
       "O=C(CCCCCCn1cc(-c2ccc(C(=O)NCCNc3nonc3C(=Nc3ccc(F)c(Br)c3)NO)cc2)nn1)NO                  True\n",
       "CN(Cc1nc2c(N3CCOCC3)nc(-c3cc(C(F)(F)F)cc(C(F)(F)F)c3)nc2n1C)c1ncc(C(=O)NO)cn1            True\n",
       "COc1ccc(Cl)cc1C(=O)NCCc1cccc(C=CC(=O)NO)c1                                               True\n",
       "O=C(C=Cc1ccc(CN2CCN(C(=O)c3cc(Cc4n[nH]c(=O)c5ccccc45)ccc3F)CC2)cc1)NO                    True\n",
       "COc1cc2c(Oc3ccc(NC(=O)NC4CCCCC4)cc3)ccnc2cc1OCCCCCCC(=O)NO                               True\n",
       "COc1ccc2nc3cc(Cl)ccc3c(Nc3ccc(CCC(=O)NO)cc3)c2c1                                        False\n",
       "O=C(C=Cc1cccc(C(=O)NCCNc2nonc2C(=Nc2ccc(F)c(Br)c2)NO)c1)NO                               True\n",
       "COc1cc2c(Oc3ccc(NC(=O)Nc4ccccc4)cc3)ccnc2cc1OCCCCCCC(=O)NO                               True\n",
       "Cc1nc(N(C)c2ccc(OCCCC(=O)NO)cc2)c2ccccc2n1                                               True\n",
       "Cc1nc2c(c(N(C)c3ccc(OCCCCCC(=O)NO)cc3)n1)CCC2                                            True\n",
       "CCOc1cc(NC(=O)CCCCCC(=O)Nc2cc(-c3ccccc3)ccc2N)cc2c1OCC([N+](=O)[O-])=C2                  True\n",
       "COc1ccc(N(C)c2nc(C)nc3ccccc23)cc1OCCCCCC(=O)NO                                           True\n",
       "O=C(NO)c1ccc(N2CCN(c3cccnc3)C2=O)cc1                                                     True\n",
       "COc1cc(OC)c2c(=O)[nH]c(-c3cc(C)c(OCc4ccc(C=CC(=O)NO)cc4)c(C)c3)nc2c1                     True\n",
       "O=C(CCCCCCC(=O)Nc1ccc(C2OC(CSc3nc(-c4ccccc4)c(-c4ccccc4)o3)CC(c3ccc(CO)cc3)O2)cc1)NO    False\n",
       "Cc1nc2c(c(N(C)c3ccc(OCC(=O)NO)cc3)n1)CCC2                                                True\n",
       "COc1ccc2nc3cc(Cl)ccc3c(Nc3ccc(-c4cn(CCCCCC(=O)NO)nn4)cc3)c2c1                            True\n",
       "CCOc1cc(NC(=O)CCCCCNC(=O)C(N)Cc2ccccc2)cc2c1OCC([N+](=O)[O-])=C2                         True\n",
       "C#Cc1cccc(Nc2ncnc3cc(NC(=O)c4ccc(C(=O)Nc5ccccc5N)cc4)ccc23)c1                            True\n",
       "C#Cc1cccc(Nc2ncnc3cc(NC(=O)c4ccc(C(=O)Nc5ccccc5N)s4)ccc23)c1                             True\n",
       "C#Cc1cccc(Nc2ncnc3cc(NC(=O)c4ccc(C(=O)Nc5ccccc5N)nc4)ccc23)c1                            True\n",
       "COc1ccc(Cn2ccc3ccc(C(=O)NO)cc32)cc1                                                     False\n",
       "dtype: bool"
      ]
     },
     "execution_count": 53,
     "metadata": {},
     "output_type": "execute_result"
    }
   ],
   "source": [
    "threshold = 0.6\n",
    "da_ECFP4 = np.asarray(df_ECFP4)\n",
    "da_ECFP4 = np.amax(df_ECFP4, axis=0) >= threshold\n",
    "da_ECFP4"
   ]
  },
  {
   "cell_type": "code",
   "execution_count": 54,
   "metadata": {},
   "outputs": [
    {
     "name": "stdout",
     "output_type": "stream",
     "text": [
      "Coverage =  0.9047619047619048\n"
     ]
    }
   ],
   "source": [
    "print(\"Coverage = \", sum(da_ECFP4) / len(da_ECFP4))"
   ]
  },
  {
   "cell_type": "markdown",
   "metadata": {},
   "source": [
    "# 7. Построение и валидация модели GBM"
   ]
  },
  {
   "cell_type": "markdown",
   "metadata": {},
   "source": [
    "## 7.1. Построение модели GBM"
   ]
  },
  {
   "cell_type": "code",
   "execution_count": 55,
   "metadata": {},
   "outputs": [],
   "source": [
    "param_grid = {\"n_estimators\": [100, 200, 300, 400, 500]}\n",
    "gbm = GridSearchCV(GradientBoostingClassifier(subsample=0.5, max_features=0.5), \n",
    "                   param_grid, n_jobs=2, cv=cv, verbose=1)"
   ]
  },
  {
   "cell_type": "code",
   "execution_count": 56,
   "metadata": {},
   "outputs": [
    {
     "name": "stdout",
     "output_type": "stream",
     "text": [
      "Fitting 5 folds for each of 5 candidates, totalling 25 fits\n"
     ]
    },
    {
     "data": {
      "text/plain": [
       "GridSearchCV(cv=StratifiedKFold(n_splits=5, random_state=42, shuffle=True),\n",
       "             estimator=GradientBoostingClassifier(max_features=0.5,\n",
       "                                                  subsample=0.5),\n",
       "             n_jobs=2, param_grid={'n_estimators': [100, 200, 300, 400, 500]},\n",
       "             verbose=1)"
      ]
     },
     "execution_count": 56,
     "metadata": {},
     "output_type": "execute_result"
    }
   ],
   "source": [
    "gbm.fit(x_tr, y_tr)"
   ]
  },
  {
   "cell_type": "code",
   "execution_count": 57,
   "metadata": {},
   "outputs": [
    {
     "data": {
      "text/plain": [
       "{'n_estimators': 100}"
      ]
     },
     "execution_count": 57,
     "metadata": {},
     "output_type": "execute_result"
    }
   ],
   "source": [
    "gbm.best_params_"
   ]
  },
  {
   "cell_type": "code",
   "execution_count": 58,
   "metadata": {},
   "outputs": [],
   "source": [
    "best_clf_GBM = gbm.best_estimator_"
   ]
  },
  {
   "cell_type": "markdown",
   "metadata": {},
   "source": [
    "## 7.2.  5-fold-cross-validation  модели GBM"
   ]
  },
  {
   "cell_type": "code",
   "execution_count": 59,
   "metadata": {},
   "outputs": [],
   "source": [
    "y_pred_CV_GBM = cross_val_predict(best_clf_GBM, x_tr, y_tr, cv=cv)"
   ]
  },
  {
   "cell_type": "code",
   "execution_count": 60,
   "metadata": {},
   "outputs": [
    {
     "name": "stdout",
     "output_type": "stream",
     "text": [
      "balanced_accuracy =  0.87\n",
      "SE =  0.81\n",
      "SP =  0.93\n",
      "Kappa =  0.75\n"
     ]
    }
   ],
   "source": [
    "confusion_matrix_CV_GBM = metrics.confusion_matrix(y_tr, y_pred_CV_GBM, labels=[0,1])\n",
    "Kappa = metrics.cohen_kappa_score(y_tr, y_pred_CV_GBM, weights='linear')\n",
    "TN, FP, FN, TP = confusion_matrix_CV_GBM.ravel()\n",
    "SE = TP/(TP+FN)\n",
    "SP = TN/(TN+FP)\n",
    "BA = (SE + SP)/2\n",
    "print(\"balanced_accuracy = \", round((BA), 2))\n",
    "print(\"SE = \", round((SE), 2))\n",
    "print(\"SP = \", round((SP), 2))\n",
    "print(\"Kappa = \", round((Kappa), 2))"
   ]
  },
  {
   "cell_type": "code",
   "execution_count": 61,
   "metadata": {},
   "outputs": [],
   "source": [
    "pickle.dump(best_clf_RF, open('HDAC1/Models/FP/HDAC1_GBM_ECFP4.pkl', 'wb'))"
   ]
  },
  {
   "cell_type": "markdown",
   "metadata": {},
   "source": [
    "## 7.3.Y-randomization для модели GBM"
   ]
  },
  {
   "cell_type": "code",
   "execution_count": 62,
   "metadata": {},
   "outputs": [
    {
     "name": "stderr",
     "output_type": "stream",
     "text": [
      "[Parallel(n_jobs=-1)]: Using backend LokyBackend with 2 concurrent workers.\n",
      "[Parallel(n_jobs=-1)]: Done  20 out of  20 | elapsed:   19.8s finished\n"
     ]
    },
    {
     "name": "stdout",
     "output_type": "stream",
     "text": [
      "True score =  0.87 \n",
      "Y-randomization =  0.5 \n",
      "p-value =  0.0476\n"
     ]
    }
   ],
   "source": [
    "permutations = 20\n",
    "score, permutation_scores, pvalue = permutation_test_score(best_clf_GBM, x_tr, y_tr,\n",
    "                                                           cv=cv, scoring='balanced_accuracy',\n",
    "                                                           n_permutations=permutations,\n",
    "                                                           n_jobs=-1,\n",
    "                                                           verbose=1,\n",
    "                                                           random_state=24)\n",
    "print('True score = ', score.round(2),\n",
    "      '\\nY-randomization = ', np.mean(permutation_scores).round(2),\n",
    "      '\\np-value = ', pvalue.round(4))"
   ]
  },
  {
   "cell_type": "markdown",
   "metadata": {},
   "source": [
    "## 7.4. Валидация на тестовой выборке для модели GBM"
   ]
  },
  {
   "cell_type": "code",
   "execution_count": 63,
   "metadata": {},
   "outputs": [],
   "source": [
    "y_pred_gbm = best_clf_GBM.predict(x_ts)"
   ]
  },
  {
   "cell_type": "code",
   "execution_count": 64,
   "metadata": {},
   "outputs": [
    {
     "data": {
      "text/plain": [
       "array([1, 1, 0, 1, 1, 1, 1, 1, 1, 1, 1, 1, 1, 1, 0, 0, 1, 1, 1, 1, 0, 1,\n",
       "       0, 0, 0, 0, 0, 0, 0, 0, 0, 0, 0, 0, 1, 0, 0, 0, 0, 0, 0, 0])"
      ]
     },
     "execution_count": 64,
     "metadata": {},
     "output_type": "execute_result"
    }
   ],
   "source": [
    "y_pred_gbm"
   ]
  },
  {
   "cell_type": "code",
   "execution_count": 65,
   "metadata": {},
   "outputs": [
    {
     "name": "stdout",
     "output_type": "stream",
     "text": [
      "balanced_accuracy =  0.81\n",
      "SE =  0.82\n",
      "SP =  0.8\n",
      "Kappa =  0.61\n"
     ]
    }
   ],
   "source": [
    "confusion_matrix_GBM = metrics.confusion_matrix(y_ts, y_pred_gbm, labels=[0,1])\n",
    "Kappa = metrics.cohen_kappa_score(y_ts, y_pred_gbm, weights='linear')\n",
    "TN, FP, FN, TP = confusion_matrix_GBM.ravel()\n",
    "SE = TP/(TP+FN)\n",
    "SP = TN/(TN+FP)\n",
    "BA = (SE + SP)/2\n",
    "print(\"balanced_accuracy = \", round((BA), 2))\n",
    "print(\"SE = \", round((SE), 2))\n",
    "print(\"SP = \", round((SP), 2))\n",
    "print(\"Kappa = \", round((Kappa), 2))"
   ]
  },
  {
   "cell_type": "markdown",
   "metadata": {},
   "source": [
    "# 8. Построение и валидация модели SVM"
   ]
  },
  {
   "cell_type": "markdown",
   "metadata": {},
   "source": [
    "## 8.1. Построение модели SVM"
   ]
  },
  {
   "cell_type": "code",
   "execution_count": 66,
   "metadata": {},
   "outputs": [],
   "source": [
    "scale = StandardScaler().fit(x_tr)\n",
    "x_tr_sc = scale.transform(x_tr)"
   ]
  },
  {
   "cell_type": "code",
   "execution_count": 67,
   "metadata": {},
   "outputs": [
    {
     "data": {
      "text/plain": [
       "['HDAC1/Models/FP/HDAC1_ws_for SVM.pkl']"
      ]
     },
     "execution_count": 67,
     "metadata": {},
     "output_type": "execute_result"
    }
   ],
   "source": [
    "joblib.dump(scale, \"HDAC1/Models/FP/HDAC1_ws_for SVM.pkl\", compress=3)"
   ]
  },
  {
   "cell_type": "code",
   "execution_count": 68,
   "metadata": {},
   "outputs": [],
   "source": [
    "param_grid = {\"C\": [10 ** i for i in range(0, 5)],\n",
    "              \"gamma\": [10 ** i for i in range(-6, 0)]}"
   ]
  },
  {
   "cell_type": "code",
   "execution_count": 69,
   "metadata": {},
   "outputs": [],
   "source": [
    "svm = GridSearchCV(SVC(kernel='rbf', probability=True), param_grid, n_jobs=2, cv=cv, verbose=1)"
   ]
  },
  {
   "cell_type": "code",
   "execution_count": 70,
   "metadata": {},
   "outputs": [
    {
     "name": "stdout",
     "output_type": "stream",
     "text": [
      "Fitting 5 folds for each of 30 candidates, totalling 150 fits\n"
     ]
    },
    {
     "data": {
      "text/plain": [
       "GridSearchCV(cv=StratifiedKFold(n_splits=5, random_state=42, shuffle=True),\n",
       "             estimator=SVC(probability=True), n_jobs=2,\n",
       "             param_grid={'C': [1, 10, 100, 1000, 10000],\n",
       "                         'gamma': [1e-06, 1e-05, 0.0001, 0.001, 0.01, 0.1]},\n",
       "             verbose=1)"
      ]
     },
     "execution_count": 70,
     "metadata": {},
     "output_type": "execute_result"
    }
   ],
   "source": [
    "svm.fit(x_tr_sc, y_tr)"
   ]
  },
  {
   "cell_type": "code",
   "execution_count": 71,
   "metadata": {},
   "outputs": [],
   "source": [
    "best_clf_SVM = svm.best_estimator_"
   ]
  },
  {
   "cell_type": "markdown",
   "metadata": {},
   "source": [
    "## 8.2. 5-fold-cross-validation модели SVM"
   ]
  },
  {
   "cell_type": "code",
   "execution_count": 72,
   "metadata": {},
   "outputs": [],
   "source": [
    "y_pred_CV_SVM = cross_val_predict(best_clf_SVM, x_tr_sc, y_tr, cv=cv)"
   ]
  },
  {
   "cell_type": "code",
   "execution_count": 73,
   "metadata": {},
   "outputs": [
    {
     "name": "stdout",
     "output_type": "stream",
     "text": [
      "balanced_accuracy =  0.86\n",
      "SE =  0.83\n",
      "SP =  0.89\n",
      "Kappa =  0.72\n"
     ]
    }
   ],
   "source": [
    "confusion_matrix_CV_SVM = metrics.confusion_matrix(y_tr, y_pred_CV_SVM, labels=[0,1])\n",
    "Kappa = metrics.cohen_kappa_score(y_tr, y_pred_CV_SVM, weights='linear')\n",
    "TN, FP, FN, TP = confusion_matrix_CV_SVM.ravel()\n",
    "SE = TP/(TP+FN)\n",
    "SP = TN/(TN+FP)\n",
    "BA = (SE + SP)/2\n",
    "print(\"balanced_accuracy = \", round((BA), 2))\n",
    "print(\"SE = \", round((SE), 2))\n",
    "print(\"SP = \", round((SP), 2))\n",
    "print(\"Kappa = \", round((Kappa), 2))"
   ]
  },
  {
   "cell_type": "code",
   "execution_count": 74,
   "metadata": {},
   "outputs": [],
   "source": [
    "pickle.dump(best_clf_RF, open('HDAC1/Models/FP/HDAC1_SVM_ECFP4.pkl', 'wb'))"
   ]
  },
  {
   "cell_type": "markdown",
   "metadata": {},
   "source": [
    "## 8.3.Y-randomization для модели SVM"
   ]
  },
  {
   "cell_type": "code",
   "execution_count": 75,
   "metadata": {},
   "outputs": [
    {
     "name": "stderr",
     "output_type": "stream",
     "text": [
      "[Parallel(n_jobs=-1)]: Using backend LokyBackend with 2 concurrent workers.\n"
     ]
    },
    {
     "name": "stdout",
     "output_type": "stream",
     "text": [
      "True score =  0.86 \n",
      "Y-randomization =  0.49 \n",
      "p-value =  0.0476\n"
     ]
    },
    {
     "name": "stderr",
     "output_type": "stream",
     "text": [
      "[Parallel(n_jobs=-1)]: Done  20 out of  20 | elapsed:   14.5s finished\n"
     ]
    }
   ],
   "source": [
    "permutations = 20\n",
    "score, permutation_scores, pvalue = permutation_test_score(best_clf_SVM, x_tr_sc, y_tr,\n",
    "                                                           cv=cv, scoring='balanced_accuracy',\n",
    "                                                           n_permutations=permutations,\n",
    "                                                           n_jobs=-1,\n",
    "                                                           verbose=1,\n",
    "                                                           random_state=24)\n",
    "print('True score = ', score.round(2),\n",
    "      '\\nY-randomization = ', np.mean(permutation_scores).round(2),\n",
    "      '\\np-value = ', pvalue.round(4))"
   ]
  },
  {
   "cell_type": "markdown",
   "metadata": {},
   "source": [
    "## 8.4. Валидация на тестовой выборке для модели SVM"
   ]
  },
  {
   "cell_type": "code",
   "execution_count": 76,
   "metadata": {},
   "outputs": [],
   "source": [
    "scale = joblib.load(\"HDAC1/Models/FP/HDAC1_ws_for SVM.pkl\")\n",
    "x_ts_sc = scale.transform(x_ts)"
   ]
  },
  {
   "cell_type": "code",
   "execution_count": 77,
   "metadata": {},
   "outputs": [],
   "source": [
    "y_pred_SVM = best_clf_SVM.predict(x_ts_sc)"
   ]
  },
  {
   "cell_type": "code",
   "execution_count": 78,
   "metadata": {},
   "outputs": [
    {
     "data": {
      "text/plain": [
       "array([1, 1, 1, 1, 1, 1, 1, 1, 0, 1, 1, 1, 1, 1, 0, 0, 1, 1, 1, 1, 0, 1,\n",
       "       0, 0, 0, 0, 0, 0, 0, 0, 0, 0, 0, 0, 1, 0, 0, 0, 0, 0, 0, 0])"
      ]
     },
     "execution_count": 78,
     "metadata": {},
     "output_type": "execute_result"
    }
   ],
   "source": [
    "y_pred_SVM"
   ]
  },
  {
   "cell_type": "code",
   "execution_count": 79,
   "metadata": {},
   "outputs": [
    {
     "name": "stdout",
     "output_type": "stream",
     "text": [
      "balanced_accuracy =  0.81\n",
      "SE =  0.82\n",
      "SP =  0.8\n",
      "Kappa =  0.61\n"
     ]
    }
   ],
   "source": [
    "confusion_matrix_SVM = metrics.confusion_matrix(y_ts, y_pred_SVM, labels=[0,1])\n",
    "Kappa = metrics.cohen_kappa_score(y_ts, y_pred_SVM, weights='linear')\n",
    "TN, FP, FN, TP = confusion_matrix_SVM.ravel()\n",
    "SE = TP/(TP+FN)\n",
    "SP = TN/(TN+FP)\n",
    "BA = (SE + SP)/2\n",
    "print(\"balanced_accuracy = \", round((BA), 2))\n",
    "print(\"SE = \", round((SE), 2))\n",
    "print(\"SP = \", round((SP), 2))\n",
    "print(\"Kappa = \", round((Kappa), 2))"
   ]
  },
  {
   "cell_type": "markdown",
   "metadata": {},
   "source": [
    "# 9. Консенсусное моделирование"
   ]
  },
  {
   "cell_type": "markdown",
   "metadata": {},
   "source": [
    "## 9.1.  5-fold CV"
   ]
  },
  {
   "cell_type": "code",
   "execution_count": 80,
   "metadata": {},
   "outputs": [],
   "source": [
    "y_pred_cv_con = 1 * (((y_pred_CV_RF + y_pred_CV_GBM + y_pred_CV_SVM) / 3) >= 0.5)"
   ]
  },
  {
   "cell_type": "code",
   "execution_count": 81,
   "metadata": {},
   "outputs": [
    {
     "name": "stdout",
     "output_type": "stream",
     "text": [
      "balanced_accuracy =  0.87\n",
      "SE =  0.81\n",
      "SP =  0.92\n",
      "Kappa =  0.74\n"
     ]
    }
   ],
   "source": [
    "confusion_matrix_cv_con = metrics.confusion_matrix(y_tr, y_pred_cv_con, labels=[0,1])\n",
    "Kappa = metrics.cohen_kappa_score(y_tr, y_pred_cv_con, weights='linear')\n",
    "TN, FP, FN, TP = confusion_matrix_cv_con.ravel()\n",
    "SE = TP/(TP+FN)\n",
    "SP = TN/(TN+FP)\n",
    "BA = (SE + SP)/2\n",
    "print(\"balanced_accuracy = \", round((BA), 2))\n",
    "print(\"SE = \", round((SE), 2))\n",
    "print(\"SP = \", round((SP), 2))\n",
    "print(\"Kappa = \", round((Kappa), 2))"
   ]
  },
  {
   "cell_type": "markdown",
   "metadata": {},
   "source": [
    "## 9.2. Test set"
   ]
  },
  {
   "cell_type": "code",
   "execution_count": 82,
   "metadata": {},
   "outputs": [],
   "source": [
    "pred_c = 1 * (((y_pred_rf + y_pred_gbm + y_pred_SVM) / 3) >= 0.5)"
   ]
  },
  {
   "cell_type": "code",
   "execution_count": 83,
   "metadata": {},
   "outputs": [
    {
     "data": {
      "text/plain": [
       "array([1, 1, 0, 1, 1, 1, 1, 1, 0, 1, 1, 1, 1, 1, 0, 0, 1, 1, 1, 1, 0, 1,\n",
       "       0, 0, 0, 0, 0, 0, 0, 0, 0, 0, 0, 0, 1, 0, 0, 0, 0, 0, 0, 0])"
      ]
     },
     "execution_count": 83,
     "metadata": {},
     "output_type": "execute_result"
    }
   ],
   "source": [
    "pred_c"
   ]
  },
  {
   "cell_type": "code",
   "execution_count": 84,
   "metadata": {},
   "outputs": [
    {
     "name": "stdout",
     "output_type": "stream",
     "text": [
      "balanced_accuracy =  0.78\n",
      "SE =  0.76\n",
      "SP =  0.8\n",
      "Kappa =  0.56\n"
     ]
    }
   ],
   "source": [
    "confusion_matrix_GBM = metrics.confusion_matrix(y_ts, pred_c, labels=[0,1])\n",
    "Kappa = metrics.cohen_kappa_score(y_ts, pred_c, weights='linear')\n",
    "TN, FP, FN, TP = confusion_matrix_GBM.ravel()\n",
    "SE = TP/(TP+FN)\n",
    "SP = TN/(TN+FP)\n",
    "BA = (SE + SP)/2\n",
    "print(\"balanced_accuracy = \", round((BA), 2))\n",
    "print(\"SE = \", round((SE), 2))\n",
    "print(\"SP = \", round((SP), 2))\n",
    "print(\"Kappa = \", round((Kappa), 2))"
   ]
  },
  {
   "cell_type": "markdown",
   "metadata": {},
   "source": [
    "# 10.Make predictions"
   ]
  },
  {
   "cell_type": "code",
   "execution_count": 86,
   "metadata": {},
   "outputs": [
    {
     "name": "stdout",
     "output_type": "stream",
     "text": [
      "Original data:  (5, 4)\n",
      "Kept data:  (5, 4)\n",
      "\n",
      " Problematic structures: \n",
      " []\n"
     ]
    }
   ],
   "source": [
    "# Set file path and format\n",
    "file = 'HDAC1/Sets/example.sdf'\n",
    "mol_input = 1\n",
    "\n",
    "# Read SDF\n",
    "if mol_input == 1:\n",
    "    sdfInfo = dict(smilesName='SMILES', molColName='ROMol')\n",
    "    moldf = PandasTools.LoadSDF(file, **sdfInfo)\n",
    "    print('Original data: ', moldf.shape)\n",
    "    # Rename ROMol\n",
    "    moldf = moldf.rename(columns={'ROMol': 'Mol'})\n",
    "    # Remove missing RDKit molecules\n",
    "    moldf = moldf[pd.notnull(moldf['Mol'])]\n",
    "    if 'StandardizerResult' in moldf.columns:\n",
    "        moldf = moldf.drop(columns='StandardizerResult')\n",
    "    # Columns\n",
    "    print('Kept data: ', moldf.shape)\n",
    "\n",
    "    \n",
    "# Read txt or CSV \n",
    "elif mol_input == 2:\n",
    "    moldf = pd.read_csv(file, sep='\\t', encoding='utf-8')\n",
    "    # Add Mol column\n",
    "    PandasTools.AddMoleculeColumnToFrame(moldf, smilesCol='SMILES', molCol='Mol', includeFingerprints=False)\n",
    "    # Remove missing RDKit molecules\n",
    "    moldf = moldf[pd.notnull(moldf['Mol'])]\n",
    "    # Columns\n",
    "    print(moldf.shape)\n",
    "\n",
    "from molvs.validate import Validator\n",
    "fmt = '%(asctime)s - %(levelname)s - %(validation)s - %(message)s'\n",
    "validator = Validator(log_format=fmt)\n",
    "print('\\n Problematic structures: \\n', validator.validate(moldf))"
   ]
  },
  {
   "cell_type": "code",
   "execution_count": 90,
   "metadata": {},
   "outputs": [
    {
     "data": {
      "text/html": [
       "<table border=\"1\" class=\"dataframe\">\n",
       "  <thead>\n",
       "    <tr style=\"text-align: right;\">\n",
       "      <th></th>\n",
       "      <th>InChIKey</th>\n",
       "      <th>SMILES</th>\n",
       "      <th>ID</th>\n",
       "      <th>Mol</th>\n",
       "    </tr>\n",
       "  </thead>\n",
       "  <tbody>\n",
       "    <tr>\n",
       "      <th>0</th>\n",
       "      <td>WZXRSGMXJJLRNL-UHFFFAOYSA-N</td>\n",
       "      <td>Cc1cc(NC(=O)CCCSc2nc(-c3ccco3)cc(C(F)(F)F)n2)no1</td>\n",
       "      <td></td>\n",
       "      <td><img data-content=\"rdkit/molecule\" src=\"data:image/png;base64,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\" alt=\"Mol\"/></td>\n",
       "    </tr>\n",
       "    <tr>\n",
       "      <th>1</th>\n",
       "      <td>NGMGFRRMBXLNNS-UHFFFAOYSA-N</td>\n",
       "      <td>Cc1ccc(CSc2nc3ccncc3n2CC(=O)Nc2cc(C)cc(C)c2)cc1</td>\n",
       "      <td></td>\n",
       "      <td><img data-content=\"rdkit/molecule\" src=\"data:image/png;base64,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\" alt=\"Mol\"/></td>\n",
       "    </tr>\n",
       "  </tbody>\n",
       "</table>"
      ],
      "text/plain": [
       "<IPython.core.display.HTML object>"
      ]
     },
     "execution_count": 90,
     "metadata": {},
     "output_type": "execute_result"
    }
   ],
   "source": [
    "HTML(moldf.head(2).to_html())"
   ]
  },
  {
   "cell_type": "code",
   "execution_count": 91,
   "metadata": {},
   "outputs": [
    {
     "data": {
      "text/plain": [
       "(5, 1024)"
      ]
     },
     "execution_count": 91,
     "metadata": {},
     "output_type": "execute_result"
    }
   ],
   "source": [
    "def calcfp(mol,funcFPInfo=dict(radius=2,nBits=1024,useFeatures=False,useChirality = False)):\n",
    "    arr = np.zeros((1,))\n",
    "    fp = GetMorganFingerprintAsBitVect(mol, **funcFPInfo)\n",
    "    DataStructs.ConvertToNumpyArray(fp, arr)\n",
    "    return arr\n",
    "\n",
    "moldf['Descriptors'] = moldf.Mol.apply(calcfp)\n",
    "x_vs = np.array(list(moldf['Descriptors'])).astype(int)\n",
    "x_vs.shape\n"
   ]
  },
  {
   "cell_type": "code",
   "execution_count": 92,
   "metadata": {},
   "outputs": [
    {
     "name": "stdout",
     "output_type": "stream",
     "text": [
      "Прогнозируемые классы активностей HDAC1 =  [0 0 0 0 0]\n"
     ]
    }
   ],
   "source": [
    "y_pred_rf_vs = best_clf_RF.predict(x_vs)\n",
    "y_pred_gbm_vs = best_clf_GBM.predict(x_vs)\n",
    "x_vs_s = scale.transform(x_vs)\n",
    "y_pred_SVM_vs = best_clf_SVM.predict(x_vs_s)\n",
    "pred_c = 1 * (((y_pred_rf_vs + y_pred_gbm_vs + y_pred_SVM_vs) / 3) >= 0.5)\n",
    "print(\"Прогнозируемые классы активностей HDAC1 = \", pred_c)"
   ]
  },
  {
   "cell_type": "markdown",
   "metadata": {},
   "source": [
    "estimination AD"
   ]
  },
  {
   "cell_type": "code",
   "execution_count": 93,
   "metadata": {},
   "outputs": [],
   "source": [
    "neighbors_k_vs= pairwise_distances(x_tr,Y=x_vs, n_jobs=-1)\n",
    "neighbors_k_vs.sort(0)"
   ]
  },
  {
   "cell_type": "code",
   "execution_count": 94,
   "metadata": {},
   "outputs": [
    {
     "data": {
      "text/html": [
       "<div>\n",
       "<style scoped>\n",
       "    .dataframe tbody tr th:only-of-type {\n",
       "        vertical-align: middle;\n",
       "    }\n",
       "\n",
       "    .dataframe tbody tr th {\n",
       "        vertical-align: top;\n",
       "    }\n",
       "\n",
       "    .dataframe thead th {\n",
       "        text-align: right;\n",
       "    }\n",
       "</style>\n",
       "<table border=\"1\" class=\"dataframe\">\n",
       "  <thead>\n",
       "    <tr style=\"text-align: right;\">\n",
       "      <th></th>\n",
       "      <th>0</th>\n",
       "      <th>1</th>\n",
       "      <th>2</th>\n",
       "      <th>3</th>\n",
       "      <th>4</th>\n",
       "    </tr>\n",
       "  </thead>\n",
       "  <tbody>\n",
       "    <tr>\n",
       "      <th>0</th>\n",
       "      <td>7.280110</td>\n",
       "      <td>7.416198</td>\n",
       "      <td>7.549834</td>\n",
       "      <td>8.185353</td>\n",
       "      <td>7.874008</td>\n",
       "    </tr>\n",
       "    <tr>\n",
       "      <th>1</th>\n",
       "      <td>7.416198</td>\n",
       "      <td>7.549834</td>\n",
       "      <td>7.615773</td>\n",
       "      <td>8.246211</td>\n",
       "      <td>7.937254</td>\n",
       "    </tr>\n",
       "    <tr>\n",
       "      <th>2</th>\n",
       "      <td>7.810250</td>\n",
       "      <td>7.615773</td>\n",
       "      <td>7.681146</td>\n",
       "      <td>8.366600</td>\n",
       "      <td>8.000000</td>\n",
       "    </tr>\n",
       "    <tr>\n",
       "      <th>3</th>\n",
       "      <td>7.874008</td>\n",
       "      <td>7.745967</td>\n",
       "      <td>7.937254</td>\n",
       "      <td>8.426150</td>\n",
       "      <td>8.000000</td>\n",
       "    </tr>\n",
       "    <tr>\n",
       "      <th>4</th>\n",
       "      <td>7.874008</td>\n",
       "      <td>7.874008</td>\n",
       "      <td>8.000000</td>\n",
       "      <td>8.485281</td>\n",
       "      <td>8.062258</td>\n",
       "    </tr>\n",
       "    <tr>\n",
       "      <th>...</th>\n",
       "      <td>...</td>\n",
       "      <td>...</td>\n",
       "      <td>...</td>\n",
       "      <td>...</td>\n",
       "      <td>...</td>\n",
       "    </tr>\n",
       "    <tr>\n",
       "      <th>164</th>\n",
       "      <td>10.000000</td>\n",
       "      <td>9.797959</td>\n",
       "      <td>10.000000</td>\n",
       "      <td>10.148892</td>\n",
       "      <td>10.148892</td>\n",
       "    </tr>\n",
       "    <tr>\n",
       "      <th>165</th>\n",
       "      <td>10.099505</td>\n",
       "      <td>9.797959</td>\n",
       "      <td>10.000000</td>\n",
       "      <td>10.198039</td>\n",
       "      <td>10.198039</td>\n",
       "    </tr>\n",
       "    <tr>\n",
       "      <th>166</th>\n",
       "      <td>10.148892</td>\n",
       "      <td>10.000000</td>\n",
       "      <td>10.198039</td>\n",
       "      <td>10.295630</td>\n",
       "      <td>10.198039</td>\n",
       "    </tr>\n",
       "    <tr>\n",
       "      <th>167</th>\n",
       "      <td>10.148892</td>\n",
       "      <td>10.049876</td>\n",
       "      <td>10.246951</td>\n",
       "      <td>10.344080</td>\n",
       "      <td>10.246951</td>\n",
       "    </tr>\n",
       "    <tr>\n",
       "      <th>168</th>\n",
       "      <td>10.198039</td>\n",
       "      <td>10.198039</td>\n",
       "      <td>10.770330</td>\n",
       "      <td>10.392305</td>\n",
       "      <td>10.440307</td>\n",
       "    </tr>\n",
       "  </tbody>\n",
       "</table>\n",
       "<p>169 rows × 5 columns</p>\n",
       "</div>"
      ],
      "text/plain": [
       "             0          1          2          3          4\n",
       "0     7.280110   7.416198   7.549834   8.185353   7.874008\n",
       "1     7.416198   7.549834   7.615773   8.246211   7.937254\n",
       "2     7.810250   7.615773   7.681146   8.366600   8.000000\n",
       "3     7.874008   7.745967   7.937254   8.426150   8.000000\n",
       "4     7.874008   7.874008   8.000000   8.485281   8.062258\n",
       "..         ...        ...        ...        ...        ...\n",
       "164  10.000000   9.797959  10.000000  10.148892  10.148892\n",
       "165  10.099505   9.797959  10.000000  10.198039  10.198039\n",
       "166  10.148892  10.000000  10.198039  10.295630  10.198039\n",
       "167  10.148892  10.049876  10.246951  10.344080  10.246951\n",
       "168  10.198039  10.198039  10.770330  10.392305  10.440307\n",
       "\n",
       "[169 rows x 5 columns]"
      ]
     },
     "execution_count": 94,
     "metadata": {},
     "output_type": "execute_result"
    }
   ],
   "source": [
    "x_vs_AD=pd.DataFrame(neighbors_k_vs)\n",
    "x_vs_AD"
   ]
  },
  {
   "cell_type": "code",
   "execution_count": 95,
   "metadata": {},
   "outputs": [
    {
     "name": "stdout",
     "output_type": "stream",
     "text": [
      "[7.28  7.416 7.55  8.185 7.874]\n"
     ]
    }
   ],
   "source": [
    "similarity_vs= neighbors_k_vs\n",
    "cpd_AD_vs=similarity_vs[0,:]\n",
    "cpd_value_vs = np.round(cpd_AD_vs, 3)\n",
    "print(cpd_value_vs)"
   ]
  },
  {
   "cell_type": "code",
   "execution_count": 96,
   "metadata": {},
   "outputs": [
    {
     "name": "stdout",
     "output_type": "stream",
     "text": [
      "[False False False False False]\n"
     ]
    }
   ],
   "source": [
    "cpd_AD_vs = np.where(cpd_value_vs <= model_AD_limit, True, False)\n",
    "print(cpd_AD_vs)"
   ]
  },
  {
   "cell_type": "code",
   "execution_count": 97,
   "metadata": {},
   "outputs": [
    {
     "name": "stdout",
     "output_type": "stream",
     "text": [
      "Coverage =  0.0\n"
     ]
    }
   ],
   "source": [
    "print(\"Coverage = \", sum(cpd_AD_vs) / len(cpd_AD_vs))"
   ]
  },
  {
   "cell_type": "code",
   "execution_count": 98,
   "metadata": {},
   "outputs": [
    {
     "name": "stdout",
     "output_type": "stream",
     "text": [
      "Индексы соединений, вошедших в AD =  []\n"
     ]
    }
   ],
   "source": [
    "print(\"Индексы соединений, вошедших в AD = \", np.where(cpd_AD_vs != 0)[0])"
   ]
  },
  {
   "cell_type": "markdown",
   "metadata": {},
   "source": [
    "Export predictions"
   ]
  },
  {
   "cell_type": "code",
   "execution_count": 99,
   "metadata": {},
   "outputs": [],
   "source": [
    "pred_beta = pd.DataFrame({'HDAC1': pred_c,'HDAC1_AD': cpd_AD_vs}, index=None)"
   ]
  },
  {
   "cell_type": "code",
   "execution_count": 100,
   "metadata": {},
   "outputs": [
    {
     "data": {
      "text/html": [
       "<div>\n",
       "<style scoped>\n",
       "    .dataframe tbody tr th:only-of-type {\n",
       "        vertical-align: middle;\n",
       "    }\n",
       "\n",
       "    .dataframe tbody tr th {\n",
       "        vertical-align: top;\n",
       "    }\n",
       "\n",
       "    .dataframe thead th {\n",
       "        text-align: right;\n",
       "    }\n",
       "</style>\n",
       "<table border=\"1\" class=\"dataframe\">\n",
       "  <thead>\n",
       "    <tr style=\"text-align: right;\">\n",
       "      <th></th>\n",
       "      <th>InChIKey</th>\n",
       "      <th>SMILES</th>\n",
       "      <th>ID</th>\n",
       "      <th>Mol</th>\n",
       "      <th>HDAC1</th>\n",
       "      <th>HDAC1_AD</th>\n",
       "    </tr>\n",
       "  </thead>\n",
       "  <tbody>\n",
       "    <tr>\n",
       "      <th>0</th>\n",
       "      <td>WZXRSGMXJJLRNL-UHFFFAOYSA-N</td>\n",
       "      <td>Cc1cc(NC(=O)CCCSc2nc(-c3ccco3)cc(C(F)(F)F)n2)no1</td>\n",
       "      <td></td>\n",
       "      <td>&lt;img data-content=\"rdkit/molecule\" src=\"data:i...</td>\n",
       "      <td>0</td>\n",
       "      <td>False</td>\n",
       "    </tr>\n",
       "    <tr>\n",
       "      <th>1</th>\n",
       "      <td>NGMGFRRMBXLNNS-UHFFFAOYSA-N</td>\n",
       "      <td>Cc1ccc(CSc2nc3ccncc3n2CC(=O)Nc2cc(C)cc(C)c2)cc1</td>\n",
       "      <td></td>\n",
       "      <td>&lt;img data-content=\"rdkit/molecule\" src=\"data:i...</td>\n",
       "      <td>0</td>\n",
       "      <td>False</td>\n",
       "    </tr>\n",
       "    <tr>\n",
       "      <th>2</th>\n",
       "      <td>NWUXAQZDESOKKL-MFKUBSTISA-N</td>\n",
       "      <td>COc1ccc(Br)cc1/C=N/NC(=O)c1nc(-c2ccccc2)n2c1CC...</td>\n",
       "      <td></td>\n",
       "      <td>&lt;img data-content=\"rdkit/molecule\" src=\"data:i...</td>\n",
       "      <td>0</td>\n",
       "      <td>False</td>\n",
       "    </tr>\n",
       "    <tr>\n",
       "      <th>3</th>\n",
       "      <td>NIJNUARVFJGCOA-UHFFFAOYNA-N</td>\n",
       "      <td>C=CCOc1cccc(C2c3c(oc4ccccc4c3=O)C(=O)N2c2ccccn...</td>\n",
       "      <td></td>\n",
       "      <td>&lt;img data-content=\"rdkit/molecule\" src=\"data:i...</td>\n",
       "      <td>0</td>\n",
       "      <td>False</td>\n",
       "    </tr>\n",
       "    <tr>\n",
       "      <th>4</th>\n",
       "      <td>FOYOYADXADLUCK-UHFFFAOYNA-N</td>\n",
       "      <td>O=C1OCCN1C(=O)C1C(c2ccccc2)C(c2cccc(Cl)c2)=NN1...</td>\n",
       "      <td></td>\n",
       "      <td>&lt;img data-content=\"rdkit/molecule\" src=\"data:i...</td>\n",
       "      <td>0</td>\n",
       "      <td>False</td>\n",
       "    </tr>\n",
       "  </tbody>\n",
       "</table>\n",
       "</div>"
      ],
      "text/plain": [
       "                      InChIKey  \\\n",
       "0  WZXRSGMXJJLRNL-UHFFFAOYSA-N   \n",
       "1  NGMGFRRMBXLNNS-UHFFFAOYSA-N   \n",
       "2  NWUXAQZDESOKKL-MFKUBSTISA-N   \n",
       "3  NIJNUARVFJGCOA-UHFFFAOYNA-N   \n",
       "4  FOYOYADXADLUCK-UHFFFAOYNA-N   \n",
       "\n",
       "                                              SMILES ID  \\\n",
       "0   Cc1cc(NC(=O)CCCSc2nc(-c3ccco3)cc(C(F)(F)F)n2)no1      \n",
       "1    Cc1ccc(CSc2nc3ccncc3n2CC(=O)Nc2cc(C)cc(C)c2)cc1      \n",
       "2  COc1ccc(Br)cc1/C=N/NC(=O)c1nc(-c2ccccc2)n2c1CC...      \n",
       "3  C=CCOc1cccc(C2c3c(oc4ccccc4c3=O)C(=O)N2c2ccccn...      \n",
       "4  O=C1OCCN1C(=O)C1C(c2ccccc2)C(c2cccc(Cl)c2)=NN1...      \n",
       "\n",
       "                                                 Mol  HDAC1  HDAC1_AD  \n",
       "0  <img data-content=\"rdkit/molecule\" src=\"data:i...      0     False  \n",
       "1  <img data-content=\"rdkit/molecule\" src=\"data:i...      0     False  \n",
       "2  <img data-content=\"rdkit/molecule\" src=\"data:i...      0     False  \n",
       "3  <img data-content=\"rdkit/molecule\" src=\"data:i...      0     False  \n",
       "4  <img data-content=\"rdkit/molecule\" src=\"data:i...      0     False  "
      ]
     },
     "execution_count": 100,
     "metadata": {},
     "output_type": "execute_result"
    }
   ],
   "source": [
    "predictions = pd.concat([moldf, pred_beta], axis=1)\n",
    "predictions.drop(columns='Descriptors', inplace=True)\n",
    "predictions.head()"
   ]
  },
  {
   "cell_type": "code",
   "execution_count": 101,
   "metadata": {},
   "outputs": [
    {
     "data": {
      "text/html": [
       "<table border=\"1\" class=\"dataframe\">\n",
       "  <thead>\n",
       "    <tr style=\"text-align: right;\">\n",
       "      <th></th>\n",
       "      <th>InChIKey</th>\n",
       "      <th>SMILES</th>\n",
       "      <th>ID</th>\n",
       "      <th>Mol</th>\n",
       "      <th>HDAC1</th>\n",
       "      <th>HDAC1_AD</th>\n",
       "    </tr>\n",
       "  </thead>\n",
       "  <tbody>\n",
       "    <tr>\n",
       "      <th>0</th>\n",
       "      <td>WZXRSGMXJJLRNL-UHFFFAOYSA-N</td>\n",
       "      <td>Cc1cc(NC(=O)CCCSc2nc(-c3ccco3)cc(C(F)(F)F)n2)no1</td>\n",
       "      <td></td>\n",
       "      <td><img data-content=\"rdkit/molecule\" src=\"data:image/png;base64,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\" alt=\"Mol\"/></td>\n",
       "      <td>0</td>\n",
       "      <td>False</td>\n",
       "    </tr>\n",
       "    <tr>\n",
       "      <th>1</th>\n",
       "      <td>NGMGFRRMBXLNNS-UHFFFAOYSA-N</td>\n",
       "      <td>Cc1ccc(CSc2nc3ccncc3n2CC(=O)Nc2cc(C)cc(C)c2)cc1</td>\n",
       "      <td></td>\n",
       "      <td><img data-content=\"rdkit/molecule\" src=\"data:image/png;base64,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\" alt=\"Mol\"/></td>\n",
       "      <td>0</td>\n",
       "      <td>False</td>\n",
       "    </tr>\n",
       "    <tr>\n",
       "      <th>2</th>\n",
       "      <td>NWUXAQZDESOKKL-MFKUBSTISA-N</td>\n",
       "      <td>COc1ccc(Br)cc1/C=N/NC(=O)c1nc(-c2ccccc2)n2c1CCCCC2</td>\n",
       "      <td></td>\n",
       "      <td><img data-content=\"rdkit/molecule\" src=\"data:image/png;base64,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\" alt=\"Mol\"/></td>\n",
       "      <td>0</td>\n",
       "      <td>False</td>\n",
       "    </tr>\n",
       "    <tr>\n",
       "      <th>3</th>\n",
       "      <td>NIJNUARVFJGCOA-UHFFFAOYNA-N</td>\n",
       "      <td>C=CCOc1cccc(C2c3c(oc4ccccc4c3=O)C(=O)N2c2ccccn2)c1</td>\n",
       "      <td></td>\n",
       "      <td><img data-content=\"rdkit/molecule\" src=\"data:image/png;base64,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\" alt=\"Mol\"/></td>\n",
       "      <td>0</td>\n",
       "      <td>False</td>\n",
       "    </tr>\n",
       "    <tr>\n",
       "      <th>4</th>\n",
       "      <td>FOYOYADXADLUCK-UHFFFAOYNA-N</td>\n",
       "      <td>O=C1OCCN1C(=O)C1C(c2ccccc2)C(c2cccc(Cl)c2)=NN1c1ccc(Br)cc1</td>\n",
       "      <td></td>\n",
       "      <td><img data-content=\"rdkit/molecule\" src=\"data:image/png;base64,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\" alt=\"Mol\"/></td>\n",
       "      <td>0</td>\n",
       "      <td>False</td>\n",
       "    </tr>\n",
       "  </tbody>\n",
       "</table>"
      ],
      "text/plain": [
       "<IPython.core.display.HTML object>"
      ]
     },
     "execution_count": 101,
     "metadata": {},
     "output_type": "execute_result"
    }
   ],
   "source": [
    "HTML(predictions.to_html())"
   ]
  },
  {
   "cell_type": "markdown",
   "metadata": {},
   "source": [
    "# Generate maps of fragment contribution"
   ]
  },
  {
   "cell_type": "code",
   "execution_count": 102,
   "metadata": {},
   "outputs": [],
   "source": [
    "from rdkit.Chem.Draw import SimilarityMaps\n",
    "from matplotlib import cm\n",
    "\n",
    "\n",
    "\n",
    "def pred_frag(mol, model, radius=2, nBits=1024):\n",
    "\n",
    "    def getProba(fp, probabilityfunc):\n",
    "        return probabilityfunc(fp)[0][1]\n",
    "\n",
    "    def fpFunction(mol,atomId=-1):\n",
    "        fp = SimilarityMaps.GetMorganFingerprint(mol,\n",
    "                                                 atomId=atomId,\n",
    "                                                 radius=radius,\n",
    "                                                 nBits=nBits)\n",
    "        return fp\n",
    "\n",
    "    fig = SimilarityMaps.GetSimilarityMapForModel(mol,\n",
    "                                                  fpFunction,\n",
    "                                                  lambda x: getProba((x,),\n",
    "                                                  model.predict_proba),\n",
    "                                                  colorMap=cm.PiYG_r)"
   ]
  },
  {
   "cell_type": "code",
   "execution_count": 104,
   "metadata": {},
   "outputs": [
    {
     "name": "stdout",
     "output_type": "stream",
     "text": [
      "Generating maps with predicted fragment contribution for beta-lactamase...\n"
     ]
    },
    {
     "data": {
      "image/png": "[encoded data removed]",
      "text/plain": [
       "<Figure size 180x180 with 1 Axes>"
      ]
     },
     "metadata": {
      "needs_background": "light"
     },
     "output_type": "display_data"
    },
    {
     "data": {
      "image/png": "[encoded data removed]",
      "text/plain": [
       "<Figure size 180x180 with 1 Axes>"
      ]
     },
     "metadata": {
      "needs_background": "light"
     },
     "output_type": "display_data"
    },
    {
     "data": {
      "image/png": "[encoded data removed]",
      "text/plain": [
       "<Figure size 180x180 with 1 Axes>"
      ]
     },
     "metadata": {
      "needs_background": "light"
     },
     "output_type": "display_data"
    },
    {
     "data": {
      "image/png": "[encoded data removed]",
      "text/plain": [
       "<Figure size 180x180 with 1 Axes>"
      ]
     },
     "metadata": {
      "needs_background": "light"
     },
     "output_type": "display_data"
    },
    {
     "data": {
      "image/png": "[encoded data removed]",
      "text/plain": [
       "<Figure size 180x180 with 1 Axes>"
      ]
     },
     "metadata": {
      "needs_background": "light"
     },
     "output_type": "display_data"
    }
   ],
   "source": [
    "print('Generating maps with predicted fragment contribution for beta-lactamase...')\n",
    "for i, mol in zip(range(len(moldf.Mol)), moldf.Mol):\n",
    "    pred_frag(mol, best_clf_RF)\n",
    "    plt.savefig('maps/mol_' + str(i+1) + '_beta-lactamase.png', bbox_inches='tight')"
   ]
  },
  {
   "cell_type": "code",
   "execution_count": null,
   "metadata": {},
   "outputs": [],
   "source": []
  }
 ],
 "metadata": {
  "kernelspec": {
   "display_name": "Python3 (rdkit)",
   "language": "python",
   "name": "my-rdkit-env"
  },
  "language_info": {
   "codemirror_mode": {
    "name": "ipython",
    "version": 3
   },
   "file_extension": ".py",
   "mimetype": "text/x-python",
   "name": "python",
   "nbconvert_exporter": "python",
   "pygments_lexer": "ipython3",
   "version": "3.7.11"
  }
 },
 "nbformat": 4,
 "nbformat_minor": 2
}
