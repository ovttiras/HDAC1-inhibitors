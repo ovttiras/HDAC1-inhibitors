{
 "cells": [
  {
   "cell_type": "markdown",
   "metadata": {},
   "source": [
    "# 1. Importing modules and functions"
   ]
  },
  {
   "cell_type": "code",
   "execution_count": 233,
   "metadata": {},
   "outputs": [],
   "source": [
    "from rdkit import Chem, DataStructs\n",
    "from rdkit.Chem import AllChem, Descriptors\n",
    "from rdkit.ML.Descriptors import MoleculeDescriptors\n",
    "from rdkit.Chem.AllChem import GetMorganFingerprintAsBitVect\n",
    "import chembl_structure_pipeline\n",
    "import numpy as np\n",
    "import pandas as pd\n",
    "from rdkit.Chem import PandasTools\n",
    "from sklearn.svm import SVC\n",
    "from sklearn.ensemble import RandomForestClassifier, GradientBoostingClassifier\n",
    "from sklearn.model_selection import train_test_split, StratifiedKFold, GridSearchCV\n",
    "from sklearn.model_selection import permutation_test_score\n",
    "from sklearn.preprocessing import StandardScaler\n",
    "from sklearn.model_selection import cross_val_predict\n",
    "from sklearn import metrics\n",
    "from sklearn.metrics import cohen_kappa_score\n",
    "from sklearn.metrics import balanced_accuracy_score\n",
    "from sklearn.metrics import pairwise_distances\n",
    "import joblib\n",
    "import pickle\n",
    "from IPython.display import HTML\n",
    "import matplotlib.pyplot as plt"
   ]
  },
  {
   "cell_type": "markdown",
   "metadata": {},
   "source": [
    "# 2.Data entry and curation work set"
   ]
  },
  {
   "cell_type": "code",
   "execution_count": 234,
   "metadata": {},
   "outputs": [
    {
     "name": "stdout",
     "output_type": "stream",
     "text": [
      "Original data:  169 molecules\n",
      "Failed data:  0 molecules\n"
     ]
    },
    {
     "data": {
      "text/html": [
       "<div>\n",
       "<style scoped>\n",
       "    .dataframe tbody tr th:only-of-type {\n",
       "        vertical-align: middle;\n",
       "    }\n",
       "\n",
       "    .dataframe tbody tr th {\n",
       "        vertical-align: top;\n",
       "    }\n",
       "\n",
       "    .dataframe thead th {\n",
       "        text-align: right;\n",
       "    }\n",
       "</style>\n",
       "<table border=\"1\" class=\"dataframe\">\n",
       "  <thead>\n",
       "    <tr style=\"text-align: right;\">\n",
       "      <th></th>\n",
       "      <th>No. failed molecule in original set</th>\n",
       "      <th>SMILES of wrong structure:</th>\n",
       "    </tr>\n",
       "    <tr>\n",
       "      <th>No.</th>\n",
       "      <th></th>\n",
       "      <th></th>\n",
       "    </tr>\n",
       "  </thead>\n",
       "  <tbody>\n",
       "  </tbody>\n",
       "</table>\n",
       "</div>"
      ],
      "text/plain": [
       "Empty DataFrame\n",
       "Columns: [No. failed molecule in original set, SMILES of wrong structure: ]\n",
       "Index: []"
      ]
     },
     "execution_count": 234,
     "metadata": {},
     "output_type": "execute_result"
    }
   ],
   "source": [
    "uploaded_file_ws=\"datasets/HDAC1 work set.sdf\"\n",
    "supplier_ws = Chem.ForwardSDMolSupplier(uploaded_file_ws,sanitize=False)\n",
    "failed_mols_ws = []\n",
    "all_mols_ws =[]\n",
    "wrong_structure_ws=[]\n",
    "wrong_smiles_ws=[]\n",
    "for i, m in enumerate(supplier_ws):\n",
    "    structure = Chem.Mol(m)\n",
    "    all_mols_ws.append(structure)\n",
    "    try:\n",
    "        Chem.SanitizeMol(structure)\n",
    "    except:\n",
    "        failed_mols_ws.append(m)\n",
    "        wrong_smiles_ws.append(Chem.MolToSmiles(m))\n",
    "        wrong_structure_ws.append(str(i+1))\n",
    "print('Original data: ', len(all_mols_ws), 'molecules')\n",
    "print('Failed data: ', len(failed_mols_ws), 'molecules')\n",
    "number_ws =[]\n",
    "for i in range(len(failed_mols_ws)):\n",
    "        number_ws.append(str(i+1))\n",
    "bad_molecules_ws = pd.DataFrame({'No. failed molecule in original set': wrong_structure_ws, 'SMILES of wrong structure: ': wrong_smiles_ws, 'No.': number_ws}, index=None)\n",
    "bad_molecules_ws = bad_molecules_ws.set_index('No.')\n",
    "bad_molecules_ws"
   ]
  },
  {
   "cell_type": "markdown",
   "metadata": {},
   "source": [
    "# 3.Standardization SDF file for work set"
   ]
  },
  {
   "cell_type": "code",
   "execution_count": 235,
   "metadata": {},
   "outputs": [
    {
     "name": "stdout",
     "output_type": "stream",
     "text": [
      "Kept data:  169 molecules\n"
     ]
    }
   ],
   "source": [
    "records_ws = []\n",
    "for i in range(len(all_mols_ws)):\n",
    "    record = Chem.MolToMolBlock(all_mols_ws[i])\n",
    "    records_ws.append(record)\n",
    "            \n",
    "mols_ws = []\n",
    "for i,record in enumerate(records_ws):\n",
    "    standard_record = chembl_structure_pipeline.standardize_molblock(record)\n",
    "    m = Chem.MolFromMolBlock(standard_record)\n",
    "    mols_ws.append(m)\n",
    "           \n",
    "moldf_ws = []\n",
    "for val in mols_ws:\n",
    "    if val != None:\n",
    "        moldf_ws.append(val)\n",
    "print('Kept data: ', len(moldf_ws), 'molecules')"
   ]
  },
  {
   "cell_type": "markdown",
   "metadata": {},
   "source": [
    "# 4.Data entry and curation test set"
   ]
  },
  {
   "cell_type": "code",
   "execution_count": 236,
   "metadata": {},
   "outputs": [
    {
     "name": "stdout",
     "output_type": "stream",
     "text": [
      "Original data:  42 molecules\n",
      "Failed data:  0 molecules\n"
     ]
    },
    {
     "data": {
      "text/html": [
       "<div>\n",
       "<style scoped>\n",
       "    .dataframe tbody tr th:only-of-type {\n",
       "        vertical-align: middle;\n",
       "    }\n",
       "\n",
       "    .dataframe tbody tr th {\n",
       "        vertical-align: top;\n",
       "    }\n",
       "\n",
       "    .dataframe thead th {\n",
       "        text-align: right;\n",
       "    }\n",
       "</style>\n",
       "<table border=\"1\" class=\"dataframe\">\n",
       "  <thead>\n",
       "    <tr style=\"text-align: right;\">\n",
       "      <th></th>\n",
       "      <th>No. failed molecule in original set</th>\n",
       "      <th>SMILES of wrong structure:</th>\n",
       "    </tr>\n",
       "    <tr>\n",
       "      <th>No.</th>\n",
       "      <th></th>\n",
       "      <th></th>\n",
       "    </tr>\n",
       "  </thead>\n",
       "  <tbody>\n",
       "  </tbody>\n",
       "</table>\n",
       "</div>"
      ],
      "text/plain": [
       "Empty DataFrame\n",
       "Columns: [No. failed molecule in original set, SMILES of wrong structure: ]\n",
       "Index: []"
      ]
     },
     "execution_count": 236,
     "metadata": {},
     "output_type": "execute_result"
    }
   ],
   "source": [
    "uploaded_file_ts=\"datasets/HDAC1  test  set.sdf\"\n",
    "supplier_ts = Chem.ForwardSDMolSupplier(uploaded_file_ts,sanitize=False)\n",
    "failed_mols_ts = []\n",
    "all_mols_ts =[]\n",
    "wrong_structure_ts=[]\n",
    "wrong_smiles_ts=[]\n",
    "for i, m in enumerate(supplier_ts):\n",
    "    structure = Chem.Mol(m)\n",
    "    all_mols_ts.append(structure)\n",
    "    try:\n",
    "        Chem.SanitizeMol(structure)\n",
    "    except:\n",
    "        failed_mols_ts.append(m)\n",
    "        wrong_smiles_ts.append(Chem.MolToSmiles(m))\n",
    "        wrong_structure_ts.append(str(i+1))\n",
    "print('Original data: ', len(all_mols_ts), 'molecules')\n",
    "print('Failed data: ', len(failed_mols_ts), 'molecules')\n",
    "number_ts =[]\n",
    "for i in range(len(failed_mols_ts)):\n",
    "        number_ts.append(str(i+1))\n",
    "bad_molecules_ts = pd.DataFrame({'No. failed molecule in original set': wrong_structure_ts, 'SMILES of wrong structure: ': wrong_smiles_ts, 'No.': number_ts}, index=None)\n",
    "bad_molecules_ts = bad_molecules_ts.set_index('No.')\n",
    "bad_molecules_ts"
   ]
  },
  {
   "cell_type": "markdown",
   "metadata": {},
   "source": [
    "# 5.Standardization SDF file for test set"
   ]
  },
  {
   "cell_type": "code",
   "execution_count": 237,
   "metadata": {},
   "outputs": [
    {
     "name": "stdout",
     "output_type": "stream",
     "text": [
      "Kept data:  42 molecules\n"
     ]
    }
   ],
   "source": [
    "records_ts = []\n",
    "for i in range(len(all_mols_ts)):\n",
    "    record = Chem.MolToMolBlock(all_mols_ts[i])\n",
    "    records_ts.append(record)\n",
    "            \n",
    "mols_ts = []\n",
    "for i,record in enumerate(records_ts):\n",
    "    standard_record = chembl_structure_pipeline.standardize_molblock(record)\n",
    "    m = Chem.MolFromMolBlock(standard_record)\n",
    "    mols_ts.append(m)\n",
    "           \n",
    "moldf_ts = []\n",
    "for val in mols_ts:\n",
    "    if val != None:\n",
    "        moldf_ts.append(val)\n",
    "print('Kept data: ', len(moldf_ts), 'molecules')"
   ]
  },
  {
   "cell_type": "markdown",
   "metadata": {},
   "source": [
    "# 6.Descriptor calculation for work set"
   ]
  },
  {
   "cell_type": "code",
   "execution_count": 238,
   "metadata": {},
   "outputs": [],
   "source": [
    "fp_tr = [AllChem.GetMorganFingerprintAsBitVect(m, radius=2,nBits=1024,useFeatures=False,useChirality = False) for m in moldf_ws]"
   ]
  },
  {
   "cell_type": "code",
   "execution_count": 239,
   "metadata": {},
   "outputs": [],
   "source": [
    "def rdkit_numpy_convert(fp_tr):\n",
    "    output = []\n",
    "    for f in fp_tr:\n",
    "        arr = np.zeros((1,))\n",
    "        DataStructs.ConvertToNumpyArray(f, arr)\n",
    "        output.append(arr)\n",
    "    return np.asarray(output)"
   ]
  },
  {
   "cell_type": "code",
   "execution_count": 240,
   "metadata": {},
   "outputs": [],
   "source": [
    "from numpy import savetxt\n",
    "x_tr = rdkit_numpy_convert(fp_tr)"
   ]
  },
  {
   "cell_type": "code",
   "execution_count": 241,
   "metadata": {},
   "outputs": [],
   "source": [
    "savetxt('Models/FP/x_tr.csv', x_tr, delimiter=',')"
   ]
  },
  {
   "cell_type": "code",
   "execution_count": 242,
   "metadata": {},
   "outputs": [
    {
     "data": {
      "text/plain": [
       "(169, 1024)"
      ]
     },
     "execution_count": 242,
     "metadata": {},
     "output_type": "execute_result"
    }
   ],
   "source": [
    "x_tr.shape"
   ]
  },
  {
   "cell_type": "markdown",
   "metadata": {},
   "source": [
    "# 7.Descriptor calculation for test set"
   ]
  },
  {
   "cell_type": "code",
   "execution_count": 243,
   "metadata": {},
   "outputs": [],
   "source": [
    "fp_ts = [AllChem.GetMorganFingerprintAsBitVect(m, radius=2,nBits=1024,useFeatures=False,useChirality = False) for m in moldf_ts]"
   ]
  },
  {
   "cell_type": "code",
   "execution_count": 244,
   "metadata": {},
   "outputs": [],
   "source": [
    "def rdkit_numpy_convert(fp_ts):\n",
    "    output = []\n",
    "    for f in fp_ts:\n",
    "        arr = np.zeros((1,))\n",
    "        DataStructs.ConvertToNumpyArray(f, arr)\n",
    "        output.append(arr)\n",
    "    return np.asarray(output)"
   ]
  },
  {
   "cell_type": "code",
   "execution_count": 245,
   "metadata": {},
   "outputs": [],
   "source": [
    "x_ts = rdkit_numpy_convert(fp_ts)"
   ]
  },
  {
   "cell_type": "code",
   "execution_count": 246,
   "metadata": {},
   "outputs": [
    {
     "data": {
      "text/plain": [
       "(42, 1024)"
      ]
     },
     "execution_count": 246,
     "metadata": {},
     "output_type": "execute_result"
    }
   ],
   "source": [
    "x_ts.shape"
   ]
  },
  {
   "cell_type": "markdown",
   "metadata": {},
   "source": [
    "# 8. RF model building and validation   "
   ]
  },
  {
   "cell_type": "markdown",
   "metadata": {},
   "source": [
    "## 8.1.  RF model building"
   ]
  },
  {
   "cell_type": "code",
   "execution_count": 281,
   "metadata": {},
   "outputs": [],
   "source": [
    "seed = 42"
   ]
  },
  {
   "cell_type": "code",
   "execution_count": 248,
   "metadata": {},
   "outputs": [],
   "source": [
    "cv = StratifiedKFold(n_splits=5, shuffle=True, random_state=seed)"
   ]
  },
  {
   "cell_type": "code",
   "execution_count": 249,
   "metadata": {},
   "outputs": [],
   "source": [
    "param_grid = {\"max_features\": [x_tr.shape[1] // 10, x_tr.shape[1] // 7, x_tr.shape[1] // 5, x_tr.shape[1] // 3],\n",
    "              \"n_estimators\": [100, 250, 500, 1000]}"
   ]
  },
  {
   "cell_type": "code",
   "execution_count": 250,
   "metadata": {},
   "outputs": [],
   "source": [
    "m = GridSearchCV(RandomForestClassifier(), param_grid, n_jobs=2, cv=cv, verbose=1)"
   ]
  },
  {
   "cell_type": "code",
   "execution_count": 251,
   "metadata": {},
   "outputs": [
    {
     "name": "stdout",
     "output_type": "stream",
     "text": [
      "Fitting 5 folds for each of 16 candidates, totalling 80 fits\n"
     ]
    },
    {
     "data": {
      "text/plain": [
       "GridSearchCV(cv=StratifiedKFold(n_splits=5, random_state=42, shuffle=True),\n",
       "             estimator=RandomForestClassifier(), n_jobs=2,\n",
       "             param_grid={'max_features': [102, 146, 204, 341],\n",
       "                         'n_estimators': [100, 250, 500, 1000]},\n",
       "             verbose=1)"
      ]
     },
     "execution_count": 251,
     "metadata": {},
     "output_type": "execute_result"
    }
   ],
   "source": [
    "m.fit(x_tr, y_tr)"
   ]
  },
  {
   "cell_type": "code",
   "execution_count": 252,
   "metadata": {},
   "outputs": [
    {
     "data": {
      "text/plain": [
       "{'max_features': 102, 'n_estimators': 500}"
      ]
     },
     "execution_count": 252,
     "metadata": {},
     "output_type": "execute_result"
    }
   ],
   "source": [
    "m.best_params_"
   ]
  },
  {
   "cell_type": "code",
   "execution_count": 253,
   "metadata": {},
   "outputs": [],
   "source": [
    "best_clf_RF = m.best_estimator_"
   ]
  },
  {
   "cell_type": "markdown",
   "metadata": {},
   "source": [
    "## 8.2. 5-fold-cross-validation   RF model"
   ]
  },
  {
   "cell_type": "code",
   "execution_count": 254,
   "metadata": {},
   "outputs": [],
   "source": [
    "y_pred_CV_RF = cross_val_predict(best_clf_RF, x_tr, y_tr, cv=cv)"
   ]
  },
  {
   "cell_type": "code",
   "execution_count": 256,
   "metadata": {},
   "outputs": [
    {
     "name": "stdout",
     "output_type": "stream",
     "text": [
      "balanced_accuracy =  0.87\n",
      "SE =  0.83\n",
      "SP =  0.91\n",
      "Kappa =  0.74\n"
     ]
    }
   ],
   "source": [
    "confusion_matrix_RF = metrics.confusion_matrix(y_tr, y_pred_CV_RF, labels=[0,1])\n",
    "Kappa = metrics.cohen_kappa_score(y_tr, y_pred_CV_RF, weights='linear')\n",
    "TN, FP, FN, TP = confusion_matrix_RF.ravel()\n",
    "SE = TP/(TP+FN)\n",
    "SP = TN/(TN+FP)\n",
    "BA = (SE + SP)/2\n",
    "print(\"balanced_accuracy = \", round((BA), 2))\n",
    "print(\"SE = \", round((SE), 2))\n",
    "print(\"SP = \", round((SP), 2))\n",
    "print(\"Kappa = \", round((Kappa), 2))"
   ]
  },
  {
   "cell_type": "code",
   "execution_count": 257,
   "metadata": {},
   "outputs": [],
   "source": [
    "pickle.dump(best_clf_RF, open('Models/FP/HDAC1_RF_ECFP4.pkl', 'wb'))"
   ]
  },
  {
   "cell_type": "markdown",
   "metadata": {},
   "source": [
    "## 8.3.Y-randomization  RF model"
   ]
  },
  {
   "cell_type": "code",
   "execution_count": 262,
   "metadata": {},
   "outputs": [
    {
     "name": "stderr",
     "output_type": "stream",
     "text": [
      "[Parallel(n_jobs=-1)]: Using backend LokyBackend with 4 concurrent workers.\n",
      "[Parallel(n_jobs=-1)]: Done  42 tasks      | elapsed:   45.2s\n",
      "[Parallel(n_jobs=-1)]: Done 192 tasks      | elapsed:  3.3min\n",
      "[Parallel(n_jobs=-1)]: Done 442 tasks      | elapsed:  7.6min\n"
     ]
    },
    {
     "name": "stdout",
     "output_type": "stream",
     "text": [
      "True score =  0.87 \n",
      "Y-randomization =  0.5 \n",
      "p-value =  0.002\n"
     ]
    },
    {
     "name": "stderr",
     "output_type": "stream",
     "text": [
      "[Parallel(n_jobs=-1)]: Done 500 out of 500 | elapsed:  8.6min finished\n"
     ]
    }
   ],
   "source": [
    "permutations = 500\n",
    "score, permutation_scores, pvalue = permutation_test_score(best_clf_RF, x_tr, y_tr,\n",
    "                                                           cv=cv, scoring='balanced_accuracy',\n",
    "                                                           n_permutations=permutations,\n",
    "                                                           n_jobs=-1,\n",
    "                                                           verbose=1,\n",
    "                                                           random_state=24)\n",
    "print('True score = ', score.round(2),\n",
    "      '\\nY-randomization = ', np.mean(permutation_scores).round(2),\n",
    "      '\\np-value = ', pvalue.round(4))"
   ]
  },
  {
   "cell_type": "code",
   "execution_count": 169,
   "metadata": {},
   "outputs": [
    {
     "data": {
      "text/plain": [
       "0.65"
      ]
     },
     "execution_count": 169,
     "metadata": {},
     "output_type": "execute_result"
    }
   ],
   "source": [
    "max_Y_randomization = round(np.amax(permutation_scores, axis=0), 2) \n",
    "max_Y_randomization"
   ]
  },
  {
   "cell_type": "code",
   "execution_count": 170,
   "metadata": {},
   "outputs": [
    {
     "data": {
      "text/plain": [
       "0.045"
      ]
     },
     "execution_count": 170,
     "metadata": {},
     "output_type": "execute_result"
    }
   ],
   "source": [
    "standard_deviation = round(np.std(permutation_scores, axis=0), 3)\n",
    "standard_deviation"
   ]
  },
  {
   "cell_type": "code",
   "execution_count": 171,
   "metadata": {},
   "outputs": [
    {
     "data": {
      "text/plain": [
       "0.37"
      ]
     },
     "execution_count": 171,
     "metadata": {},
     "output_type": "execute_result"
    }
   ],
   "source": [
    "min_Y_randomization = round(np.min(permutation_scores, axis=0), 2) \n",
    "min_Y_randomization"
   ]
  },
  {
   "cell_type": "code",
   "execution_count": 172,
   "metadata": {},
   "outputs": [
    {
     "name": "stdout",
     "output_type": "stream",
     "text": [
      "Coverage =  0.0\n"
     ]
    }
   ],
   "source": [
    "a = np.greater_equal(permutation_scores, score)\n",
    "print(\"Coverage = \", sum(a) / len(a))"
   ]
  },
  {
   "cell_type": "markdown",
   "metadata": {},
   "source": [
    "## 8.4. Model RF: predict for molecules of test set"
   ]
  },
  {
   "cell_type": "code",
   "execution_count": 258,
   "metadata": {},
   "outputs": [],
   "source": [
    "y_pred_rf = best_clf_RF.predict(x_ts)"
   ]
  },
  {
   "cell_type": "code",
   "execution_count": 259,
   "metadata": {},
   "outputs": [
    {
     "data": {
      "text/plain": [
       "array([1, 1, 0, 1, 1, 1, 1, 1, 0, 1, 1, 1, 1, 1, 0, 0, 1, 1, 1, 1, 0, 1,\n",
       "       0, 0, 0, 0, 0, 0, 0, 0, 0, 0, 0, 0, 1, 0, 0, 0, 0, 0, 0, 0])"
      ]
     },
     "execution_count": 259,
     "metadata": {},
     "output_type": "execute_result"
    }
   ],
   "source": [
    "y_pred_rf"
   ]
  },
  {
   "cell_type": "code",
   "execution_count": 260,
   "metadata": {},
   "outputs": [],
   "source": [
    "confusion_matrix_ts = metrics.confusion_matrix(y_ts, y_pred_rf, labels=[0,1])"
   ]
  },
  {
   "cell_type": "code",
   "execution_count": 261,
   "metadata": {},
   "outputs": [
    {
     "name": "stdout",
     "output_type": "stream",
     "text": [
      "balanced_accuracy =  0.78\n",
      "SE =  0.76\n",
      "SP =  0.8\n",
      "Kappa =  0.56\n"
     ]
    }
   ],
   "source": [
    "Kappa = metrics.cohen_kappa_score(y_ts, y_pred_rf, weights='linear')\n",
    "TN, FP, FN, TP = confusion_matrix_ts.ravel()\n",
    "SE = TP/(TP+FN)\n",
    "SP = TN/(TN+FP)\n",
    "BA = (SE + SP)/2\n",
    "print(\"balanced_accuracy = \", round((BA), 2))\n",
    "print(\"SE = \", round((SE), 2))\n",
    "print(\"SP = \", round((SP), 2))\n",
    "print(\"Kappa = \", round((Kappa), 2))"
   ]
  },
  {
   "cell_type": "markdown",
   "metadata": {},
   "source": [
    "# 9. Estimating applicability domain. Method -  Euclidian distances,  K=1 (https://doi.org/10.1021/acs.jcim.0c00415)"
   ]
  },
  {
   "cell_type": "code",
   "execution_count": 263,
   "metadata": {},
   "outputs": [],
   "source": [
    "neighbors_k= pairwise_distances(x_tr, n_jobs=-1)\n",
    "neighbors_k.sort(0)"
   ]
  },
  {
   "cell_type": "code",
   "execution_count": 264,
   "metadata": {},
   "outputs": [
    {
     "data": {
      "text/html": [
       "<div>\n",
       "<style scoped>\n",
       "    .dataframe tbody tr th:only-of-type {\n",
       "        vertical-align: middle;\n",
       "    }\n",
       "\n",
       "    .dataframe tbody tr th {\n",
       "        vertical-align: top;\n",
       "    }\n",
       "\n",
       "    .dataframe thead th {\n",
       "        text-align: right;\n",
       "    }\n",
       "</style>\n",
       "<table border=\"1\" class=\"dataframe\">\n",
       "  <thead>\n",
       "    <tr style=\"text-align: right;\">\n",
       "      <th></th>\n",
       "      <th>0</th>\n",
       "      <th>1</th>\n",
       "      <th>2</th>\n",
       "      <th>3</th>\n",
       "      <th>4</th>\n",
       "      <th>5</th>\n",
       "      <th>6</th>\n",
       "      <th>7</th>\n",
       "      <th>8</th>\n",
       "      <th>9</th>\n",
       "      <th>...</th>\n",
       "      <th>159</th>\n",
       "      <th>160</th>\n",
       "      <th>161</th>\n",
       "      <th>162</th>\n",
       "      <th>163</th>\n",
       "      <th>164</th>\n",
       "      <th>165</th>\n",
       "      <th>166</th>\n",
       "      <th>167</th>\n",
       "      <th>168</th>\n",
       "    </tr>\n",
       "  </thead>\n",
       "  <tbody>\n",
       "    <tr>\n",
       "      <th>0</th>\n",
       "      <td>0.000000</td>\n",
       "      <td>0.000000</td>\n",
       "      <td>0.000000</td>\n",
       "      <td>0.000000</td>\n",
       "      <td>0.000000</td>\n",
       "      <td>0.000000</td>\n",
       "      <td>0.000000</td>\n",
       "      <td>0.000000</td>\n",
       "      <td>0.000000</td>\n",
       "      <td>0.000000</td>\n",
       "      <td>...</td>\n",
       "      <td>0.000000</td>\n",
       "      <td>0.000000</td>\n",
       "      <td>0.000000</td>\n",
       "      <td>0.000000</td>\n",
       "      <td>0.000000</td>\n",
       "      <td>0.000000</td>\n",
       "      <td>0.000000</td>\n",
       "      <td>0.000000</td>\n",
       "      <td>0.000000</td>\n",
       "      <td>0.000000</td>\n",
       "    </tr>\n",
       "    <tr>\n",
       "      <th>1</th>\n",
       "      <td>4.898979</td>\n",
       "      <td>4.898979</td>\n",
       "      <td>3.000000</td>\n",
       "      <td>3.162278</td>\n",
       "      <td>2.828427</td>\n",
       "      <td>4.690416</td>\n",
       "      <td>2.828427</td>\n",
       "      <td>8.544004</td>\n",
       "      <td>0.000000</td>\n",
       "      <td>2.828427</td>\n",
       "      <td>...</td>\n",
       "      <td>3.605551</td>\n",
       "      <td>5.830952</td>\n",
       "      <td>4.472136</td>\n",
       "      <td>6.082763</td>\n",
       "      <td>5.830952</td>\n",
       "      <td>5.291503</td>\n",
       "      <td>3.316625</td>\n",
       "      <td>2.828427</td>\n",
       "      <td>5.291503</td>\n",
       "      <td>7.483315</td>\n",
       "    </tr>\n",
       "    <tr>\n",
       "      <th>2</th>\n",
       "      <td>7.483315</td>\n",
       "      <td>6.557439</td>\n",
       "      <td>3.316625</td>\n",
       "      <td>3.464102</td>\n",
       "      <td>3.162278</td>\n",
       "      <td>5.196152</td>\n",
       "      <td>3.162278</td>\n",
       "      <td>8.660254</td>\n",
       "      <td>4.242641</td>\n",
       "      <td>3.162278</td>\n",
       "      <td>...</td>\n",
       "      <td>3.872983</td>\n",
       "      <td>9.000000</td>\n",
       "      <td>4.472136</td>\n",
       "      <td>6.324555</td>\n",
       "      <td>8.774964</td>\n",
       "      <td>5.385165</td>\n",
       "      <td>4.123106</td>\n",
       "      <td>3.316625</td>\n",
       "      <td>5.477226</td>\n",
       "      <td>7.483315</td>\n",
       "    </tr>\n",
       "    <tr>\n",
       "      <th>3</th>\n",
       "      <td>7.483315</td>\n",
       "      <td>6.855655</td>\n",
       "      <td>3.316625</td>\n",
       "      <td>3.741657</td>\n",
       "      <td>3.162278</td>\n",
       "      <td>5.385165</td>\n",
       "      <td>3.162278</td>\n",
       "      <td>8.888194</td>\n",
       "      <td>5.196152</td>\n",
       "      <td>3.162278</td>\n",
       "      <td>...</td>\n",
       "      <td>4.358899</td>\n",
       "      <td>9.000000</td>\n",
       "      <td>4.472136</td>\n",
       "      <td>6.403124</td>\n",
       "      <td>8.774964</td>\n",
       "      <td>6.000000</td>\n",
       "      <td>5.196152</td>\n",
       "      <td>4.000000</td>\n",
       "      <td>5.567764</td>\n",
       "      <td>7.874008</td>\n",
       "    </tr>\n",
       "    <tr>\n",
       "      <th>4</th>\n",
       "      <td>7.681146</td>\n",
       "      <td>6.928203</td>\n",
       "      <td>3.316625</td>\n",
       "      <td>4.000000</td>\n",
       "      <td>3.162278</td>\n",
       "      <td>5.567764</td>\n",
       "      <td>3.316625</td>\n",
       "      <td>8.888194</td>\n",
       "      <td>5.196152</td>\n",
       "      <td>3.316625</td>\n",
       "      <td>...</td>\n",
       "      <td>5.000000</td>\n",
       "      <td>9.165151</td>\n",
       "      <td>5.291503</td>\n",
       "      <td>6.403124</td>\n",
       "      <td>8.774964</td>\n",
       "      <td>6.082763</td>\n",
       "      <td>6.000000</td>\n",
       "      <td>5.567764</td>\n",
       "      <td>5.656854</td>\n",
       "      <td>7.874008</td>\n",
       "    </tr>\n",
       "    <tr>\n",
       "      <th>...</th>\n",
       "      <td>...</td>\n",
       "      <td>...</td>\n",
       "      <td>...</td>\n",
       "      <td>...</td>\n",
       "      <td>...</td>\n",
       "      <td>...</td>\n",
       "      <td>...</td>\n",
       "      <td>...</td>\n",
       "      <td>...</td>\n",
       "      <td>...</td>\n",
       "      <td>...</td>\n",
       "      <td>...</td>\n",
       "      <td>...</td>\n",
       "      <td>...</td>\n",
       "      <td>...</td>\n",
       "      <td>...</td>\n",
       "      <td>...</td>\n",
       "      <td>...</td>\n",
       "      <td>...</td>\n",
       "      <td>...</td>\n",
       "      <td>...</td>\n",
       "    </tr>\n",
       "    <tr>\n",
       "      <th>164</th>\n",
       "      <td>10.295630</td>\n",
       "      <td>9.643651</td>\n",
       "      <td>10.148892</td>\n",
       "      <td>10.392305</td>\n",
       "      <td>10.198039</td>\n",
       "      <td>9.327379</td>\n",
       "      <td>10.198039</td>\n",
       "      <td>10.816654</td>\n",
       "      <td>10.049876</td>\n",
       "      <td>10.295630</td>\n",
       "      <td>...</td>\n",
       "      <td>10.440307</td>\n",
       "      <td>11.045361</td>\n",
       "      <td>9.433981</td>\n",
       "      <td>9.591663</td>\n",
       "      <td>10.723805</td>\n",
       "      <td>9.055385</td>\n",
       "      <td>10.246951</td>\n",
       "      <td>10.148892</td>\n",
       "      <td>9.055385</td>\n",
       "      <td>10.148892</td>\n",
       "    </tr>\n",
       "    <tr>\n",
       "      <th>165</th>\n",
       "      <td>10.344080</td>\n",
       "      <td>9.643651</td>\n",
       "      <td>10.246951</td>\n",
       "      <td>10.392305</td>\n",
       "      <td>10.295630</td>\n",
       "      <td>9.380832</td>\n",
       "      <td>10.198039</td>\n",
       "      <td>10.862780</td>\n",
       "      <td>10.099505</td>\n",
       "      <td>10.295630</td>\n",
       "      <td>...</td>\n",
       "      <td>10.440307</td>\n",
       "      <td>11.045361</td>\n",
       "      <td>9.486833</td>\n",
       "      <td>9.643651</td>\n",
       "      <td>10.723805</td>\n",
       "      <td>9.110434</td>\n",
       "      <td>10.295630</td>\n",
       "      <td>10.148892</td>\n",
       "      <td>9.055385</td>\n",
       "      <td>10.148892</td>\n",
       "    </tr>\n",
       "    <tr>\n",
       "      <th>166</th>\n",
       "      <td>10.392305</td>\n",
       "      <td>9.848858</td>\n",
       "      <td>10.344080</td>\n",
       "      <td>10.392305</td>\n",
       "      <td>10.295630</td>\n",
       "      <td>9.486833</td>\n",
       "      <td>10.295630</td>\n",
       "      <td>10.954451</td>\n",
       "      <td>10.148892</td>\n",
       "      <td>10.392305</td>\n",
       "      <td>...</td>\n",
       "      <td>10.488088</td>\n",
       "      <td>11.135529</td>\n",
       "      <td>9.539392</td>\n",
       "      <td>9.695360</td>\n",
       "      <td>10.770330</td>\n",
       "      <td>9.219544</td>\n",
       "      <td>10.344080</td>\n",
       "      <td>10.246951</td>\n",
       "      <td>9.165151</td>\n",
       "      <td>10.295630</td>\n",
       "    </tr>\n",
       "    <tr>\n",
       "      <th>167</th>\n",
       "      <td>10.440307</td>\n",
       "      <td>9.949874</td>\n",
       "      <td>10.583005</td>\n",
       "      <td>10.630146</td>\n",
       "      <td>10.440307</td>\n",
       "      <td>9.643651</td>\n",
       "      <td>10.535654</td>\n",
       "      <td>10.954451</td>\n",
       "      <td>10.440307</td>\n",
       "      <td>10.535654</td>\n",
       "      <td>...</td>\n",
       "      <td>10.816654</td>\n",
       "      <td>11.180340</td>\n",
       "      <td>9.591663</td>\n",
       "      <td>9.797959</td>\n",
       "      <td>10.770330</td>\n",
       "      <td>9.486833</td>\n",
       "      <td>10.392305</td>\n",
       "      <td>10.392305</td>\n",
       "      <td>9.219544</td>\n",
       "      <td>10.295630</td>\n",
       "    </tr>\n",
       "    <tr>\n",
       "      <th>168</th>\n",
       "      <td>10.535654</td>\n",
       "      <td>10.099505</td>\n",
       "      <td>10.723805</td>\n",
       "      <td>10.677078</td>\n",
       "      <td>10.488088</td>\n",
       "      <td>9.643651</td>\n",
       "      <td>10.583005</td>\n",
       "      <td>11.000000</td>\n",
       "      <td>10.583005</td>\n",
       "      <td>10.677078</td>\n",
       "      <td>...</td>\n",
       "      <td>11.000000</td>\n",
       "      <td>11.313708</td>\n",
       "      <td>9.695360</td>\n",
       "      <td>10.295630</td>\n",
       "      <td>10.770330</td>\n",
       "      <td>9.591663</td>\n",
       "      <td>10.583005</td>\n",
       "      <td>10.630146</td>\n",
       "      <td>9.591663</td>\n",
       "      <td>10.535654</td>\n",
       "    </tr>\n",
       "  </tbody>\n",
       "</table>\n",
       "<p>169 rows × 169 columns</p>\n",
       "</div>"
      ],
      "text/plain": [
       "           0          1          2          3          4         5    \\\n",
       "0     0.000000   0.000000   0.000000   0.000000   0.000000  0.000000   \n",
       "1     4.898979   4.898979   3.000000   3.162278   2.828427  4.690416   \n",
       "2     7.483315   6.557439   3.316625   3.464102   3.162278  5.196152   \n",
       "3     7.483315   6.855655   3.316625   3.741657   3.162278  5.385165   \n",
       "4     7.681146   6.928203   3.316625   4.000000   3.162278  5.567764   \n",
       "..         ...        ...        ...        ...        ...       ...   \n",
       "164  10.295630   9.643651  10.148892  10.392305  10.198039  9.327379   \n",
       "165  10.344080   9.643651  10.246951  10.392305  10.295630  9.380832   \n",
       "166  10.392305   9.848858  10.344080  10.392305  10.295630  9.486833   \n",
       "167  10.440307   9.949874  10.583005  10.630146  10.440307  9.643651   \n",
       "168  10.535654  10.099505  10.723805  10.677078  10.488088  9.643651   \n",
       "\n",
       "           6          7          8          9    ...        159        160  \\\n",
       "0     0.000000   0.000000   0.000000   0.000000  ...   0.000000   0.000000   \n",
       "1     2.828427   8.544004   0.000000   2.828427  ...   3.605551   5.830952   \n",
       "2     3.162278   8.660254   4.242641   3.162278  ...   3.872983   9.000000   \n",
       "3     3.162278   8.888194   5.196152   3.162278  ...   4.358899   9.000000   \n",
       "4     3.316625   8.888194   5.196152   3.316625  ...   5.000000   9.165151   \n",
       "..         ...        ...        ...        ...  ...        ...        ...   \n",
       "164  10.198039  10.816654  10.049876  10.295630  ...  10.440307  11.045361   \n",
       "165  10.198039  10.862780  10.099505  10.295630  ...  10.440307  11.045361   \n",
       "166  10.295630  10.954451  10.148892  10.392305  ...  10.488088  11.135529   \n",
       "167  10.535654  10.954451  10.440307  10.535654  ...  10.816654  11.180340   \n",
       "168  10.583005  11.000000  10.583005  10.677078  ...  11.000000  11.313708   \n",
       "\n",
       "          161        162        163       164        165        166       167  \\\n",
       "0    0.000000   0.000000   0.000000  0.000000   0.000000   0.000000  0.000000   \n",
       "1    4.472136   6.082763   5.830952  5.291503   3.316625   2.828427  5.291503   \n",
       "2    4.472136   6.324555   8.774964  5.385165   4.123106   3.316625  5.477226   \n",
       "3    4.472136   6.403124   8.774964  6.000000   5.196152   4.000000  5.567764   \n",
       "4    5.291503   6.403124   8.774964  6.082763   6.000000   5.567764  5.656854   \n",
       "..        ...        ...        ...       ...        ...        ...       ...   \n",
       "164  9.433981   9.591663  10.723805  9.055385  10.246951  10.148892  9.055385   \n",
       "165  9.486833   9.643651  10.723805  9.110434  10.295630  10.148892  9.055385   \n",
       "166  9.539392   9.695360  10.770330  9.219544  10.344080  10.246951  9.165151   \n",
       "167  9.591663   9.797959  10.770330  9.486833  10.392305  10.392305  9.219544   \n",
       "168  9.695360  10.295630  10.770330  9.591663  10.583005  10.630146  9.591663   \n",
       "\n",
       "           168  \n",
       "0     0.000000  \n",
       "1     7.483315  \n",
       "2     7.483315  \n",
       "3     7.874008  \n",
       "4     7.874008  \n",
       "..         ...  \n",
       "164  10.148892  \n",
       "165  10.148892  \n",
       "166  10.295630  \n",
       "167  10.295630  \n",
       "168  10.535654  \n",
       "\n",
       "[169 rows x 169 columns]"
      ]
     },
     "execution_count": 264,
     "metadata": {},
     "output_type": "execute_result"
    }
   ],
   "source": [
    "df_tr=pd.DataFrame(neighbors_k)\n",
    "df_tr"
   ]
  },
  {
   "cell_type": "code",
   "execution_count": 265,
   "metadata": {},
   "outputs": [],
   "source": [
    "similarity= neighbors_k"
   ]
  },
  {
   "cell_type": "code",
   "execution_count": 266,
   "metadata": {},
   "outputs": [],
   "source": [
    "Dmean=np.mean(similarity[1,:])"
   ]
  },
  {
   "cell_type": "code",
   "execution_count": 267,
   "metadata": {},
   "outputs": [
    {
     "data": {
      "text/plain": [
       "3.32"
      ]
     },
     "execution_count": 267,
     "metadata": {},
     "output_type": "execute_result"
    }
   ],
   "source": [
    "round(Dmean, 2)"
   ]
  },
  {
   "cell_type": "code",
   "execution_count": 268,
   "metadata": {},
   "outputs": [],
   "source": [
    "std=np.std(similarity[1,:])"
   ]
  },
  {
   "cell_type": "code",
   "execution_count": 269,
   "metadata": {},
   "outputs": [
    {
     "data": {
      "text/plain": [
       "1.6"
      ]
     },
     "execution_count": 269,
     "metadata": {},
     "output_type": "execute_result"
    }
   ],
   "source": [
    "round(std, 2)"
   ]
  },
  {
   "cell_type": "code",
   "execution_count": 271,
   "metadata": {},
   "outputs": [
    {
     "name": "stdout",
     "output_type": "stream",
     "text": [
      "4.12\n"
     ]
    }
   ],
   "source": [
    "model_AD_limit=Dmean+std*0.5\n",
    "print(np.round(model_AD_limit, 2))"
   ]
  },
  {
   "cell_type": "code",
   "execution_count": 272,
   "metadata": {},
   "outputs": [],
   "source": [
    "neighbors_k_ts= pairwise_distances(x_tr,Y=x_ts, n_jobs=-1)\n",
    "neighbors_k_ts.sort(0)"
   ]
  },
  {
   "cell_type": "code",
   "execution_count": 273,
   "metadata": {},
   "outputs": [
    {
     "data": {
      "text/html": [
       "<div>\n",
       "<style scoped>\n",
       "    .dataframe tbody tr th:only-of-type {\n",
       "        vertical-align: middle;\n",
       "    }\n",
       "\n",
       "    .dataframe tbody tr th {\n",
       "        vertical-align: top;\n",
       "    }\n",
       "\n",
       "    .dataframe thead th {\n",
       "        text-align: right;\n",
       "    }\n",
       "</style>\n",
       "<table border=\"1\" class=\"dataframe\">\n",
       "  <thead>\n",
       "    <tr style=\"text-align: right;\">\n",
       "      <th></th>\n",
       "      <th>0</th>\n",
       "      <th>1</th>\n",
       "      <th>2</th>\n",
       "      <th>3</th>\n",
       "      <th>4</th>\n",
       "      <th>5</th>\n",
       "      <th>6</th>\n",
       "      <th>7</th>\n",
       "      <th>8</th>\n",
       "      <th>9</th>\n",
       "      <th>...</th>\n",
       "      <th>32</th>\n",
       "      <th>33</th>\n",
       "      <th>34</th>\n",
       "      <th>35</th>\n",
       "      <th>36</th>\n",
       "      <th>37</th>\n",
       "      <th>38</th>\n",
       "      <th>39</th>\n",
       "      <th>40</th>\n",
       "      <th>41</th>\n",
       "    </tr>\n",
       "  </thead>\n",
       "  <tbody>\n",
       "    <tr>\n",
       "      <th>0</th>\n",
       "      <td>3.741657</td>\n",
       "      <td>0.000000</td>\n",
       "      <td>6.403124</td>\n",
       "      <td>3.872983</td>\n",
       "      <td>3.162278</td>\n",
       "      <td>4.795832</td>\n",
       "      <td>0.000000</td>\n",
       "      <td>3.316625</td>\n",
       "      <td>3.741657</td>\n",
       "      <td>3.000000</td>\n",
       "      <td>...</td>\n",
       "      <td>3.872983</td>\n",
       "      <td>5.000000</td>\n",
       "      <td>6.708204</td>\n",
       "      <td>3.162278</td>\n",
       "      <td>3.316625</td>\n",
       "      <td>1.000000</td>\n",
       "      <td>2.645751</td>\n",
       "      <td>2.828427</td>\n",
       "      <td>2.645751</td>\n",
       "      <td>5.385165</td>\n",
       "    </tr>\n",
       "    <tr>\n",
       "      <th>1</th>\n",
       "      <td>3.741657</td>\n",
       "      <td>3.162278</td>\n",
       "      <td>6.633250</td>\n",
       "      <td>4.242641</td>\n",
       "      <td>3.316625</td>\n",
       "      <td>5.099020</td>\n",
       "      <td>0.000000</td>\n",
       "      <td>3.741657</td>\n",
       "      <td>4.358899</td>\n",
       "      <td>3.000000</td>\n",
       "      <td>...</td>\n",
       "      <td>4.582576</td>\n",
       "      <td>7.141428</td>\n",
       "      <td>7.141428</td>\n",
       "      <td>3.316625</td>\n",
       "      <td>4.795832</td>\n",
       "      <td>4.898979</td>\n",
       "      <td>3.872983</td>\n",
       "      <td>4.123106</td>\n",
       "      <td>3.872983</td>\n",
       "      <td>5.916080</td>\n",
       "    </tr>\n",
       "    <tr>\n",
       "      <th>2</th>\n",
       "      <td>3.741657</td>\n",
       "      <td>3.316625</td>\n",
       "      <td>6.708204</td>\n",
       "      <td>4.242641</td>\n",
       "      <td>3.464102</td>\n",
       "      <td>5.099020</td>\n",
       "      <td>1.414214</td>\n",
       "      <td>3.741657</td>\n",
       "      <td>4.358899</td>\n",
       "      <td>3.162278</td>\n",
       "      <td>...</td>\n",
       "      <td>4.582576</td>\n",
       "      <td>7.483315</td>\n",
       "      <td>7.615773</td>\n",
       "      <td>4.690416</td>\n",
       "      <td>5.656854</td>\n",
       "      <td>4.898979</td>\n",
       "      <td>4.242641</td>\n",
       "      <td>4.795832</td>\n",
       "      <td>4.898979</td>\n",
       "      <td>6.244998</td>\n",
       "    </tr>\n",
       "    <tr>\n",
       "      <th>3</th>\n",
       "      <td>3.872983</td>\n",
       "      <td>3.464102</td>\n",
       "      <td>6.708204</td>\n",
       "      <td>4.242641</td>\n",
       "      <td>3.605551</td>\n",
       "      <td>5.099020</td>\n",
       "      <td>2.828427</td>\n",
       "      <td>4.000000</td>\n",
       "      <td>4.358899</td>\n",
       "      <td>3.605551</td>\n",
       "      <td>...</td>\n",
       "      <td>4.795832</td>\n",
       "      <td>7.483315</td>\n",
       "      <td>7.810250</td>\n",
       "      <td>5.385165</td>\n",
       "      <td>6.324555</td>\n",
       "      <td>5.291503</td>\n",
       "      <td>4.582576</td>\n",
       "      <td>5.567764</td>\n",
       "      <td>5.385165</td>\n",
       "      <td>6.324555</td>\n",
       "    </tr>\n",
       "    <tr>\n",
       "      <th>4</th>\n",
       "      <td>4.000000</td>\n",
       "      <td>3.464102</td>\n",
       "      <td>6.782330</td>\n",
       "      <td>4.242641</td>\n",
       "      <td>3.741657</td>\n",
       "      <td>5.099020</td>\n",
       "      <td>3.000000</td>\n",
       "      <td>4.582576</td>\n",
       "      <td>4.690416</td>\n",
       "      <td>3.741657</td>\n",
       "      <td>...</td>\n",
       "      <td>4.795832</td>\n",
       "      <td>7.483315</td>\n",
       "      <td>7.874008</td>\n",
       "      <td>5.656854</td>\n",
       "      <td>6.633250</td>\n",
       "      <td>6.164414</td>\n",
       "      <td>6.000000</td>\n",
       "      <td>6.480741</td>\n",
       "      <td>6.633250</td>\n",
       "      <td>6.480741</td>\n",
       "    </tr>\n",
       "    <tr>\n",
       "      <th>...</th>\n",
       "      <td>...</td>\n",
       "      <td>...</td>\n",
       "      <td>...</td>\n",
       "      <td>...</td>\n",
       "      <td>...</td>\n",
       "      <td>...</td>\n",
       "      <td>...</td>\n",
       "      <td>...</td>\n",
       "      <td>...</td>\n",
       "      <td>...</td>\n",
       "      <td>...</td>\n",
       "      <td>...</td>\n",
       "      <td>...</td>\n",
       "      <td>...</td>\n",
       "      <td>...</td>\n",
       "      <td>...</td>\n",
       "      <td>...</td>\n",
       "      <td>...</td>\n",
       "      <td>...</td>\n",
       "      <td>...</td>\n",
       "      <td>...</td>\n",
       "    </tr>\n",
       "    <tr>\n",
       "      <th>164</th>\n",
       "      <td>10.295630</td>\n",
       "      <td>9.110434</td>\n",
       "      <td>9.746794</td>\n",
       "      <td>10.488088</td>\n",
       "      <td>10.295630</td>\n",
       "      <td>10.583005</td>\n",
       "      <td>9.539392</td>\n",
       "      <td>9.643651</td>\n",
       "      <td>9.949874</td>\n",
       "      <td>9.380832</td>\n",
       "      <td>...</td>\n",
       "      <td>9.380832</td>\n",
       "      <td>10.295630</td>\n",
       "      <td>10.344080</td>\n",
       "      <td>9.486833</td>\n",
       "      <td>10.099505</td>\n",
       "      <td>10.392305</td>\n",
       "      <td>10.148892</td>\n",
       "      <td>10.344080</td>\n",
       "      <td>10.295630</td>\n",
       "      <td>9.327379</td>\n",
       "    </tr>\n",
       "    <tr>\n",
       "      <th>165</th>\n",
       "      <td>10.295630</td>\n",
       "      <td>9.165151</td>\n",
       "      <td>9.746794</td>\n",
       "      <td>10.488088</td>\n",
       "      <td>10.392305</td>\n",
       "      <td>10.677078</td>\n",
       "      <td>9.539392</td>\n",
       "      <td>9.695360</td>\n",
       "      <td>9.949874</td>\n",
       "      <td>9.380832</td>\n",
       "      <td>...</td>\n",
       "      <td>9.380832</td>\n",
       "      <td>10.344080</td>\n",
       "      <td>10.392305</td>\n",
       "      <td>9.643651</td>\n",
       "      <td>10.148892</td>\n",
       "      <td>10.488088</td>\n",
       "      <td>10.198039</td>\n",
       "      <td>10.344080</td>\n",
       "      <td>10.392305</td>\n",
       "      <td>9.486833</td>\n",
       "    </tr>\n",
       "    <tr>\n",
       "      <th>166</th>\n",
       "      <td>10.295630</td>\n",
       "      <td>9.273618</td>\n",
       "      <td>9.746794</td>\n",
       "      <td>10.488088</td>\n",
       "      <td>10.488088</td>\n",
       "      <td>10.770330</td>\n",
       "      <td>9.591663</td>\n",
       "      <td>9.695360</td>\n",
       "      <td>10.049876</td>\n",
       "      <td>9.486833</td>\n",
       "      <td>...</td>\n",
       "      <td>9.486833</td>\n",
       "      <td>10.344080</td>\n",
       "      <td>10.440307</td>\n",
       "      <td>9.695360</td>\n",
       "      <td>10.246951</td>\n",
       "      <td>10.535654</td>\n",
       "      <td>10.198039</td>\n",
       "      <td>10.392305</td>\n",
       "      <td>10.488088</td>\n",
       "      <td>9.539392</td>\n",
       "    </tr>\n",
       "    <tr>\n",
       "      <th>167</th>\n",
       "      <td>10.535654</td>\n",
       "      <td>9.327379</td>\n",
       "      <td>9.848858</td>\n",
       "      <td>10.723805</td>\n",
       "      <td>10.630146</td>\n",
       "      <td>11.000000</td>\n",
       "      <td>9.695360</td>\n",
       "      <td>9.695360</td>\n",
       "      <td>10.049876</td>\n",
       "      <td>9.486833</td>\n",
       "      <td>...</td>\n",
       "      <td>9.486833</td>\n",
       "      <td>10.344080</td>\n",
       "      <td>10.488088</td>\n",
       "      <td>9.797959</td>\n",
       "      <td>10.440307</td>\n",
       "      <td>10.535654</td>\n",
       "      <td>10.344080</td>\n",
       "      <td>10.392305</td>\n",
       "      <td>10.630146</td>\n",
       "      <td>9.643651</td>\n",
       "    </tr>\n",
       "    <tr>\n",
       "      <th>168</th>\n",
       "      <td>10.583005</td>\n",
       "      <td>9.591663</td>\n",
       "      <td>10.099505</td>\n",
       "      <td>10.770330</td>\n",
       "      <td>10.770330</td>\n",
       "      <td>11.045361</td>\n",
       "      <td>9.746794</td>\n",
       "      <td>9.746794</td>\n",
       "      <td>10.148892</td>\n",
       "      <td>9.539392</td>\n",
       "      <td>...</td>\n",
       "      <td>9.797959</td>\n",
       "      <td>10.440307</td>\n",
       "      <td>10.770330</td>\n",
       "      <td>10.000000</td>\n",
       "      <td>10.488088</td>\n",
       "      <td>10.535654</td>\n",
       "      <td>10.583005</td>\n",
       "      <td>10.583005</td>\n",
       "      <td>10.862780</td>\n",
       "      <td>9.949874</td>\n",
       "    </tr>\n",
       "  </tbody>\n",
       "</table>\n",
       "<p>169 rows × 42 columns</p>\n",
       "</div>"
      ],
      "text/plain": [
       "            0         1          2          3          4          5   \\\n",
       "0     3.741657  0.000000   6.403124   3.872983   3.162278   4.795832   \n",
       "1     3.741657  3.162278   6.633250   4.242641   3.316625   5.099020   \n",
       "2     3.741657  3.316625   6.708204   4.242641   3.464102   5.099020   \n",
       "3     3.872983  3.464102   6.708204   4.242641   3.605551   5.099020   \n",
       "4     4.000000  3.464102   6.782330   4.242641   3.741657   5.099020   \n",
       "..         ...       ...        ...        ...        ...        ...   \n",
       "164  10.295630  9.110434   9.746794  10.488088  10.295630  10.583005   \n",
       "165  10.295630  9.165151   9.746794  10.488088  10.392305  10.677078   \n",
       "166  10.295630  9.273618   9.746794  10.488088  10.488088  10.770330   \n",
       "167  10.535654  9.327379   9.848858  10.723805  10.630146  11.000000   \n",
       "168  10.583005  9.591663  10.099505  10.770330  10.770330  11.045361   \n",
       "\n",
       "           6         7          8         9   ...        32         33  \\\n",
       "0    0.000000  3.316625   3.741657  3.000000  ...  3.872983   5.000000   \n",
       "1    0.000000  3.741657   4.358899  3.000000  ...  4.582576   7.141428   \n",
       "2    1.414214  3.741657   4.358899  3.162278  ...  4.582576   7.483315   \n",
       "3    2.828427  4.000000   4.358899  3.605551  ...  4.795832   7.483315   \n",
       "4    3.000000  4.582576   4.690416  3.741657  ...  4.795832   7.483315   \n",
       "..        ...       ...        ...       ...  ...       ...        ...   \n",
       "164  9.539392  9.643651   9.949874  9.380832  ...  9.380832  10.295630   \n",
       "165  9.539392  9.695360   9.949874  9.380832  ...  9.380832  10.344080   \n",
       "166  9.591663  9.695360  10.049876  9.486833  ...  9.486833  10.344080   \n",
       "167  9.695360  9.695360  10.049876  9.486833  ...  9.486833  10.344080   \n",
       "168  9.746794  9.746794  10.148892  9.539392  ...  9.797959  10.440307   \n",
       "\n",
       "            34         35         36         37         38         39  \\\n",
       "0     6.708204   3.162278   3.316625   1.000000   2.645751   2.828427   \n",
       "1     7.141428   3.316625   4.795832   4.898979   3.872983   4.123106   \n",
       "2     7.615773   4.690416   5.656854   4.898979   4.242641   4.795832   \n",
       "3     7.810250   5.385165   6.324555   5.291503   4.582576   5.567764   \n",
       "4     7.874008   5.656854   6.633250   6.164414   6.000000   6.480741   \n",
       "..         ...        ...        ...        ...        ...        ...   \n",
       "164  10.344080   9.486833  10.099505  10.392305  10.148892  10.344080   \n",
       "165  10.392305   9.643651  10.148892  10.488088  10.198039  10.344080   \n",
       "166  10.440307   9.695360  10.246951  10.535654  10.198039  10.392305   \n",
       "167  10.488088   9.797959  10.440307  10.535654  10.344080  10.392305   \n",
       "168  10.770330  10.000000  10.488088  10.535654  10.583005  10.583005   \n",
       "\n",
       "            40        41  \n",
       "0     2.645751  5.385165  \n",
       "1     3.872983  5.916080  \n",
       "2     4.898979  6.244998  \n",
       "3     5.385165  6.324555  \n",
       "4     6.633250  6.480741  \n",
       "..         ...       ...  \n",
       "164  10.295630  9.327379  \n",
       "165  10.392305  9.486833  \n",
       "166  10.488088  9.539392  \n",
       "167  10.630146  9.643651  \n",
       "168  10.862780  9.949874  \n",
       "\n",
       "[169 rows x 42 columns]"
      ]
     },
     "execution_count": 273,
     "metadata": {},
     "output_type": "execute_result"
    }
   ],
   "source": [
    "x_ts_AD=pd.DataFrame(neighbors_k_ts)\n",
    "x_ts_AD"
   ]
  },
  {
   "cell_type": "code",
   "execution_count": 280,
   "metadata": {},
   "outputs": [
    {
     "name": "stdout",
     "output_type": "stream",
     "text": [
      "[3.742 0.    6.403 3.873 3.162 4.796 0.    3.317 3.742 3.    0.    3.317\n",
      " 0.    0.    4.583 0.    3.    3.317 0.    1.    0.    4.123 3.162 3.873\n",
      " 4.796 4.899 3.162 3.317 1.732 1.    0.    1.    3.873 5.    6.708 3.162\n",
      " 3.317 1.    2.646 2.828 2.646 5.385]\n"
     ]
    }
   ],
   "source": [
    "similarity_ts= neighbors_k_ts\n",
    "cpd_AD=similarity_ts[0,:]\n",
    "cpd_value = np.round(cpd_AD, 3)\n",
    "print(cpd_value)"
   ]
  },
  {
   "cell_type": "code",
   "execution_count": 275,
   "metadata": {},
   "outputs": [
    {
     "name": "stdout",
     "output_type": "stream",
     "text": [
      "[ True  True False  True  True False  True  True  True  True  True  True\n",
      "  True  True False  True  True  True  True  True  True False  True  True\n",
      " False False  True  True  True  True  True  True  True False False  True\n",
      "  True  True  True  True  True False]\n"
     ]
    }
   ],
   "source": [
    "cpd_AD = np.where(cpd_value <= model_AD_limit, True, False)\n",
    "print(cpd_AD)"
   ]
  },
  {
   "cell_type": "code",
   "execution_count": 276,
   "metadata": {},
   "outputs": [
    {
     "name": "stdout",
     "output_type": "stream",
     "text": [
      "Coverage =  0.7857142857142857\n"
     ]
    }
   ],
   "source": [
    "print(\"Coverage = \", sum(cpd_AD) / len(cpd_AD))"
   ]
  },
  {
   "cell_type": "code",
   "execution_count": 277,
   "metadata": {},
   "outputs": [
    {
     "name": "stdout",
     "output_type": "stream",
     "text": [
      "Indices of substances included in AD =  [ 0  1  3  4  6  7  8  9 10 11 12 13 15 16 17 18 19 20 22 23 26 27 28 29\n",
      " 30 31 32 35 36 37 38 39 40]\n"
     ]
    }
   ],
   "source": [
    "print(\"Indices of substances included in AD = \", np.where(cpd_AD != 0)[0])"
   ]
  },
  {
   "cell_type": "markdown",
   "metadata": {},
   "source": [
    "# 10.GBM model building and validation "
   ]
  },
  {
   "cell_type": "markdown",
   "metadata": {},
   "source": [
    "## 10.1. GBM model building "
   ]
  },
  {
   "cell_type": "code",
   "execution_count": 282,
   "metadata": {},
   "outputs": [],
   "source": [
    "param_grid = {\"n_estimators\": [100, 200, 300, 400, 500]}\n",
    "gbm = GridSearchCV(GradientBoostingClassifier(subsample=0.5, max_features=0.5), \n",
    "                   param_grid, n_jobs=2, cv=cv, verbose=1)"
   ]
  },
  {
   "cell_type": "code",
   "execution_count": 283,
   "metadata": {},
   "outputs": [
    {
     "name": "stdout",
     "output_type": "stream",
     "text": [
      "Fitting 5 folds for each of 5 candidates, totalling 25 fits\n"
     ]
    },
    {
     "data": {
      "text/plain": [
       "GridSearchCV(cv=StratifiedKFold(n_splits=5, random_state=42, shuffle=True),\n",
       "             estimator=GradientBoostingClassifier(max_features=0.5,\n",
       "                                                  subsample=0.5),\n",
       "             n_jobs=2, param_grid={'n_estimators': [100, 200, 300, 400, 500]},\n",
       "             verbose=1)"
      ]
     },
     "execution_count": 283,
     "metadata": {},
     "output_type": "execute_result"
    }
   ],
   "source": [
    "gbm.fit(x_tr, y_tr)"
   ]
  },
  {
   "cell_type": "code",
   "execution_count": 284,
   "metadata": {},
   "outputs": [
    {
     "data": {
      "text/plain": [
       "{'n_estimators': 300}"
      ]
     },
     "execution_count": 284,
     "metadata": {},
     "output_type": "execute_result"
    }
   ],
   "source": [
    "gbm.best_params_"
   ]
  },
  {
   "cell_type": "code",
   "execution_count": 285,
   "metadata": {},
   "outputs": [],
   "source": [
    "best_clf_GBM = gbm.best_estimator_"
   ]
  },
  {
   "cell_type": "markdown",
   "metadata": {},
   "source": [
    "## 10.2.  5-fold-cross-validation   GBM model"
   ]
  },
  {
   "cell_type": "code",
   "execution_count": 311,
   "metadata": {},
   "outputs": [],
   "source": [
    "y_pred_CV_GBM = cross_val_predict(best_clf_GBM, x_tr, y_tr, cv=cv)"
   ]
  },
  {
   "cell_type": "code",
   "execution_count": 312,
   "metadata": {},
   "outputs": [
    {
     "name": "stdout",
     "output_type": "stream",
     "text": [
      "balanced_accuracy =  0.86\n",
      "SE =  0.81\n",
      "SP =  0.91\n",
      "Kappa =  0.73\n"
     ]
    }
   ],
   "source": [
    "confusion_matrix_CV_GBM = metrics.confusion_matrix(y_tr, y_pred_CV_GBM, labels=[0,1])\n",
    "Kappa = metrics.cohen_kappa_score(y_tr, y_pred_CV_GBM, weights='linear')\n",
    "TN, FP, FN, TP = confusion_matrix_CV_GBM.ravel()\n",
    "SE = TP/(TP+FN)\n",
    "SP = TN/(TN+FP)\n",
    "BA = (SE + SP)/2\n",
    "print(\"balanced_accuracy = \", round((BA), 2))\n",
    "print(\"SE = \", round((SE), 2))\n",
    "print(\"SP = \", round((SP), 2))\n",
    "print(\"Kappa = \", round((Kappa), 2))"
   ]
  },
  {
   "cell_type": "code",
   "execution_count": 313,
   "metadata": {},
   "outputs": [],
   "source": [
    "pickle.dump(best_clf_RF, open('Models/FP/HDAC1_GBM_ECFP4.pkl', 'wb'))"
   ]
  },
  {
   "cell_type": "markdown",
   "metadata": {},
   "source": [
    "## 10.3.Y-randomization for  GBM model"
   ]
  },
  {
   "cell_type": "code",
   "execution_count": 295,
   "metadata": {},
   "outputs": [
    {
     "name": "stderr",
     "output_type": "stream",
     "text": [
      "[Parallel(n_jobs=-1)]: Using backend LokyBackend with 4 concurrent workers.\n",
      "[Parallel(n_jobs=-1)]: Done  42 tasks      | elapsed:   17.6s\n",
      "[Parallel(n_jobs=-1)]: Done 192 tasks      | elapsed:  1.3min\n",
      "[Parallel(n_jobs=-1)]: Done 442 tasks      | elapsed:  2.8min\n"
     ]
    },
    {
     "name": "stdout",
     "output_type": "stream",
     "text": [
      "True score =  0.85 \n",
      "Y-randomization =  0.5 \n",
      "p-value =  0.002\n"
     ]
    },
    {
     "name": "stderr",
     "output_type": "stream",
     "text": [
      "[Parallel(n_jobs=-1)]: Done 500 out of 500 | elapsed:  3.1min finished\n"
     ]
    }
   ],
   "source": [
    "permutations = 500\n",
    "score, permutation_scores, pvalue = permutation_test_score(best_clf_GBM, x_tr, y_tr,\n",
    "                                                           cv=cv, scoring='balanced_accuracy',\n",
    "                                                           n_permutations=permutations,\n",
    "                                                           n_jobs=-1,\n",
    "                                                           verbose=1,\n",
    "                                                           random_state=24)\n",
    "print('True score = ', score.round(2),\n",
    "      '\\nY-randomization = ', np.mean(permutation_scores).round(2),\n",
    "      '\\np-value = ', pvalue.round(4))"
   ]
  },
  {
   "cell_type": "code",
   "execution_count": 296,
   "metadata": {},
   "outputs": [
    {
     "data": {
      "text/plain": [
       "0.63"
      ]
     },
     "execution_count": 296,
     "metadata": {},
     "output_type": "execute_result"
    }
   ],
   "source": [
    "max_Y_randomization = round(np.amax(permutation_scores, axis=0), 2) \n",
    "max_Y_randomization"
   ]
  },
  {
   "cell_type": "code",
   "execution_count": 297,
   "metadata": {},
   "outputs": [
    {
     "data": {
      "text/plain": [
       "0.045"
      ]
     },
     "execution_count": 297,
     "metadata": {},
     "output_type": "execute_result"
    }
   ],
   "source": [
    "standard_deviation = round(np.std(permutation_scores, axis=0), 3)\n",
    "standard_deviation"
   ]
  },
  {
   "cell_type": "code",
   "execution_count": 298,
   "metadata": {},
   "outputs": [
    {
     "data": {
      "text/plain": [
       "0.38"
      ]
     },
     "execution_count": 298,
     "metadata": {},
     "output_type": "execute_result"
    }
   ],
   "source": [
    "min_Y_randomization = round(np.min(permutation_scores, axis=0), 2) \n",
    "min_Y_randomization"
   ]
  },
  {
   "cell_type": "code",
   "execution_count": 299,
   "metadata": {},
   "outputs": [
    {
     "name": "stdout",
     "output_type": "stream",
     "text": [
      "Coverage =  0.0\n"
     ]
    }
   ],
   "source": [
    "a = np.greater_equal(permutation_scores, score)\n",
    "print(\"Coverage = \", sum(a) / len(a))"
   ]
  },
  {
   "cell_type": "markdown",
   "metadata": {},
   "source": [
    "## 10.4. Model GBM: predict for molecules of test set "
   ]
  },
  {
   "cell_type": "code",
   "execution_count": 317,
   "metadata": {},
   "outputs": [],
   "source": [
    "y_pred_gbm = best_clf_GBM.predict(x_ts)"
   ]
  },
  {
   "cell_type": "code",
   "execution_count": 318,
   "metadata": {},
   "outputs": [
    {
     "data": {
      "text/plain": [
       "array([1, 1, 0, 1, 1, 1, 1, 0, 1, 1, 1, 1, 1, 1, 0, 0, 1, 1, 1, 1, 0, 1,\n",
       "       0, 0, 0, 0, 0, 0, 0, 0, 0, 0, 0, 0, 1, 0, 0, 0, 0, 0, 0, 0])"
      ]
     },
     "execution_count": 318,
     "metadata": {},
     "output_type": "execute_result"
    }
   ],
   "source": [
    "y_pred_gbm"
   ]
  },
  {
   "cell_type": "code",
   "execution_count": 320,
   "metadata": {},
   "outputs": [
    {
     "name": "stdout",
     "output_type": "stream",
     "text": [
      "balanced_accuracy =  0.78\n",
      "SE =  0.76\n",
      "SP =  0.8\n",
      "Kappa =  0.56\n"
     ]
    }
   ],
   "source": [
    "confusion_matrix_GBM = metrics.confusion_matrix(y_ts, y_pred_gbm, labels=[0,1])\n",
    "Kappa = metrics.cohen_kappa_score(y_ts, y_pred_gbm, weights='linear')\n",
    "TN, FP, FN, TP = confusion_matrix_GBM.ravel()\n",
    "SE = TP/(TP+FN)\n",
    "SP = TN/(TN+FP)\n",
    "BA = (SE + SP)/2\n",
    "print(\"balanced_accuracy = \", round((BA), 2))\n",
    "print(\"SE = \", round((SE), 2))\n",
    "print(\"SP = \", round((SP), 2))\n",
    "print(\"Kappa = \", round((Kappa), 2))"
   ]
  },
  {
   "cell_type": "markdown",
   "metadata": {},
   "source": [
    "# 11. SVM model building and validation  "
   ]
  },
  {
   "cell_type": "markdown",
   "metadata": {},
   "source": [
    "## 11.1.  SVM model building "
   ]
  },
  {
   "cell_type": "code",
   "execution_count": 321,
   "metadata": {},
   "outputs": [],
   "source": [
    "scale = StandardScaler().fit(x_tr)\n",
    "x_tr_sc = scale.transform(x_tr)"
   ]
  },
  {
   "cell_type": "code",
   "execution_count": 322,
   "metadata": {},
   "outputs": [
    {
     "data": {
      "text/plain": [
       "['Models/FP/HDAC1_ws_for SVM.pkl']"
      ]
     },
     "execution_count": 322,
     "metadata": {},
     "output_type": "execute_result"
    }
   ],
   "source": [
    "joblib.dump(scale, \"Models/FP/HDAC1_ws_for SVM.pkl\", compress=3)"
   ]
  },
  {
   "cell_type": "code",
   "execution_count": 323,
   "metadata": {},
   "outputs": [],
   "source": [
    "param_grid = {\"C\": [10 ** i for i in range(0, 5)],\n",
    "              \"gamma\": [10 ** i for i in range(-6, 0)]}"
   ]
  },
  {
   "cell_type": "code",
   "execution_count": 341,
   "metadata": {},
   "outputs": [],
   "source": [
    "svm = GridSearchCV(SVC(kernel='rbf', probability=True), param_grid, n_jobs=2, cv=cv, verbose=1)"
   ]
  },
  {
   "cell_type": "code",
   "execution_count": 342,
   "metadata": {},
   "outputs": [
    {
     "name": "stdout",
     "output_type": "stream",
     "text": [
      "Fitting 5 folds for each of 30 candidates, totalling 150 fits\n"
     ]
    },
    {
     "data": {
      "text/plain": [
       "GridSearchCV(cv=StratifiedKFold(n_splits=5, random_state=42, shuffle=True),\n",
       "             estimator=SVC(probability=True), n_jobs=2,\n",
       "             param_grid={'C': [1, 10, 100, 1000, 10000],\n",
       "                         'gamma': [1e-06, 1e-05, 0.0001, 0.001, 0.01, 0.1]},\n",
       "             verbose=1)"
      ]
     },
     "execution_count": 342,
     "metadata": {},
     "output_type": "execute_result"
    }
   ],
   "source": [
    "svm.fit(x_tr_sc, y_tr)"
   ]
  },
  {
   "cell_type": "code",
   "execution_count": 343,
   "metadata": {},
   "outputs": [],
   "source": [
    "best_clf_SVM = svm.best_estimator_"
   ]
  },
  {
   "cell_type": "markdown",
   "metadata": {},
   "source": [
    "## 11.2. 5-fold-cross-validation  SVM model"
   ]
  },
  {
   "cell_type": "code",
   "execution_count": 344,
   "metadata": {},
   "outputs": [],
   "source": [
    "y_pred_CV_SVM = cross_val_predict(best_clf_SVM, x_tr_sc, y_tr, cv=cv)"
   ]
  },
  {
   "cell_type": "code",
   "execution_count": 345,
   "metadata": {},
   "outputs": [
    {
     "name": "stdout",
     "output_type": "stream",
     "text": [
      "balanced_accuracy =  0.85\n",
      "SE =  0.79\n",
      "SP =  0.91\n",
      "Kappa =  0.7\n"
     ]
    }
   ],
   "source": [
    "confusion_matrix_CV_SVM = metrics.confusion_matrix(y_tr, y_pred_CV_SVM, labels=[0,1])\n",
    "Kappa = metrics.cohen_kappa_score(y_tr, y_pred_CV_SVM, weights='linear')\n",
    "TN, FP, FN, TP = confusion_matrix_CV_SVM.ravel()\n",
    "SE = TP/(TP+FN)\n",
    "SP = TN/(TN+FP)\n",
    "BA = (SE + SP)/2\n",
    "print(\"balanced_accuracy = \", round((BA), 2))\n",
    "print(\"SE = \", round((SE), 2))\n",
    "print(\"SP = \", round((SP), 2))\n",
    "print(\"Kappa = \", round((Kappa), 2))"
   ]
  },
  {
   "cell_type": "code",
   "execution_count": 346,
   "metadata": {},
   "outputs": [],
   "source": [
    "pickle.dump(best_clf_RF, open('Models/FP/HDAC1_SVM_ECFP4.pkl', 'wb'))"
   ]
  },
  {
   "cell_type": "markdown",
   "metadata": {},
   "source": [
    "## 11.3.Y-randomization for  SVM model"
   ]
  },
  {
   "cell_type": "code",
   "execution_count": 347,
   "metadata": {},
   "outputs": [
    {
     "name": "stderr",
     "output_type": "stream",
     "text": [
      "[Parallel(n_jobs=-1)]: Using backend LokyBackend with 4 concurrent workers.\n",
      "[Parallel(n_jobs=-1)]: Done  42 tasks      | elapsed:    2.4s\n",
      "[Parallel(n_jobs=-1)]: Done 192 tasks      | elapsed:    9.2s\n",
      "[Parallel(n_jobs=-1)]: Done 442 tasks      | elapsed:   20.6s\n"
     ]
    },
    {
     "name": "stdout",
     "output_type": "stream",
     "text": [
      "True score =  0.85 \n",
      "Y-randomization =  0.5 \n",
      "p-value =  0.002\n"
     ]
    },
    {
     "name": "stderr",
     "output_type": "stream",
     "text": [
      "[Parallel(n_jobs=-1)]: Done 500 out of 500 | elapsed:   23.2s finished\n"
     ]
    }
   ],
   "source": [
    "permutations = 500\n",
    "score, permutation_scores, pvalue = permutation_test_score(best_clf_SVM, x_tr_sc, y_tr,\n",
    "                                                           cv=cv, scoring='balanced_accuracy',\n",
    "                                                           n_permutations=permutations,\n",
    "                                                           n_jobs=-1,\n",
    "                                                           verbose=1,\n",
    "                                                           random_state=24)\n",
    "print('True score = ', score.round(2),\n",
    "      '\\nY-randomization = ', np.mean(permutation_scores).round(2),\n",
    "      '\\np-value = ', pvalue.round(4))"
   ]
  },
  {
   "cell_type": "code",
   "execution_count": 348,
   "metadata": {},
   "outputs": [
    {
     "data": {
      "text/plain": [
       "0.61"
      ]
     },
     "execution_count": 348,
     "metadata": {},
     "output_type": "execute_result"
    }
   ],
   "source": [
    "max_Y_randomization = round(np.amax(permutation_scores, axis=0), 2) \n",
    "max_Y_randomization"
   ]
  },
  {
   "cell_type": "code",
   "execution_count": 349,
   "metadata": {},
   "outputs": [
    {
     "data": {
      "text/plain": [
       "0.031"
      ]
     },
     "execution_count": 349,
     "metadata": {},
     "output_type": "execute_result"
    }
   ],
   "source": [
    "standard_deviation = round(np.std(permutation_scores, axis=0), 3)\n",
    "standard_deviation"
   ]
  },
  {
   "cell_type": "code",
   "execution_count": 350,
   "metadata": {},
   "outputs": [
    {
     "data": {
      "text/plain": [
       "0.42"
      ]
     },
     "execution_count": 350,
     "metadata": {},
     "output_type": "execute_result"
    }
   ],
   "source": [
    "min_Y_randomization = round(np.min(permutation_scores, axis=0), 2) \n",
    "min_Y_randomization"
   ]
  },
  {
   "cell_type": "code",
   "execution_count": 352,
   "metadata": {},
   "outputs": [
    {
     "name": "stdout",
     "output_type": "stream",
     "text": [
      "Coverage =  0.0\n"
     ]
    }
   ],
   "source": [
    "a = np.greater_equal(permutation_scores, score)\n",
    "print(\"Coverage = \", sum(a) / len(a))"
   ]
  },
  {
   "cell_type": "markdown",
   "metadata": {},
   "source": [
    "## 11.4. Model SVM: predict for molecules of test set  "
   ]
  },
  {
   "cell_type": "code",
   "execution_count": 357,
   "metadata": {},
   "outputs": [],
   "source": [
    "scale = joblib.load(\"Models/FP/HDAC1_ws_for SVM.pkl\")\n",
    "x_ts_sc = scale.transform(x_ts)"
   ]
  },
  {
   "cell_type": "code",
   "execution_count": 358,
   "metadata": {},
   "outputs": [],
   "source": [
    "y_pred_SVM = best_clf_SVM.predict(x_ts_sc)"
   ]
  },
  {
   "cell_type": "code",
   "execution_count": 359,
   "metadata": {},
   "outputs": [
    {
     "data": {
      "text/plain": [
       "array([1, 1, 0, 1, 1, 1, 1, 1, 0, 1, 1, 1, 1, 1, 0, 0, 1, 1, 1, 1, 0, 1,\n",
       "       0, 0, 0, 0, 0, 0, 0, 0, 0, 0, 0, 0, 0, 0, 0, 0, 0, 0, 0, 0])"
      ]
     },
     "execution_count": 359,
     "metadata": {},
     "output_type": "execute_result"
    }
   ],
   "source": [
    "y_pred_SVM"
   ]
  },
  {
   "cell_type": "code",
   "execution_count": 360,
   "metadata": {},
   "outputs": [
    {
     "name": "stdout",
     "output_type": "stream",
     "text": [
      "balanced_accuracy =  0.8\n",
      "SE =  0.76\n",
      "SP =  0.84\n",
      "Kappa =  0.6\n"
     ]
    }
   ],
   "source": [
    "confusion_matrix_SVM = metrics.confusion_matrix(y_ts, y_pred_SVM, labels=[0,1])\n",
    "Kappa = metrics.cohen_kappa_score(y_ts, y_pred_SVM, weights='linear')\n",
    "TN, FP, FN, TP = confusion_matrix_SVM.ravel()\n",
    "SE = TP/(TP+FN)\n",
    "SP = TN/(TN+FP)\n",
    "BA = (SE + SP)/2\n",
    "print(\"balanced_accuracy = \", round((BA), 2))\n",
    "print(\"SE = \", round((SE), 2))\n",
    "print(\"SP = \", round((SP), 2))\n",
    "print(\"Kappa = \", round((Kappa), 2))"
   ]
  },
  {
   "cell_type": "markdown",
   "metadata": {},
   "source": [
    "# 12. Consensus modelling"
   ]
  },
  {
   "cell_type": "markdown",
   "metadata": {},
   "source": [
    "## 12.1.  5-fold CV consensus"
   ]
  },
  {
   "cell_type": "code",
   "execution_count": 361,
   "metadata": {},
   "outputs": [],
   "source": [
    "y_pred_cv_con = 1 * (((y_pred_CV_RF + y_pred_CV_GBM + y_pred_CV_SVM) / 3) >= 0.5)"
   ]
  },
  {
   "cell_type": "code",
   "execution_count": 362,
   "metadata": {},
   "outputs": [
    {
     "name": "stdout",
     "output_type": "stream",
     "text": [
      "balanced_accuracy =  0.87\n",
      "SE =  0.83\n",
      "SP =  0.92\n",
      "Kappa =  0.75\n"
     ]
    }
   ],
   "source": [
    "confusion_matrix_cv_con = metrics.confusion_matrix(y_tr, y_pred_cv_con, labels=[0,1])\n",
    "Kappa = metrics.cohen_kappa_score(y_tr, y_pred_cv_con, weights='linear')\n",
    "TN, FP, FN, TP = confusion_matrix_cv_con.ravel()\n",
    "SE = TP/(TP+FN)\n",
    "SP = TN/(TN+FP)\n",
    "BA = (SE + SP)/2\n",
    "print(\"balanced_accuracy = \", round((BA), 2))\n",
    "print(\"SE = \", round((SE), 2))\n",
    "print(\"SP = \", round((SP), 2))\n",
    "print(\"Kappa = \", round((Kappa), 2))"
   ]
  },
  {
   "cell_type": "markdown",
   "metadata": {},
   "source": [
    "## 12.2. Test set consensus"
   ]
  },
  {
   "cell_type": "code",
   "execution_count": 366,
   "metadata": {},
   "outputs": [],
   "source": [
    "pred_c = 1 * (((y_pred_rf + y_pred_gbm + y_pred_SVM) / 3) >= 0.5)"
   ]
  },
  {
   "cell_type": "code",
   "execution_count": 367,
   "metadata": {},
   "outputs": [
    {
     "data": {
      "text/plain": [
       "array([1, 1, 0, 1, 1, 1, 1, 1, 0, 1, 1, 1, 1, 1, 0, 0, 1, 1, 1, 1, 0, 1,\n",
       "       0, 0, 0, 0, 0, 0, 0, 0, 0, 0, 0, 0, 1, 0, 0, 0, 0, 0, 0, 0])"
      ]
     },
     "execution_count": 367,
     "metadata": {},
     "output_type": "execute_result"
    }
   ],
   "source": [
    "pred_c"
   ]
  },
  {
   "cell_type": "code",
   "execution_count": 368,
   "metadata": {},
   "outputs": [
    {
     "name": "stdout",
     "output_type": "stream",
     "text": [
      "balanced_accuracy =  0.78\n",
      "SE =  0.76\n",
      "SP =  0.8\n",
      "Kappa =  0.56\n"
     ]
    }
   ],
   "source": [
    "confusion_matrix_GBM = metrics.confusion_matrix(y_ts, pred_c, labels=[0,1])\n",
    "Kappa = metrics.cohen_kappa_score(y_ts, pred_c, weights='linear')\n",
    "TN, FP, FN, TP = confusion_matrix_GBM.ravel()\n",
    "SE = TP/(TP+FN)\n",
    "SP = TN/(TN+FP)\n",
    "BA = (SE + SP)/2\n",
    "print(\"balanced_accuracy = \", round((BA), 2))\n",
    "print(\"SE = \", round((SE), 2))\n",
    "print(\"SP = \", round((SP), 2))\n",
    "print(\"Kappa = \", round((Kappa), 2))"
   ]
  }
 ],
 "metadata": {
  "kernelspec": {
   "display_name": "Python3 (rdkit)",
   "language": "python",
   "name": "my-rdkit-env"
  },
  "language_info": {
   "codemirror_mode": {
    "name": "ipython",
    "version": 3
   },
   "file_extension": ".py",
   "mimetype": "text/x-python",
   "name": "python",
   "nbconvert_exporter": "python",
   "pygments_lexer": "ipython3",
   "version": "3.7.13"
  }
 },
 "nbformat": 4,
 "nbformat_minor": 2
}
